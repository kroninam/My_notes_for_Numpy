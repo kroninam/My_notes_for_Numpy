{
 "cells": [
  {
   "cell_type": "code",
   "execution_count": 1,
   "id": "8276e6b3",
   "metadata": {},
   "outputs": [],
   "source": [
    "import numpy as np"
   ]
  },
  {
   "cell_type": "code",
   "execution_count": null,
   "id": "1f1f5b14",
   "metadata": {},
   "outputs": [],
   "source": []
  },
  {
   "cell_type": "markdown",
   "id": "4580ef1f",
   "metadata": {},
   "source": [
    "# Задача №1"
   ]
  },
  {
   "cell_type": "code",
   "execution_count": null,
   "id": "468747c1",
   "metadata": {},
   "outputs": [],
   "source": [
    "# Создайте нулевой вектор размера 10."
   ]
  },
  {
   "cell_type": "code",
   "execution_count": 3,
   "id": "1e224e4c",
   "metadata": {},
   "outputs": [
    {
     "name": "stdout",
     "output_type": "stream",
     "text": [
      "[0. 0. 0. 0. 0. 0. 0. 0. 0. 0.]\n"
     ]
    }
   ],
   "source": [
    "print(np.zeros(10))"
   ]
  },
  {
   "cell_type": "code",
   "execution_count": null,
   "id": "1ecce4cc",
   "metadata": {},
   "outputs": [],
   "source": []
  },
  {
   "cell_type": "markdown",
   "id": "cb28579c",
   "metadata": {},
   "source": [
    "# Задача №2"
   ]
  },
  {
   "cell_type": "code",
   "execution_count": 16,
   "id": "6b2fb285",
   "metadata": {},
   "outputs": [],
   "source": [
    "# Как узнать размер в памяти массива Z.\n",
    "Z = np.zeros((10,10))"
   ]
  },
  {
   "cell_type": "code",
   "execution_count": 14,
   "id": "6a343e74",
   "metadata": {},
   "outputs": [
    {
     "data": {
      "text/plain": [
       "100"
      ]
     },
     "execution_count": 14,
     "metadata": {},
     "output_type": "execute_result"
    }
   ],
   "source": [
    "Z.size"
   ]
  },
  {
   "cell_type": "code",
   "execution_count": 17,
   "id": "8f076aa0",
   "metadata": {},
   "outputs": [
    {
     "data": {
      "text/plain": [
       "8"
      ]
     },
     "execution_count": 17,
     "metadata": {},
     "output_type": "execute_result"
    }
   ],
   "source": [
    "Z.itemsize"
   ]
  },
  {
   "cell_type": "code",
   "execution_count": 18,
   "id": "b0c33013",
   "metadata": {},
   "outputs": [
    {
     "data": {
      "text/plain": [
       "800"
      ]
     },
     "execution_count": 18,
     "metadata": {},
     "output_type": "execute_result"
    }
   ],
   "source": [
    "Z.nbytes"
   ]
  },
  {
   "cell_type": "code",
   "execution_count": null,
   "id": "aeff3cfb",
   "metadata": {},
   "outputs": [],
   "source": []
  },
  {
   "cell_type": "markdown",
   "id": "226e4c7f",
   "metadata": {},
   "source": [
    "# Задача №3"
   ]
  },
  {
   "cell_type": "code",
   "execution_count": 27,
   "id": "e8a52905",
   "metadata": {},
   "outputs": [],
   "source": [
    "# Создайте нулевой вектор размера 10, но пятое значение равно 1\n",
    "\n",
    "arr = np.zeros(10)"
   ]
  },
  {
   "cell_type": "code",
   "execution_count": 28,
   "id": "7b393c4e",
   "metadata": {},
   "outputs": [],
   "source": [
    "arr[4] = 1"
   ]
  },
  {
   "cell_type": "code",
   "execution_count": 29,
   "id": "271b7844",
   "metadata": {},
   "outputs": [
    {
     "data": {
      "text/plain": [
       "array([0., 0., 0., 0., 1., 0., 0., 0., 0., 0.])"
      ]
     },
     "execution_count": 29,
     "metadata": {},
     "output_type": "execute_result"
    }
   ],
   "source": [
    "arr"
   ]
  },
  {
   "cell_type": "code",
   "execution_count": null,
   "id": "bafe963b",
   "metadata": {},
   "outputs": [],
   "source": []
  },
  {
   "cell_type": "markdown",
   "id": "95c32890",
   "metadata": {},
   "source": [
    "# Задача №4"
   ]
  },
  {
   "cell_type": "code",
   "execution_count": 32,
   "id": "eb8fea8f",
   "metadata": {},
   "outputs": [
    {
     "data": {
      "text/plain": [
       "array([10, 11, 12, 13, 14, 15, 16, 17, 18, 19, 20])"
      ]
     },
     "execution_count": 32,
     "metadata": {},
     "output_type": "execute_result"
    }
   ],
   "source": [
    "# Создайте вектор со значениями в диапазоне от 10 до 20\n",
    "\n",
    "np.arange(10,21)"
   ]
  },
  {
   "cell_type": "code",
   "execution_count": null,
   "id": "2bd26d32",
   "metadata": {},
   "outputs": [],
   "source": []
  },
  {
   "cell_type": "markdown",
   "id": "3d08a248",
   "metadata": {},
   "source": [
    "# Задача №5"
   ]
  },
  {
   "cell_type": "code",
   "execution_count": 33,
   "id": "8a3c5b40",
   "metadata": {},
   "outputs": [],
   "source": [
    "# Разверните вектор Z (первый элемент становится последним, а последний первым)\n",
    "\n",
    "Z = np.arange(10)\n"
   ]
  },
  {
   "cell_type": "code",
   "execution_count": 34,
   "id": "b6624ff0",
   "metadata": {},
   "outputs": [
    {
     "data": {
      "text/plain": [
       "array([9, 8, 7, 6, 5, 4, 3, 2, 1, 0])"
      ]
     },
     "execution_count": 34,
     "metadata": {},
     "output_type": "execute_result"
    }
   ],
   "source": [
    "Z[::-1]"
   ]
  },
  {
   "cell_type": "code",
   "execution_count": 39,
   "id": "44b7a048",
   "metadata": {},
   "outputs": [
    {
     "data": {
      "text/plain": [
       "array([9, 8, 7, 6, 5, 4, 3, 2, 1, 0])"
      ]
     },
     "execution_count": 39,
     "metadata": {},
     "output_type": "execute_result"
    }
   ],
   "source": [
    "np.flip(Z)"
   ]
  },
  {
   "cell_type": "code",
   "execution_count": null,
   "id": "4c5879d3",
   "metadata": {},
   "outputs": [],
   "source": []
  },
  {
   "cell_type": "markdown",
   "id": "edbf646b",
   "metadata": {},
   "source": [
    "# Задача №6"
   ]
  },
  {
   "cell_type": "code",
   "execution_count": 42,
   "id": "3afa9d5f",
   "metadata": {},
   "outputs": [],
   "source": [
    "# Создайте матрицу 3x3 со значениями в диапазоне от 0 до 8. Используйте arange и reshape.\n",
    "\n",
    "arr = np.arange(0,9)\n",
    "arr = arr.reshape(3,3)\n",
    "\n"
   ]
  },
  {
   "cell_type": "code",
   "execution_count": 49,
   "id": "0687401a",
   "metadata": {},
   "outputs": [
    {
     "data": {
      "text/plain": [
       "array([[0, 1, 2],\n",
       "       [3, 4, 5],\n",
       "       [6, 7, 8]])"
      ]
     },
     "execution_count": 49,
     "metadata": {},
     "output_type": "execute_result"
    }
   ],
   "source": [
    "arr"
   ]
  },
  {
   "cell_type": "code",
   "execution_count": null,
   "id": "6e95e0b9",
   "metadata": {},
   "outputs": [],
   "source": []
  },
  {
   "cell_type": "markdown",
   "id": "f6aded16",
   "metadata": {},
   "source": [
    "# Задача №7"
   ]
  },
  {
   "cell_type": "code",
   "execution_count": 47,
   "id": "cd8e29db",
   "metadata": {},
   "outputs": [
    {
     "data": {
      "text/plain": [
       "array([0])"
      ]
     },
     "execution_count": 47,
     "metadata": {},
     "output_type": "execute_result"
    }
   ],
   "source": [
    "# Найдите индексы ненулевых элементов массива Z. Ответ представьте в виде одномерного массива.\n",
    "\n",
    "arr[arr == 0]\n"
   ]
  },
  {
   "cell_type": "code",
   "execution_count": 57,
   "id": "1a654b6f",
   "metadata": {},
   "outputs": [],
   "source": [
    "ind = np.where(arr != 0)"
   ]
  },
  {
   "cell_type": "code",
   "execution_count": 59,
   "id": "ef6ed325",
   "metadata": {},
   "outputs": [
    {
     "data": {
      "text/plain": [
       "array([[0, 0, 1, 1, 1, 2, 2, 2],\n",
       "       [1, 2, 0, 1, 2, 0, 1, 2]], dtype=int64)"
      ]
     },
     "execution_count": 59,
     "metadata": {},
     "output_type": "execute_result"
    }
   ],
   "source": [
    "np.array(ind)"
   ]
  },
  {
   "cell_type": "code",
   "execution_count": 62,
   "id": "482bc946",
   "metadata": {},
   "outputs": [
    {
     "name": "stdout",
     "output_type": "stream",
     "text": [
      "(array([0, 0, 1, 1, 1, 2, 2, 2], dtype=int64), array([1, 2, 0, 1, 2, 0, 1, 2], dtype=int64))\n",
      "(array([0, 0, 1, 1, 1, 2, 2, 2], dtype=int64), array([1, 2, 0, 1, 2, 0, 1, 2], dtype=int64))\n"
     ]
    }
   ],
   "source": [
    "# также можно использовать:\n",
    "print(np.where(arr != 0))\n",
    "print(np.nonzero(arr))"
   ]
  },
  {
   "cell_type": "code",
   "execution_count": null,
   "id": "625d45ac",
   "metadata": {},
   "outputs": [],
   "source": []
  },
  {
   "cell_type": "markdown",
   "id": "18c9b312",
   "metadata": {},
   "source": [
    "# Задача №8"
   ]
  },
  {
   "cell_type": "code",
   "execution_count": 63,
   "id": "f6cc28e1",
   "metadata": {},
   "outputs": [],
   "source": [
    "# Создайте единичную матрицу 3х3"
   ]
  },
  {
   "cell_type": "code",
   "execution_count": 69,
   "id": "443d4a4d",
   "metadata": {},
   "outputs": [
    {
     "data": {
      "text/plain": [
       "array([[1., 0., 0.],\n",
       "       [0., 1., 0.],\n",
       "       [0., 0., 1.]])"
      ]
     },
     "execution_count": 69,
     "metadata": {},
     "output_type": "execute_result"
    }
   ],
   "source": [
    "np.eye(3,3)"
   ]
  },
  {
   "cell_type": "code",
   "execution_count": null,
   "id": "bcc86cfd",
   "metadata": {},
   "outputs": [],
   "source": []
  },
  {
   "cell_type": "markdown",
   "id": "e2328a7d",
   "metadata": {},
   "source": [
    "# Задача №9"
   ]
  },
  {
   "cell_type": "code",
   "execution_count": 70,
   "id": "e2b97a3b",
   "metadata": {},
   "outputs": [],
   "source": [
    "# Найдите наименьшее и наибольшее значение массива Z\n",
    "\n",
    "Z = np.array([1,2,0,0,4,0])\n"
   ]
  },
  {
   "cell_type": "code",
   "execution_count": 73,
   "id": "cccfa92d",
   "metadata": {},
   "outputs": [
    {
     "name": "stdout",
     "output_type": "stream",
     "text": [
      "0 4\n"
     ]
    }
   ],
   "source": [
    "print(Z.min(), Z.max())"
   ]
  },
  {
   "cell_type": "code",
   "execution_count": null,
   "id": "7888d396",
   "metadata": {},
   "outputs": [],
   "source": []
  },
  {
   "cell_type": "markdown",
   "id": "56039a11",
   "metadata": {},
   "source": [
    "# Задача №10"
   ]
  },
  {
   "cell_type": "code",
   "execution_count": 101,
   "id": "20c6fc80",
   "metadata": {},
   "outputs": [],
   "source": [
    "# Создайте матрицу размером 5х5, где по краям будут единицы, а в центре нули.\n",
    "\n",
    "arr = np.zeros([5,5])"
   ]
  },
  {
   "cell_type": "code",
   "execution_count": 102,
   "id": "558a4ee0",
   "metadata": {},
   "outputs": [
    {
     "data": {
      "text/plain": [
       "array([[0., 0., 0., 0., 0.],\n",
       "       [0., 0., 0., 0., 0.],\n",
       "       [0., 0., 0., 0., 0.],\n",
       "       [0., 0., 0., 0., 0.],\n",
       "       [0., 0., 0., 0., 0.]])"
      ]
     },
     "execution_count": 102,
     "metadata": {},
     "output_type": "execute_result"
    }
   ],
   "source": [
    "arr"
   ]
  },
  {
   "cell_type": "code",
   "execution_count": 103,
   "id": "91880e92",
   "metadata": {},
   "outputs": [],
   "source": [
    "arr[0] = 1"
   ]
  },
  {
   "cell_type": "code",
   "execution_count": 104,
   "id": "bf60a08d",
   "metadata": {},
   "outputs": [
    {
     "data": {
      "text/plain": [
       "array([[1., 1., 1., 1., 1.],\n",
       "       [0., 0., 0., 0., 0.],\n",
       "       [0., 0., 0., 0., 0.],\n",
       "       [0., 0., 0., 0., 0.],\n",
       "       [0., 0., 0., 0., 0.]])"
      ]
     },
     "execution_count": 104,
     "metadata": {},
     "output_type": "execute_result"
    }
   ],
   "source": [
    "arr"
   ]
  },
  {
   "cell_type": "code",
   "execution_count": 105,
   "id": "51ca6361",
   "metadata": {},
   "outputs": [],
   "source": [
    "arr[-1] = 1"
   ]
  },
  {
   "cell_type": "code",
   "execution_count": 106,
   "id": "304573fc",
   "metadata": {},
   "outputs": [
    {
     "data": {
      "text/plain": [
       "array([[1., 1., 1., 1., 1.],\n",
       "       [0., 0., 0., 0., 0.],\n",
       "       [0., 0., 0., 0., 0.],\n",
       "       [0., 0., 0., 0., 0.],\n",
       "       [1., 1., 1., 1., 1.]])"
      ]
     },
     "execution_count": 106,
     "metadata": {},
     "output_type": "execute_result"
    }
   ],
   "source": [
    "arr"
   ]
  },
  {
   "cell_type": "code",
   "execution_count": 107,
   "id": "5ce807b7",
   "metadata": {},
   "outputs": [],
   "source": [
    "arr[:,0] = 1"
   ]
  },
  {
   "cell_type": "code",
   "execution_count": 108,
   "id": "337eb948",
   "metadata": {},
   "outputs": [
    {
     "data": {
      "text/plain": [
       "array([[1., 1., 1., 1., 1.],\n",
       "       [1., 0., 0., 0., 0.],\n",
       "       [1., 0., 0., 0., 0.],\n",
       "       [1., 0., 0., 0., 0.],\n",
       "       [1., 1., 1., 1., 1.]])"
      ]
     },
     "execution_count": 108,
     "metadata": {},
     "output_type": "execute_result"
    }
   ],
   "source": [
    "arr"
   ]
  },
  {
   "cell_type": "code",
   "execution_count": 109,
   "id": "27b6edb1",
   "metadata": {},
   "outputs": [],
   "source": [
    "arr[:,-1] = 1"
   ]
  },
  {
   "cell_type": "code",
   "execution_count": 110,
   "id": "b1b5422a",
   "metadata": {},
   "outputs": [
    {
     "data": {
      "text/plain": [
       "array([[1., 1., 1., 1., 1.],\n",
       "       [1., 0., 0., 0., 1.],\n",
       "       [1., 0., 0., 0., 1.],\n",
       "       [1., 0., 0., 0., 1.],\n",
       "       [1., 1., 1., 1., 1.]])"
      ]
     },
     "execution_count": 110,
     "metadata": {},
     "output_type": "execute_result"
    }
   ],
   "source": [
    "arr"
   ]
  },
  {
   "cell_type": "code",
   "execution_count": 111,
   "id": "804de7b0",
   "metadata": {},
   "outputs": [
    {
     "name": "stdout",
     "output_type": "stream",
     "text": [
      "[[1. 1. 1. 1. 1.]\n",
      " [1. 0. 0. 0. 1.]\n",
      " [1. 0. 0. 0. 1.]\n",
      " [1. 0. 0. 0. 1.]\n",
      " [1. 1. 1. 1. 1.]]\n"
     ]
    }
   ],
   "source": [
    "# Решение мастера\n",
    "Z = np.ones((5,5))\n",
    "Z[1:-1,1:-1] = 0\n",
    "print(Z)"
   ]
  },
  {
   "cell_type": "code",
   "execution_count": null,
   "id": "4b0cdaa8",
   "metadata": {},
   "outputs": [],
   "source": []
  },
  {
   "cell_type": "markdown",
   "id": "97e741a2",
   "metadata": {},
   "source": [
    "# Задача №11\n",
    "\n"
   ]
  },
  {
   "cell_type": "code",
   "execution_count": 13,
   "id": "5980a012",
   "metadata": {},
   "outputs": [],
   "source": [
    "# Создайте матрицу 5x5 со значениями 1,2,3,4 чуть ниже диагонали\n",
    "\n",
    "arr = np.zeros((4,5))"
   ]
  },
  {
   "cell_type": "code",
   "execution_count": 18,
   "id": "332645d3",
   "metadata": {},
   "outputs": [],
   "source": [
    "diag = np.linspace(1, 4, 4)"
   ]
  },
  {
   "cell_type": "code",
   "execution_count": 19,
   "id": "2a11678f",
   "metadata": {},
   "outputs": [
    {
     "data": {
      "text/plain": [
       "array([1., 2., 3., 4.])"
      ]
     },
     "execution_count": 19,
     "metadata": {},
     "output_type": "execute_result"
    }
   ],
   "source": [
    "diag"
   ]
  },
  {
   "cell_type": "code",
   "execution_count": 20,
   "id": "10a671fb",
   "metadata": {},
   "outputs": [],
   "source": [
    "np.fill_diagonal(arr, diag)"
   ]
  },
  {
   "cell_type": "code",
   "execution_count": 21,
   "id": "b5dc2030",
   "metadata": {},
   "outputs": [
    {
     "data": {
      "text/plain": [
       "array([[1., 0., 0., 0., 0.],\n",
       "       [0., 2., 0., 0., 0.],\n",
       "       [0., 0., 3., 0., 0.],\n",
       "       [0., 0., 0., 4., 0.]])"
      ]
     },
     "execution_count": 21,
     "metadata": {},
     "output_type": "execute_result"
    }
   ],
   "source": [
    "arr"
   ]
  },
  {
   "cell_type": "code",
   "execution_count": 30,
   "id": "797085b5",
   "metadata": {},
   "outputs": [],
   "source": [
    "top = np.zeros(5)"
   ]
  },
  {
   "cell_type": "code",
   "execution_count": 31,
   "id": "46f9b8c5",
   "metadata": {},
   "outputs": [
    {
     "data": {
      "text/plain": [
       "array([0., 0., 0., 0., 0.])"
      ]
     },
     "execution_count": 31,
     "metadata": {},
     "output_type": "execute_result"
    }
   ],
   "source": [
    "top"
   ]
  },
  {
   "cell_type": "code",
   "execution_count": null,
   "id": "3c298874",
   "metadata": {},
   "outputs": [],
   "source": []
  },
  {
   "cell_type": "code",
   "execution_count": 35,
   "id": "65dfc2e3",
   "metadata": {},
   "outputs": [],
   "source": [
    "answer = np.zeros((5,5))"
   ]
  },
  {
   "cell_type": "code",
   "execution_count": 37,
   "id": "c592015f",
   "metadata": {},
   "outputs": [],
   "source": [
    "answer[0] = top"
   ]
  },
  {
   "cell_type": "code",
   "execution_count": 38,
   "id": "55f8765b",
   "metadata": {},
   "outputs": [],
   "source": [
    "answer[1:] = arr"
   ]
  },
  {
   "cell_type": "code",
   "execution_count": 40,
   "id": "1c868763",
   "metadata": {},
   "outputs": [
    {
     "data": {
      "text/plain": [
       "array([[0, 0, 0, 0, 0],\n",
       "       [1, 0, 0, 0, 0],\n",
       "       [0, 2, 0, 0, 0],\n",
       "       [0, 0, 3, 0, 0],\n",
       "       [0, 0, 0, 4, 0]], dtype=int64)"
      ]
     },
     "execution_count": 40,
     "metadata": {},
     "output_type": "execute_result"
    }
   ],
   "source": [
    "answer.astype('int64')"
   ]
  },
  {
   "cell_type": "code",
   "execution_count": 42,
   "id": "583c0849",
   "metadata": {},
   "outputs": [
    {
     "name": "stdout",
     "output_type": "stream",
     "text": [
      "[[0 0 0 0 0]\n",
      " [1 0 0 0 0]\n",
      " [0 2 0 0 0]\n",
      " [0 0 3 0 0]\n",
      " [0 0 0 4 0]]\n"
     ]
    }
   ],
   "source": [
    "print(answer.astype('int64'))"
   ]
  },
  {
   "cell_type": "code",
   "execution_count": null,
   "id": "f11023a3",
   "metadata": {},
   "outputs": [],
   "source": []
  },
  {
   "cell_type": "code",
   "execution_count": 43,
   "id": "af99bc13",
   "metadata": {},
   "outputs": [],
   "source": [
    "arr = np.zeros((5,5))"
   ]
  },
  {
   "cell_type": "code",
   "execution_count": 44,
   "id": "2898b0c3",
   "metadata": {},
   "outputs": [
    {
     "data": {
      "text/plain": [
       "array([[0., 0., 0., 0., 0.],\n",
       "       [0., 0., 0., 0., 0.],\n",
       "       [0., 0., 0., 0., 0.],\n",
       "       [0., 0., 0., 0., 0.],\n",
       "       [0., 0., 0., 0., 0.]])"
      ]
     },
     "execution_count": 44,
     "metadata": {},
     "output_type": "execute_result"
    }
   ],
   "source": [
    "arr"
   ]
  },
  {
   "cell_type": "code",
   "execution_count": 45,
   "id": "4567910b",
   "metadata": {},
   "outputs": [],
   "source": [
    "np.fill_diagonal(arr[1:], [1,2,3,4])"
   ]
  },
  {
   "cell_type": "code",
   "execution_count": 46,
   "id": "a98a791a",
   "metadata": {},
   "outputs": [
    {
     "data": {
      "text/plain": [
       "array([[0., 0., 0., 0., 0.],\n",
       "       [1., 0., 0., 0., 0.],\n",
       "       [0., 2., 0., 0., 0.],\n",
       "       [0., 0., 3., 0., 0.],\n",
       "       [0., 0., 0., 4., 0.]])"
      ]
     },
     "execution_count": 46,
     "metadata": {},
     "output_type": "execute_result"
    }
   ],
   "source": [
    "arr"
   ]
  },
  {
   "cell_type": "code",
   "execution_count": null,
   "id": "12292182",
   "metadata": {},
   "outputs": [],
   "source": []
  },
  {
   "cell_type": "markdown",
   "id": "d66805ff",
   "metadata": {},
   "source": [
    "# Задача №12"
   ]
  },
  {
   "cell_type": "code",
   "execution_count": 80,
   "id": "21319d2c",
   "metadata": {},
   "outputs": [],
   "source": [
    "# Создайте матрицу 8x8 и заполните ее в шахматном порядке.\n",
    "\n",
    "\n",
    "arr = np.zeros((8,8))"
   ]
  },
  {
   "cell_type": "code",
   "execution_count": 48,
   "id": "968de22f",
   "metadata": {},
   "outputs": [],
   "source": [
    "lst = [0, 1]"
   ]
  },
  {
   "cell_type": "code",
   "execution_count": 68,
   "id": "f04c3999",
   "metadata": {},
   "outputs": [
    {
     "data": {
      "text/plain": [
       "[0, 1, 0, 1, 0, 1, 0, 1, 0, 1]"
      ]
     },
     "execution_count": 68,
     "metadata": {},
     "output_type": "execute_result"
    }
   ],
   "source": [
    "lst*5"
   ]
  },
  {
   "cell_type": "code",
   "execution_count": 75,
   "id": "bd2a50d8",
   "metadata": {},
   "outputs": [],
   "source": [
    "chess_1 = (lst*5)[2:]"
   ]
  },
  {
   "cell_type": "code",
   "execution_count": 76,
   "id": "4b584d30",
   "metadata": {},
   "outputs": [
    {
     "data": {
      "text/plain": [
       "[0, 1, 0, 1, 0, 1, 0, 1]"
      ]
     },
     "execution_count": 76,
     "metadata": {},
     "output_type": "execute_result"
    }
   ],
   "source": [
    "chess_1"
   ]
  },
  {
   "cell_type": "code",
   "execution_count": 77,
   "id": "2413251f",
   "metadata": {},
   "outputs": [],
   "source": [
    "chess_2 = (lst*5)[1:-1]"
   ]
  },
  {
   "cell_type": "code",
   "execution_count": 78,
   "id": "dad95df1",
   "metadata": {},
   "outputs": [
    {
     "data": {
      "text/plain": [
       "[1, 0, 1, 0, 1, 0, 1, 0]"
      ]
     },
     "execution_count": 78,
     "metadata": {},
     "output_type": "execute_result"
    }
   ],
   "source": [
    "chess_2"
   ]
  },
  {
   "cell_type": "code",
   "execution_count": 84,
   "id": "d4123758",
   "metadata": {},
   "outputs": [],
   "source": [
    "arr[[0, 2, 4, 6]] = chess_1"
   ]
  },
  {
   "cell_type": "code",
   "execution_count": 64,
   "id": "dd3a5913",
   "metadata": {},
   "outputs": [
    {
     "data": {
      "text/plain": [
       "array([[0., 1., 0., 1., 0., 1., 0., 1.],\n",
       "       [1., 0., 1., 0., 1., 0., 1., 0.],\n",
       "       [0., 0., 0., 0., 0., 0., 0., 0.],\n",
       "       [0., 0., 0., 0., 0., 0., 0., 0.],\n",
       "       [0., 0., 0., 0., 0., 0., 0., 0.],\n",
       "       [0., 0., 0., 0., 0., 0., 0., 0.],\n",
       "       [0., 0., 0., 0., 0., 0., 0., 0.],\n",
       "       [0., 0., 0., 0., 0., 0., 0., 0.]])"
      ]
     },
     "execution_count": 64,
     "metadata": {},
     "output_type": "execute_result"
    }
   ],
   "source": [
    "arr"
   ]
  },
  {
   "cell_type": "code",
   "execution_count": 85,
   "id": "629d6306",
   "metadata": {},
   "outputs": [],
   "source": [
    "arr[[1, 3, 5, 7]] = chess_2"
   ]
  },
  {
   "cell_type": "code",
   "execution_count": 86,
   "id": "d8d2824c",
   "metadata": {},
   "outputs": [
    {
     "data": {
      "text/plain": [
       "array([[0., 1., 0., 1., 0., 1., 0., 1.],\n",
       "       [1., 0., 1., 0., 1., 0., 1., 0.],\n",
       "       [0., 1., 0., 1., 0., 1., 0., 1.],\n",
       "       [1., 0., 1., 0., 1., 0., 1., 0.],\n",
       "       [0., 1., 0., 1., 0., 1., 0., 1.],\n",
       "       [1., 0., 1., 0., 1., 0., 1., 0.],\n",
       "       [0., 1., 0., 1., 0., 1., 0., 1.],\n",
       "       [1., 0., 1., 0., 1., 0., 1., 0.]])"
      ]
     },
     "execution_count": 86,
     "metadata": {},
     "output_type": "execute_result"
    }
   ],
   "source": [
    "arr"
   ]
  },
  {
   "cell_type": "code",
   "execution_count": null,
   "id": "0476a5cc",
   "metadata": {},
   "outputs": [],
   "source": []
  },
  {
   "cell_type": "markdown",
   "id": "eb03be2b",
   "metadata": {},
   "source": [
    "# Задача №13"
   ]
  },
  {
   "cell_type": "code",
   "execution_count": 87,
   "id": "4dcb99ed",
   "metadata": {},
   "outputs": [],
   "source": [
    "# Нормализуйте матрицу Z (под нормализовать, подразумевается стандартизировать)\n",
    "\n",
    "Z = np.array([[1,2,3,4,5], [5,4,3,2,1], [1,2,3,4,5], [5,4,3,2,1]])"
   ]
  },
  {
   "cell_type": "code",
   "execution_count": 95,
   "id": "9ca9d1e3",
   "metadata": {},
   "outputs": [
    {
     "data": {
      "text/plain": [
       "array([[1, 2, 3, 4, 5],\n",
       "       [5, 4, 3, 2, 1],\n",
       "       [1, 2, 3, 4, 5],\n",
       "       [5, 4, 3, 2, 1]])"
      ]
     },
     "execution_count": 95,
     "metadata": {},
     "output_type": "execute_result"
    }
   ],
   "source": [
    "Z"
   ]
  },
  {
   "cell_type": "code",
   "execution_count": 97,
   "id": "487b49e1",
   "metadata": {},
   "outputs": [],
   "source": [
    "# Формула нормализации:\n",
    "\n",
    "# в числителе значение элемента массива минус среднее значение, \n",
    "# в знаменателе стандартное отклонение (вычисляется как np.std(Z))\n",
    "\n",
    "# Yi = (Xi - Xmean) / np.std(Z)\n"
   ]
  },
  {
   "cell_type": "code",
   "execution_count": 98,
   "id": "d5174bd2",
   "metadata": {},
   "outputs": [],
   "source": [
    "Z = (Z-Z.mean()) / np.std(Z)"
   ]
  },
  {
   "cell_type": "code",
   "execution_count": 99,
   "id": "44a21fba",
   "metadata": {},
   "outputs": [
    {
     "data": {
      "text/plain": [
       "array([[-1.41421356, -0.70710678,  0.        ,  0.70710678,  1.41421356],\n",
       "       [ 1.41421356,  0.70710678,  0.        , -0.70710678, -1.41421356],\n",
       "       [-1.41421356, -0.70710678,  0.        ,  0.70710678,  1.41421356],\n",
       "       [ 1.41421356,  0.70710678,  0.        , -0.70710678, -1.41421356]])"
      ]
     },
     "execution_count": 99,
     "metadata": {},
     "output_type": "execute_result"
    }
   ],
   "source": [
    "Z"
   ]
  },
  {
   "cell_type": "code",
   "execution_count": null,
   "id": "4b75ac9e",
   "metadata": {},
   "outputs": [],
   "source": []
  },
  {
   "cell_type": "markdown",
   "id": "5b0f091c",
   "metadata": {},
   "source": [
    "# Задача №14"
   ]
  },
  {
   "cell_type": "code",
   "execution_count": 101,
   "id": "2257e0fb",
   "metadata": {},
   "outputs": [],
   "source": [
    "# Выполните матричное умножение А и B\n",
    "\n",
    "A = np.ones((5,3))\n",
    "B = np.ones((3,2))"
   ]
  },
  {
   "cell_type": "code",
   "execution_count": 102,
   "id": "b7440592",
   "metadata": {},
   "outputs": [
    {
     "data": {
      "text/plain": [
       "array([[3., 3.],\n",
       "       [3., 3.],\n",
       "       [3., 3.],\n",
       "       [3., 3.],\n",
       "       [3., 3.]])"
      ]
     },
     "execution_count": 102,
     "metadata": {},
     "output_type": "execute_result"
    }
   ],
   "source": [
    "np.dot(A, B)"
   ]
  },
  {
   "cell_type": "code",
   "execution_count": 103,
   "id": "1edd84e9",
   "metadata": {},
   "outputs": [
    {
     "data": {
      "text/plain": [
       "array([[3., 3.],\n",
       "       [3., 3.],\n",
       "       [3., 3.],\n",
       "       [3., 3.],\n",
       "       [3., 3.]])"
      ]
     },
     "execution_count": 103,
     "metadata": {},
     "output_type": "execute_result"
    }
   ],
   "source": [
    "A@B"
   ]
  },
  {
   "cell_type": "code",
   "execution_count": null,
   "id": "35811cf0",
   "metadata": {},
   "outputs": [],
   "source": []
  },
  {
   "cell_type": "markdown",
   "id": "1ceb8a88",
   "metadata": {},
   "source": [
    "# Задача №15"
   ]
  },
  {
   "cell_type": "code",
   "execution_count": 6,
   "id": "7b99670a",
   "metadata": {},
   "outputs": [],
   "source": [
    "# Выполните умножение на -1 те значения, которые больше 3, но меньше 8. \n",
    "\n",
    "Z = np.arange(11)"
   ]
  },
  {
   "cell_type": "code",
   "execution_count": 105,
   "id": "8c7131fd",
   "metadata": {},
   "outputs": [
    {
     "data": {
      "text/plain": [
       "array([ 0,  1,  2,  3,  4,  5,  6,  7,  8,  9, 10])"
      ]
     },
     "execution_count": 105,
     "metadata": {},
     "output_type": "execute_result"
    }
   ],
   "source": [
    "Z"
   ]
  },
  {
   "cell_type": "code",
   "execution_count": 110,
   "id": "ce3a1a4a",
   "metadata": {},
   "outputs": [
    {
     "data": {
      "text/plain": [
       "array([ 0,  1,  2,  3, -4, -5, -6, -7,  8,  9, 10])"
      ]
     },
     "execution_count": 110,
     "metadata": {},
     "output_type": "execute_result"
    }
   ],
   "source": [
    "np.where(Z > 3, np.where(Z < 8, Z*(-1), Z), Z)"
   ]
  },
  {
   "cell_type": "code",
   "execution_count": null,
   "id": "0a6eb4a5",
   "metadata": {},
   "outputs": [],
   "source": []
  },
  {
   "cell_type": "markdown",
   "id": "20b06066",
   "metadata": {},
   "source": [
    "# Задача № 16"
   ]
  },
  {
   "cell_type": "code",
   "execution_count": 16,
   "id": "f49cf76e",
   "metadata": {},
   "outputs": [],
   "source": [
    "# Как найти общие значения между двумя массивами Z1 и Z2?\n",
    "\n",
    "Z1 = np.array([1, 2, 3, 4, 5])\n",
    "Z2 = np.array([6, 7, 8, 9, 5, 4])"
   ]
  },
  {
   "cell_type": "code",
   "execution_count": 20,
   "id": "60cde670",
   "metadata": {},
   "outputs": [
    {
     "data": {
      "text/plain": [
       "[4, 5]"
      ]
     },
     "execution_count": 20,
     "metadata": {},
     "output_type": "execute_result"
    }
   ],
   "source": [
    "list(set(Z1) & set(Z2))"
   ]
  },
  {
   "cell_type": "code",
   "execution_count": 30,
   "id": "3d6b5635",
   "metadata": {},
   "outputs": [
    {
     "data": {
      "text/plain": [
       "array([4, 5])"
      ]
     },
     "execution_count": 30,
     "metadata": {},
     "output_type": "execute_result"
    }
   ],
   "source": [
    "np.array(list(set(Z1) & set(Z2)))"
   ]
  },
  {
   "cell_type": "code",
   "execution_count": 25,
   "id": "39ccafcb",
   "metadata": {},
   "outputs": [
    {
     "data": {
      "text/plain": [
       "array([4, 5])"
      ]
     },
     "execution_count": 25,
     "metadata": {},
     "output_type": "execute_result"
    }
   ],
   "source": [
    "np.intersect1d(Z1, Z2)"
   ]
  },
  {
   "cell_type": "code",
   "execution_count": 26,
   "id": "d86c7cac",
   "metadata": {},
   "outputs": [
    {
     "data": {
      "text/plain": [
       "array([4, 5])"
      ]
     },
     "execution_count": 26,
     "metadata": {},
     "output_type": "execute_result"
    }
   ],
   "source": [
    "Z1[np.in1d(Z1, Z2)]"
   ]
  },
  {
   "cell_type": "code",
   "execution_count": 29,
   "id": "1b53da8f",
   "metadata": {},
   "outputs": [
    {
     "data": {
      "text/plain": [
       "array([4, 5])"
      ]
     },
     "execution_count": 29,
     "metadata": {},
     "output_type": "execute_result"
    }
   ],
   "source": [
    "Z1[np.isin(Z1, Z2)]"
   ]
  },
  {
   "cell_type": "code",
   "execution_count": null,
   "id": "174ccdbe",
   "metadata": {},
   "outputs": [],
   "source": []
  }
 ],
 "metadata": {
  "kernelspec": {
   "display_name": "Python 3 (ipykernel)",
   "language": "python",
   "name": "python3"
  },
  "language_info": {
   "codemirror_mode": {
    "name": "ipython",
    "version": 3
   },
   "file_extension": ".py",
   "mimetype": "text/x-python",
   "name": "python",
   "nbconvert_exporter": "python",
   "pygments_lexer": "ipython3",
   "version": "3.10.0"
  }
 },
 "nbformat": 4,
 "nbformat_minor": 5
}
