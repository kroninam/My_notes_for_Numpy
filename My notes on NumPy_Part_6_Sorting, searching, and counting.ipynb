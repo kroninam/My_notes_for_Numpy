{
 "cells": [
  {
   "cell_type": "code",
   "execution_count": 2,
   "id": "3c6d83d6",
   "metadata": {},
   "outputs": [],
   "source": [
    "import numpy as np"
   ]
  },
  {
   "cell_type": "markdown",
   "id": "83e143d5",
   "metadata": {},
   "source": [
    "# Извлечение элементов по условию"
   ]
  },
  {
   "cell_type": "code",
   "execution_count": null,
   "id": "66fc66aa",
   "metadata": {},
   "outputs": [],
   "source": [
    "По умолчанию функция where и ее параметры выглядят так:\n",
    "\n",
    "* np.where(condition, arr1=None, arr2=None)\n",
    "\n",
    "\n",
    "1 способ. np.where(condition)\n",
    "\n",
    "\n",
    "В этом случае функция возвращает индексы элементов, удовлетворяющих условию condition"
   ]
  },
  {
   "cell_type": "code",
   "execution_count": 2,
   "id": "a5b7f4ca",
   "metadata": {},
   "outputs": [
    {
     "name": "stdout",
     "output_type": "stream",
     "text": [
      "(array([3, 4, 5, 7, 8, 9], dtype=int64),)\n",
      "[3 4 5 7 8 9]\n"
     ]
    }
   ],
   "source": [
    "# Пример\n",
    "# По умолчанию функция возвращает кортеж:\n",
    "\n",
    "arr = np.array([ 3,  5,  1,  8, 14, 17,  3, 10, 15, 18])\n",
    "print(np.where(arr > 7)) # (array([3, 4, 5, 7, 8, 9]),) - возвращает индексы тех значений которые подходят под условие !\n",
    "\n",
    "\n",
    "# Чтобы получить numpy-массив можно обратиться по индексу:\n",
    "\n",
    "arr = np.array([ 3,  5,  1,  8, 14, 17,  3, 10, 15, 18])\n",
    "print(np.where(arr > 7)[0]) # [3 4 5 7 8 9]"
   ]
  },
  {
   "cell_type": "code",
   "execution_count": null,
   "id": "6a70dc95",
   "metadata": {},
   "outputs": [],
   "source": [
    "2 способ\n",
    "\n",
    "np.where(condition, x1, x2)\n",
    "\n",
    "\n",
    "Проверяет условие, в случае истинности записывает в массив соответствующий элемент из x1, иначе из x2"
   ]
  },
  {
   "cell_type": "code",
   "execution_count": 3,
   "id": "3e7b19ff",
   "metadata": {},
   "outputs": [
    {
     "name": "stdout",
     "output_type": "stream",
     "text": [
      "[30 50 10  8 14 17 30 10 15 18]\n",
      "[-1 -1 -1  8 14 17 -1 10 15 18]\n"
     ]
    }
   ],
   "source": [
    "# Пример\n",
    "x = np.array([ 3,  5,  1,  8, 14, 17,  3, 10, 15, 18])\n",
    "y = x * 10\n",
    "print(np.where(x > 5, x, y)) # [30 50 10  8 14 17 30 10 15 18]\n",
    "\n",
    "\n",
    "# Массив и число\n",
    "\n",
    "arr = np.array([ 3,  5,  1,  8, 14, 17,  3, 10, 15, 18])\n",
    "print(np.where(arr > 5, arr, -1)) # [-1 -1 -1  8 14 17 -1 10 15 18]"
   ]
  },
  {
   "cell_type": "code",
   "execution_count": 4,
   "id": "c6ed388d",
   "metadata": {},
   "outputs": [
    {
     "name": "stdout",
     "output_type": "stream",
     "text": [
      "(array([0, 0, 1, 2, 2], dtype=int64), array([0, 2, 2, 0, 1], dtype=int64))\n"
     ]
    }
   ],
   "source": [
    "arr = np.array([[ 8, 18, 11],\n",
    "                [17, 20,  1],\n",
    "                [ 2,  4, 21],\n",
    "                [16, 12, 20]]) \n",
    "print(np.where(arr < 12))"
   ]
  },
  {
   "cell_type": "code",
   "execution_count": 5,
   "id": "a8701ed6",
   "metadata": {},
   "outputs": [
    {
     "data": {
      "text/plain": [
       "array([ 8, 11,  1,  2,  4])"
      ]
     },
     "execution_count": 5,
     "metadata": {},
     "output_type": "execute_result"
    }
   ],
   "source": [
    "arr[np.where(arr < 12)]"
   ]
  },
  {
   "cell_type": "code",
   "execution_count": null,
   "id": "f7e4be44",
   "metadata": {},
   "outputs": [],
   "source": []
  },
  {
   "cell_type": "code",
   "execution_count": null,
   "id": "acc52485",
   "metadata": {},
   "outputs": [],
   "source": [
    "# Задача. "
   ]
  },
  {
   "cell_type": "code",
   "execution_count": null,
   "id": "c6f5f66a",
   "metadata": {},
   "outputs": [],
   "source": [
    "# Выведите индексы столбцов, среднее в которых выше, чем среднее по массиву в целом. "
   ]
  },
  {
   "cell_type": "code",
   "execution_count": 6,
   "id": "c5be8a3d",
   "metadata": {},
   "outputs": [],
   "source": [
    "data = np.array([[8, 6, 5, 6],\n",
    "                 [5, 9, 1, 9],\n",
    "                 [8, 2, 6, 7],\n",
    "                 [2, 7, 4, 4],\n",
    "                 [6, 7, 6, 2],\n",
    "                 [6, 9, 6, 1]])"
   ]
  },
  {
   "cell_type": "code",
   "execution_count": 15,
   "id": "a7037300",
   "metadata": {},
   "outputs": [],
   "source": [
    "all_mean = np.mean(data)"
   ]
  },
  {
   "cell_type": "code",
   "execution_count": 14,
   "id": "b4174240",
   "metadata": {},
   "outputs": [],
   "source": [
    "colunm_mean = np.mean(data, axis = 0)"
   ]
  },
  {
   "cell_type": "code",
   "execution_count": 25,
   "id": "fede42de",
   "metadata": {},
   "outputs": [],
   "source": [
    "a = np.where(colunm_mean>all_mean)[0]"
   ]
  },
  {
   "cell_type": "code",
   "execution_count": 26,
   "id": "a2dd0f9e",
   "metadata": {},
   "outputs": [
    {
     "data": {
      "text/plain": [
       "array([0, 1], dtype=int64)"
      ]
     },
     "execution_count": 26,
     "metadata": {},
     "output_type": "execute_result"
    }
   ],
   "source": [
    "a"
   ]
  },
  {
   "cell_type": "code",
   "execution_count": null,
   "id": "6a017f11",
   "metadata": {},
   "outputs": [],
   "source": []
  },
  {
   "cell_type": "code",
   "execution_count": null,
   "id": "bc2ec740",
   "metadata": {},
   "outputs": [],
   "source": [
    "Задача. Возьмем массу 10 пингвинов. Для одного пингвина по-прежнему не удалось собрать данные, \n",
    "поэтому np.nan нужно заменить на среднее арифметическое по массе всех остальных пингвинов. \n",
    "Выведите индексы пингвинов, масса которых лежит между 25 и 75 процентилями от массы. "
   ]
  },
  {
   "cell_type": "code",
   "execution_count": 28,
   "id": "02bc4c9f",
   "metadata": {},
   "outputs": [],
   "source": [
    "body_mass_10 = np.array([3750., 3800., 3250.,   np.nan, 3450., 3650., 3625., 4675., 3475., 4250.])"
   ]
  },
  {
   "cell_type": "code",
   "execution_count": 29,
   "id": "2536fc05",
   "metadata": {},
   "outputs": [
    {
     "data": {
      "text/plain": [
       "nan"
      ]
     },
     "execution_count": 29,
     "metadata": {},
     "output_type": "execute_result"
    }
   ],
   "source": [
    "np.mean(body_mass_10)"
   ]
  },
  {
   "cell_type": "code",
   "execution_count": 31,
   "id": "90a81fb5",
   "metadata": {},
   "outputs": [],
   "source": [
    "arr = body_mass_10[~np.isnan(body_mass_10)]"
   ]
  },
  {
   "cell_type": "code",
   "execution_count": 32,
   "id": "31beb6dd",
   "metadata": {},
   "outputs": [
    {
     "data": {
      "text/plain": [
       "array([3750., 3800., 3250., 3450., 3650., 3625., 4675., 3475., 4250.])"
      ]
     },
     "execution_count": 32,
     "metadata": {},
     "output_type": "execute_result"
    }
   ],
   "source": [
    "arr"
   ]
  },
  {
   "cell_type": "code",
   "execution_count": 33,
   "id": "bf719c41",
   "metadata": {},
   "outputs": [
    {
     "data": {
      "text/plain": [
       "3769.4444444444443"
      ]
     },
     "execution_count": 33,
     "metadata": {},
     "output_type": "execute_result"
    }
   ],
   "source": [
    "np.mean(arr)"
   ]
  },
  {
   "cell_type": "code",
   "execution_count": 41,
   "id": "79587a20",
   "metadata": {},
   "outputs": [],
   "source": [
    "arr = np.where(np.isnan(body_mass_10), np.mean(arr), body_mass_10)"
   ]
  },
  {
   "cell_type": "code",
   "execution_count": 42,
   "id": "ff4ef0e5",
   "metadata": {},
   "outputs": [
    {
     "data": {
      "text/plain": [
       "array([3750.        , 3800.        , 3250.        , 3769.44444444,\n",
       "       3450.        , 3650.        , 3625.        , 4675.        ,\n",
       "       3475.        , 4250.        ])"
      ]
     },
     "execution_count": 42,
     "metadata": {},
     "output_type": "execute_result"
    }
   ],
   "source": [
    "arr"
   ]
  },
  {
   "cell_type": "code",
   "execution_count": 43,
   "id": "294b34c1",
   "metadata": {},
   "outputs": [],
   "source": [
    "per_25 = np.percentile(arr, 25)"
   ]
  },
  {
   "cell_type": "code",
   "execution_count": 44,
   "id": "f3b90eba",
   "metadata": {},
   "outputs": [
    {
     "data": {
      "text/plain": [
       "3512.5"
      ]
     },
     "execution_count": 44,
     "metadata": {},
     "output_type": "execute_result"
    }
   ],
   "source": [
    "per_25"
   ]
  },
  {
   "cell_type": "code",
   "execution_count": 45,
   "id": "189d384b",
   "metadata": {},
   "outputs": [],
   "source": [
    "per_75 = np.percentile(arr, 75)"
   ]
  },
  {
   "cell_type": "code",
   "execution_count": 46,
   "id": "fea7e084",
   "metadata": {},
   "outputs": [
    {
     "data": {
      "text/plain": [
       "3792.3611111111113"
      ]
     },
     "execution_count": 46,
     "metadata": {},
     "output_type": "execute_result"
    }
   ],
   "source": [
    "per_75"
   ]
  },
  {
   "cell_type": "code",
   "execution_count": 51,
   "id": "dc97d597",
   "metadata": {},
   "outputs": [
    {
     "data": {
      "text/plain": [
       "(array([0, 3, 5, 6], dtype=int64),)"
      ]
     },
     "execution_count": 51,
     "metadata": {},
     "output_type": "execute_result"
    }
   ],
   "source": [
    "np.where((arr>np.percentile(arr,25)) & (arr<np.percentile(arr,75)))"
   ]
  },
  {
   "cell_type": "code",
   "execution_count": null,
   "id": "88ba6e22",
   "metadata": {},
   "outputs": [],
   "source": []
  },
  {
   "cell_type": "markdown",
   "id": "ea3d868f",
   "metadata": {},
   "source": [
    "# Копирование массивов"
   ]
  },
  {
   "cell_type": "code",
   "execution_count": null,
   "id": "a230774a",
   "metadata": {},
   "outputs": [],
   "source": [
    "Нам привычно, что присвоив одну переменную другой мы получаем ее копию:\n",
    "\n",
    "a = 5\n",
    "b = a\n",
    "print(b) # 5\n",
    "Однако если присвоить таким образом массив, то он не будет скопирован в полном смысле этого слова.\n",
    "\n",
    "Пример\n",
    "arr = np.array([[15, 11, 12, 13, 14],\n",
    "                [ 7, 15, 16, 19, 21],\n",
    "                [ 2,  5, 15, 22, 10],\n",
    "                [17,  3, 24, 22, 19],\n",
    "                [17, 13, 23,  1, 20]])\n",
    "arr1 = arr\n",
    "Теперь попробуем изменить значение в массиве arr1 и вывести новый массив\n",
    "\n",
    "arr1[0, 0] = 1000\n",
    "print(arr1)\n",
    "\n",
    "# [[1000   11   12   13   14]\n",
    "#  [   7   15   16   19   21]\n",
    "#  [   2    5   15   22   10]\n",
    "#  [  17    3   24   22   19]\n",
    "#  [  17   13   23    1   20]]\n",
    "Все отлично. А что с исходным массивом arr?\n",
    "\n",
    "print(arr)\n",
    "\n",
    "# [[1000   11   12   13   14]\n",
    "#  [   7   15   16   19   21]\n",
    "#  [   2    5   15   22   10]\n",
    "#  [  17    3   24   22   19]\n",
    "#  [  17   13   23    1   20]]\n",
    "Он тоже изменился! Таким образом, мы получили две переменные, но на самом деле они работают с одним и тем же массивом!\n",
    "\n",
    "Чтобы избегать таких ситуаций, используйте функцию .copy() при копировании:\n",
    "\n",
    "arr = np.array([[15, 11, 12, 13, 14],\n",
    "                [ 7, 15, 16, 19, 21],\n",
    "                [ 2,  5, 15, 22, 10],\n",
    "                [17,  3, 24, 22, 19],\n",
    "                [17, 13, 23,  1, 20]])\n",
    "arr1 = arr.copy()\n",
    "Теперь в arr1 значения поменялись, а в arr - нет\n",
    "\n",
    "arr1[0, 0] = 1000\n",
    "print(arr1)\n",
    "\n",
    "# [[1000   11   12   13   14]\n",
    "#  [   7   15   16   19   21]\n",
    "#  [   2    5   15   22   10]\n",
    "#  [  17    3   24   22   19]\n",
    "#  [  17   13   23    1   20]]\n",
    "\n",
    "print(arr)\n",
    "\n",
    "# [[15   11   12   13   14]\n",
    "#  [   7   15   16   19   21]\n",
    "#  [   2    5   15   22   10]\n",
    "#  [  17    3   24   22   19]\n",
    "#  [  17   13   23    1   20]]"
   ]
  },
  {
   "cell_type": "code",
   "execution_count": null,
   "id": "c7ee1da1",
   "metadata": {},
   "outputs": [],
   "source": []
  },
  {
   "cell_type": "markdown",
   "id": "402e4c97",
   "metadata": {},
   "source": [
    "# Подсчет значений по условию"
   ]
  },
  {
   "cell_type": "code",
   "execution_count": null,
   "id": "9f32e7f0",
   "metadata": {},
   "outputs": [],
   "source": [
    "Иногда в numpy очень не хватает функции для подсчета значений. Тем не менее, существует два способа решения этой задачи: \n",
    "\n",
    "1. Извлечь элементы по условию и посчитать их количество с помощью .shape\n",
    "\n",
    "arr = np.array([ 3,  5,  1,  8, 14, 17,  3, 10, 15, 18])\n",
    "print((arr[arr >= 10]).shape[0]) # 5\n",
    "2. Применить необходимое сравнение к массиву и с помощью np.sum() посчитать количество True. \n",
    "(True интерпретируется как 1, False как 0) \n",
    "\n",
    "arr = np.array([ 3,  5,  1,  8, 14, 17,  3, 10, 15, 18])\n",
    "print((arr >= 10).sum()) # 5"
   ]
  },
  {
   "cell_type": "code",
   "execution_count": null,
   "id": "01819c58",
   "metadata": {},
   "outputs": [],
   "source": []
  },
  {
   "cell_type": "code",
   "execution_count": 52,
   "id": "e0665714",
   "metadata": {},
   "outputs": [],
   "source": [
    "# Задача. \n",
    "\n",
    "# Сколько раз числа 5 или 6 встретились в заданном одномерном массиве?\n",
    "\n",
    "arr = np.array([4, 3, 3, 4, 5, 6, 3, 4, 6, 4])"
   ]
  },
  {
   "cell_type": "code",
   "execution_count": 54,
   "id": "dd5befc2",
   "metadata": {},
   "outputs": [
    {
     "data": {
      "text/plain": [
       "array([False, False, False, False,  True,  True, False, False,  True,\n",
       "       False])"
      ]
     },
     "execution_count": 54,
     "metadata": {},
     "output_type": "execute_result"
    }
   ],
   "source": [
    "(arr == 5) | (arr == 6)"
   ]
  },
  {
   "cell_type": "code",
   "execution_count": 57,
   "id": "58f3e801",
   "metadata": {},
   "outputs": [
    {
     "data": {
      "text/plain": [
       "3"
      ]
     },
     "execution_count": 57,
     "metadata": {},
     "output_type": "execute_result"
    }
   ],
   "source": [
    "np.sum((arr == 5) | (arr == 6))"
   ]
  },
  {
   "cell_type": "code",
   "execution_count": 59,
   "id": "8a818d60",
   "metadata": {},
   "outputs": [],
   "source": [
    "a = arr[(arr == 5) | (arr == 6)]"
   ]
  },
  {
   "cell_type": "code",
   "execution_count": 61,
   "id": "3e892e1e",
   "metadata": {},
   "outputs": [
    {
     "data": {
      "text/plain": [
       "3"
      ]
     },
     "execution_count": 61,
     "metadata": {},
     "output_type": "execute_result"
    }
   ],
   "source": [
    "a.shape[0]"
   ]
  },
  {
   "cell_type": "code",
   "execution_count": null,
   "id": "31bbef57",
   "metadata": {},
   "outputs": [],
   "source": []
  },
  {
   "cell_type": "code",
   "execution_count": 62,
   "id": "c745f3c4",
   "metadata": {},
   "outputs": [],
   "source": [
    "# Задача. Подсчитать количество пингвинов-мальчиков и пингвинов-девочек, \n",
    "# если в заданном массиве 0 означает девочек, а 1 - мальчиков. \n",
    "\n",
    "# Выведите два числа через пробел - количество мальчиков и девочек соответственно. \n",
    "\n",
    "gender = np.array([1, 0, 0, 0, 0, 1, 0, 1, 0, 0])"
   ]
  },
  {
   "cell_type": "code",
   "execution_count": 63,
   "id": "3c32eb2a",
   "metadata": {},
   "outputs": [
    {
     "data": {
      "text/plain": [
       "array([False,  True,  True,  True,  True, False,  True, False,  True,\n",
       "        True])"
      ]
     },
     "execution_count": 63,
     "metadata": {},
     "output_type": "execute_result"
    }
   ],
   "source": [
    "gender == 0"
   ]
  },
  {
   "cell_type": "code",
   "execution_count": 64,
   "id": "3d46cf8c",
   "metadata": {},
   "outputs": [
    {
     "data": {
      "text/plain": [
       "array([ True, False, False, False, False,  True, False,  True, False,\n",
       "       False])"
      ]
     },
     "execution_count": 64,
     "metadata": {},
     "output_type": "execute_result"
    }
   ],
   "source": [
    "gender == 1"
   ]
  },
  {
   "cell_type": "code",
   "execution_count": 66,
   "id": "94f014af",
   "metadata": {},
   "outputs": [
    {
     "name": "stdout",
     "output_type": "stream",
     "text": [
      "3 7\n"
     ]
    }
   ],
   "source": [
    "print(np.sum(gender == 1), np.sum(gender == 0))"
   ]
  },
  {
   "cell_type": "code",
   "execution_count": null,
   "id": "7a70390a",
   "metadata": {},
   "outputs": [],
   "source": []
  },
  {
   "cell_type": "markdown",
   "id": "a9ed4c96",
   "metadata": {},
   "source": [
    "# Сортировка"
   ]
  },
  {
   "cell_type": "code",
   "execution_count": null,
   "id": "638dbf21",
   "metadata": {},
   "outputs": [],
   "source": [
    "Сортировка массивов numpy производится только в порядке возрастания\n",
    "\n",
    "* np.sort(x, axis=-1)\n",
    "\n",
    "Если нужна сортировка по убыванию, то можно использовать переворот по срезу"
   ]
  },
  {
   "cell_type": "code",
   "execution_count": null,
   "id": "9ceef3ad",
   "metadata": {},
   "outputs": [],
   "source": [
    "# Пример\n",
    "# Стандартная сортировка\n",
    "\n",
    "arr = np.array([19,  3,  9, 19, 10,  1,  4, 12, 16,  7])\n",
    "sorted_arr = np.sort(arr) # [ 1,  3,  4,  7,  9, 10, 12, 16, 19, 19]\n",
    "\n",
    "\n",
    "# Если нужна сортировка по убыванию, то можно использовать переворот по срезу\n",
    "\n",
    "arr = np.array([19,  3,  9, 19, 10,  1,  4, 12, 16,  7])\n",
    "sorted_arr = np.sort(arr)[::-1] # [19, 19, 16, 12, 10,  9,  7,  4,  3,  1]"
   ]
  },
  {
   "cell_type": "code",
   "execution_count": 67,
   "id": "e4d12774",
   "metadata": {},
   "outputs": [],
   "source": [
    "arr = np.array([19,  3,  9, 19, 10,  1,  4, 12, 16,  7])"
   ]
  },
  {
   "cell_type": "code",
   "execution_count": 68,
   "id": "7c03a99c",
   "metadata": {},
   "outputs": [
    {
     "data": {
      "text/plain": [
       "array([ 1,  3,  4,  7,  9, 10, 12, 16, 19, 19])"
      ]
     },
     "execution_count": 68,
     "metadata": {},
     "output_type": "execute_result"
    }
   ],
   "source": [
    "np.sort(arr)"
   ]
  },
  {
   "cell_type": "code",
   "execution_count": null,
   "id": "97e2cbac",
   "metadata": {},
   "outputs": [],
   "source": []
  },
  {
   "cell_type": "markdown",
   "id": "dd3ef87d",
   "metadata": {},
   "source": [
    "## Сортировка двумерных массивов"
   ]
  },
  {
   "cell_type": "code",
   "execution_count": null,
   "id": "dfbea365",
   "metadata": {},
   "outputs": [],
   "source": [
    "Если массив двумерный, то сортировать его можно по строкам или по столбцам. Но что это значит? \n",
    "\n",
    "Возьмем массив\n",
    "\n",
    "arr = np.array([[17,  1, 18],\n",
    "                [ 8,  6, 11],\n",
    "                [15, 17,  2],\n",
    "                [13,  7,  5],\n",
    "                [ 6,  4,  8]])\n",
    "\n",
    "Если используем сортировку по умолчанию c axis=-1 (то есть ничего не передадим), \n",
    "то получим массив, в котором каждая строка отсортирована по возрастанию, то есть результат, равносильный axis=1\n",
    "\n",
    "sorted_arr = np.sort(arr)\n",
    "print(sorted_arr)\n",
    "\n",
    "# Результат\n",
    "# [[ 1, 17, 18],\n",
    "#  [ 6,  8, 11],\n",
    "#  [ 2, 15, 17],\n",
    "#  [ 5,  7, 13],\n",
    "#  [ 4,  6,  8]]\n",
    "\n",
    "Если axis=0, то получим сортировку каждого столбца\n",
    "\n",
    "sorted_arr = np.sort(arr, axis=0)\n",
    "print(sorted_arr)\n",
    "\n",
    "# Результат\n",
    "# [[ 6  1  2]\n",
    "#  [ 8  4  5]\n",
    "#  [13  6  8]\n",
    "#  [15  7 11]\n",
    "#  [17 17 18]]"
   ]
  },
  {
   "cell_type": "code",
   "execution_count": null,
   "id": "ff26f86c",
   "metadata": {},
   "outputs": [],
   "source": []
  },
  {
   "cell_type": "code",
   "execution_count": 69,
   "id": "bfaeda80",
   "metadata": {},
   "outputs": [],
   "source": [
    "# Задача.\n",
    "# Дан двумерный массив. Отсортируйте каждый столбец в порядке неубывания. \n",
    "\n",
    "data = np.array([[8, 6, 5, 6],\n",
    "                 [5, 9, 1, 9],\n",
    "                 [8, 2, 6, 7],\n",
    "                 [2, 7, 4, 4],\n",
    "                 [6, 7, 6, 2],\n",
    "                 [6, 9, 6, 1]])"
   ]
  },
  {
   "cell_type": "code",
   "execution_count": 72,
   "id": "2804fb22",
   "metadata": {},
   "outputs": [
    {
     "data": {
      "text/plain": [
       "array([[5, 6, 6, 8],\n",
       "       [1, 5, 9, 9],\n",
       "       [2, 6, 7, 8],\n",
       "       [2, 4, 4, 7],\n",
       "       [2, 6, 6, 7],\n",
       "       [1, 6, 6, 9]])"
      ]
     },
     "execution_count": 72,
     "metadata": {},
     "output_type": "execute_result"
    }
   ],
   "source": [
    "np.sort(data)"
   ]
  },
  {
   "cell_type": "code",
   "execution_count": 73,
   "id": "2e67bb5f",
   "metadata": {},
   "outputs": [
    {
     "data": {
      "text/plain": [
       "array([[2, 2, 1, 1],\n",
       "       [5, 6, 4, 2],\n",
       "       [6, 7, 5, 4],\n",
       "       [6, 7, 6, 6],\n",
       "       [8, 9, 6, 7],\n",
       "       [8, 9, 6, 9]])"
      ]
     },
     "execution_count": 73,
     "metadata": {},
     "output_type": "execute_result"
    }
   ],
   "source": [
    "np.sort(data, axis = 0)"
   ]
  },
  {
   "cell_type": "code",
   "execution_count": 74,
   "id": "3e7b81fa",
   "metadata": {},
   "outputs": [
    {
     "data": {
      "text/plain": [
       "array([[8, 9, 6, 9],\n",
       "       [8, 9, 6, 7],\n",
       "       [6, 7, 6, 6],\n",
       "       [6, 7, 5, 4],\n",
       "       [5, 6, 4, 2],\n",
       "       [2, 2, 1, 1]])"
      ]
     },
     "execution_count": 74,
     "metadata": {},
     "output_type": "execute_result"
    }
   ],
   "source": [
    "np.sort(data, axis = 0)[::-1]"
   ]
  },
  {
   "cell_type": "code",
   "execution_count": null,
   "id": "06176793",
   "metadata": {},
   "outputs": [],
   "source": []
  },
  {
   "cell_type": "code",
   "execution_count": 76,
   "id": "6527e02a",
   "metadata": {},
   "outputs": [],
   "source": [
    "# Задача. \n",
    "#Дан двумерный массив, отсортируйте его так, \n",
    "# чтобы осортировано было не по строкам/столбцам, а по всему массиву\n",
    "\n",
    "data = np.array([[8, 6, 5, 6],\n",
    "                 [5, 9, 1, 9],\n",
    "                 [8, 2, 6, 7],\n",
    "                 [2, 7, 4, 4],\n",
    "                 [6, 7, 6, 2],\n",
    "                 [6, 9, 6, 1]])"
   ]
  },
  {
   "cell_type": "code",
   "execution_count": 78,
   "id": "4c00639e",
   "metadata": {},
   "outputs": [],
   "source": [
    "arr = data.reshape(1, -1)"
   ]
  },
  {
   "cell_type": "code",
   "execution_count": 79,
   "id": "b94aa7fc",
   "metadata": {},
   "outputs": [
    {
     "data": {
      "text/plain": [
       "array([[8, 6, 5, 6, 5, 9, 1, 9, 8, 2, 6, 7, 2, 7, 4, 4, 6, 7, 6, 2, 6, 9,\n",
       "        6, 1]])"
      ]
     },
     "execution_count": 79,
     "metadata": {},
     "output_type": "execute_result"
    }
   ],
   "source": [
    "arr"
   ]
  },
  {
   "cell_type": "code",
   "execution_count": 81,
   "id": "d7de14a3",
   "metadata": {},
   "outputs": [],
   "source": [
    "res = np.sort(arr)"
   ]
  },
  {
   "cell_type": "code",
   "execution_count": 82,
   "id": "88d2513c",
   "metadata": {},
   "outputs": [
    {
     "data": {
      "text/plain": [
       "array([[1, 1, 2, 2, 2, 4, 4, 5, 5, 6, 6, 6, 6, 6, 6, 6, 7, 7, 7, 8, 8, 9,\n",
       "        9, 9]])"
      ]
     },
     "execution_count": 82,
     "metadata": {},
     "output_type": "execute_result"
    }
   ],
   "source": [
    "res"
   ]
  },
  {
   "cell_type": "code",
   "execution_count": 83,
   "id": "2592bf44",
   "metadata": {},
   "outputs": [],
   "source": [
    "result = res.reshape(data.shape)"
   ]
  },
  {
   "cell_type": "code",
   "execution_count": 84,
   "id": "45d5ad46",
   "metadata": {},
   "outputs": [
    {
     "data": {
      "text/plain": [
       "array([[1, 1, 2, 2],\n",
       "       [2, 4, 4, 5],\n",
       "       [5, 6, 6, 6],\n",
       "       [6, 6, 6, 6],\n",
       "       [7, 7, 7, 8],\n",
       "       [8, 9, 9, 9]])"
      ]
     },
     "execution_count": 84,
     "metadata": {},
     "output_type": "execute_result"
    }
   ],
   "source": [
    "result"
   ]
  },
  {
   "cell_type": "code",
   "execution_count": null,
   "id": "910d51cb",
   "metadata": {},
   "outputs": [],
   "source": []
  },
  {
   "cell_type": "code",
   "execution_count": null,
   "id": "88af1ac5",
   "metadata": {},
   "outputs": [],
   "source": [
    "Задача. Кусочно-заданная функция.\n",
    "\n",
    "Дан массив. Выведите сумму его значений, округленную до двух знаков после запятой, для следующей кусочно-заданной функции \n",
    "\n",
    "y = atan(x) при x < 0\n",
    "y = 3*x + 4 при x >= 0"
   ]
  },
  {
   "cell_type": "code",
   "execution_count": 104,
   "id": "73247e25",
   "metadata": {},
   "outputs": [
    {
     "name": "stdout",
     "output_type": "stream",
     "text": [
      "50\n"
     ]
    }
   ],
   "source": [
    "n = int(input())\n",
    "x = np.linspace(-np.pi/2, 10, num=n)"
   ]
  },
  {
   "cell_type": "code",
   "execution_count": 105,
   "id": "75bb2c54",
   "metadata": {},
   "outputs": [
    {
     "data": {
      "text/plain": [
       "array([-1.57079633, -1.33465763, -1.09851893, -0.86238023, -0.62624152,\n",
       "       -0.39010282, -0.15396412,  0.08217458,  0.31831328,  0.55445198,\n",
       "        0.79059068,  1.02672938,  1.26286808,  1.49900678,  1.73514548,\n",
       "        1.97128418,  2.20742288,  2.44356158,  2.67970028,  2.91583898,\n",
       "        3.15197768,  3.38811638,  3.62425509,  3.86039379,  4.09653249,\n",
       "        4.33267119,  4.56880989,  4.80494859,  5.04108729,  5.27722599,\n",
       "        5.51336469,  5.74950339,  5.98564209,  6.22178079,  6.45791949,\n",
       "        6.69405819,  6.93019689,  7.16633559,  7.40247429,  7.63861299,\n",
       "        7.8747517 ,  8.1108904 ,  8.3470291 ,  8.5831678 ,  8.8193065 ,\n",
       "        9.0554452 ,  9.2915839 ,  9.5277226 ,  9.7638613 , 10.        ])"
      ]
     },
     "execution_count": 105,
     "metadata": {},
     "output_type": "execute_result"
    }
   ],
   "source": [
    "x"
   ]
  },
  {
   "cell_type": "code",
   "execution_count": null,
   "id": "e75f9d7a",
   "metadata": {},
   "outputs": [],
   "source": []
  },
  {
   "cell_type": "code",
   "execution_count": 106,
   "id": "a5457458",
   "metadata": {},
   "outputs": [
    {
     "data": {
      "text/plain": [
       "array([-6.12323400e-17, -2.40628008e-01, -5.10834258e-01, -8.56778341e-01,\n",
       "       -1.38241091e+00, -2.43205378e+00, -6.44361694e+00,  1.21418100e+01,\n",
       "        3.03473105e+00,  1.61486323e+00,  9.89668523e-01,  6.04971430e-01,\n",
       "        3.18044682e-01,  7.19131294e-02, -1.65845044e-01, -4.23368398e-01,\n",
       "       -7.39313441e-01, -1.19199717e+00, -2.00880712e+00, -4.35409869e+00,\n",
       "        9.62889849e+01,  3.97389516e+00,  1.90839842e+00,  1.14292372e+00,\n",
       "        7.07672110e-01,  3.99085531e-01,  1.44573923e-01, -9.28248446e-02,\n",
       "       -3.41071104e-01, -6.33708355e-01, -1.03165069e+00, -1.69240922e+00,\n",
       "       -3.26108489e+00, -1.62649738e+01,  5.66461497e+00,  2.29531855e+00,\n",
       "        1.32362740e+00,  8.21386343e-01,  4.84915488e-01,  2.18761463e-01,\n",
       "       -2.07730483e-02, -2.62714253e-01, -5.37309006e-01, -8.93452974e-01,\n",
       "       -1.44467039e+00, -2.58334020e+00, -7.46339156e+00,  9.67961991e+00,\n",
       "        2.83522375e+00,  1.54235105e+00])"
      ]
     },
     "execution_count": 106,
     "metadata": {},
     "output_type": "execute_result"
    }
   ],
   "source": [
    "1/np.tan(x)"
   ]
  },
  {
   "cell_type": "code",
   "execution_count": null,
   "id": "bb26d32e",
   "metadata": {},
   "outputs": [],
   "source": []
  },
  {
   "cell_type": "code",
   "execution_count": 107,
   "id": "f7a08fd2",
   "metadata": {},
   "outputs": [
    {
     "data": {
      "text/plain": [
       "array([-7.12388980e-01, -3.97287874e-03,  7.04443223e-01,  1.41285932e+00,\n",
       "        2.12127543e+00,  2.82969153e+00,  3.53810763e+00,  4.24652373e+00,\n",
       "        4.95493983e+00,  5.66335593e+00,  6.37177204e+00,  7.08018814e+00,\n",
       "        7.78860424e+00,  8.49702034e+00,  9.20543644e+00,  9.91385254e+00,\n",
       "        1.06222686e+01,  1.13306847e+01,  1.20391008e+01,  1.27475170e+01,\n",
       "        1.34559331e+01,  1.41643492e+01,  1.48727653e+01,  1.55811814e+01,\n",
       "        1.62895975e+01,  1.69980136e+01,  1.77064297e+01,  1.84148458e+01,\n",
       "        1.91232619e+01,  1.98316780e+01,  2.05400941e+01,  2.12485102e+01,\n",
       "        2.19569263e+01,  2.26653424e+01,  2.33737585e+01,  2.40821746e+01,\n",
       "        2.47905907e+01,  2.54990068e+01,  2.62074229e+01,  2.69158390e+01,\n",
       "        2.76242551e+01,  2.83326712e+01,  2.90410873e+01,  2.97495034e+01,\n",
       "        3.04579195e+01,  3.11663356e+01,  3.18747517e+01,  3.25831678e+01,\n",
       "        3.32915839e+01,  3.40000000e+01])"
      ]
     },
     "execution_count": 107,
     "metadata": {},
     "output_type": "execute_result"
    }
   ],
   "source": [
    "3*x + 4"
   ]
  },
  {
   "cell_type": "code",
   "execution_count": 108,
   "id": "07d800f4",
   "metadata": {},
   "outputs": [],
   "source": [
    "z = np.zeros(n)"
   ]
  },
  {
   "cell_type": "code",
   "execution_count": 109,
   "id": "cd472c5e",
   "metadata": {},
   "outputs": [
    {
     "data": {
      "text/plain": [
       "array([0., 0., 0., 0., 0., 0., 0., 0., 0., 0., 0., 0., 0., 0., 0., 0., 0.,\n",
       "       0., 0., 0., 0., 0., 0., 0., 0., 0., 0., 0., 0., 0., 0., 0., 0., 0.,\n",
       "       0., 0., 0., 0., 0., 0., 0., 0., 0., 0., 0., 0., 0., 0., 0., 0.])"
      ]
     },
     "execution_count": 109,
     "metadata": {},
     "output_type": "execute_result"
    }
   ],
   "source": [
    "z"
   ]
  },
  {
   "cell_type": "code",
   "execution_count": 110,
   "id": "6386e10c",
   "metadata": {},
   "outputs": [],
   "source": [
    "z = np.where(x<0, 1/np.tan(x), z)"
   ]
  },
  {
   "cell_type": "code",
   "execution_count": null,
   "id": "95bd6059",
   "metadata": {},
   "outputs": [],
   "source": []
  },
  {
   "cell_type": "code",
   "execution_count": 111,
   "id": "d676043b",
   "metadata": {},
   "outputs": [
    {
     "data": {
      "text/plain": [
       "array([-6.12323400e-17, -2.40628008e-01, -5.10834258e-01, -8.56778341e-01,\n",
       "       -1.38241091e+00, -2.43205378e+00, -6.44361694e+00,  0.00000000e+00,\n",
       "        0.00000000e+00,  0.00000000e+00,  0.00000000e+00,  0.00000000e+00,\n",
       "        0.00000000e+00,  0.00000000e+00,  0.00000000e+00,  0.00000000e+00,\n",
       "        0.00000000e+00,  0.00000000e+00,  0.00000000e+00,  0.00000000e+00,\n",
       "        0.00000000e+00,  0.00000000e+00,  0.00000000e+00,  0.00000000e+00,\n",
       "        0.00000000e+00,  0.00000000e+00,  0.00000000e+00,  0.00000000e+00,\n",
       "        0.00000000e+00,  0.00000000e+00,  0.00000000e+00,  0.00000000e+00,\n",
       "        0.00000000e+00,  0.00000000e+00,  0.00000000e+00,  0.00000000e+00,\n",
       "        0.00000000e+00,  0.00000000e+00,  0.00000000e+00,  0.00000000e+00,\n",
       "        0.00000000e+00,  0.00000000e+00,  0.00000000e+00,  0.00000000e+00,\n",
       "        0.00000000e+00,  0.00000000e+00,  0.00000000e+00,  0.00000000e+00,\n",
       "        0.00000000e+00,  0.00000000e+00])"
      ]
     },
     "execution_count": 111,
     "metadata": {},
     "output_type": "execute_result"
    }
   ],
   "source": [
    "z"
   ]
  },
  {
   "cell_type": "code",
   "execution_count": 112,
   "id": "f0e7afac",
   "metadata": {},
   "outputs": [],
   "source": [
    "z = np.where(x>0, 3*x + 4, z)"
   ]
  },
  {
   "cell_type": "code",
   "execution_count": 113,
   "id": "f9f0797a",
   "metadata": {},
   "outputs": [
    {
     "data": {
      "text/plain": [
       "array([-6.12323400e-17, -2.40628008e-01, -5.10834258e-01, -8.56778341e-01,\n",
       "       -1.38241091e+00, -2.43205378e+00, -6.44361694e+00,  4.24652373e+00,\n",
       "        4.95493983e+00,  5.66335593e+00,  6.37177204e+00,  7.08018814e+00,\n",
       "        7.78860424e+00,  8.49702034e+00,  9.20543644e+00,  9.91385254e+00,\n",
       "        1.06222686e+01,  1.13306847e+01,  1.20391008e+01,  1.27475170e+01,\n",
       "        1.34559331e+01,  1.41643492e+01,  1.48727653e+01,  1.55811814e+01,\n",
       "        1.62895975e+01,  1.69980136e+01,  1.77064297e+01,  1.84148458e+01,\n",
       "        1.91232619e+01,  1.98316780e+01,  2.05400941e+01,  2.12485102e+01,\n",
       "        2.19569263e+01,  2.26653424e+01,  2.33737585e+01,  2.40821746e+01,\n",
       "        2.47905907e+01,  2.54990068e+01,  2.62074229e+01,  2.69158390e+01,\n",
       "        2.76242551e+01,  2.83326712e+01,  2.90410873e+01,  2.97495034e+01,\n",
       "        3.04579195e+01,  3.11663356e+01,  3.18747517e+01,  3.25831678e+01,\n",
       "        3.32915839e+01,  3.40000000e+01])"
      ]
     },
     "execution_count": 113,
     "metadata": {},
     "output_type": "execute_result"
    }
   ],
   "source": [
    "z"
   ]
  },
  {
   "cell_type": "code",
   "execution_count": 114,
   "id": "e53bae00",
   "metadata": {},
   "outputs": [
    {
     "data": {
      "text/plain": [
       "810.4339379870069"
      ]
     },
     "execution_count": 114,
     "metadata": {},
     "output_type": "execute_result"
    }
   ],
   "source": [
    "np.sum(z)"
   ]
  },
  {
   "cell_type": "code",
   "execution_count": null,
   "id": "6c129b76",
   "metadata": {},
   "outputs": [],
   "source": []
  },
  {
   "cell_type": "code",
   "execution_count": null,
   "id": "c45bf380",
   "metadata": {},
   "outputs": [],
   "source": []
  },
  {
   "cell_type": "code",
   "execution_count": 117,
   "id": "4c1b7b2b",
   "metadata": {},
   "outputs": [
    {
     "data": {
      "text/plain": [
       "array([-1.57079633, -1.33465763, -1.09851893, -0.86238023, -0.62624152,\n",
       "       -0.39010282, -0.15396412])"
      ]
     },
     "execution_count": 117,
     "metadata": {},
     "output_type": "execute_result"
    }
   ],
   "source": [
    "x[x<0]"
   ]
  },
  {
   "cell_type": "code",
   "execution_count": 122,
   "id": "316359b0",
   "metadata": {},
   "outputs": [
    {
     "data": {
      "text/plain": [
       "array([ 0.08217458,  0.31831328,  0.55445198,  0.79059068,  1.02672938,\n",
       "        1.26286808,  1.49900678,  1.73514548,  1.97128418,  2.20742288,\n",
       "        2.44356158,  2.67970028,  2.91583898,  3.15197768,  3.38811638,\n",
       "        3.62425509,  3.86039379,  4.09653249,  4.33267119,  4.56880989,\n",
       "        4.80494859,  5.04108729,  5.27722599,  5.51336469,  5.74950339,\n",
       "        5.98564209,  6.22178079,  6.45791949,  6.69405819,  6.93019689,\n",
       "        7.16633559,  7.40247429,  7.63861299,  7.8747517 ,  8.1108904 ,\n",
       "        8.3470291 ,  8.5831678 ,  8.8193065 ,  9.0554452 ,  9.2915839 ,\n",
       "        9.5277226 ,  9.7638613 , 10.        ])"
      ]
     },
     "execution_count": 122,
     "metadata": {},
     "output_type": "execute_result"
    }
   ],
   "source": [
    "x[x>=0]"
   ]
  },
  {
   "cell_type": "code",
   "execution_count": 124,
   "id": "1a3ff60a",
   "metadata": {},
   "outputs": [
    {
     "data": {
      "text/plain": [
       "817.7404539873303"
      ]
     },
     "execution_count": 124,
     "metadata": {},
     "output_type": "execute_result"
    }
   ],
   "source": [
    "np.sum(np.arctan(x[x<0])) + np.sum((3*(x[x>=0]) + 4))"
   ]
  },
  {
   "cell_type": "code",
   "execution_count": null,
   "id": "ffd35cf6",
   "metadata": {},
   "outputs": [],
   "source": []
  },
  {
   "cell_type": "markdown",
   "id": "931f1049",
   "metadata": {},
   "source": [
    "# Задача. Знак числа"
   ]
  },
  {
   "cell_type": "code",
   "execution_count": null,
   "id": "8837842f",
   "metadata": {},
   "outputs": [],
   "source": [
    "Нужно для каждого элемента массива определить его знак. Итоговый массив формируется по следующим правилам:\n",
    "\n",
    "1, если соответствующее число положительно\n",
    "0, если соответствующее число равно нулю\n",
    "-1, если соответствующее число отрицательно\n",
    "Считайте массив целых чисел с клавиатуры (обратите внимание, что элементы вводятся через пробел) и выведите массив знаков sign"
   ]
  },
  {
   "cell_type": "code",
   "execution_count": 133,
   "id": "fea1adc8",
   "metadata": {},
   "outputs": [
    {
     "name": "stdout",
     "output_type": "stream",
     "text": [
      "1 5 -9 3 9 -7 0\n"
     ]
    }
   ],
   "source": [
    "a = np.array(list(map(int,input().split())))"
   ]
  },
  {
   "cell_type": "code",
   "execution_count": 134,
   "id": "4f907993",
   "metadata": {},
   "outputs": [
    {
     "data": {
      "text/plain": [
       "array([ 1,  5, -9,  3,  9, -7,  0])"
      ]
     },
     "execution_count": 134,
     "metadata": {},
     "output_type": "execute_result"
    }
   ],
   "source": [
    "a"
   ]
  },
  {
   "cell_type": "code",
   "execution_count": 135,
   "id": "6b284a32",
   "metadata": {},
   "outputs": [
    {
     "data": {
      "text/plain": [
       "array([ 1,  1, -1,  1,  1, -1,  0])"
      ]
     },
     "execution_count": 135,
     "metadata": {},
     "output_type": "execute_result"
    }
   ],
   "source": [
    "np.where(a>0, 1, np.where(a<0, -1, np.where(a==0, 0, a)))"
   ]
  },
  {
   "cell_type": "code",
   "execution_count": null,
   "id": "39e38da4",
   "metadata": {},
   "outputs": [],
   "source": []
  },
  {
   "cell_type": "code",
   "execution_count": 9,
   "id": "061a278d",
   "metadata": {},
   "outputs": [],
   "source": [
    "z = np.zeros((2,2))"
   ]
  },
  {
   "cell_type": "code",
   "execution_count": 10,
   "id": "fb34d863",
   "metadata": {},
   "outputs": [
    {
     "data": {
      "text/plain": [
       "array([[0., 0.],\n",
       "       [0., 0.]])"
      ]
     },
     "execution_count": 10,
     "metadata": {},
     "output_type": "execute_result"
    }
   ],
   "source": [
    "z"
   ]
  },
  {
   "cell_type": "code",
   "execution_count": null,
   "id": "666437b0",
   "metadata": {},
   "outputs": [],
   "source": []
  },
  {
   "cell_type": "code",
   "execution_count": 28,
   "id": "fdd13d11",
   "metadata": {},
   "outputs": [
    {
     "name": "stdout",
     "output_type": "stream",
     "text": [
      "60\n",
      "[[10.  0.]\n",
      " [ 0. 50.]]\n"
     ]
    }
   ],
   "source": [
    "import numpy as np\n",
    "from sklearn.datasets import load_iris\n",
    "from sklearn.linear_model import LogisticRegression\n",
    "\n",
    "X, y = load_iris(return_X_y=True) # загрузка датасета\n",
    "clf = LogisticRegression(random_state=0, max_iter=130).fit(X, y) # настройка и обучение классификатора\n",
    "\n",
    "n = int(input())\n",
    "y = y[:n] # возьмем часть правильных ответов\n",
    "y_pred = clf.predict(X)[:n] # возьмем часть ответов классификатора\n",
    "\n",
    "# Ваш код\n",
    "\n",
    "z = np.zeros((2,2))\n",
    "z[0][0] = np.sum((y==1) & (y_pred == 1))\n",
    "\n",
    "z[0][1] = np.sum((y==1) & (y_pred == 0))\n",
    "z[1][0] = np.sum((y==0) & (y_pred == 1))\n",
    "z[1][1] = np.sum((y==0) & (y_pred == 0))\n",
    "\n",
    "print(z)"
   ]
  },
  {
   "cell_type": "code",
   "execution_count": null,
   "id": "b25e6a6b",
   "metadata": {},
   "outputs": [],
   "source": []
  },
  {
   "cell_type": "code",
   "execution_count": null,
   "id": "4cc07b5e",
   "metadata": {},
   "outputs": [],
   "source": []
  },
  {
   "cell_type": "code",
   "execution_count": 13,
   "id": "0ffacef8",
   "metadata": {},
   "outputs": [
    {
     "data": {
      "text/plain": [
       "array([0, 0, 0, 0, 0, 0, 0, 0, 0, 0, 0, 0, 0, 0, 0, 0, 0, 0, 0, 0, 0, 0,\n",
       "       0, 0, 0, 0, 0, 0, 0, 0, 0, 0, 0, 0, 0, 0, 0, 0, 0, 0, 0, 0, 0, 0,\n",
       "       0, 0, 0, 0, 0, 0, 1, 1, 1, 1, 1, 1, 1, 1, 1, 1])"
      ]
     },
     "execution_count": 13,
     "metadata": {},
     "output_type": "execute_result"
    }
   ],
   "source": [
    "y"
   ]
  },
  {
   "cell_type": "code",
   "execution_count": 14,
   "id": "227f5a6a",
   "metadata": {},
   "outputs": [
    {
     "data": {
      "text/plain": [
       "array([0, 0, 0, 0, 0, 0, 0, 0, 0, 0, 0, 0, 0, 0, 0, 0, 0, 0, 0, 0, 0, 0,\n",
       "       0, 0, 0, 0, 0, 0, 0, 0, 0, 0, 0, 0, 0, 0, 0, 0, 0, 0, 0, 0, 0, 0,\n",
       "       0, 0, 0, 0, 0, 0, 1, 1, 1, 1, 1, 1, 1, 1, 1, 1])"
      ]
     },
     "execution_count": 14,
     "metadata": {},
     "output_type": "execute_result"
    }
   ],
   "source": [
    "y_pred"
   ]
  },
  {
   "cell_type": "code",
   "execution_count": 26,
   "id": "d226a72a",
   "metadata": {},
   "outputs": [
    {
     "data": {
      "text/plain": [
       "10"
      ]
     },
     "execution_count": 26,
     "metadata": {},
     "output_type": "execute_result"
    }
   ],
   "source": [
    "np.sum((y==1) & (y_pred==1))"
   ]
  },
  {
   "cell_type": "code",
   "execution_count": null,
   "id": "13b68859",
   "metadata": {},
   "outputs": [],
   "source": []
  }
 ],
 "metadata": {
  "kernelspec": {
   "display_name": "Python 3 (ipykernel)",
   "language": "python",
   "name": "python3"
  },
  "language_info": {
   "codemirror_mode": {
    "name": "ipython",
    "version": 3
   },
   "file_extension": ".py",
   "mimetype": "text/x-python",
   "name": "python",
   "nbconvert_exporter": "python",
   "pygments_lexer": "ipython3",
   "version": "3.10.0"
  }
 },
 "nbformat": 4,
 "nbformat_minor": 5
}
