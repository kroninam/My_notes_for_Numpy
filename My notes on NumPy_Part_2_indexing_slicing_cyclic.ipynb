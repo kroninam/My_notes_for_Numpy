{
 "cells": [
  {
   "cell_type": "code",
   "execution_count": 2,
   "id": "fe3720d9",
   "metadata": {},
   "outputs": [],
   "source": [
    "import numpy as np"
   ]
  },
  {
   "cell_type": "markdown",
   "id": "4b586854",
   "metadata": {},
   "source": [
    "# Индексы в двумерных массивах"
   ]
  },
  {
   "cell_type": "code",
   "execution_count": 3,
   "id": "5882b281",
   "metadata": {},
   "outputs": [
    {
     "name": "stdout",
     "output_type": "stream",
     "text": [
      "6\n",
      "[4 5 6 7]\n"
     ]
    }
   ],
   "source": [
    "\n",
    "# Предположим, мы имеем двумерный массив:\n",
    "\n",
    "a = np.array([[ 0,  1,  2,  3],\n",
    "              [ 4,  5,  6,  7],\n",
    "              [ 8,  9, 10, 11],\n",
    "              [12, 13, 14, 15],\n",
    "              [16, 17, 18, 19]])\n",
    "# В этом массиве 5 строк и 4 столбца, при этом строки имеют свои индексы, а столбцы - свои.\n",
    "\n",
    "# Чтобы получить элемент в таком массиве, мы должны через запятую указать номер строки и столбца\n",
    "\n",
    "print(a[1, 2]) # выведет 6\n",
    "# Если укажем только одно число, то получим строку\n",
    "\n",
    "print(a[1]) # выведет [ 4,  5,  6,  7]"
   ]
  },
  {
   "cell_type": "code",
   "execution_count": 4,
   "id": "88de5d28",
   "metadata": {},
   "outputs": [
    {
     "data": {
      "text/plain": [
       "5"
      ]
     },
     "execution_count": 4,
     "metadata": {},
     "output_type": "execute_result"
    }
   ],
   "source": [
    "a.shape[0]"
   ]
  },
  {
   "cell_type": "code",
   "execution_count": 4,
   "id": "06fdf2af",
   "metadata": {},
   "outputs": [
    {
     "data": {
      "text/plain": [
       "4"
      ]
     },
     "execution_count": 4,
     "metadata": {},
     "output_type": "execute_result"
    }
   ],
   "source": [
    "a.shape[1]"
   ]
  },
  {
   "cell_type": "code",
   "execution_count": null,
   "id": "13dac0fa",
   "metadata": {},
   "outputs": [],
   "source": []
  },
  {
   "cell_type": "code",
   "execution_count": 4,
   "id": "dc4c1dbc",
   "metadata": {},
   "outputs": [
    {
     "name": "stdout",
     "output_type": "stream",
     "text": [
      "[[3 3 3 3]\n",
      " [0 1 2 3]]\n"
     ]
    }
   ],
   "source": [
    "# По индексу можно не только извлекать элементы, но и изменять\n",
    "\n",
    "# 1. Один элемент\n",
    "\n",
    "a = np.array([[ 0, 1, 2, 3],\n",
    "              [ 4, 5, 6, 7],\n",
    "              [ 8, 9, 10, 11],\n",
    "              [12, 13, 14, 15],\n",
    "              [16, 17, 18, 19]])\n",
    "\n",
    "# Можно указать, например, следующее\n",
    "\n",
    "a[0, 0] = 3\n",
    "\n",
    "# Тогда в массиве появится тройка\n",
    "\n",
    "a = np.array([[ 3, 1, 2, 3],\n",
    "              [ 4, 5, 6, 7],\n",
    "              [ 8, 9, 10, 11],\n",
    "              [12, 13, 14, 15],\n",
    "              [16, 17, 18, 19]])\n",
    "\n",
    "# 2. Замена строки. Способ 1\n",
    "\n",
    "# Можно изменить значение целой строки\n",
    "\n",
    "a[1] = [40, 50, 50, 70]\n",
    "\n",
    "# Получится\n",
    "\n",
    "a = np.array([[ 0, 1, 2, 3],\n",
    "              [40, 50, 50, 70],\n",
    "              [ 8, 9, 10, 11],\n",
    "              [12, 13, 14, 15],\n",
    "              [16, 17, 18, 19]])\n",
    "\n",
    "# 3. Замена строки. Способ 2\n",
    "\n",
    "# Если строке присвоить число, то все ее элементы станут равными этому числу\n",
    "\n",
    "a = np.array([[0, 1, 2, 3], [0, 1, 2, 3]])\n",
    "a[0] = 3\n",
    "\n",
    "print(a) \n",
    "# [[3 3 3 3], \n",
    "#  [0 1 2 3]]\n",
    "\n",
    "# 4. Поменять местами элементы\n",
    "\n",
    "a[0, 0], a[0, 1] = a[0, 1], a[0, 0]\n",
    "\n",
    "# Тогда увидим\n",
    "\n",
    "# a = array([[ 1,  0,  2,  3],\n",
    "#            [ 4,  5,  6,  7],\n",
    "#            [ 8,  9, 10, 11],\n",
    "#            [12, 13, 14, 15],\n",
    "#            [16, 17, 18, 19]])"
   ]
  },
  {
   "cell_type": "code",
   "execution_count": null,
   "id": "96c03087",
   "metadata": {},
   "outputs": [],
   "source": []
  },
  {
   "cell_type": "markdown",
   "id": "1ef5643c",
   "metadata": {},
   "source": [
    "# Срезы "
   ]
  },
  {
   "cell_type": "code",
   "execution_count": 6,
   "id": "4ac0efc5",
   "metadata": {},
   "outputs": [
    {
     "name": "stdout",
     "output_type": "stream",
     "text": [
      "[ 5  3 -2]\n",
      "[-2  3  6 -1  8]\n",
      "[ 5  3 -2  3  6 -1  8]\n"
     ]
    }
   ],
   "source": [
    "# 1. Начало или конец среза можно не указывать, а просто поставить двоеточие. Тогда срез начнется с начала и до конца\n",
    "\n",
    "data = np.array([ 5, 3, -2, 3, 6, -1, 8])\n",
    "\n",
    "print(data[:3]) # аналогично data[0:3]\n",
    "print(data[2:]) # аналогично data[2:data.shape[0] - 1]\n",
    "print(data[:])  # бессмысленный срез от начала до конца "
   ]
  },
  {
   "cell_type": "code",
   "execution_count": 8,
   "id": "fe552e5f",
   "metadata": {},
   "outputs": [
    {
     "name": "stdout",
     "output_type": "stream",
     "text": [
      "[5]\n",
      "[-2]\n",
      "[ 5  3 -2  3  6 -1  8]\n"
     ]
    }
   ],
   "source": [
    "# 2. Иногда срезы могут возвращать одно число (как и индексы), но это число всегда будет нулевым элементом нового массива\n",
    "\n",
    "data = np.array([ 5, 3, -2, 3, 6, -1, 8])\n",
    "\n",
    "print(data[:1]) # [5]\n",
    "print(data[2:3]) # [-2]\n",
    "print(data)"
   ]
  },
  {
   "cell_type": "code",
   "execution_count": 9,
   "id": "54eff95e",
   "metadata": {},
   "outputs": [
    {
     "name": "stdout",
     "output_type": "stream",
     "text": [
      "[ 8 -1  6  3 -2  3  5]\n"
     ]
    }
   ],
   "source": [
    "# 3. Еще есть интересное применение у среза - переворачивать массивы. \n",
    "# Это делается с помощью среза с обратным шагом. Этот прием довольно часто применяется\n",
    "\n",
    "data = np.array([ 5, 3, -2, 3, 6, -1, 8])\n",
    "\n",
    "print(data[::-1]) # [ 8 -1  6  3 -2  3  5]"
   ]
  },
  {
   "cell_type": "code",
   "execution_count": null,
   "id": "f81ed32e",
   "metadata": {},
   "outputs": [],
   "source": [
    "# Срезы в двумерных массивах"
   ]
  },
  {
   "cell_type": "code",
   "execution_count": 11,
   "id": "8896e3c1",
   "metadata": {},
   "outputs": [
    {
     "name": "stdout",
     "output_type": "stream",
     "text": [
      "[[ 5  3 -2]\n",
      " [ 3  6 -1]\n",
      " [ 8  4  2]]\n"
     ]
    }
   ],
   "source": [
    "# Если мы работаем с двумерном массивом, то при использовании таких же срезов, как в примере выше, получим срез строк\n",
    "\n",
    "data = np.array([[5, 3, -2], \n",
    "                 [3, 6, -1], \n",
    "                 [8, 4,  2], \n",
    "                 [9, 1,  6]])\n",
    "\n",
    "print(data[0:3])"
   ]
  },
  {
   "cell_type": "code",
   "execution_count": 13,
   "id": "97b3be48",
   "metadata": {},
   "outputs": [
    {
     "name": "stdout",
     "output_type": "stream",
     "text": [
      "[[ 3 -2]\n",
      " [ 6 -1]\n",
      " [ 4  2]\n",
      " [ 1  6]]\n"
     ]
    }
   ],
   "source": [
    "# Если мы хотим получить, например, столбцы, начиная с \n",
    "# первого, то нужно сначала указать срез для строк - поставим просто \n",
    "# двоеточие (то есть извлечем все строки), затем через запятую уточним, какие нас интересуют столбцы \n",
    "\n",
    "data = np.array([[5, 3, -2], \n",
    "                 [3, 6, -1], \n",
    "                 [8, 4,  2], \n",
    "                 [9, 1,  6]])\n",
    "\n",
    "print(data[:, 1:])"
   ]
  },
  {
   "cell_type": "code",
   "execution_count": 16,
   "id": "2c5d7b04",
   "metadata": {},
   "outputs": [
    {
     "name": "stdout",
     "output_type": "stream",
     "text": [
      "[-2 -1  2  6]\n"
     ]
    }
   ],
   "source": [
    "print(data[:,2])"
   ]
  },
  {
   "cell_type": "code",
   "execution_count": 17,
   "id": "f20edcd5",
   "metadata": {},
   "outputs": [],
   "source": [
    "# Можно комбинировать срезы по строкам со срезами по столбцам\n",
    "\n",
    "data = np.array([[5, 3, -2], \n",
    "                 [3, 6, -1], \n",
    "                 [8, 4,  2], \n",
    "                 [9, 1,  6]])"
   ]
  },
  {
   "cell_type": "code",
   "execution_count": 19,
   "id": "1b0b137c",
   "metadata": {},
   "outputs": [
    {
     "data": {
      "text/plain": [
       "array([[5, 3],\n",
       "       [3, 6],\n",
       "       [8, 4]])"
      ]
     },
     "execution_count": 19,
     "metadata": {},
     "output_type": "execute_result"
    }
   ],
   "source": [
    "data[:3, 0:2 ]"
   ]
  },
  {
   "cell_type": "code",
   "execution_count": 20,
   "id": "6a2a23cd",
   "metadata": {},
   "outputs": [],
   "source": [
    "# Также можно комбинировать индексацию и срезы. \n",
    "# Этот прием позволяет извлечь один столбец. \n",
    "# Технически, нам нужно взять срез всех строк, а затем указать желаемый столбец\n",
    "\n",
    "data = np.array([[5, 3, -2], \n",
    "                 [3, 6, -1], \n",
    "                 [8, 4,  2], \n",
    "                 [9, 1,  6]])"
   ]
  },
  {
   "cell_type": "code",
   "execution_count": 21,
   "id": "ec59b240",
   "metadata": {},
   "outputs": [
    {
     "data": {
      "text/plain": [
       "array([-2, -1,  2,  6])"
      ]
     },
     "execution_count": 21,
     "metadata": {},
     "output_type": "execute_result"
    }
   ],
   "source": [
    "data[:, 2]"
   ]
  },
  {
   "cell_type": "code",
   "execution_count": 31,
   "id": "23b6448e",
   "metadata": {},
   "outputs": [],
   "source": [
    "# Изменение элементов по срезу\n",
    "# Массивы можно изменять по срезу, как и в случае с индексами\n",
    "\n",
    "# Пример\n",
    "# Извлечем из строки с индексом 1 два последних\n",
    "# элемента и укажем, что теперь они равняются [3, 7]. \n",
    "# В результате вместо [6, -1] теперь видим в массиве [3, 7].\n",
    "\n",
    "data = np.array([[5, 3, -2], \n",
    "                 [3, 6, -1], \n",
    "                 [8, 4,  2], \n",
    "                 [9, 1,  6]])\n",
    "# print(data[1, 1:])\n",
    "data[1, 1:] = [3,7]"
   ]
  },
  {
   "cell_type": "code",
   "execution_count": null,
   "id": "d269926b",
   "metadata": {},
   "outputs": [],
   "source": []
  },
  {
   "cell_type": "code",
   "execution_count": null,
   "id": "e3e9f58c",
   "metadata": {},
   "outputs": [],
   "source": [
    "Задача 1\n",
    "С помощью np.arange() cгенерируйте \n",
    "одномерный массив целых чисел от -3 до 9 включительно. \n",
    "Выведите срез с начала массива до середины. \n",
    "Середина одномерного массива вычисляется как arr.shape[0] // 2"
   ]
  },
  {
   "cell_type": "code",
   "execution_count": 32,
   "id": "0c9b1104",
   "metadata": {},
   "outputs": [],
   "source": [
    "arr = np.arange(-3, 10)"
   ]
  },
  {
   "cell_type": "code",
   "execution_count": 38,
   "id": "569dc926",
   "metadata": {},
   "outputs": [
    {
     "name": "stdout",
     "output_type": "stream",
     "text": [
      "[-3 -2 -1  0  1  2  3  4  5  6  7  8  9]\n",
      "13\n",
      "6\n",
      "[-3 -2 -1  0  1  2  3]\n"
     ]
    }
   ],
   "source": [
    "print(arr)\n",
    "print(len(arr))\n",
    "print(len(arr)//2)\n",
    "print(arr[:len(arr)//2+1])"
   ]
  },
  {
   "cell_type": "code",
   "execution_count": null,
   "id": "e12b09b4",
   "metadata": {},
   "outputs": [],
   "source": [
    "Задача 2\n",
    "Cгенерируете двумерный массив размерностью n строк \n",
    "и m столбцов с последовательностью от 0 до n*m-1. \n",
    "Выведите все его строки, кроме первой и последней"
   ]
  },
  {
   "cell_type": "code",
   "execution_count": 50,
   "id": "d989fe7d",
   "metadata": {},
   "outputs": [
    {
     "name": "stdout",
     "output_type": "stream",
     "text": [
      "5 5\n",
      "[[ 0  1  2  3  4]\n",
      " [ 5  6  7  8  9]\n",
      " [10 11 12 13 14]\n",
      " [15 16 17 18 19]\n",
      " [20 21 22 23 24]]\n",
      "\n",
      "[[ 5  6  7  8  9]\n",
      " [10 11 12 13 14]\n",
      " [15 16 17 18 19]]\n"
     ]
    }
   ],
   "source": [
    "n,m = map(int,input().split())\n",
    "arr = np.arange(0, n*m).reshape(n, m)\n",
    "print(arr)\n",
    "print()\n",
    "print(arr[1:-1])"
   ]
  },
  {
   "cell_type": "code",
   "execution_count": null,
   "id": "fb1d3fde",
   "metadata": {},
   "outputs": [],
   "source": []
  },
  {
   "cell_type": "markdown",
   "id": "3f5fa0dc",
   "metadata": {},
   "source": [
    "# Массивы-индексы\n",
    "\n",
    "Массивы-индексы - это способ извлечь один или несколько элементов, расположенные в хаотичном порядке"
   ]
  },
  {
   "cell_type": "code",
   "execution_count": 53,
   "id": "e9b532f8",
   "metadata": {},
   "outputs": [
    {
     "name": "stdout",
     "output_type": "stream",
     "text": [
      "[6 3 8]\n"
     ]
    }
   ],
   "source": [
    "# Примеры\n",
    "a = np.array([6, 4, 3, 8, 9])\n",
    "index = np.array([0, 2, 3])\n",
    "print(a[index]) # [6 3 8]"
   ]
  },
  {
   "cell_type": "code",
   "execution_count": 56,
   "id": "7ee3a1ac",
   "metadata": {},
   "outputs": [
    {
     "name": "stdout",
     "output_type": "stream",
     "text": [
      "[3]\n"
     ]
    }
   ],
   "source": [
    "# Извлечение одного элемента возвращает массив\n",
    "\n",
    "a = np.array([6, 4, 3, 8, 9])\n",
    "index = np.array([-3])\n",
    "print(a[index]) # [3]"
   ]
  },
  {
   "cell_type": "code",
   "execution_count": 58,
   "id": "34e11768",
   "metadata": {},
   "outputs": [
    {
     "ename": "IndexError",
     "evalue": "arrays used as indices must be of integer (or boolean) type",
     "output_type": "error",
     "traceback": [
      "\u001b[1;31m---------------------------------------------------------------------------\u001b[0m",
      "\u001b[1;31mIndexError\u001b[0m                                Traceback (most recent call last)",
      "Cell \u001b[1;32mIn[58], line 5\u001b[0m\n\u001b[0;32m      3\u001b[0m a \u001b[38;5;241m=\u001b[39m np\u001b[38;5;241m.\u001b[39marray([\u001b[38;5;241m6\u001b[39m, \u001b[38;5;241m4\u001b[39m, \u001b[38;5;241m3\u001b[39m, \u001b[38;5;241m8\u001b[39m, \u001b[38;5;241m9\u001b[39m])\n\u001b[0;32m      4\u001b[0m index \u001b[38;5;241m=\u001b[39m np\u001b[38;5;241m.\u001b[39marray([])\n\u001b[1;32m----> 5\u001b[0m \u001b[38;5;28mprint\u001b[39m(\u001b[43ma\u001b[49m\u001b[43m[\u001b[49m\u001b[43mindex\u001b[49m\u001b[43m]\u001b[49m) \u001b[38;5;66;03m# IndexError!\u001b[39;00m\n",
      "\u001b[1;31mIndexError\u001b[0m: arrays used as indices must be of integer (or boolean) type"
     ]
    }
   ],
   "source": [
    "# Массив индексов не может быть пустым, мы получим ошибку\n",
    "\n",
    "a = np.array([6, 4, 3, 8, 9])\n",
    "index = np.array([])\n",
    "print(a[index]) # IndexError!"
   ]
  },
  {
   "cell_type": "markdown",
   "id": "d4f4bad7",
   "metadata": {},
   "source": [
    "# Двумерный случай\n",
    "Для индексации двумерных массивов нужно создавать два массива-индекса и передавать их через запятую. Тогда первый массив будет отвечать за индексы строк, а второй - за индексы столбцов. При этом размерности массивов должны либо совпадать, либо один из массивов должен быть одномерным массивом или числом\n",
    "\n",
    "#Exploring Fancy Indexing"
   ]
  },
  {
   "cell_type": "code",
   "execution_count": 61,
   "id": "34ae523e",
   "metadata": {},
   "outputs": [],
   "source": [
    "a = np.array([[1,2,3], [4,5,6], [7,8,9]])"
   ]
  },
  {
   "cell_type": "code",
   "execution_count": 62,
   "id": "044faa11",
   "metadata": {},
   "outputs": [
    {
     "data": {
      "text/plain": [
       "array([[1, 2, 3],\n",
       "       [4, 5, 6],\n",
       "       [7, 8, 9]])"
      ]
     },
     "execution_count": 62,
     "metadata": {},
     "output_type": "execute_result"
    }
   ],
   "source": [
    "a"
   ]
  },
  {
   "cell_type": "code",
   "execution_count": 71,
   "id": "876f80a4",
   "metadata": {},
   "outputs": [
    {
     "data": {
      "text/plain": [
       "array([1, 5])"
      ]
     },
     "execution_count": 71,
     "metadata": {},
     "output_type": "execute_result"
    }
   ],
   "source": [
    "index_row = np.array([0,1])\n",
    "index_columns = np.array([0,1])\n",
    "a[index_row, index_columns]"
   ]
  },
  {
   "cell_type": "code",
   "execution_count": 73,
   "id": "d857804e",
   "metadata": {},
   "outputs": [
    {
     "data": {
      "text/plain": [
       "array([1, 2, 4, 5])"
      ]
     },
     "execution_count": 73,
     "metadata": {},
     "output_type": "execute_result"
    }
   ],
   "source": [
    "a[[0, 0, 1, 1], [0, 1, 0, 1]]"
   ]
  },
  {
   "cell_type": "code",
   "execution_count": null,
   "id": "fac4c184",
   "metadata": {},
   "outputs": [],
   "source": []
  },
  {
   "cell_type": "code",
   "execution_count": null,
   "id": "17f6409a",
   "metadata": {},
   "outputs": [],
   "source": []
  },
  {
   "cell_type": "code",
   "execution_count": null,
   "id": "7c576701",
   "metadata": {},
   "outputs": [],
   "source": [
    "# Пример\n",
    "# 1. Два одномерных массива\n",
    "\n",
    "data = np.array([[5, 3, -2], \n",
    "                 [3, 6, -1], \n",
    "                 [8, 4,  2], \n",
    "                 [9, 1,  6]])\n",
    "\n",
    "row_index = np.array([0, 2, -1, 1])\n",
    "col_index = np.array([1, 2, 2, 1])\n",
    "print(data[row_index, col_index]) # [3 2 6 6]"
   ]
  },
  {
   "cell_type": "code",
   "execution_count": null,
   "id": "1d3fb47f",
   "metadata": {},
   "outputs": [],
   "source": [
    "# 2. Массив + одномерный массив\n",
    "\n",
    "data = np.array([[5, 3, -2], \n",
    "                 [3, 6, -1], \n",
    "                 [8, 4,  2], \n",
    "                 [9, 1,  6]])\n",
    "\n",
    "row_index = np.array([0, 2, -1, 1])\n",
    "col_index = np.array([1])\n",
    "print(data[row_index, col_index]) # [3 4 1 6]"
   ]
  },
  {
   "cell_type": "code",
   "execution_count": 74,
   "id": "40d2d59e",
   "metadata": {},
   "outputs": [],
   "source": [
    "data = np.array([[5, 3, -2], \n",
    "                 [3, 6, -1], \n",
    "                 [8, 4,  2], \n",
    "                 [9, 1,  6]])"
   ]
  },
  {
   "cell_type": "code",
   "execution_count": 76,
   "id": "265ea0c1",
   "metadata": {},
   "outputs": [
    {
     "data": {
      "text/plain": [
       "array([5, 9])"
      ]
     },
     "execution_count": 76,
     "metadata": {},
     "output_type": "execute_result"
    }
   ],
   "source": [
    "data[[0, -1],[0]]"
   ]
  },
  {
   "cell_type": "code",
   "execution_count": 77,
   "id": "f19ef223",
   "metadata": {},
   "outputs": [
    {
     "name": "stdout",
     "output_type": "stream",
     "text": [
      "[3 4 1 6]\n"
     ]
    }
   ],
   "source": [
    "# 3. Массив + число \n",
    "\n",
    "# То же самое, что массив + одномерный массив\n",
    "\n",
    "data = np.array([[5, 3, -2], \n",
    "                 [3, 6, -1], \n",
    "                 [8, 4,  2], \n",
    "                 [9, 1,  6]])\n",
    "\n",
    "row_index = np.array([0, 2, -1, 1])\n",
    "col_index = 1\n",
    "print(data[row_index, col_index]) # [3 4 1 6]"
   ]
  },
  {
   "cell_type": "code",
   "execution_count": 78,
   "id": "29be491d",
   "metadata": {},
   "outputs": [
    {
     "data": {
      "text/plain": [
       "array([3, 8, 9])"
      ]
     },
     "execution_count": 78,
     "metadata": {},
     "output_type": "execute_result"
    }
   ],
   "source": [
    "data[[1,2,3], 0]"
   ]
  },
  {
   "cell_type": "code",
   "execution_count": null,
   "id": "62271ffa",
   "metadata": {},
   "outputs": [],
   "source": [
    "# 4. Комбинация массива-индекса и среза \n",
    "\n",
    "data = np.array([[5, 3, -2], \n",
    "                 [3, 6, -1], \n",
    "                 [8, 4,  2], \n",
    "                 [9, 1,  6]])\n",
    "\n",
    "row_index = np.array([0, 2])\n",
    "print(data[row_index, :2]) \n",
    "\n",
    "#[[5 3]\n",
    "# [8 4]]"
   ]
  },
  {
   "cell_type": "code",
   "execution_count": null,
   "id": "505b56c2",
   "metadata": {},
   "outputs": [],
   "source": [
    "# Задача\n",
    "# Дан двумерный массив. Выведите элементы из 5, 2, и последнего столбца"
   ]
  },
  {
   "cell_type": "code",
   "execution_count": 79,
   "id": "ea99ac5a",
   "metadata": {},
   "outputs": [],
   "source": [
    "arr = np.array([[ 7,  8,  9, 10, 11, 12, 13],\n",
    "                [14, 15, 16, 17, 18, 19, 20],\n",
    "                [21, 22, 23, 24, 25, 26, 27],\n",
    "                [28, 29, 30, 31, 32, 33, 34]])"
   ]
  },
  {
   "cell_type": "code",
   "execution_count": 80,
   "id": "91fe0fcd",
   "metadata": {},
   "outputs": [
    {
     "data": {
      "text/plain": [
       "array([[ 7,  8,  9, 10, 11, 12, 13],\n",
       "       [14, 15, 16, 17, 18, 19, 20],\n",
       "       [21, 22, 23, 24, 25, 26, 27],\n",
       "       [28, 29, 30, 31, 32, 33, 34]])"
      ]
     },
     "execution_count": 80,
     "metadata": {},
     "output_type": "execute_result"
    }
   ],
   "source": [
    "arr"
   ]
  },
  {
   "cell_type": "code",
   "execution_count": 87,
   "id": "9ab0fe98",
   "metadata": {},
   "outputs": [
    {
     "data": {
      "text/plain": [
       "array([[12,  9, 13],\n",
       "       [19, 16, 20],\n",
       "       [26, 23, 27],\n",
       "       [33, 30, 34]])"
      ]
     },
     "execution_count": 87,
     "metadata": {},
     "output_type": "execute_result"
    }
   ],
   "source": [
    "arr[:, [5, 2, -1]] # здесь важно, что первый индекс-срез без квадратных скобок"
   ]
  },
  {
   "cell_type": "code",
   "execution_count": null,
   "id": "9970eca5",
   "metadata": {},
   "outputs": [],
   "source": []
  },
  {
   "cell_type": "markdown",
   "id": "64f2bf32",
   "metadata": {},
   "source": [
    "# Циклы"
   ]
  },
  {
   "cell_type": "markdown",
   "id": "1a994c08",
   "metadata": {},
   "source": [
    "# 1. Цикл по индексам"
   ]
  },
  {
   "cell_type": "code",
   "execution_count": 90,
   "id": "f19a901c",
   "metadata": {},
   "outputs": [],
   "source": [
    "arr = np.array([[ 7,  8,  9, 10, 11, 12, 13],\n",
    "                [14, 15, 16, 17, 18, 19, 20],\n",
    "                [21, 22, 23, 24, 25, 26, 27],\n",
    "                [28, 29, 30, 31, 32, 33, 34]])"
   ]
  },
  {
   "cell_type": "code",
   "execution_count": 91,
   "id": "17d39cd8",
   "metadata": {},
   "outputs": [
    {
     "data": {
      "text/plain": [
       "array([[ 7,  8,  9, 10, 11, 12, 13],\n",
       "       [14, 15, 16, 17, 18, 19, 20],\n",
       "       [21, 22, 23, 24, 25, 26, 27],\n",
       "       [28, 29, 30, 31, 32, 33, 34]])"
      ]
     },
     "execution_count": 91,
     "metadata": {},
     "output_type": "execute_result"
    }
   ],
   "source": [
    "arr"
   ]
  },
  {
   "cell_type": "code",
   "execution_count": 92,
   "id": "ec052b39",
   "metadata": {},
   "outputs": [
    {
     "data": {
      "text/plain": [
       "(4, 7)"
      ]
     },
     "execution_count": 92,
     "metadata": {},
     "output_type": "execute_result"
    }
   ],
   "source": [
    "arr.shape"
   ]
  },
  {
   "cell_type": "code",
   "execution_count": 93,
   "id": "030e5b33",
   "metadata": {},
   "outputs": [
    {
     "data": {
      "text/plain": [
       "4"
      ]
     },
     "execution_count": 93,
     "metadata": {},
     "output_type": "execute_result"
    }
   ],
   "source": [
    "arr.shape[0]"
   ]
  },
  {
   "cell_type": "code",
   "execution_count": 94,
   "id": "2c5a7950",
   "metadata": {},
   "outputs": [
    {
     "data": {
      "text/plain": [
       "7"
      ]
     },
     "execution_count": 94,
     "metadata": {},
     "output_type": "execute_result"
    }
   ],
   "source": [
    "arr.shape[1]"
   ]
  },
  {
   "cell_type": "code",
   "execution_count": 97,
   "id": "7c2a5880",
   "metadata": {},
   "outputs": [],
   "source": [
    "arr = np.random.randint(0,100, size=5)"
   ]
  },
  {
   "cell_type": "code",
   "execution_count": 98,
   "id": "db7c3b02",
   "metadata": {},
   "outputs": [
    {
     "data": {
      "text/plain": [
       "array([83, 29, 98, 38, 85])"
      ]
     },
     "execution_count": 98,
     "metadata": {},
     "output_type": "execute_result"
    }
   ],
   "source": [
    "arr"
   ]
  },
  {
   "cell_type": "code",
   "execution_count": 99,
   "id": "5fd87ddc",
   "metadata": {},
   "outputs": [
    {
     "name": "stdout",
     "output_type": "stream",
     "text": [
      "Индекс: 0,  значение: 83\n",
      "Индекс: 1,  значение: 29\n",
      "Индекс: 2,  значение: 98\n",
      "Индекс: 3,  значение: 38\n",
      "Индекс: 4,  значение: 85\n"
     ]
    }
   ],
   "source": [
    "for i in range(arr.shape[0]):\n",
    "    print(f'Индекс: {i},  значение: {arr[i]}') # вывод элемента по индексу"
   ]
  },
  {
   "cell_type": "code",
   "execution_count": 100,
   "id": "22c31bea",
   "metadata": {},
   "outputs": [
    {
     "name": "stdout",
     "output_type": "stream",
     "text": [
      "[84 30 99 39 86]\n"
     ]
    }
   ],
   "source": [
    "# Этот цикл позволяет изменять элементы, то есть можно написать следущее. \n",
    "\n",
    "for i in range(arr.shape[0]):\n",
    "    arr[i] = arr[i] + 1 # изменение элемента по индексу\n",
    "\n",
    "print(arr)\n",
    "# Идея очень похожа на цикл, который часто используется со списками \n",
    "# for i in range(len(lst)), только вместо len(lst) у массива будет arr.shape[0]"
   ]
  },
  {
   "cell_type": "markdown",
   "id": "dbcf4a8e",
   "metadata": {},
   "source": [
    "# 2. Цикл по элементам\n",
    "Позволяет обращаться к элементам напрямую, без индексов и квадратных скобок\n",
    "Мы пишем этот цикл без range(), поскольку этом цикле множеством является элемент массива\n",
    "Для получения значений не нужно (и даже нельзя) обращаться по индексу"
   ]
  },
  {
   "cell_type": "code",
   "execution_count": null,
   "id": "81a028cc",
   "metadata": {},
   "outputs": [],
   "source": [
    "Пример\n",
    "arr = np.array([2, 6, 6, 7, 1, 3])\n",
    "Тогда цикл по элементам выглядит вот так. Назовем параметр цикла item, чтобы подчеркнуть, что он не является числом\n",
    "\n",
    "for item in arr:\n",
    "    print(item) # вывод элемента\n",
    "\n",
    "# 2\n",
    "# 6\n",
    "# 6\n",
    "# 7\n",
    "# 1\n",
    "# 3\n",
    "Осторожно! Использование этого типа итерации не позволяет изменять элемент. Посмотрим пример\n",
    "\n",
    "Попробуем увеличивать элемент на 1. Внутри цикла вроде бы все хорошо\n",
    "\n",
    "for item in arr:\n",
    "    item = item + 1\n",
    "    print(item) # вывод элемента\n",
    "\n",
    "# 3\n",
    "# 7\n",
    "# 7\n",
    "# 8\n",
    "# 2\n",
    "# 4\n",
    "Однако мы увидим, что массив не изменился, если напишем print за пределами цикла\n",
    "\n",
    "for item in arr:\n",
    "    item = item + 1\n",
    "\n",
    "print(arr) # [2 6 6 7 1 3]\n",
    "Не используйте цикл по элементам для изменения значений массива "
   ]
  },
  {
   "cell_type": "markdown",
   "id": "00b166ae",
   "metadata": {},
   "source": [
    "# 3. Цикл по элементам и индексам (нумерованный)"
   ]
  },
  {
   "cell_type": "code",
   "execution_count": 101,
   "id": "166c87f9",
   "metadata": {},
   "outputs": [
    {
     "name": "stdout",
     "output_type": "stream",
     "text": [
      "Индекс: 0,  значение: 2\n",
      "Индекс: 1,  значение: 6\n",
      "Индекс: 2,  значение: 6\n",
      "Индекс: 3,  значение: 7\n",
      "Индекс: 4,  значение: 1\n",
      "Индекс: 5,  значение: 3\n"
     ]
    }
   ],
   "source": [
    "# Объединяет все достоинства циклов по индексам и по элементам\n",
    "\n",
    "# можно изменять элементы массива\n",
    "# можно обращаться к значениям напрямую\n",
    "# Пример\n",
    "arr = np.array([2, 6, 6, 7, 1, 3])\n",
    "\n",
    "\n",
    "#  Записывается нумерованный цикл с помощью функции enumerate()\n",
    "\n",
    "for index, item in enumerate(arr):\n",
    "    print(f'Индекс: {index},  значение: {item}') # вывод индекса и элемента"
   ]
  },
  {
   "cell_type": "code",
   "execution_count": 102,
   "id": "af94be9a",
   "metadata": {},
   "outputs": [
    {
     "data": {
      "text/plain": [
       "array([2, 6, 6, 7, 1, 3])"
      ]
     },
     "execution_count": 102,
     "metadata": {},
     "output_type": "execute_result"
    }
   ],
   "source": [
    "arr"
   ]
  },
  {
   "cell_type": "code",
   "execution_count": 103,
   "id": "8c3a4fb2",
   "metadata": {},
   "outputs": [
    {
     "ename": "TypeError",
     "evalue": "only integer scalar arrays can be converted to a scalar index",
     "output_type": "error",
     "traceback": [
      "\u001b[1;31m---------------------------------------------------------------------------\u001b[0m",
      "\u001b[1;31mTypeError\u001b[0m                                 Traceback (most recent call last)",
      "Cell \u001b[1;32mIn[103], line 1\u001b[0m\n\u001b[1;32m----> 1\u001b[0m \u001b[38;5;28;01mfor\u001b[39;00m i \u001b[38;5;129;01min\u001b[39;00m \u001b[38;5;28;43mrange\u001b[39;49m\u001b[43m(\u001b[49m\u001b[43marr\u001b[49m\u001b[43m)\u001b[49m:\n\u001b[0;32m      2\u001b[0m     \u001b[38;5;28mprint\u001b[39m(\u001b[38;5;124m'\u001b[39m\u001b[38;5;124mhello\u001b[39m\u001b[38;5;124m'\u001b[39m)\n",
      "\u001b[1;31mTypeError\u001b[0m: only integer scalar arrays can be converted to a scalar index"
     ]
    }
   ],
   "source": [
    "for i in range(arr):\n",
    "    print('hello')"
   ]
  },
  {
   "cell_type": "markdown",
   "id": "bb7c4d6f",
   "metadata": {},
   "source": [
    "# Задачи"
   ]
  },
  {
   "cell_type": "code",
   "execution_count": null,
   "id": "343c571b",
   "metadata": {},
   "outputs": [],
   "source": [
    "Задача №1\n",
    "Создайте двумерный массив единиц размерностью 5 х 3 с помощью np.ones(), \n",
    "домножьте элементы каждой строки на ее индекс, увеличенный на единицу и выведите получившуюся матрицу"
   ]
  },
  {
   "cell_type": "code",
   "execution_count": 12,
   "id": "b0d8daaf",
   "metadata": {},
   "outputs": [],
   "source": [
    "arr = np.ones([5,3])"
   ]
  },
  {
   "cell_type": "code",
   "execution_count": 106,
   "id": "e52a27dc",
   "metadata": {},
   "outputs": [
    {
     "data": {
      "text/plain": [
       "array([[1., 1., 1.],\n",
       "       [1., 1., 1.],\n",
       "       [1., 1., 1.],\n",
       "       [1., 1., 1.],\n",
       "       [1., 1., 1.]])"
      ]
     },
     "execution_count": 106,
     "metadata": {},
     "output_type": "execute_result"
    }
   ],
   "source": [
    "arr"
   ]
  },
  {
   "cell_type": "code",
   "execution_count": 114,
   "id": "741b325d",
   "metadata": {},
   "outputs": [],
   "source": [
    "for i, j in enumerate(arr):\n",
    "    arr[i] *=i+1\n",
    "    "
   ]
  },
  {
   "cell_type": "code",
   "execution_count": 115,
   "id": "34423744",
   "metadata": {},
   "outputs": [
    {
     "data": {
      "text/plain": [
       "array([[1., 1., 1.],\n",
       "       [2., 2., 2.],\n",
       "       [3., 3., 3.],\n",
       "       [4., 4., 4.],\n",
       "       [5., 5., 5.]])"
      ]
     },
     "execution_count": 115,
     "metadata": {},
     "output_type": "execute_result"
    }
   ],
   "source": [
    "arr"
   ]
  },
  {
   "cell_type": "code",
   "execution_count": 13,
   "id": "94ed642c",
   "metadata": {},
   "outputs": [
    {
     "name": "stdout",
     "output_type": "stream",
     "text": [
      "[[1. 1. 1.]\n",
      " [2. 2. 2.]\n",
      " [3. 3. 3.]\n",
      " [4. 4. 4.]\n",
      " [5. 5. 5.]]\n"
     ]
    }
   ],
   "source": [
    "#То же через arr.shape:\n",
    "for i in range(arr.shape[0]):\n",
    "    arr[i] *= i+1\n",
    "    \n",
    "print(arr)"
   ]
  },
  {
   "cell_type": "code",
   "execution_count": null,
   "id": "c4715857",
   "metadata": {},
   "outputs": [],
   "source": []
  },
  {
   "cell_type": "code",
   "execution_count": null,
   "id": "f45a6c65",
   "metadata": {},
   "outputs": [],
   "source": [
    "Задача №2\n",
    "Создайте двумерный массив нулей размерностью 4 х 3, \n",
    "увеличьте элементы каждого столбца на его индекс, умноженный на 3 и выведите получившуюся матрицу"
   ]
  },
  {
   "cell_type": "code",
   "execution_count": 14,
   "id": "90230633",
   "metadata": {},
   "outputs": [],
   "source": [
    "arr = np.zeros((4,3))"
   ]
  },
  {
   "cell_type": "code",
   "execution_count": null,
   "id": "20216adf",
   "metadata": {},
   "outputs": [],
   "source": []
  },
  {
   "cell_type": "code",
   "execution_count": 129,
   "id": "22ce7b94",
   "metadata": {},
   "outputs": [
    {
     "data": {
      "text/plain": [
       "array([[0., 0., 0.],\n",
       "       [0., 0., 0.],\n",
       "       [0., 0., 0.],\n",
       "       [0., 0., 0.]])"
      ]
     },
     "execution_count": 129,
     "metadata": {},
     "output_type": "execute_result"
    }
   ],
   "source": [
    "arr"
   ]
  },
  {
   "cell_type": "code",
   "execution_count": 135,
   "id": "4e0dcb13",
   "metadata": {},
   "outputs": [],
   "source": [
    "for j in range(arr.shape[1]):\n",
    "    arr[:, j] += j*3"
   ]
  },
  {
   "cell_type": "code",
   "execution_count": 136,
   "id": "0341dbad",
   "metadata": {},
   "outputs": [
    {
     "data": {
      "text/plain": [
       "array([[0., 3., 6.],\n",
       "       [0., 3., 6.],\n",
       "       [0., 3., 6.],\n",
       "       [0., 3., 6.]])"
      ]
     },
     "execution_count": 136,
     "metadata": {},
     "output_type": "execute_result"
    }
   ],
   "source": [
    "arr"
   ]
  },
  {
   "cell_type": "code",
   "execution_count": null,
   "id": "bc9175f1",
   "metadata": {},
   "outputs": [],
   "source": []
  },
  {
   "cell_type": "code",
   "execution_count": null,
   "id": "ef8d1859",
   "metadata": {},
   "outputs": [],
   "source": []
  },
  {
   "cell_type": "code",
   "execution_count": null,
   "id": "83036f5d",
   "metadata": {},
   "outputs": [],
   "source": [
    "Задача №3\n",
    "Вводится целое положительное число n, затем n целых чисел. Запишите эти числа в массив и выведите его.\n",
    "\n",
    "Примечание. В следующих уроках пригодится шаблон, который вы напишете в этом задании"
   ]
  },
  {
   "cell_type": "code",
   "execution_count": 28,
   "id": "f8bf9b39",
   "metadata": {
    "scrolled": true
   },
   "outputs": [
    {
     "name": "stdout",
     "output_type": "stream",
     "text": [
      "3\n",
      "1\n",
      "2\n",
      "3\n",
      "[1 2 3]\n"
     ]
    }
   ],
   "source": [
    "n = int(input())\n",
    "lst = []\n",
    "for i in range(n):\n",
    "    lst.append(int(input()))\n",
    "arr = np.array(lst)\n",
    "print(arr)    "
   ]
  },
  {
   "cell_type": "code",
   "execution_count": null,
   "id": "ec6e0975",
   "metadata": {},
   "outputs": [],
   "source": []
  },
  {
   "cell_type": "code",
   "execution_count": 147,
   "id": "3b3fbe7b",
   "metadata": {},
   "outputs": [
    {
     "name": "stdout",
     "output_type": "stream",
     "text": [
      "2\n",
      "1\n",
      "2\n",
      "[1. 2.]\n"
     ]
    }
   ],
   "source": [
    "# Правильное решение:\n",
    "\n",
    "n = int(input())\n",
    "arr = np.zeros(n, dtype = 'int32')\n",
    "for i in range(n):\n",
    "    arr[i] = int(input())\n",
    "\n",
    "print(arr)"
   ]
  },
  {
   "cell_type": "code",
   "execution_count": null,
   "id": "5c935365",
   "metadata": {},
   "outputs": [],
   "source": []
  },
  {
   "cell_type": "code",
   "execution_count": null,
   "id": "830225d5",
   "metadata": {},
   "outputs": [],
   "source": [
    "Задача №4\n",
    "Вводятся целые положительные числа n и m. \n",
    "Затем вводится целочисленный массив размерностью n*m. Считайте массив и выведите его. "
   ]
  },
  {
   "cell_type": "code",
   "execution_count": 158,
   "id": "f0a725c8",
   "metadata": {},
   "outputs": [
    {
     "name": "stdout",
     "output_type": "stream",
     "text": [
      "5\n",
      "6\n",
      "[[0 0 0 0 0 0]\n",
      " [0 0 0 0 0 0]\n",
      " [0 0 0 0 0 0]\n",
      " [0 0 0 0 0 0]\n",
      " [0 0 0 0 0 0]]\n",
      "1 2 3 4 5 6\n",
      "1 2 3 4 5 6\n",
      "1 2 3 4 5 6\n",
      "1 2 3 4 5 6\n",
      "1 2 3 4 5 6\n",
      "[[1 2 3 4 5 6]\n",
      " [1 2 3 4 5 6]\n",
      " [1 2 3 4 5 6]\n",
      " [1 2 3 4 5 6]\n",
      " [1 2 3 4 5 6]]\n"
     ]
    }
   ],
   "source": [
    "n = int(input())\n",
    "m = int(input())\n",
    "arr = np.zeros((n,m), dtype = np.int32)\n",
    "print(arr)\n",
    "for i in range(n):\n",
    "    arr[i] = np.array(list(map(int,input().split())))\n",
    "\n",
    "print(arr)"
   ]
  },
  {
   "cell_type": "markdown",
   "id": "09127f5d",
   "metadata": {},
   "source": [
    "# Задача. Пятерки по диагонали\n",
    "Создать и вывести матрицу 5х5 с пятёрками по диагонали, элементы должны иметь вещественный тип данных"
   ]
  },
  {
   "cell_type": "code",
   "execution_count": 159,
   "id": "e60a6471",
   "metadata": {},
   "outputs": [
    {
     "name": "stdout",
     "output_type": "stream",
     "text": [
      "[[0. 0. 0. 0. 0.]\n",
      " [0. 0. 0. 0. 0.]\n",
      " [0. 0. 0. 0. 0.]\n",
      " [0. 0. 0. 0. 0.]\n",
      " [0. 0. 0. 0. 0.]]\n"
     ]
    }
   ],
   "source": [
    "arr = np.zeros((5,5))\n",
    "print(arr)"
   ]
  },
  {
   "cell_type": "code",
   "execution_count": 160,
   "id": "43c4508a",
   "metadata": {},
   "outputs": [
    {
     "name": "stdout",
     "output_type": "stream",
     "text": [
      "[[5. 0. 0. 0. 0.]\n",
      " [0. 5. 0. 0. 0.]\n",
      " [0. 0. 5. 0. 0.]\n",
      " [0. 0. 0. 5. 0.]\n",
      " [0. 0. 0. 0. 5.]]\n"
     ]
    }
   ],
   "source": [
    "for i in range(arr.shape[0]):\n",
    "    for j in range(arr.shape[1]):\n",
    "        if i == j:\n",
    "            arr[i, j] = 5\n",
    "            \n",
    "print(arr)"
   ]
  },
  {
   "cell_type": "markdown",
   "id": "f8b5bba9",
   "metadata": {},
   "source": [
    "# Задача. Главная диагональ\n",
    "Вводится целое положительное число n. Сгенерируйте массив размерностью nxn с последовательностью чисел от 0 до n*n не включительно. \n",
    "Выведите главную диагональ массива. Попробуйте решить задачу без использования циклов "
   ]
  },
  {
   "cell_type": "code",
   "execution_count": 161,
   "id": "12ee8d58",
   "metadata": {},
   "outputs": [
    {
     "name": "stdout",
     "output_type": "stream",
     "text": [
      "5\n"
     ]
    }
   ],
   "source": [
    "n = int(input())"
   ]
  },
  {
   "cell_type": "code",
   "execution_count": 163,
   "id": "ad702881",
   "metadata": {},
   "outputs": [],
   "source": [
    "arr = np.arange(n*n).reshape(n,n)"
   ]
  },
  {
   "cell_type": "code",
   "execution_count": 164,
   "id": "d116efd7",
   "metadata": {},
   "outputs": [
    {
     "data": {
      "text/plain": [
       "array([[ 0,  1,  2,  3,  4],\n",
       "       [ 5,  6,  7,  8,  9],\n",
       "       [10, 11, 12, 13, 14],\n",
       "       [15, 16, 17, 18, 19],\n",
       "       [20, 21, 22, 23, 24]])"
      ]
     },
     "execution_count": 164,
     "metadata": {},
     "output_type": "execute_result"
    }
   ],
   "source": [
    "arr"
   ]
  },
  {
   "cell_type": "code",
   "execution_count": 179,
   "id": "cee1d4e9",
   "metadata": {},
   "outputs": [
    {
     "data": {
      "text/plain": [
       "array([ 0,  6, 12, 18, 24])"
      ]
     },
     "execution_count": 179,
     "metadata": {},
     "output_type": "execute_result"
    }
   ],
   "source": [
    "np.diag(arr)"
   ]
  },
  {
   "cell_type": "code",
   "execution_count": 180,
   "id": "08688e84",
   "metadata": {},
   "outputs": [],
   "source": [
    "np.fill_diagonal(arr, -999)"
   ]
  },
  {
   "cell_type": "code",
   "execution_count": 181,
   "id": "2d22c609",
   "metadata": {},
   "outputs": [
    {
     "data": {
      "text/plain": [
       "array([[-999,    1,    2,    3,    4],\n",
       "       [   5, -999,    7,    8,    9],\n",
       "       [  10,   11, -999,   13,   14],\n",
       "       [  15,   16,   17, -999,   19],\n",
       "       [  20,   21,   22,   23, -999]])"
      ]
     },
     "execution_count": 181,
     "metadata": {},
     "output_type": "execute_result"
    }
   ],
   "source": [
    "arr"
   ]
  },
  {
   "cell_type": "code",
   "execution_count": null,
   "id": "6fc06c69",
   "metadata": {},
   "outputs": [],
   "source": []
  },
  {
   "cell_type": "markdown",
   "id": "49bb4872",
   "metadata": {},
   "source": [
    "# Четные столбцы\n",
    "Вводится целое положительное число n. \n",
    "Сгенерируйте целочисленный массив размерностью nxn \n",
    "с последовательностью чисел от 0 до n*n не включительно. \n",
    "Выведите четные столбцы массива, используя только срезы. "
   ]
  },
  {
   "cell_type": "code",
   "execution_count": 36,
   "id": "bd7f628d",
   "metadata": {},
   "outputs": [
    {
     "name": "stdout",
     "output_type": "stream",
     "text": [
      "5\n",
      "[[0. 0. 0. 0. 0.]\n",
      " [0. 0. 0. 0. 0.]\n",
      " [0. 0. 0. 0. 0.]\n",
      " [0. 0. 0. 0. 0.]\n",
      " [0. 0. 0. 0. 0.]]\n",
      "[[ 0.  1.  2.  3.  4.]\n",
      " [ 5.  6.  7.  8.  9.]\n",
      " [10. 11. 12. 13. 14.]\n",
      " [15. 16. 17. 18. 19.]\n",
      " [20. 21. 22. 23. 24.]]\n"
     ]
    }
   ],
   "source": [
    "n = int(input())\n",
    "arr = np.zeros((n,n))\n",
    "print(arr)\n",
    "x = 0\n",
    "for i in range(arr.shape[0]):\n",
    "    for j in range(arr.shape[1]):\n",
    "        arr[i,j] = x\n",
    "        x +=1\n",
    "print(arr)"
   ]
  },
  {
   "cell_type": "code",
   "execution_count": 38,
   "id": "3a8d704e",
   "metadata": {},
   "outputs": [
    {
     "name": "stdout",
     "output_type": "stream",
     "text": [
      "5\n",
      "[[ 0  1  2  3  4]\n",
      " [ 5  6  7  8  9]\n",
      " [10 11 12 13 14]\n",
      " [15 16 17 18 19]\n",
      " [20 21 22 23 24]]\n"
     ]
    }
   ],
   "source": [
    "n = int(input())\n",
    "arr = np.arange(n*n).reshape(n,n)\n",
    "print(arr)"
   ]
  },
  {
   "cell_type": "code",
   "execution_count": 43,
   "id": "96e7b84c",
   "metadata": {},
   "outputs": [
    {
     "name": "stdout",
     "output_type": "stream",
     "text": [
      "[[ 0  2  4]\n",
      " [ 5  7  9]\n",
      " [10 12 14]\n",
      " [15 17 19]\n",
      " [20 22 24]]\n"
     ]
    }
   ],
   "source": [
    "print(arr[:, ::2]) # срезы всегда без [], а вот индексы всегда с ними"
   ]
  },
  {
   "cell_type": "code",
   "execution_count": null,
   "id": "21cebce0",
   "metadata": {},
   "outputs": [],
   "source": []
  },
  {
   "cell_type": "code",
   "execution_count": null,
   "id": "bc2029ee",
   "metadata": {},
   "outputs": [],
   "source": [
    "# Задача №\n",
    "# Дан одномерный массив. Преобразуйте каждый его элемент по правилу:\n",
    "#    а =  если четное 3*а, если нечетное 2*а\n",
    "Попробуйте решить эту задачу без циклов"
   ]
  },
  {
   "cell_type": "code",
   "execution_count": 59,
   "id": "56603b47",
   "metadata": {},
   "outputs": [
    {
     "name": "stdout",
     "output_type": "stream",
     "text": [
      "1 1 1 1 1 1 1 1 1 1\n",
      "[1 1 1 1 1 1 1 1 1 1]\n",
      "\n",
      "[3 2 3 2 3 2 3 2 3 2]\n"
     ]
    }
   ],
   "source": [
    "lst = list(map(int, input().split()))\n",
    "arr = np.array(lst)\n",
    "print(arr)\n",
    "print()\n",
    "arr = arr*2\n",
    "arr[::2] = arr[::2]/2*3\n",
    "print(arr)\n"
   ]
  },
  {
   "cell_type": "code",
   "execution_count": 64,
   "id": "80b01292",
   "metadata": {},
   "outputs": [
    {
     "name": "stdout",
     "output_type": "stream",
     "text": [
      "1 2 3 4 5 6 7 8\n",
      "[1 2 3 4 5 6 7 8]\n",
      "[2 4 6 8]\n",
      "[1 3 5 7]\n"
     ]
    }
   ],
   "source": [
    "# Правильное решение предыдущей задачи:\n",
    "lst = list(map(int,input().split()))\n",
    "arr = np.array(lst)\n",
    "print(arr)\n",
    "\n",
    "print(arr[1::2]) # печатает все элементы с первого до конца с шагом 2 (получаются все нечетные индексы)\n",
    "print(arr[::2]) # печатает все элементы с нулевого до конца с шагом 2 (получается - все четные индексы)"
   ]
  },
  {
   "cell_type": "code",
   "execution_count": null,
   "id": "6c3b8ca5",
   "metadata": {},
   "outputs": [],
   "source": []
  },
  {
   "cell_type": "markdown",
   "id": "4958ee62",
   "metadata": {},
   "source": [
    "# Змейка\n",
    "Сгенерируйте массив 4х4 и поверните нечетные строки в обратном порядке"
   ]
  },
  {
   "cell_type": "code",
   "execution_count": 111,
   "id": "6cbfe7b7",
   "metadata": {},
   "outputs": [
    {
     "name": "stdout",
     "output_type": "stream",
     "text": [
      "[[ 0  1  2  3]\n",
      " [ 4  5  6  7]\n",
      " [ 8  9 10 11]\n",
      " [12 13 14 15]]\n"
     ]
    }
   ],
   "source": [
    "arr = np.arange(16).reshape(4,-1)\n",
    "print(arr)"
   ]
  },
  {
   "cell_type": "code",
   "execution_count": 109,
   "id": "94a661c6",
   "metadata": {},
   "outputs": [
    {
     "name": "stdout",
     "output_type": "stream",
     "text": [
      "[[ 0  1  2  3]\n",
      " [ 7  6  5  4]\n",
      " [ 8  9 10 11]\n",
      " [15 14 13 12]]\n"
     ]
    }
   ],
   "source": [
    "arr = np.arange(16).reshape(4,4)\n",
    "arr[1] = arr[1][::-1]\n",
    "arr[3] = arr[3][::-1]\n",
    "print(arr)"
   ]
  },
  {
   "cell_type": "code",
   "execution_count": null,
   "id": "a4600024",
   "metadata": {},
   "outputs": [],
   "source": [
    "Правильное решение:\n",
    "arr = np.arange(4*4).reshape(4, -1)\n",
    "arr[1::2] = arr[1::2, ::-1]\n",
    "print(arr)"
   ]
  },
  {
   "cell_type": "code",
   "execution_count": null,
   "id": "0e404d14",
   "metadata": {},
   "outputs": [],
   "source": []
  },
  {
   "cell_type": "markdown",
   "id": "97371995",
   "metadata": {},
   "source": [
    "# Поворот на 90 градусов\n",
    "Сгенерируйте массив nxn, в котором последовательность от 1 до n**2 повернется на 90 градусов."
   ]
  },
  {
   "cell_type": "code",
   "execution_count": 123,
   "id": "bb304dfd",
   "metadata": {},
   "outputs": [
    {
     "name": "stdout",
     "output_type": "stream",
     "text": [
      "4\n",
      "[[ 1  2  3  4]\n",
      " [ 5  6  7  8]\n",
      " [ 9 10 11 12]\n",
      " [13 14 15 16]]\n",
      "\n",
      "[[ 1  5  9 13]\n",
      " [ 2  6 10 14]\n",
      " [ 3  7 11 15]\n",
      " [ 4  8 12 16]]\n",
      "\n",
      "[[ 4  8 12 16]\n",
      " [ 3  7 11 15]\n",
      " [ 2  6 10 14]\n",
      " [ 1  5  9 13]]\n",
      "\n",
      "[[13  9  5  1]\n",
      " [14 10  6  2]\n",
      " [15 11  7  3]\n",
      " [16 12  8  4]]\n"
     ]
    }
   ],
   "source": [
    "n = int(input())\n",
    "arr = np.arange(1,n**2+1).reshape(n, -1)\n",
    "print(arr)\n",
    "print()\n",
    "print(arr.T)\n",
    "print()\n",
    "print(arr.T[::-1])\n",
    "print()\n",
    "print(arr.T[:,::-1])"
   ]
  },
  {
   "cell_type": "code",
   "execution_count": null,
   "id": "889438dc",
   "metadata": {},
   "outputs": [],
   "source": []
  },
  {
   "cell_type": "code",
   "execution_count": null,
   "id": "372126c2",
   "metadata": {},
   "outputs": [],
   "source": []
  },
  {
   "cell_type": "code",
   "execution_count": null,
   "id": "2f4b049a",
   "metadata": {},
   "outputs": [],
   "source": []
  },
  {
   "cell_type": "code",
   "execution_count": null,
   "id": "b127da71",
   "metadata": {},
   "outputs": [],
   "source": []
  },
  {
   "cell_type": "code",
   "execution_count": null,
   "id": "a4727a89",
   "metadata": {},
   "outputs": [],
   "source": []
  },
  {
   "cell_type": "code",
   "execution_count": null,
   "id": "8ee08030",
   "metadata": {},
   "outputs": [],
   "source": []
  },
  {
   "cell_type": "code",
   "execution_count": null,
   "id": "1a50c81a",
   "metadata": {},
   "outputs": [],
   "source": []
  },
  {
   "cell_type": "code",
   "execution_count": null,
   "id": "b59215b0",
   "metadata": {},
   "outputs": [],
   "source": []
  },
  {
   "cell_type": "code",
   "execution_count": null,
   "id": "4e41dec5",
   "metadata": {},
   "outputs": [],
   "source": []
  },
  {
   "cell_type": "code",
   "execution_count": null,
   "id": "a5a9aadc",
   "metadata": {},
   "outputs": [],
   "source": []
  },
  {
   "cell_type": "code",
   "execution_count": null,
   "id": "5a9fff67",
   "metadata": {},
   "outputs": [],
   "source": []
  },
  {
   "cell_type": "code",
   "execution_count": null,
   "id": "8a978cb1",
   "metadata": {},
   "outputs": [],
   "source": []
  },
  {
   "cell_type": "code",
   "execution_count": null,
   "id": "5da7f41e",
   "metadata": {},
   "outputs": [],
   "source": []
  },
  {
   "cell_type": "code",
   "execution_count": null,
   "id": "059d6565",
   "metadata": {},
   "outputs": [],
   "source": []
  },
  {
   "cell_type": "code",
   "execution_count": null,
   "id": "27999706",
   "metadata": {},
   "outputs": [],
   "source": []
  },
  {
   "cell_type": "code",
   "execution_count": null,
   "id": "fe512b70",
   "metadata": {},
   "outputs": [],
   "source": []
  },
  {
   "cell_type": "code",
   "execution_count": null,
   "id": "16ee3d36",
   "metadata": {},
   "outputs": [],
   "source": []
  },
  {
   "cell_type": "code",
   "execution_count": null,
   "id": "b98e9dff",
   "metadata": {},
   "outputs": [],
   "source": []
  },
  {
   "cell_type": "code",
   "execution_count": null,
   "id": "268b20fc",
   "metadata": {},
   "outputs": [],
   "source": []
  },
  {
   "cell_type": "code",
   "execution_count": null,
   "id": "89ff60fa",
   "metadata": {},
   "outputs": [],
   "source": []
  },
  {
   "cell_type": "code",
   "execution_count": null,
   "id": "5d83c508",
   "metadata": {},
   "outputs": [],
   "source": []
  },
  {
   "cell_type": "code",
   "execution_count": null,
   "id": "7080235e",
   "metadata": {},
   "outputs": [],
   "source": []
  },
  {
   "cell_type": "code",
   "execution_count": null,
   "id": "4808af8a",
   "metadata": {},
   "outputs": [],
   "source": []
  },
  {
   "cell_type": "code",
   "execution_count": null,
   "id": "70392051",
   "metadata": {},
   "outputs": [],
   "source": []
  },
  {
   "cell_type": "code",
   "execution_count": null,
   "id": "46deb982",
   "metadata": {},
   "outputs": [],
   "source": []
  },
  {
   "cell_type": "code",
   "execution_count": null,
   "id": "e9d88b8b",
   "metadata": {},
   "outputs": [],
   "source": []
  },
  {
   "cell_type": "code",
   "execution_count": null,
   "id": "8e4c5a80",
   "metadata": {},
   "outputs": [],
   "source": []
  },
  {
   "cell_type": "code",
   "execution_count": null,
   "id": "31cb5f03",
   "metadata": {},
   "outputs": [],
   "source": []
  },
  {
   "cell_type": "code",
   "execution_count": null,
   "id": "031fa601",
   "metadata": {},
   "outputs": [],
   "source": []
  },
  {
   "cell_type": "code",
   "execution_count": null,
   "id": "835e0787",
   "metadata": {},
   "outputs": [],
   "source": []
  },
  {
   "cell_type": "code",
   "execution_count": null,
   "id": "796e3b42",
   "metadata": {},
   "outputs": [],
   "source": []
  },
  {
   "cell_type": "code",
   "execution_count": null,
   "id": "9d2d7f8b",
   "metadata": {},
   "outputs": [],
   "source": []
  },
  {
   "cell_type": "code",
   "execution_count": null,
   "id": "db1e440b",
   "metadata": {},
   "outputs": [],
   "source": []
  },
  {
   "cell_type": "code",
   "execution_count": null,
   "id": "0bbae890",
   "metadata": {},
   "outputs": [],
   "source": []
  },
  {
   "cell_type": "code",
   "execution_count": null,
   "id": "dc19e1cc",
   "metadata": {},
   "outputs": [],
   "source": []
  },
  {
   "cell_type": "code",
   "execution_count": null,
   "id": "c271ead1",
   "metadata": {},
   "outputs": [],
   "source": []
  },
  {
   "cell_type": "code",
   "execution_count": null,
   "id": "33757ab6",
   "metadata": {},
   "outputs": [],
   "source": []
  },
  {
   "cell_type": "code",
   "execution_count": null,
   "id": "de33dd33",
   "metadata": {},
   "outputs": [],
   "source": []
  },
  {
   "cell_type": "code",
   "execution_count": null,
   "id": "eb4c1fa7",
   "metadata": {},
   "outputs": [],
   "source": []
  },
  {
   "cell_type": "code",
   "execution_count": null,
   "id": "7f0eccd6",
   "metadata": {},
   "outputs": [],
   "source": []
  },
  {
   "cell_type": "code",
   "execution_count": null,
   "id": "3a23d5f8",
   "metadata": {},
   "outputs": [],
   "source": []
  },
  {
   "cell_type": "code",
   "execution_count": null,
   "id": "a26e0a89",
   "metadata": {},
   "outputs": [],
   "source": []
  },
  {
   "cell_type": "code",
   "execution_count": null,
   "id": "af1f7529",
   "metadata": {},
   "outputs": [],
   "source": []
  },
  {
   "cell_type": "code",
   "execution_count": null,
   "id": "93262f42",
   "metadata": {},
   "outputs": [],
   "source": []
  },
  {
   "cell_type": "code",
   "execution_count": null,
   "id": "edd155c7",
   "metadata": {},
   "outputs": [],
   "source": []
  },
  {
   "cell_type": "code",
   "execution_count": null,
   "id": "98ab69d3",
   "metadata": {},
   "outputs": [],
   "source": []
  },
  {
   "cell_type": "code",
   "execution_count": null,
   "id": "141499cf",
   "metadata": {},
   "outputs": [],
   "source": []
  },
  {
   "cell_type": "code",
   "execution_count": null,
   "id": "919b7426",
   "metadata": {},
   "outputs": [],
   "source": []
  },
  {
   "cell_type": "code",
   "execution_count": null,
   "id": "aa955aa6",
   "metadata": {},
   "outputs": [],
   "source": []
  },
  {
   "cell_type": "code",
   "execution_count": null,
   "id": "dad2cbc1",
   "metadata": {},
   "outputs": [],
   "source": []
  },
  {
   "cell_type": "code",
   "execution_count": null,
   "id": "7350c5ad",
   "metadata": {},
   "outputs": [],
   "source": []
  },
  {
   "cell_type": "code",
   "execution_count": null,
   "id": "94b0e5f1",
   "metadata": {},
   "outputs": [],
   "source": []
  },
  {
   "cell_type": "code",
   "execution_count": null,
   "id": "0fadd284",
   "metadata": {},
   "outputs": [],
   "source": []
  },
  {
   "cell_type": "code",
   "execution_count": null,
   "id": "16d32197",
   "metadata": {},
   "outputs": [],
   "source": []
  },
  {
   "cell_type": "code",
   "execution_count": null,
   "id": "2d90f88d",
   "metadata": {},
   "outputs": [],
   "source": []
  },
  {
   "cell_type": "code",
   "execution_count": null,
   "id": "6994b629",
   "metadata": {},
   "outputs": [],
   "source": []
  },
  {
   "cell_type": "code",
   "execution_count": null,
   "id": "59807fa8",
   "metadata": {},
   "outputs": [],
   "source": []
  },
  {
   "cell_type": "code",
   "execution_count": null,
   "id": "f0cf2afd",
   "metadata": {},
   "outputs": [],
   "source": []
  },
  {
   "cell_type": "code",
   "execution_count": null,
   "id": "cc2e8b9e",
   "metadata": {},
   "outputs": [],
   "source": []
  },
  {
   "cell_type": "code",
   "execution_count": null,
   "id": "4ab299da",
   "metadata": {},
   "outputs": [],
   "source": []
  },
  {
   "cell_type": "code",
   "execution_count": null,
   "id": "55615544",
   "metadata": {},
   "outputs": [],
   "source": []
  },
  {
   "cell_type": "code",
   "execution_count": null,
   "id": "1c3c0f5a",
   "metadata": {},
   "outputs": [],
   "source": []
  },
  {
   "cell_type": "code",
   "execution_count": null,
   "id": "05976e59",
   "metadata": {},
   "outputs": [],
   "source": []
  },
  {
   "cell_type": "code",
   "execution_count": null,
   "id": "06e03c86",
   "metadata": {},
   "outputs": [],
   "source": []
  },
  {
   "cell_type": "code",
   "execution_count": null,
   "id": "b8e6a488",
   "metadata": {},
   "outputs": [],
   "source": []
  },
  {
   "cell_type": "code",
   "execution_count": null,
   "id": "04fa1f9e",
   "metadata": {},
   "outputs": [],
   "source": []
  },
  {
   "cell_type": "code",
   "execution_count": null,
   "id": "177f579d",
   "metadata": {},
   "outputs": [],
   "source": []
  },
  {
   "cell_type": "code",
   "execution_count": null,
   "id": "7c87ab22",
   "metadata": {},
   "outputs": [],
   "source": []
  },
  {
   "cell_type": "code",
   "execution_count": null,
   "id": "1fb00e8b",
   "metadata": {},
   "outputs": [],
   "source": []
  },
  {
   "cell_type": "code",
   "execution_count": null,
   "id": "f6f05c6a",
   "metadata": {},
   "outputs": [],
   "source": []
  },
  {
   "cell_type": "code",
   "execution_count": null,
   "id": "fabbac72",
   "metadata": {},
   "outputs": [],
   "source": []
  },
  {
   "cell_type": "code",
   "execution_count": null,
   "id": "07154b16",
   "metadata": {},
   "outputs": [],
   "source": []
  },
  {
   "cell_type": "code",
   "execution_count": null,
   "id": "0d3073b8",
   "metadata": {},
   "outputs": [],
   "source": []
  },
  {
   "cell_type": "code",
   "execution_count": null,
   "id": "33724030",
   "metadata": {},
   "outputs": [],
   "source": []
  },
  {
   "cell_type": "code",
   "execution_count": null,
   "id": "ad2aa4af",
   "metadata": {},
   "outputs": [],
   "source": []
  },
  {
   "cell_type": "code",
   "execution_count": null,
   "id": "b2c26a44",
   "metadata": {},
   "outputs": [],
   "source": []
  },
  {
   "cell_type": "code",
   "execution_count": null,
   "id": "a0945437",
   "metadata": {},
   "outputs": [],
   "source": []
  },
  {
   "cell_type": "code",
   "execution_count": null,
   "id": "7563ea67",
   "metadata": {},
   "outputs": [],
   "source": []
  },
  {
   "cell_type": "code",
   "execution_count": null,
   "id": "8190fc41",
   "metadata": {},
   "outputs": [],
   "source": []
  },
  {
   "cell_type": "code",
   "execution_count": null,
   "id": "7b9380f8",
   "metadata": {},
   "outputs": [],
   "source": []
  },
  {
   "cell_type": "code",
   "execution_count": null,
   "id": "ed49f2bc",
   "metadata": {},
   "outputs": [],
   "source": []
  },
  {
   "cell_type": "code",
   "execution_count": null,
   "id": "d6bd15b8",
   "metadata": {},
   "outputs": [],
   "source": []
  },
  {
   "cell_type": "code",
   "execution_count": null,
   "id": "3bdb946f",
   "metadata": {},
   "outputs": [],
   "source": []
  },
  {
   "cell_type": "code",
   "execution_count": null,
   "id": "1b30c802",
   "metadata": {},
   "outputs": [],
   "source": []
  },
  {
   "cell_type": "code",
   "execution_count": null,
   "id": "a538f011",
   "metadata": {},
   "outputs": [],
   "source": []
  },
  {
   "cell_type": "code",
   "execution_count": null,
   "id": "26a28dfb",
   "metadata": {},
   "outputs": [],
   "source": []
  },
  {
   "cell_type": "code",
   "execution_count": null,
   "id": "f8a70de7",
   "metadata": {},
   "outputs": [],
   "source": []
  },
  {
   "cell_type": "code",
   "execution_count": null,
   "id": "558d6147",
   "metadata": {},
   "outputs": [],
   "source": []
  },
  {
   "cell_type": "code",
   "execution_count": null,
   "id": "75ed4def",
   "metadata": {},
   "outputs": [],
   "source": []
  },
  {
   "cell_type": "code",
   "execution_count": null,
   "id": "c4b023e8",
   "metadata": {},
   "outputs": [],
   "source": []
  },
  {
   "cell_type": "code",
   "execution_count": null,
   "id": "d6e21686",
   "metadata": {},
   "outputs": [],
   "source": []
  },
  {
   "cell_type": "code",
   "execution_count": null,
   "id": "1ea89379",
   "metadata": {},
   "outputs": [],
   "source": []
  },
  {
   "cell_type": "code",
   "execution_count": null,
   "id": "2d1cb119",
   "metadata": {},
   "outputs": [],
   "source": []
  },
  {
   "cell_type": "code",
   "execution_count": null,
   "id": "155e7d98",
   "metadata": {},
   "outputs": [],
   "source": []
  },
  {
   "cell_type": "code",
   "execution_count": null,
   "id": "993b09d5",
   "metadata": {},
   "outputs": [],
   "source": []
  },
  {
   "cell_type": "code",
   "execution_count": null,
   "id": "133a3d75",
   "metadata": {},
   "outputs": [],
   "source": []
  },
  {
   "cell_type": "code",
   "execution_count": null,
   "id": "eb91df85",
   "metadata": {},
   "outputs": [],
   "source": []
  },
  {
   "cell_type": "code",
   "execution_count": null,
   "id": "6d75e8cf",
   "metadata": {},
   "outputs": [],
   "source": []
  },
  {
   "cell_type": "code",
   "execution_count": null,
   "id": "06221707",
   "metadata": {},
   "outputs": [],
   "source": []
  },
  {
   "cell_type": "code",
   "execution_count": null,
   "id": "187c2c4f",
   "metadata": {},
   "outputs": [],
   "source": []
  },
  {
   "cell_type": "code",
   "execution_count": null,
   "id": "d75b1739",
   "metadata": {},
   "outputs": [],
   "source": []
  },
  {
   "cell_type": "code",
   "execution_count": null,
   "id": "b992b62a",
   "metadata": {},
   "outputs": [],
   "source": []
  },
  {
   "cell_type": "code",
   "execution_count": null,
   "id": "ab6abbb6",
   "metadata": {},
   "outputs": [],
   "source": []
  },
  {
   "cell_type": "code",
   "execution_count": null,
   "id": "dba0d05c",
   "metadata": {},
   "outputs": [],
   "source": []
  },
  {
   "cell_type": "code",
   "execution_count": null,
   "id": "2799c897",
   "metadata": {},
   "outputs": [],
   "source": []
  },
  {
   "cell_type": "code",
   "execution_count": null,
   "id": "27d7a817",
   "metadata": {},
   "outputs": [],
   "source": []
  },
  {
   "cell_type": "code",
   "execution_count": null,
   "id": "71fff2b8",
   "metadata": {},
   "outputs": [],
   "source": []
  },
  {
   "cell_type": "code",
   "execution_count": null,
   "id": "02091425",
   "metadata": {},
   "outputs": [],
   "source": []
  },
  {
   "cell_type": "code",
   "execution_count": null,
   "id": "feca7ac1",
   "metadata": {},
   "outputs": [],
   "source": []
  },
  {
   "cell_type": "code",
   "execution_count": null,
   "id": "d32355cd",
   "metadata": {},
   "outputs": [],
   "source": []
  },
  {
   "cell_type": "code",
   "execution_count": null,
   "id": "9210a011",
   "metadata": {},
   "outputs": [],
   "source": []
  },
  {
   "cell_type": "code",
   "execution_count": null,
   "id": "3245a58b",
   "metadata": {},
   "outputs": [],
   "source": []
  },
  {
   "cell_type": "code",
   "execution_count": null,
   "id": "b88acef2",
   "metadata": {},
   "outputs": [],
   "source": []
  },
  {
   "cell_type": "code",
   "execution_count": null,
   "id": "a720932e",
   "metadata": {},
   "outputs": [],
   "source": []
  },
  {
   "cell_type": "code",
   "execution_count": null,
   "id": "e1970f0f",
   "metadata": {},
   "outputs": [],
   "source": []
  },
  {
   "cell_type": "code",
   "execution_count": null,
   "id": "01bec3e8",
   "metadata": {},
   "outputs": [],
   "source": []
  },
  {
   "cell_type": "code",
   "execution_count": null,
   "id": "390db5ac",
   "metadata": {},
   "outputs": [],
   "source": []
  },
  {
   "cell_type": "code",
   "execution_count": null,
   "id": "705d53b2",
   "metadata": {},
   "outputs": [],
   "source": []
  },
  {
   "cell_type": "code",
   "execution_count": null,
   "id": "126661ea",
   "metadata": {},
   "outputs": [],
   "source": []
  },
  {
   "cell_type": "code",
   "execution_count": null,
   "id": "9b4ac2be",
   "metadata": {},
   "outputs": [],
   "source": []
  },
  {
   "cell_type": "code",
   "execution_count": null,
   "id": "bdf98847",
   "metadata": {},
   "outputs": [],
   "source": []
  }
 ],
 "metadata": {
  "kernelspec": {
   "display_name": "Python 3 (ipykernel)",
   "language": "python",
   "name": "python3"
  },
  "language_info": {
   "codemirror_mode": {
    "name": "ipython",
    "version": 3
   },
   "file_extension": ".py",
   "mimetype": "text/x-python",
   "name": "python",
   "nbconvert_exporter": "python",
   "pygments_lexer": "ipython3",
   "version": "3.10.0"
  }
 },
 "nbformat": 4,
 "nbformat_minor": 5
}
