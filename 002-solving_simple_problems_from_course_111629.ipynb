{
 "cells": [
  {
   "cell_type": "code",
   "execution_count": 2,
   "id": "7f1cdc79",
   "metadata": {},
   "outputs": [],
   "source": [
    "import numpy as np"
   ]
  },
  {
   "cell_type": "markdown",
   "id": "acd8e027",
   "metadata": {},
   "source": [
    "# Задача №17"
   ]
  },
  {
   "cell_type": "code",
   "execution_count": 2,
   "id": "26425b1b",
   "metadata": {},
   "outputs": [],
   "source": [
    "# Вычислите ((A+B)*(-A/2)) без копирования массивов.\n",
    "\n",
    "# Используйте функции: add, negative, divide, multiply\n",
    "    \n",
    "A = np.ones(3)*1\n",
    "B = np.ones(3)*2"
   ]
  },
  {
   "cell_type": "code",
   "execution_count": 3,
   "id": "e1cd8519",
   "metadata": {},
   "outputs": [
    {
     "data": {
      "text/plain": [
       "array([1., 1., 1.])"
      ]
     },
     "execution_count": 3,
     "metadata": {},
     "output_type": "execute_result"
    }
   ],
   "source": [
    "A"
   ]
  },
  {
   "cell_type": "code",
   "execution_count": 4,
   "id": "331719c5",
   "metadata": {},
   "outputs": [
    {
     "data": {
      "text/plain": [
       "array([2., 2., 2.])"
      ]
     },
     "execution_count": 4,
     "metadata": {},
     "output_type": "execute_result"
    }
   ],
   "source": [
    "B"
   ]
  },
  {
   "cell_type": "code",
   "execution_count": 6,
   "id": "a5c40a5f",
   "metadata": {},
   "outputs": [
    {
     "data": {
      "text/plain": [
       "array([3., 3., 3.])"
      ]
     },
     "execution_count": 6,
     "metadata": {},
     "output_type": "execute_result"
    }
   ],
   "source": [
    "np.add(A, B)"
   ]
  },
  {
   "cell_type": "code",
   "execution_count": 7,
   "id": "86044fbf",
   "metadata": {},
   "outputs": [
    {
     "data": {
      "text/plain": [
       "array([-1., -1., -1.])"
      ]
     },
     "execution_count": 7,
     "metadata": {},
     "output_type": "execute_result"
    }
   ],
   "source": [
    "np.negative(A)"
   ]
  },
  {
   "cell_type": "code",
   "execution_count": 8,
   "id": "657b175c",
   "metadata": {},
   "outputs": [
    {
     "data": {
      "text/plain": [
       "array([-0.5, -0.5, -0.5])"
      ]
     },
     "execution_count": 8,
     "metadata": {},
     "output_type": "execute_result"
    }
   ],
   "source": [
    "np.divide(np.negative(A), 2)"
   ]
  },
  {
   "cell_type": "code",
   "execution_count": 12,
   "id": "90540c1d",
   "metadata": {},
   "outputs": [
    {
     "name": "stdout",
     "output_type": "stream",
     "text": [
      "[-1.5 -1.5 -1.5]\n"
     ]
    }
   ],
   "source": [
    "print(np.multiply(np.add(A, B), (np.divide(np.negative(A), 2))))"
   ]
  },
  {
   "cell_type": "code",
   "execution_count": null,
   "id": "e7586620",
   "metadata": {},
   "outputs": [],
   "source": []
  },
  {
   "cell_type": "markdown",
   "id": "41d550de",
   "metadata": {},
   "source": [
    "# Задача №18"
   ]
  },
  {
   "cell_type": "code",
   "execution_count": null,
   "id": "61efd03d",
   "metadata": {},
   "outputs": [],
   "source": [
    "# Создайте матрицу 5x5 со значениями строк в диапазоне от 0 до 4."
   ]
  },
  {
   "cell_type": "code",
   "execution_count": 19,
   "id": "3d36a517",
   "metadata": {},
   "outputs": [
    {
     "data": {
      "text/plain": [
       "array([[0., 0., 0., 0., 0.],\n",
       "       [0., 0., 0., 0., 0.],\n",
       "       [0., 0., 0., 0., 0.],\n",
       "       [0., 0., 0., 0., 0.],\n",
       "       [0., 0., 0., 0., 0.]])"
      ]
     },
     "execution_count": 19,
     "metadata": {},
     "output_type": "execute_result"
    }
   ],
   "source": [
    "mtrx = np.zeros((5,5))\n",
    "mtrx"
   ]
  },
  {
   "cell_type": "code",
   "execution_count": 21,
   "id": "73c5be4a",
   "metadata": {},
   "outputs": [
    {
     "data": {
      "text/plain": [
       "array([0., 0., 0., 0., 0.])"
      ]
     },
     "execution_count": 21,
     "metadata": {},
     "output_type": "execute_result"
    }
   ],
   "source": [
    "mtrx[0]"
   ]
  },
  {
   "cell_type": "code",
   "execution_count": 25,
   "id": "2002fc24",
   "metadata": {},
   "outputs": [
    {
     "data": {
      "text/plain": [
       "array([0, 1, 2, 3, 4])"
      ]
     },
     "execution_count": 25,
     "metadata": {},
     "output_type": "execute_result"
    }
   ],
   "source": [
    "np.arange(0,5)"
   ]
  },
  {
   "cell_type": "code",
   "execution_count": 26,
   "id": "651a3815",
   "metadata": {},
   "outputs": [],
   "source": [
    "for i in range(5):\n",
    "    mtrx[i] = np.arange(0,5)    "
   ]
  },
  {
   "cell_type": "code",
   "execution_count": 27,
   "id": "4f7922fc",
   "metadata": {},
   "outputs": [
    {
     "data": {
      "text/plain": [
       "array([[0., 1., 2., 3., 4.],\n",
       "       [0., 1., 2., 3., 4.],\n",
       "       [0., 1., 2., 3., 4.],\n",
       "       [0., 1., 2., 3., 4.],\n",
       "       [0., 1., 2., 3., 4.]])"
      ]
     },
     "execution_count": 27,
     "metadata": {},
     "output_type": "execute_result"
    }
   ],
   "source": [
    "mtrx"
   ]
  },
  {
   "cell_type": "code",
   "execution_count": 33,
   "id": "5f4d23a4",
   "metadata": {},
   "outputs": [
    {
     "name": "stdout",
     "output_type": "stream",
     "text": [
      "[[0. 1. 2. 3. 4.]\n",
      " [0. 1. 2. 3. 4.]\n",
      " [0. 1. 2. 3. 4.]\n",
      " [0. 1. 2. 3. 4.]\n",
      " [0. 1. 2. 3. 4.]]\n"
     ]
    }
   ],
   "source": [
    "# А вот и классный ответ:\n",
    "    \n",
    "Z = np.zeros((5,5))\n",
    "Z += np.arange(5)\n",
    "print(Z)"
   ]
  },
  {
   "cell_type": "code",
   "execution_count": null,
   "id": "7ef39415",
   "metadata": {},
   "outputs": [],
   "source": []
  },
  {
   "cell_type": "markdown",
   "id": "de0fff93",
   "metadata": {},
   "source": [
    "# Задача №19"
   ]
  },
  {
   "cell_type": "code",
   "execution_count": 40,
   "id": "b8954997",
   "metadata": {},
   "outputs": [
    {
     "data": {
      "text/plain": [
       "array([0.09090909, 0.18181818, 0.27272727, 0.36363636, 0.45454545,\n",
       "       0.54545455, 0.63636364, 0.72727273, 0.81818182, 0.90909091])"
      ]
     },
     "execution_count": 40,
     "metadata": {},
     "output_type": "execute_result"
    }
   ],
   "source": [
    "# Создайте вектор размера 10 со значениями в диапазоне от 0 до 1. (0 и 1 не должны входить)\n",
    "\n",
    "np.linspace(0, 1, num = 11, endpoint = False)[1:]"
   ]
  },
  {
   "cell_type": "code",
   "execution_count": null,
   "id": "38dd3e9b",
   "metadata": {},
   "outputs": [],
   "source": []
  },
  {
   "cell_type": "markdown",
   "id": "649063fb",
   "metadata": {},
   "source": [
    "# Задача №20"
   ]
  },
  {
   "cell_type": "code",
   "execution_count": 42,
   "id": "e1e9f790",
   "metadata": {},
   "outputs": [],
   "source": [
    "# Выполните сортировку массива Z\n",
    "\n",
    "Z = np.array([6, 9, 5, 7, 8, 4])"
   ]
  },
  {
   "cell_type": "code",
   "execution_count": 44,
   "id": "70e62e6f",
   "metadata": {},
   "outputs": [
    {
     "data": {
      "text/plain": [
       "[4, 5, 6, 7, 8, 9]"
      ]
     },
     "execution_count": 44,
     "metadata": {},
     "output_type": "execute_result"
    }
   ],
   "source": [
    "sorted(Z)"
   ]
  },
  {
   "cell_type": "code",
   "execution_count": null,
   "id": "6d2ce452",
   "metadata": {},
   "outputs": [],
   "source": []
  },
  {
   "cell_type": "markdown",
   "id": "e81177f8",
   "metadata": {},
   "source": [
    "# Задача №21"
   ]
  },
  {
   "cell_type": "code",
   "execution_count": 45,
   "id": "5136309c",
   "metadata": {},
   "outputs": [
    {
     "data": {
      "text/plain": [
       "False"
      ]
     },
     "execution_count": 45,
     "metadata": {},
     "output_type": "execute_result"
    }
   ],
   "source": [
    "0.3 == 3 * 0.1"
   ]
  },
  {
   "cell_type": "code",
   "execution_count": 46,
   "id": "3936057f",
   "metadata": {},
   "outputs": [
    {
     "name": "stdout",
     "output_type": "stream",
     "text": [
      "0.3 0.30000000000000004\n"
     ]
    }
   ],
   "source": [
    "x = 0.3\n",
    "y = 3 * 0.1\n",
    "print(x, y)"
   ]
  },
  {
   "cell_type": "code",
   "execution_count": null,
   "id": "6bb485fc",
   "metadata": {},
   "outputs": [],
   "source": []
  },
  {
   "cell_type": "markdown",
   "id": "bcf9f8f9",
   "metadata": {},
   "source": [
    "# Задача №22"
   ]
  },
  {
   "cell_type": "code",
   "execution_count": 47,
   "id": "16ae97d9",
   "metadata": {},
   "outputs": [
    {
     "data": {
      "text/plain": [
       "array(0)"
      ]
     },
     "execution_count": 47,
     "metadata": {},
     "output_type": "execute_result"
    }
   ],
   "source": [
    "np.array(0)"
   ]
  },
  {
   "cell_type": "code",
   "execution_count": 48,
   "id": "1a4d2dfc",
   "metadata": {},
   "outputs": [
    {
     "name": "stderr",
     "output_type": "stream",
     "text": [
      "C:\\Users\\roman\\AppData\\Local\\Temp\\ipykernel_2668\\873513115.py:1: RuntimeWarning: invalid value encountered in divide\n",
      "  np.array(0) / np.array(0)\n"
     ]
    },
    {
     "data": {
      "text/plain": [
       "nan"
      ]
     },
     "execution_count": 48,
     "metadata": {},
     "output_type": "execute_result"
    }
   ],
   "source": [
    "np.array(0) / np.array(0)"
   ]
  },
  {
   "cell_type": "code",
   "execution_count": 49,
   "id": "9971d71d",
   "metadata": {},
   "outputs": [
    {
     "name": "stderr",
     "output_type": "stream",
     "text": [
      "C:\\Users\\roman\\AppData\\Local\\Temp\\ipykernel_2668\\2018018105.py:1: RuntimeWarning: divide by zero encountered in floor_divide\n",
      "  np.array(0) // np.array(0)\n"
     ]
    },
    {
     "data": {
      "text/plain": [
       "0"
      ]
     },
     "execution_count": 49,
     "metadata": {},
     "output_type": "execute_result"
    }
   ],
   "source": [
    "np.array(0) // np.array(0)"
   ]
  },
  {
   "cell_type": "code",
   "execution_count": 51,
   "id": "d7ba2e55",
   "metadata": {},
   "outputs": [
    {
     "data": {
      "text/plain": [
       "array([-2.14748365e+09])"
      ]
     },
     "execution_count": 51,
     "metadata": {},
     "output_type": "execute_result"
    }
   ],
   "source": [
    "np.array([np.nan]).astype(int).astype(float)"
   ]
  },
  {
   "cell_type": "code",
   "execution_count": null,
   "id": "8c47b4f0",
   "metadata": {},
   "outputs": [],
   "source": []
  },
  {
   "cell_type": "code",
   "execution_count": 54,
   "id": "ec375858",
   "metadata": {},
   "outputs": [
    {
     "data": {
      "text/plain": [
       "array([6, 9, 5, 7, 8, 4])"
      ]
     },
     "execution_count": 54,
     "metadata": {},
     "output_type": "execute_result"
    }
   ],
   "source": [
    "Z"
   ]
  },
  {
   "cell_type": "code",
   "execution_count": 57,
   "id": "cb5a6593",
   "metadata": {},
   "outputs": [
    {
     "data": {
      "text/plain": [
       "array([ 128, 1024,   64,  256,  512,   32], dtype=int32)"
      ]
     },
     "execution_count": 57,
     "metadata": {},
     "output_type": "execute_result"
    }
   ],
   "source": [
    "#см. python >> битовые операторы\n",
    "2 << Z"
   ]
  },
  {
   "cell_type": "code",
   "execution_count": null,
   "id": "17524af1",
   "metadata": {},
   "outputs": [],
   "source": []
  },
  {
   "cell_type": "markdown",
   "id": "e21a6a37",
   "metadata": {},
   "source": [
    "# Задача №23"
   ]
  },
  {
   "cell_type": "code",
   "execution_count": 58,
   "id": "e845357a",
   "metadata": {},
   "outputs": [],
   "source": [
    "# Проверьте, равны ли элементы массивов A и B в пределах допуска, \n",
    "# который равен 1 (проверка на приблизительное равенство)."
   ]
  },
  {
   "cell_type": "code",
   "execution_count": 59,
   "id": "a6198129",
   "metadata": {},
   "outputs": [],
   "source": [
    "A = np.array([1, 2, 3, 4, 5])\n",
    "B = np.array([2, 3, 4, 5, 6])"
   ]
  },
  {
   "cell_type": "code",
   "execution_count": 61,
   "id": "ef076f5e",
   "metadata": {},
   "outputs": [
    {
     "data": {
      "text/plain": [
       "array([False, False, False, False, False])"
      ]
     },
     "execution_count": 61,
     "metadata": {},
     "output_type": "execute_result"
    }
   ],
   "source": [
    "A == B"
   ]
  },
  {
   "cell_type": "code",
   "execution_count": 73,
   "id": "b8c3a84e",
   "metadata": {},
   "outputs": [
    {
     "name": "stdout",
     "output_type": "stream",
     "text": [
      "True\n"
     ]
    }
   ],
   "source": [
    "a = 0\n",
    "for i in range(len(A)):\n",
    "    if A[i] == B[i] or A[i] == B[i]+1 or A[i] == B[i]-1:\n",
    "        pass\n",
    "    else:\n",
    "        a +=1\n",
    "\n",
    "if a == 0:\n",
    "    print(True)"
   ]
  },
  {
   "cell_type": "code",
   "execution_count": 78,
   "id": "16771d9b",
   "metadata": {},
   "outputs": [
    {
     "name": "stdout",
     "output_type": "stream",
     "text": [
      "True\n",
      "True\n"
     ]
    }
   ],
   "source": [
    "# Внимание правильный ответ:\n",
    "\n",
    "\n",
    "print(np.allclose(A, B, rtol=1))\n",
    "\n",
    "# или \n",
    "print(all(np.abs(A-B) <= 1))"
   ]
  },
  {
   "cell_type": "code",
   "execution_count": null,
   "id": "889f9854",
   "metadata": {},
   "outputs": [],
   "source": []
  },
  {
   "cell_type": "markdown",
   "id": "b9c03055",
   "metadata": {},
   "source": [
    "# Задача №24"
   ]
  },
  {
   "cell_type": "code",
   "execution_count": 101,
   "id": "e5340edd",
   "metadata": {},
   "outputs": [],
   "source": [
    "# Матрица Z размером 10x2, содержит декартовы координаты. Преобразуйте их в полярные координаты.\n",
    "\n",
    "Z = np.array([[0.64414354, 0.38074849],\n",
    "               [0.66304791, 0.16365073],\n",
    "               [0.96260781, 0.34666184],\n",
    "               [0.99175099, 0.2350579 ],\n",
    "               [0.58569427, 0.4066901 ],\n",
    "               [0.13623432, 0.54413629],\n",
    "               [0.51817635, 0.76685511],\n",
    "               [0.93385014, 0.08970338],\n",
    "               [0.19577126, 0.99419368],\n",
    "               [0.2351805 , 0.23898637]])"
   ]
  },
  {
   "cell_type": "code",
   "execution_count": 122,
   "id": "a8266480",
   "metadata": {},
   "outputs": [],
   "source": [
    "r = []\n",
    "ang = []\n",
    "for i in range(len(Z)):\n",
    "    r.append(np.sqrt(Z[i][0]**2 + Z[i][1]**2))\n",
    "    ang.append(np.arctan(Z[i][1]/Z[i][0]))"
   ]
  },
  {
   "cell_type": "code",
   "execution_count": 123,
   "id": "effcef97",
   "metadata": {},
   "outputs": [
    {
     "name": "stdout",
     "output_type": "stream",
     "text": [
      "[0.74825819 0.68294516 1.02312669 1.0192263  0.71304601 0.56093145\n",
      " 0.92551255 0.93814859 1.01328548 0.33529741] [0.53384421 0.24197957 0.34566872 0.23271877 0.60693925 1.32547133\n",
      " 0.97655486 0.09576376 1.37636924 0.79342443]\n"
     ]
    }
   ],
   "source": [
    "print(np.array(r), np.array(ang))"
   ]
  },
  {
   "cell_type": "code",
   "execution_count": null,
   "id": "93f908ff",
   "metadata": {},
   "outputs": [],
   "source": []
  },
  {
   "cell_type": "markdown",
   "id": "3c7da1e4",
   "metadata": {},
   "source": [
    "# Задача №25"
   ]
  },
  {
   "cell_type": "code",
   "execution_count": 3,
   "id": "2b5c7948",
   "metadata": {},
   "outputs": [],
   "source": [
    "# Имея массивы X и Y постройте матрицу Коши: C (Cij =1/(xi - yj))а затем посчитайте детерминант.\n",
    "\n",
    "\n",
    "X = np.arange(8)\n",
    "Y = X + 0.5"
   ]
  },
  {
   "cell_type": "code",
   "execution_count": 5,
   "id": "d07230d8",
   "metadata": {},
   "outputs": [
    {
     "data": {
      "text/plain": [
       "array([0, 1, 2, 3, 4, 5, 6, 7])"
      ]
     },
     "execution_count": 5,
     "metadata": {},
     "output_type": "execute_result"
    }
   ],
   "source": [
    "X"
   ]
  },
  {
   "cell_type": "code",
   "execution_count": 6,
   "id": "99f80a09",
   "metadata": {},
   "outputs": [
    {
     "data": {
      "text/plain": [
       "array([0.5, 1.5, 2.5, 3.5, 4.5, 5.5, 6.5, 7.5])"
      ]
     },
     "execution_count": 6,
     "metadata": {},
     "output_type": "execute_result"
    }
   ],
   "source": [
    "Y"
   ]
  },
  {
   "cell_type": "code",
   "execution_count": 13,
   "id": "713d089d",
   "metadata": {},
   "outputs": [],
   "source": [
    "Z = np.zeros((8,8))"
   ]
  },
  {
   "cell_type": "code",
   "execution_count": 14,
   "id": "1ca92cf3",
   "metadata": {},
   "outputs": [
    {
     "data": {
      "text/plain": [
       "array([[0., 0., 0., 0., 0., 0., 0., 0.],\n",
       "       [0., 0., 0., 0., 0., 0., 0., 0.],\n",
       "       [0., 0., 0., 0., 0., 0., 0., 0.],\n",
       "       [0., 0., 0., 0., 0., 0., 0., 0.],\n",
       "       [0., 0., 0., 0., 0., 0., 0., 0.],\n",
       "       [0., 0., 0., 0., 0., 0., 0., 0.],\n",
       "       [0., 0., 0., 0., 0., 0., 0., 0.],\n",
       "       [0., 0., 0., 0., 0., 0., 0., 0.]])"
      ]
     },
     "execution_count": 14,
     "metadata": {},
     "output_type": "execute_result"
    }
   ],
   "source": [
    "Z"
   ]
  },
  {
   "cell_type": "code",
   "execution_count": 15,
   "id": "d8c823c0",
   "metadata": {},
   "outputs": [],
   "source": [
    "for i in range(8):\n",
    "    for j in range(8):\n",
    "        Z[i,j] = 1 / (X[i] - Y[j])"
   ]
  },
  {
   "cell_type": "code",
   "execution_count": 16,
   "id": "d463e763",
   "metadata": {},
   "outputs": [
    {
     "data": {
      "text/plain": [
       "array([[-2.        , -0.66666667, -0.4       , -0.28571429, -0.22222222,\n",
       "        -0.18181818, -0.15384615, -0.13333333],\n",
       "       [ 2.        , -2.        , -0.66666667, -0.4       , -0.28571429,\n",
       "        -0.22222222, -0.18181818, -0.15384615],\n",
       "       [ 0.66666667,  2.        , -2.        , -0.66666667, -0.4       ,\n",
       "        -0.28571429, -0.22222222, -0.18181818],\n",
       "       [ 0.4       ,  0.66666667,  2.        , -2.        , -0.66666667,\n",
       "        -0.4       , -0.28571429, -0.22222222],\n",
       "       [ 0.28571429,  0.4       ,  0.66666667,  2.        , -2.        ,\n",
       "        -0.66666667, -0.4       , -0.28571429],\n",
       "       [ 0.22222222,  0.28571429,  0.4       ,  0.66666667,  2.        ,\n",
       "        -2.        , -0.66666667, -0.4       ],\n",
       "       [ 0.18181818,  0.22222222,  0.28571429,  0.4       ,  0.66666667,\n",
       "         2.        , -2.        , -0.66666667],\n",
       "       [ 0.15384615,  0.18181818,  0.22222222,  0.28571429,  0.4       ,\n",
       "         0.66666667,  2.        , -2.        ]])"
      ]
     },
     "execution_count": 16,
     "metadata": {},
     "output_type": "execute_result"
    }
   ],
   "source": [
    "Z"
   ]
  },
  {
   "cell_type": "code",
   "execution_count": 17,
   "id": "1641af08",
   "metadata": {},
   "outputs": [],
   "source": [
    "det = np.linalg.det(Z)"
   ]
  },
  {
   "cell_type": "code",
   "execution_count": 18,
   "id": "33ca6c6a",
   "metadata": {},
   "outputs": [
    {
     "data": {
      "text/plain": [
       "3638.1636371179666"
      ]
     },
     "execution_count": 18,
     "metadata": {},
     "output_type": "execute_result"
    }
   ],
   "source": [
    "det"
   ]
  },
  {
   "cell_type": "code",
   "execution_count": null,
   "id": "aa5b63c2",
   "metadata": {},
   "outputs": [],
   "source": []
  },
  {
   "cell_type": "markdown",
   "id": "63feb207",
   "metadata": {},
   "source": [
    "# Задача №26"
   ]
  },
  {
   "cell_type": "code",
   "execution_count": 19,
   "id": "5504085e",
   "metadata": {},
   "outputs": [],
   "source": [
    "# Найдите ближайшее значение (к заданному скаляру v) в векторе Z?\n",
    "\n",
    "Z = np.arange(100)\n",
    "v = 68.2139380784148"
   ]
  },
  {
   "cell_type": "code",
   "execution_count": 31,
   "id": "33a9facc",
   "metadata": {},
   "outputs": [
    {
     "data": {
      "text/plain": [
       "68"
      ]
     },
     "execution_count": 31,
     "metadata": {},
     "output_type": "execute_result"
    }
   ],
   "source": [
    "# решение через заданную точность, оно вообще работает только для этого случая:\n",
    "int(Z[np.isclose(Z, v, atol=.22)])"
   ]
  },
  {
   "cell_type": "code",
   "execution_count": 34,
   "id": "f272863f",
   "metadata": {},
   "outputs": [
    {
     "data": {
      "text/plain": [
       "array([68, 69])"
      ]
     },
     "execution_count": 34,
     "metadata": {},
     "output_type": "execute_result"
    }
   ],
   "source": [
    "Z[np.isclose(Z, v, atol=.9)]"
   ]
  },
  {
   "cell_type": "code",
   "execution_count": null,
   "id": "65c7a0f7",
   "metadata": {},
   "outputs": [],
   "source": []
  },
  {
   "cell_type": "code",
   "execution_count": 35,
   "id": "9ba70f98",
   "metadata": {},
   "outputs": [
    {
     "data": {
      "text/plain": [
       "array([ 0,  1,  2,  3,  4,  5,  6,  7,  8,  9, 10, 11, 12, 13, 14, 15, 16,\n",
       "       17, 18, 19, 20, 21, 22, 23, 24, 25, 26, 27, 28, 29, 30, 31, 32, 33,\n",
       "       34, 35, 36, 37, 38, 39, 40, 41, 42, 43, 44, 45, 46, 47, 48, 49, 50,\n",
       "       51, 52, 53, 54, 55, 56, 57, 58, 59, 60, 61, 62, 63, 64, 65, 66, 67,\n",
       "       68, 69, 70, 71, 72, 73, 74, 75, 76, 77, 78, 79, 80, 81, 82, 83, 84,\n",
       "       85, 86, 87, 88, 89, 90, 91, 92, 93, 94, 95, 96, 97, 98, 99])"
      ]
     },
     "execution_count": 35,
     "metadata": {},
     "output_type": "execute_result"
    }
   ],
   "source": [
    "Z"
   ]
  },
  {
   "cell_type": "code",
   "execution_count": 40,
   "id": "f6be425f",
   "metadata": {},
   "outputs": [
    {
     "data": {
      "text/plain": [
       "array([68.21393808, 67.21393808, 66.21393808, 65.21393808, 64.21393808,\n",
       "       63.21393808, 62.21393808, 61.21393808, 60.21393808, 59.21393808,\n",
       "       58.21393808, 57.21393808, 56.21393808, 55.21393808, 54.21393808,\n",
       "       53.21393808, 52.21393808, 51.21393808, 50.21393808, 49.21393808,\n",
       "       48.21393808, 47.21393808, 46.21393808, 45.21393808, 44.21393808,\n",
       "       43.21393808, 42.21393808, 41.21393808, 40.21393808, 39.21393808,\n",
       "       38.21393808, 37.21393808, 36.21393808, 35.21393808, 34.21393808,\n",
       "       33.21393808, 32.21393808, 31.21393808, 30.21393808, 29.21393808,\n",
       "       28.21393808, 27.21393808, 26.21393808, 25.21393808, 24.21393808,\n",
       "       23.21393808, 22.21393808, 21.21393808, 20.21393808, 19.21393808,\n",
       "       18.21393808, 17.21393808, 16.21393808, 15.21393808, 14.21393808,\n",
       "       13.21393808, 12.21393808, 11.21393808, 10.21393808,  9.21393808,\n",
       "        8.21393808,  7.21393808,  6.21393808,  5.21393808,  4.21393808,\n",
       "        3.21393808,  2.21393808,  1.21393808,  0.21393808,  0.78606192,\n",
       "        1.78606192,  2.78606192,  3.78606192,  4.78606192,  5.78606192,\n",
       "        6.78606192,  7.78606192,  8.78606192,  9.78606192, 10.78606192,\n",
       "       11.78606192, 12.78606192, 13.78606192, 14.78606192, 15.78606192,\n",
       "       16.78606192, 17.78606192, 18.78606192, 19.78606192, 20.78606192,\n",
       "       21.78606192, 22.78606192, 23.78606192, 24.78606192, 25.78606192,\n",
       "       26.78606192, 27.78606192, 28.78606192, 29.78606192, 30.78606192])"
      ]
     },
     "execution_count": 40,
     "metadata": {},
     "output_type": "execute_result"
    }
   ],
   "source": [
    "abs(Z-v)"
   ]
  },
  {
   "cell_type": "code",
   "execution_count": 41,
   "id": "706ecd4f",
   "metadata": {},
   "outputs": [
    {
     "data": {
      "text/plain": [
       "0.21393807841479884"
      ]
     },
     "execution_count": 41,
     "metadata": {},
     "output_type": "execute_result"
    }
   ],
   "source": [
    "abs(Z-v).min()"
   ]
  },
  {
   "cell_type": "code",
   "execution_count": 39,
   "id": "f88878c9",
   "metadata": {},
   "outputs": [
    {
     "data": {
      "text/plain": [
       "array([[68]], dtype=int64)"
      ]
     },
     "execution_count": 39,
     "metadata": {},
     "output_type": "execute_result"
    }
   ],
   "source": [
    "np.argwhere(abs(Z-v) == abs(Z-v).min())"
   ]
  },
  {
   "cell_type": "code",
   "execution_count": null,
   "id": "1e13c009",
   "metadata": {},
   "outputs": [],
   "source": []
  },
  {
   "cell_type": "code",
   "execution_count": null,
   "id": "2f6c677c",
   "metadata": {},
   "outputs": [],
   "source": []
  },
  {
   "cell_type": "code",
   "execution_count": null,
   "id": "275d84ec",
   "metadata": {},
   "outputs": [],
   "source": []
  },
  {
   "cell_type": "code",
   "execution_count": null,
   "id": "0324e7e2",
   "metadata": {},
   "outputs": [],
   "source": []
  },
  {
   "cell_type": "code",
   "execution_count": null,
   "id": "424f3e5c",
   "metadata": {},
   "outputs": [],
   "source": []
  },
  {
   "cell_type": "code",
   "execution_count": null,
   "id": "2d578b05",
   "metadata": {},
   "outputs": [],
   "source": []
  },
  {
   "cell_type": "code",
   "execution_count": null,
   "id": "f8fed657",
   "metadata": {},
   "outputs": [],
   "source": []
  }
 ],
 "metadata": {
  "kernelspec": {
   "display_name": "Python 3 (ipykernel)",
   "language": "python",
   "name": "python3"
  },
  "language_info": {
   "codemirror_mode": {
    "name": "ipython",
    "version": 3
   },
   "file_extension": ".py",
   "mimetype": "text/x-python",
   "name": "python",
   "nbconvert_exporter": "python",
   "pygments_lexer": "ipython3",
   "version": "3.10.0"
  }
 },
 "nbformat": 4,
 "nbformat_minor": 5
}
