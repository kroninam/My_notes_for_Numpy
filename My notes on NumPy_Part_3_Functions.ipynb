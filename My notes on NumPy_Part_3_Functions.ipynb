{
 "cells": [
  {
   "cell_type": "markdown",
   "id": "827d85f3",
   "metadata": {},
   "source": [
    "# Функции в numpy\n",
    "\n",
    "# Математические функции"
   ]
  },
  {
   "cell_type": "markdown",
   "id": "2c5b1e92",
   "metadata": {},
   "source": [
    "# Суммы\n",
    "С помощью numpy можно посчитать сумму всех элементов массива или сумму в каждой строке/столбце двумерного массива. \n",
    "Это делают две функции:\n",
    "\n",
    "np.sum(x, axis=None) -  сумма элементов массива, вернет np.nan, если в массиве содержится хотя бы одна константа np.nan\n",
    "np.nansum(x, axis=None) -  сумма элементов массива, проигнорируют константу np.nan, посчитает сумму остальных элементов\n",
    "Эти функции получают на вход массив, а возвращают единственное значение (число или константу) (если не указан параметр axis)"
   ]
  },
  {
   "cell_type": "code",
   "execution_count": 3,
   "id": "e1d6f6b3",
   "metadata": {},
   "outputs": [],
   "source": [
    "import numpy as np"
   ]
  },
  {
   "cell_type": "code",
   "execution_count": 5,
   "id": "f1a59f71",
   "metadata": {},
   "outputs": [
    {
     "data": {
      "text/plain": [
       "nan"
      ]
     },
     "execution_count": 5,
     "metadata": {},
     "output_type": "execute_result"
    }
   ],
   "source": [
    "# Пример\n",
    "arr = np.arange(1, 7, 2) # [1, 3, 5]\n",
    "np.sum(arr) # 9\n",
    "# Если в массиве содержится np.nan \n",
    "\n",
    "arr = np.array([1, 3, 5, np.nan]) \n",
    "np.sum(arr) # np.nan\n",
    "np.nansum(arr) # 9.0"
   ]
  },
  {
   "cell_type": "code",
   "execution_count": null,
   "id": "b6efa6b8",
   "metadata": {},
   "outputs": [],
   "source": [
    "# Двумерные массивы\n",
    "# По умолчанию для двумерного массива посчитается сумма всех его элементов\n",
    "\n",
    "arr =  np.array([[4, 9, 8, 8, 4],\n",
    "                 [9, 5, 7, 5, 6],\n",
    "                 [2, 9, 6, 5, 4],\n",
    "                 [4, 5, 8, 8, 8]])\n",
    "print(np.sum(arr)) # 124"
   ]
  },
  {
   "cell_type": "code",
   "execution_count": null,
   "id": "2fc92d17",
   "metadata": {},
   "outputs": [],
   "source": [
    "Когда axis = 1 можно представить, что получающийся массив похож на большую единицу стоящую справа от массива\n",
    "в каждом ее значении - сумма всей строки, размероность такая же сколько строк в массиве было:"
   ]
  },
  {
   "cell_type": "code",
   "execution_count": 18,
   "id": "85416c94",
   "metadata": {},
   "outputs": [
    {
     "data": {
      "text/plain": [
       "array([33, 32, 26, 33])"
      ]
     },
     "execution_count": 18,
     "metadata": {},
     "output_type": "execute_result"
    }
   ],
   "source": [
    "np.sum(arr, axis=1)"
   ]
  },
  {
   "cell_type": "code",
   "execution_count": null,
   "id": "cd33ef67",
   "metadata": {},
   "outputs": [],
   "source": [
    "А для axis = 0 - все значения с каждого столбца считываются в горизонтальный массив под исходным массивом\n",
    "и похоже это на плоский такой ноль. Размерность у него - сколько столбцов у исходного массива."
   ]
  },
  {
   "cell_type": "code",
   "execution_count": 19,
   "id": "c84b75a3",
   "metadata": {},
   "outputs": [
    {
     "data": {
      "text/plain": [
       "array([19, 28, 29, 26, 22])"
      ]
     },
     "execution_count": 19,
     "metadata": {},
     "output_type": "execute_result"
    }
   ],
   "source": [
    "np.sum(arr, axis=0)"
   ]
  },
  {
   "cell_type": "markdown",
   "id": "12064aaf",
   "metadata": {},
   "source": [
    "# Произведения\n",
    "Так же можно посчитать и произведения с помощью следующих функций\n",
    "\n",
    "np.prod(x, axis=None) - произведение элементов массива, вернет np.nan, если в массиве содержится хотя бы одна константа np.nan\n",
    "np.nanprod(x, axis=None) - произведение элементов, проигнорируют константу np.nan, посчитает произведение остальных элементов\n",
    "Эти функции получают на вход массив, а возвращают единственное значение (число или константу) (если не указан параметр axis)\n"
   ]
  },
  {
   "cell_type": "code",
   "execution_count": 70,
   "id": "504bc0e3",
   "metadata": {},
   "outputs": [
    {
     "name": "stdout",
     "output_type": "stream",
     "text": [
      "15\n"
     ]
    }
   ],
   "source": [
    "# Пример\n",
    "arr = np.array([1, 3, 5]) \n",
    "print(np.prod(arr)) # 15"
   ]
  },
  {
   "cell_type": "code",
   "execution_count": 69,
   "id": "8dea4cb1",
   "metadata": {},
   "outputs": [
    {
     "name": "stdout",
     "output_type": "stream",
     "text": [
      "15\n"
     ]
    }
   ],
   "source": [
    "print(np.nanprod(arr))"
   ]
  },
  {
   "cell_type": "code",
   "execution_count": null,
   "id": "84ba3c29",
   "metadata": {},
   "outputs": [],
   "source": []
  },
  {
   "cell_type": "markdown",
   "id": "9d1f1ce5",
   "metadata": {},
   "source": [
    "### Накапливающая сумма\n",
    "Помимо обычной суммы можно посчитать накапливающую. Такая сумма показывает как постепенно элементы прибавлялись друг и другу. \n",
    "\n",
    "np.cumsum(x, axis=None) - кумулятивная (накапливающая) сумма, вернет np.nan, если в массиве содержится хотя бы одна константа np.nan\n",
    "np.nancumsum(x, axis=None) - кумулятивная (накапливающая) сумма, которая проигнорируют константу np.nan, посчитает сумму остальных элементов\n",
    "Если np.sum возвращает единственное число, то накапливающая сумма в ответ возвращает массив"
   ]
  },
  {
   "cell_type": "code",
   "execution_count": 71,
   "id": "cf393ca2",
   "metadata": {},
   "outputs": [
    {
     "data": {
      "text/plain": [
       "array([ 4., 13., 21., 21., 29., 33.])"
      ]
     },
     "execution_count": 71,
     "metadata": {},
     "output_type": "execute_result"
    }
   ],
   "source": [
    "# Пример \n",
    "# 1. Пример cumsum\n",
    "\n",
    "arr =  np.array([4, 9, 8, 8, 4])\n",
    "np.cumsum(arr) # [ 4, 13, 21, 29, 33]\n",
    "# Первый элемент ни с кем не складывался, поэтому так и остался равен 4, \n",
    "# второй элемент (13) получился путем сложения 9 с предыдущей 4, \n",
    "# третий элемент накапливающей суммы равен 13+8=21 и так далее\n",
    "\n",
    "# 2. Пример с содержанием np.nan\n",
    "\n",
    "arr =  np.array([4, 9, 8, np.nan, 8, 4])\n",
    "np.cumsum(arr) # [ 4., 13., 21., nan, nan, nan]\n",
    "np.nancumsum(arr) # [ 4., 13., 21., 21., 29., 33.]"
   ]
  },
  {
   "cell_type": "code",
   "execution_count": 73,
   "id": "b75f96b9",
   "metadata": {},
   "outputs": [],
   "source": [
    "\n",
    "arr =  np.array([[4, 9, 8, 8, 4],\n",
    "                 [9, 5, 7, 5, 6],\n",
    "                 [2, 9, 6, 5, 4],\n",
    "                 [4, 5, 8, 8, 8]])"
   ]
  },
  {
   "cell_type": "code",
   "execution_count": 76,
   "id": "361cc373",
   "metadata": {},
   "outputs": [
    {
     "data": {
      "text/plain": [
       "array([[ 4, 13, 21, 29, 33],\n",
       "       [ 9, 14, 21, 26, 32],\n",
       "       [ 2, 11, 17, 22, 26],\n",
       "       [ 4,  9, 17, 25, 33]])"
      ]
     },
     "execution_count": 76,
     "metadata": {},
     "output_type": "execute_result"
    }
   ],
   "source": [
    "np.cumsum(arr, axis=1) # когда axis = 1 всегда в результате столбики резульирующих значений"
   ]
  },
  {
   "cell_type": "code",
   "execution_count": null,
   "id": "5c86add7",
   "metadata": {},
   "outputs": [],
   "source": []
  },
  {
   "cell_type": "markdown",
   "id": "5f429828",
   "metadata": {},
   "source": [
    "# Накапливающее произведение\n",
    "Накапливающие произведения, как и накапливающая сумма сохраняет прогресс и показывает, \n",
    "как постепенно элементы домножались друг на друга. \n",
    "\n",
    "np.cumprod(x, axis=None)  - кумулятивное произведение, вернет np.nan, \n",
    "если в массиве содержится хотя бы одна константа np.nan\n",
    "\n",
    "np.nancumprod(x, axis=None)  - кумулятивное произведение, которое \n",
    "проигнорирует константу np.nan, посчитает произведение остальных элементов"
   ]
  },
  {
   "cell_type": "code",
   "execution_count": null,
   "id": "a362fb6f",
   "metadata": {},
   "outputs": [],
   "source": [
    "# Пример\n",
    "arr =  np.array([4, 9, 8, 8, 4])\n",
    "np.cumprod(arr) # [   4,   36,  288, 2304, 9216] # ! первое значение идет само как есть, т.е * на единицу"
   ]
  },
  {
   "cell_type": "code",
   "execution_count": null,
   "id": "8798b5aa",
   "metadata": {},
   "outputs": [],
   "source": []
  },
  {
   "cell_type": "markdown",
   "id": "d937d004",
   "metadata": {},
   "source": [
    "# Математическое округление"
   ]
  },
  {
   "cell_type": "code",
   "execution_count": null,
   "id": "e63d0a54",
   "metadata": {},
   "outputs": [],
   "source": [
    "Математическое округление в numpy производят три функции-синонима:\n",
    "\n",
    "np.around(x, decimals=0) - округление числа или массива чисел x до decimals знаков после запятой\n",
    "np.round_(x, decimals=0) - округление числа или массива чисел x до decimals знаков после запятой\n",
    "np.round(x, decimals=0) - округление числа или массива чисел x до decimals знаков после запятой\n",
    "Все три функции делают абсолютно одно и тоже, нет никакой разницы, какую из них использовать. "
   ]
  },
  {
   "cell_type": "markdown",
   "id": "a348beb2",
   "metadata": {},
   "source": [
    "# Округление до целого "
   ]
  },
  {
   "cell_type": "code",
   "execution_count": null,
   "id": "ebec38cf",
   "metadata": {},
   "outputs": [],
   "source": [
    "np.floor(x) - округляет до меньшего целого\n",
    "np.ceil(x) - округляет до большего целого\n",
    "np.fix(x) - округляет до целого значения, ближайшего к нулю. Например, 4.9 округлит до 4, -2.9 округлит до -2\n",
    "Нельзя выбрать количество знаков после запятой"
   ]
  },
  {
   "cell_type": "code",
   "execution_count": 20,
   "id": "0a143ad6",
   "metadata": {},
   "outputs": [
    {
     "data": {
      "text/plain": [
       "6.0"
      ]
     },
     "execution_count": 20,
     "metadata": {},
     "output_type": "execute_result"
    }
   ],
   "source": [
    "a = 6.75\n",
    "np.floor(a) # 6.0\n",
    "np.ceil(a)  # 7.0\n",
    "np.fix(a) # 6.0 (потому что ближе к 0)"
   ]
  },
  {
   "cell_type": "code",
   "execution_count": null,
   "id": "84ba415a",
   "metadata": {},
   "outputs": [],
   "source": []
  },
  {
   "cell_type": "markdown",
   "id": "7ef5c959",
   "metadata": {},
   "source": [
    "# Остаток от деления % с сохранением знака делимого"
   ]
  },
  {
   "cell_type": "code",
   "execution_count": null,
   "id": "d1dbd4f3",
   "metadata": {},
   "outputs": [],
   "source": [
    "# Обычный оператор % игнорирует знаки делимого. То есть, например,\n",
    "\n",
    "# 5 % 3 = 2\n",
    "\n",
    "# и также \n",
    "\n",
    "# (-5) % 3 = 2\n",
    "\n",
    "# Если во втором случае требуется сохранить знак, то есть получить -1, то нужно использовать np.fmod()\n",
    "\n",
    "np.fmod(a, b)\n",
    "\n",
    "# Пример\n",
    "arr = np.array([-3, 3, -7])\n",
    "print(arr % 2) # [1, 1, 1]\n",
    "print(np.fmod(arr, 2)) # [-1,  1, -1]"
   ]
  },
  {
   "cell_type": "markdown",
   "id": "ff82ad99",
   "metadata": {},
   "source": [
    "# Выделение целой и дробной части"
   ]
  },
  {
   "cell_type": "code",
   "execution_count": null,
   "id": "7ceb2501",
   "metadata": {},
   "outputs": [],
   "source": [
    "# Например, у нас есть вещественное число 3.4. Мы бы хотели получить по отдельности 3 и 0.4. Для этого предназначена функция:\n",
    "\n",
    "# np.modf(a) - разделяет целую часть и дробную на два массива\n",
    "# Функция принимает на вход массив или число, возвращает два массива. Первый содержит дробные части, а второй - целые\n",
    "\n",
    "# Пример\n",
    "\n",
    "arr = np.array([-3, 3.4, -7.2])\n",
    "np.modf(arr) # (array([-0. ,  0.4, -0.2]), array([-3.,  3., -7.]))"
   ]
  },
  {
   "cell_type": "code",
   "execution_count": 64,
   "id": "36db3158",
   "metadata": {},
   "outputs": [
    {
     "data": {
      "text/plain": [
       "(array([-2,  4,  5, -1], dtype=int32), array([1, 0, 1, 0], dtype=int32))"
      ]
     },
     "execution_count": 64,
     "metadata": {},
     "output_type": "execute_result"
    }
   ],
   "source": [
    "# Получить частное и остаток одновременно\n",
    "# np.divmod(x1, x2) - возвращает целую часть от частного и остаток от деления x1 на x2 одновременно\n",
    "# Функция принимает на вход два массива (или массив и число), и возвращает два массива. \n",
    "# Первый содержит целые части от деления x1 на x2, а второй - остатки\n",
    "\n",
    "# Пример\n",
    "\n",
    "arr = np.array([-3, 8, 11, -2])\n",
    "np.divmod(arr, 2) # (array([-2,  4,  5, -1]), array([1, 0, 1, 0]))"
   ]
  },
  {
   "cell_type": "markdown",
   "id": "5f594a02",
   "metadata": {},
   "source": [
    "# ЗАДАЧА !"
   ]
  },
  {
   "cell_type": "code",
   "execution_count": null,
   "id": "a88ca615",
   "metadata": {},
   "outputs": [],
   "source": [
    "\n",
    "\n",
    "# Вводится одномерный целочисленный массив, каждый элемент \n",
    "# коротого представляет собой количество секунд, прошедших \n",
    "# с некоторого стартового момента времени. Нужно вывести эту \n",
    "# информацию в виде часов, минут и секунд, прошедших с того \n",
    "# же стартового момента времени. \n",
    "\n",
    "# Формат входных данных\n",
    "# На вход подается одномерный целочисленный массив, длина всегда равна 10\n",
    "\n",
    "# Формат выходных данных\n",
    "# Программа должна вывести двумерный целочисленный массив, \n",
    "# каждый элемент которого состоит из трех целых чисел: часов, минут, секунд\n",
    "\n",
    "a = np.array([3116, 9616, 9088, 4128, 5091, 5517, 4513, 5213, 9498, 6827])"
   ]
  },
  {
   "cell_type": "code",
   "execution_count": 23,
   "id": "cd465a3c",
   "metadata": {},
   "outputs": [
    {
     "data": {
      "text/plain": [
       "array([3116, 9616, 9088, 4128, 5091, 5517, 4513, 5213, 9498, 6827])"
      ]
     },
     "execution_count": 23,
     "metadata": {},
     "output_type": "execute_result"
    }
   ],
   "source": [
    "a"
   ]
  },
  {
   "cell_type": "code",
   "execution_count": 25,
   "id": "df0c1de5",
   "metadata": {},
   "outputs": [],
   "source": [
    "b = np.divmod(a, 60)"
   ]
  },
  {
   "cell_type": "code",
   "execution_count": 26,
   "id": "a6839dce",
   "metadata": {},
   "outputs": [
    {
     "data": {
      "text/plain": [
       "array([56, 16, 28, 48, 51, 57, 13, 53, 18, 47], dtype=int32)"
      ]
     },
     "execution_count": 26,
     "metadata": {},
     "output_type": "execute_result"
    }
   ],
   "source": [
    "b[1]"
   ]
  },
  {
   "cell_type": "code",
   "execution_count": 27,
   "id": "21050a88",
   "metadata": {},
   "outputs": [],
   "source": [
    "c = np.divmod(b[0], 60)"
   ]
  },
  {
   "cell_type": "code",
   "execution_count": 28,
   "id": "24de2b0f",
   "metadata": {},
   "outputs": [
    {
     "data": {
      "text/plain": [
       "(array([0, 2, 2, 1, 1, 1, 1, 1, 2, 1], dtype=int32),\n",
       " array([51, 40, 31,  8, 24, 31, 15, 26, 38, 53], dtype=int32))"
      ]
     },
     "execution_count": 28,
     "metadata": {},
     "output_type": "execute_result"
    }
   ],
   "source": [
    "c"
   ]
  },
  {
   "cell_type": "code",
   "execution_count": 29,
   "id": "4c9156a7",
   "metadata": {},
   "outputs": [
    {
     "data": {
      "text/plain": [
       "array([56, 16, 28, 48, 51, 57, 13, 53, 18, 47], dtype=int32)"
      ]
     },
     "execution_count": 29,
     "metadata": {},
     "output_type": "execute_result"
    }
   ],
   "source": [
    "b[1]"
   ]
  },
  {
   "cell_type": "code",
   "execution_count": 41,
   "id": "1a5b1ce8",
   "metadata": {},
   "outputs": [],
   "source": [
    "arr = np.zeros([len(a), 3], dtype = np.int32)   "
   ]
  },
  {
   "cell_type": "code",
   "execution_count": 42,
   "id": "9855f0cb",
   "metadata": {},
   "outputs": [
    {
     "data": {
      "text/plain": [
       "array([[0, 0, 0],\n",
       "       [0, 0, 0],\n",
       "       [0, 0, 0],\n",
       "       [0, 0, 0],\n",
       "       [0, 0, 0],\n",
       "       [0, 0, 0],\n",
       "       [0, 0, 0],\n",
       "       [0, 0, 0],\n",
       "       [0, 0, 0],\n",
       "       [0, 0, 0]])"
      ]
     },
     "execution_count": 42,
     "metadata": {},
     "output_type": "execute_result"
    }
   ],
   "source": [
    "arr"
   ]
  },
  {
   "cell_type": "code",
   "execution_count": 46,
   "id": "b0d17aef",
   "metadata": {},
   "outputs": [
    {
     "name": "stdout",
     "output_type": "stream",
     "text": [
      "[[ 0 51 56]\n",
      " [ 2 40 16]\n",
      " [ 2 31 28]\n",
      " [ 1  8 48]\n",
      " [ 1 24 51]\n",
      " [ 1 31 57]\n",
      " [ 1 15 13]\n",
      " [ 1 26 53]\n",
      " [ 2 38 18]\n",
      " [ 1 53 47]]\n"
     ]
    }
   ],
   "source": [
    "for i in range(arr.shape[0]):\n",
    "    arr[i][0] = c[0][i]\n",
    "    arr[i][1] = c[1][i]\n",
    "    arr[i][2] = b[1][i]\n",
    "    \n",
    "    #print(arr[i][0], arr[i][1], arr[i][2])\n",
    "print(arr)\n",
    "    \n",
    "    "
   ]
  },
  {
   "cell_type": "code",
   "execution_count": 51,
   "id": "9724c10b",
   "metadata": {},
   "outputs": [
    {
     "name": "stdout",
     "output_type": "stream",
     "text": [
      "3116 9616 9088 4128 5091 5517 4513 5213 9498 6827\n"
     ]
    }
   ],
   "source": [
    "lst = list(map(int,input().split()))\n",
    "a = np.array(lst)\n",
    "b = np.divmod(a,60)\n",
    "# b[0] - это часы и минуты вместе, без секунд\n",
    "# b[1] - это секунды отдельно\n",
    "c = np.divmod(b[0], 60)\n",
    "#с[0] - это часы отдельно\n",
    "#c[1] - это минуты отдельно \n"
   ]
  },
  {
   "cell_type": "code",
   "execution_count": 52,
   "id": "3ed88007",
   "metadata": {},
   "outputs": [
    {
     "data": {
      "text/plain": [
       "(array([ 51, 160, 151,  68,  84,  91,  75,  86, 158, 113], dtype=int32),\n",
       " array([56, 16, 28, 48, 51, 57, 13, 53, 18, 47], dtype=int32))"
      ]
     },
     "execution_count": 52,
     "metadata": {},
     "output_type": "execute_result"
    }
   ],
   "source": [
    "b"
   ]
  },
  {
   "cell_type": "code",
   "execution_count": 53,
   "id": "44167592",
   "metadata": {},
   "outputs": [
    {
     "data": {
      "text/plain": [
       "(array([0, 2, 2, 1, 1, 1, 1, 1, 2, 1], dtype=int32),\n",
       " array([51, 40, 31,  8, 24, 31, 15, 26, 38, 53], dtype=int32))"
      ]
     },
     "execution_count": 53,
     "metadata": {},
     "output_type": "execute_result"
    }
   ],
   "source": [
    "c"
   ]
  },
  {
   "cell_type": "code",
   "execution_count": null,
   "id": "752a2412",
   "metadata": {},
   "outputs": [],
   "source": []
  },
  {
   "cell_type": "markdown",
   "id": "4320f37c",
   "metadata": {},
   "source": [
    "# Следующая задача"
   ]
  },
  {
   "cell_type": "code",
   "execution_count": null,
   "id": "2080f572",
   "metadata": {},
   "outputs": [],
   "source": [
    "Дробная часть\n",
    "Вводится одномерный массив вещественных чисел. Для каждого из них выведите только дробную часть\n",
    "\n",
    "Формат входных данных\n",
    "Одномерный массив вещественных чисел, длина всегда равна 10\n",
    "\n",
    "Формат выходных данных\n",
    "Программа должна вывести дробную часть каждого элемента\n",
    "\n",
    "Sample Input:\n",
    "\n",
    "17.27 37.06  2.86 85.34 26.25 17.7  57.23 92.93 93.74 91.14\n",
    "Sample Output:\n",
    "\n",
    "[0.27 0.06 0.86 0.34 0.25 0.7  0.23 0.93 0.74 0.14]"
   ]
  },
  {
   "cell_type": "code",
   "execution_count": 55,
   "id": "5466c226",
   "metadata": {},
   "outputs": [
    {
     "name": "stdout",
     "output_type": "stream",
     "text": [
      "17.27 37.06  2.86 85.34 26.25 17.7  57.23 92.93 93.74 91.14\n",
      "[17.27 37.06  2.86 85.34 26.25 17.7  57.23 92.93 93.74 91.14]\n"
     ]
    }
   ],
   "source": [
    "lst = list(map(float, input().split()))\n",
    "a = np.array(lst)\n",
    "print(a)"
   ]
  },
  {
   "cell_type": "code",
   "execution_count": 62,
   "id": "d50b5816",
   "metadata": {},
   "outputs": [
    {
     "name": "stdout",
     "output_type": "stream",
     "text": [
      "[0.27 0.06 0.86 0.34 0.25 0.7  0.23 0.93 0.74 0.14]\n"
     ]
    }
   ],
   "source": [
    "print(np.modf(a)[0])"
   ]
  },
  {
   "cell_type": "code",
   "execution_count": null,
   "id": "1743d09d",
   "metadata": {},
   "outputs": [],
   "source": []
  },
  {
   "cell_type": "markdown",
   "id": "dd71d2c8",
   "metadata": {},
   "source": [
    "# Корни\n",
    "np.sqrt(x) - поэлементное вычисление квадратного корня\n",
    "np.cbrt(x) - поэлементное вычисление кубического корня\n",
    "Если вдруг мы передали в np.sqrt() отрицательное значение, мы получим константу np.nan"
   ]
  },
  {
   "cell_type": "code",
   "execution_count": null,
   "id": "d46648b5",
   "metadata": {},
   "outputs": [],
   "source": [
    "# Пример \n",
    "# Квадратный корень\n",
    "\n",
    "arr =  np.array([625, 100, 81, 2, 3])\n",
    "print(np.sqrt(arr)) # [25. 10. 9. 1.41421356 1.73205081]\n",
    "Кубический корень\n",
    "\n",
    "arr =  np.array([ 27, 512, 343, 343,  27])\n",
    "print(np.cbrt(arr)) # [3. 8. 7. 7. 3.]"
   ]
  },
  {
   "cell_type": "markdown",
   "id": "6272530b",
   "metadata": {},
   "source": [
    "## Абсолютные значения\n",
    "Под абсолютными значениями понимаем положительные. К положительным приводят функции-синонимы:\n",
    "\n",
    "np.absolute(x) - поэлементное вычисление модуля - |x|\n",
    "np.abs(x) - поэлементное вычисление модуля - |x|\n",
    "np.fabs(x) - поэлементное вычисление модуля - |x|"
   ]
  },
  {
   "cell_type": "code",
   "execution_count": null,
   "id": "fd5e0546",
   "metadata": {},
   "outputs": [],
   "source": [
    "Пример\n",
    "arr =  np.array([ 6,  1, -1, -3,  6])\n",
    "print(np.fabs(arr)) # [6. 1. 1. 3. 6.]"
   ]
  },
  {
   "cell_type": "markdown",
   "id": "74ed96e0",
   "metadata": {},
   "source": [
    "### Задача"
   ]
  },
  {
   "cell_type": "code",
   "execution_count": null,
   "id": "cd041917",
   "metadata": {},
   "outputs": [],
   "source": [
    "Сгенерируйте одномерный массив x целых чисел от 0 до n невключительно. Вычислите для каждого значение функции у = ...,\n",
    "результат округлите до двух знаков после запятой"
   ]
  },
  {
   "cell_type": "code",
   "execution_count": 96,
   "id": "e40473fb",
   "metadata": {},
   "outputs": [],
   "source": [
    "n = 7\n",
    "arr = np.linspace(0,n-1, num=n)"
   ]
  },
  {
   "cell_type": "code",
   "execution_count": 97,
   "id": "9b3a64ac",
   "metadata": {},
   "outputs": [
    {
     "data": {
      "text/plain": [
       "array([0., 1., 2., 3., 4., 5., 6.])"
      ]
     },
     "execution_count": 97,
     "metadata": {},
     "output_type": "execute_result"
    }
   ],
   "source": [
    "arr"
   ]
  },
  {
   "cell_type": "code",
   "execution_count": 100,
   "id": "48405613",
   "metadata": {},
   "outputs": [],
   "source": [
    "result = np.round_(np.sqrt((arr/2))*3, 2)"
   ]
  },
  {
   "cell_type": "code",
   "execution_count": 101,
   "id": "df83b462",
   "metadata": {},
   "outputs": [
    {
     "data": {
      "text/plain": [
       "array([0.  , 2.12, 3.  , 3.67, 4.24, 4.74, 5.2 ])"
      ]
     },
     "execution_count": 101,
     "metadata": {},
     "output_type": "execute_result"
    }
   ],
   "source": [
    "result"
   ]
  },
  {
   "cell_type": "code",
   "execution_count": null,
   "id": "ca8bd17f",
   "metadata": {},
   "outputs": [],
   "source": []
  },
  {
   "cell_type": "markdown",
   "id": "c25bf3f4",
   "metadata": {},
   "source": [
    "### Еще задача"
   ]
  },
  {
   "cell_type": "code",
   "execution_count": null,
   "id": "7bf60092",
   "metadata": {},
   "outputs": [],
   "source": [
    "Сгенерируйте одномерный массив x целых чисел от -3 до 3 не включительно. Вычислите для каждого у\n",
    "результат округлите до двух знаков после запятой"
   ]
  },
  {
   "cell_type": "code",
   "execution_count": 104,
   "id": "3fef7a42",
   "metadata": {},
   "outputs": [],
   "source": [
    "arr = np.arange(-3,3)"
   ]
  },
  {
   "cell_type": "code",
   "execution_count": 105,
   "id": "c08e5103",
   "metadata": {},
   "outputs": [
    {
     "data": {
      "text/plain": [
       "array([-3, -2, -1,  0,  1,  2])"
      ]
     },
     "execution_count": 105,
     "metadata": {},
     "output_type": "execute_result"
    }
   ],
   "source": [
    "arr"
   ]
  },
  {
   "cell_type": "code",
   "execution_count": 109,
   "id": "24e85de0",
   "metadata": {},
   "outputs": [],
   "source": [
    "result = np.round_( 5 * np.abs(np.cbrt(arr)), 2  )"
   ]
  },
  {
   "cell_type": "code",
   "execution_count": 110,
   "id": "656ce9f9",
   "metadata": {},
   "outputs": [
    {
     "data": {
      "text/plain": [
       "array([7.21, 6.3 , 5.  , 0.  , 5.  , 6.3 ])"
      ]
     },
     "execution_count": 110,
     "metadata": {},
     "output_type": "execute_result"
    }
   ],
   "source": [
    "result"
   ]
  },
  {
   "cell_type": "code",
   "execution_count": null,
   "id": "e652939c",
   "metadata": {},
   "outputs": [],
   "source": []
  },
  {
   "cell_type": "markdown",
   "id": "82152a9f",
   "metadata": {},
   "source": [
    "# Градусы и радианы"
   ]
  },
  {
   "cell_type": "code",
   "execution_count": null,
   "id": "78f7da06",
   "metadata": {},
   "outputs": [],
   "source": [
    "Вот несколько функций для преобразования градусов радианы по этой формуле и наоборот:\n",
    "\n",
    "np.deg2rad(x) - перевести градусы в радианы\n",
    "np.rad2deg(x) - перевести радианы в градусы\n"
   ]
  },
  {
   "cell_type": "code",
   "execution_count": null,
   "id": "34745edb",
   "metadata": {},
   "outputs": [],
   "source": [
    "# Пример \n",
    "# Положим, у нас есть массив, содержащие градусы и мы хотим получить радианы:\n",
    "\n",
    "degrees = np.array([ 0, 15, 30, 45, 60, 75]) # градусы\n",
    "radians = np.deg2rad(degrees) # [0., 0.26179939, 0.52359878, 0.78539816, 1.04719755, 1.30899694]"
   ]
  },
  {
   "cell_type": "code",
   "execution_count": 113,
   "id": "653223c7",
   "metadata": {},
   "outputs": [
    {
     "data": {
      "image/png": "[encoded data removed]",
      "text/plain": [
       "<Figure size 1200x700 with 2 Axes>"
      ]
     },
     "metadata": {},
     "output_type": "display_data"
    }
   ],
   "source": [
    "import numpy as np\n",
    "import matplotlib.pyplot as plt\n",
    "\n",
    "degrees = np.arange(-361, 361, 5) # сгенерировать градусы\n",
    "x = np.deg2rad(degrees) # перевести градусы в радианы\n",
    "xx = degrees\n",
    "\n",
    "# Настройка размеров подложки\n",
    "plt.figure(figsize=(12, 7))\n",
    "\n",
    "# построить синус\n",
    "plt.subplot(1, 2, 1)\n",
    "plt.plot(xx, np.sin(xx))\n",
    "plt.grid()\n",
    "_ = plt.title(\"y=sin(xx)\") # это синус без перевода в радианы - ошибка, т.к. надо передвать х для синуса в радианах\n",
    "\n",
    "# построить косинус\n",
    "plt.subplot(1, 2, 2)\n",
    "plt.plot(x, np.cos(x))\n",
    "plt.grid()\n",
    "_ = plt.title(\"y=cos(x)\")"
   ]
  },
  {
   "cell_type": "code",
   "execution_count": null,
   "id": "1256efdc",
   "metadata": {},
   "outputs": [],
   "source": [
    "Тангенс и котангенс\n",
    "numpy умеет вычислять только тангенс и делает это следующая функция:\n",
    "\n",
    "np.tan(x) - тангенс\n",
    "Если необходимо вычислить котангенс, то можно использовать следующую формулу: 1/np.tan(x)"
   ]
  },
  {
   "cell_type": "code",
   "execution_count": 117,
   "id": "40aab79e",
   "metadata": {},
   "outputs": [
    {
     "data": {
      "image/png": "[encoded data removed]",
      "text/plain": [
       "<Figure size 1200x300 with 2 Axes>"
      ]
     },
     "metadata": {},
     "output_type": "display_data"
    }
   ],
   "source": [
    "degrees = np.arange(-361, 361, 5) # сгенерировать градусы\n",
    "x = np.deg2rad(degrees) # перевести градусы в радианы\n",
    "\n",
    "# Настройка размеров подложки\n",
    "plt.figure(figsize=(12, 3))\n",
    "\n",
    "# построить тангенс\n",
    "plt.subplot(1, 2, 1)\n",
    "plt.plot(x, np.tan(x))\n",
    "plt.grid()\n",
    "_ = plt.title(\"y=tg(x)\") \n",
    "\n",
    "# построить котангенс\n",
    "plt.subplot(1, 2, 2)\n",
    "plt.plot(x, 1/np.tan(x))\n",
    "plt.grid()\n",
    "_ = plt.title(\"y=ctg(x)\")"
   ]
  },
  {
   "cell_type": "code",
   "execution_count": null,
   "id": "61f5db59",
   "metadata": {},
   "outputs": [],
   "source": []
  },
  {
   "cell_type": "markdown",
   "id": "7b6442c5",
   "metadata": {},
   "source": [
    "# Обратные тригонометрические функции"
   ]
  },
  {
   "cell_type": "code",
   "execution_count": 125,
   "id": "e873eccf",
   "metadata": {},
   "outputs": [],
   "source": [
    "# Обратные тригонометрические функции превращают синусы/косинусы/тангенсы обратно в углы. \n",
    "#Конечно, речь идет об углах в радианах.\n",
    "\n",
    "# arcsin(x) - возвращает арксинус последовательности в радианах\n",
    "# arccos(x) - возвращает арккосинус последовательности в радианах\n",
    "# arctan(x) - возвращает арктангенс последовательности в радианах\n",
    "# arctan2(x, y) - возвращает арктангенс последовательности в радианах"
   ]
  },
  {
   "cell_type": "code",
   "execution_count": null,
   "id": "e5bdcad3",
   "metadata": {},
   "outputs": [],
   "source": []
  },
  {
   "cell_type": "markdown",
   "id": "1e169474",
   "metadata": {},
   "source": [
    "### Задача"
   ]
  },
  {
   "cell_type": "code",
   "execution_count": null,
   "id": "b6c753da",
   "metadata": {},
   "outputs": [],
   "source": [
    "Сгенерируйте одномерный массив x целых чисел от 0 до 7 не включительно. Вычислите для каждого x Функцию ...\n",
    "результат округлите до двух знаков после запятой"
   ]
  },
  {
   "cell_type": "code",
   "execution_count": 127,
   "id": "0a17846f",
   "metadata": {},
   "outputs": [],
   "source": [
    "arr = np.arange(0,7)"
   ]
  },
  {
   "cell_type": "code",
   "execution_count": 128,
   "id": "493166ea",
   "metadata": {},
   "outputs": [
    {
     "data": {
      "text/plain": [
       "array([0, 1, 2, 3, 4, 5, 6])"
      ]
     },
     "execution_count": 128,
     "metadata": {},
     "output_type": "execute_result"
    }
   ],
   "source": [
    "arr"
   ]
  },
  {
   "cell_type": "code",
   "execution_count": 130,
   "id": "1ffc93f9",
   "metadata": {},
   "outputs": [],
   "source": [
    "result = np.round_( (np.sin(arr/2))**2  ,2)"
   ]
  },
  {
   "cell_type": "code",
   "execution_count": 131,
   "id": "a5f896b2",
   "metadata": {},
   "outputs": [
    {
     "data": {
      "text/plain": [
       "array([0.  , 0.23, 0.71, 0.99, 0.83, 0.36, 0.02])"
      ]
     },
     "execution_count": 131,
     "metadata": {},
     "output_type": "execute_result"
    }
   ],
   "source": [
    "result"
   ]
  },
  {
   "cell_type": "code",
   "execution_count": null,
   "id": "dbfce56c",
   "metadata": {},
   "outputs": [],
   "source": []
  },
  {
   "cell_type": "markdown",
   "id": "23886c7e",
   "metadata": {},
   "source": [
    "# Экспонента"
   ]
  },
  {
   "cell_type": "code",
   "execution_count": null,
   "id": "fb6c9563",
   "metadata": {},
   "outputs": [],
   "source": [
    "Экспонента - это функция Y = e**x , где e - постоянная Эйлера (мы ранее рассматривали ее в уроке о константах). \n",
    "В математике эту функцию очень любят за то, что производная экспоненты равна самой экспоненте. \n",
    "\n",
    "В numpy экспоненту вычисляет функция:\n",
    "\n",
    "np.exp(x)"
   ]
  },
  {
   "cell_type": "code",
   "execution_count": 6,
   "id": "efed3e47",
   "metadata": {},
   "outputs": [
    {
     "data": {
      "image/png": "[encoded data removed]",
      "text/plain": [
       "<Figure size 640x480 with 1 Axes>"
      ]
     },
     "metadata": {},
     "output_type": "display_data"
    }
   ],
   "source": [
    "import numpy as np\n",
    "import matplotlib.pyplot as plt\n",
    "\n",
    "x = np.linspace(-2, 5, num=50)\n",
    "y = np.exp(x)\n",
    "\n",
    "plt.plot(x, y)\n",
    "plt.grid()\n",
    "_ = plt.title(\"y=exp(x)\")"
   ]
  },
  {
   "cell_type": "code",
   "execution_count": 13,
   "id": "c3558ac2",
   "metadata": {},
   "outputs": [
    {
     "data": {
      "text/plain": [
       "22026.465794806718"
      ]
     },
     "execution_count": 13,
     "metadata": {},
     "output_type": "execute_result"
    }
   ],
   "source": [
    "np.exp(10)"
   ]
  },
  {
   "cell_type": "code",
   "execution_count": 14,
   "id": "c3a506a2",
   "metadata": {},
   "outputs": [
    {
     "data": {
      "text/plain": [
       "0.36787944117144233"
      ]
     },
     "execution_count": 14,
     "metadata": {},
     "output_type": "execute_result"
    }
   ],
   "source": [
    "np.exp(-1)"
   ]
  },
  {
   "cell_type": "code",
   "execution_count": null,
   "id": "63b85ae0",
   "metadata": {},
   "outputs": [],
   "source": []
  },
  {
   "cell_type": "markdown",
   "id": "eed5546c",
   "metadata": {},
   "source": [
    "# Логарифм"
   ]
  },
  {
   "cell_type": "code",
   "execution_count": null,
   "id": "ed26282a",
   "metadata": {},
   "outputs": [],
   "source": [
    "Логарифм - это степень в которую нужно возвести основание, чтобы получить подлогарифмическое значение. \n",
    "\n",
    "В зависимости от основания логарифм в numpy вычисляют три функции:\n",
    "\n",
    "* np.log(x) - поэлементное вычисление натурального логарифма, то есть логарифма с основанием e. \n",
    "Эта функция является обратной к np.exp(x). В математике ее часто записывают как ln(х) \n",
    "\n",
    "* np.log2(x) - поэлементное вычисление логарифма по основанию 2\n",
    "\n",
    "* np.log10(x) - поэлементное вычисление логарифма по основанию 10\n",
    "\n",
    "Примечания:\n",
    "\n",
    "В numpy нет возможности вычислять логарифм по каким-либо основаниям, кроме e, 2 и 10. \n",
    "В следующем уроке мы разберем, что с этим можно сделать.\n",
    "\n",
    "\n",
    "Сам по себе логарифм не может иметь отрицательное основание или основание, равное нулю. \n",
    "И также не существует степени, в которую можно возвести np.e, 2 или 10 и получить \n",
    "отрицатальное число или 0. Поэтому если мы передаем подобные значения функции \n",
    "np.log()/np.log2()/np.log10(), то в первом случае получаем константу np.nan, а во втором -np.inf.\n",
    "\n"
   ]
  },
  {
   "cell_type": "code",
   "execution_count": 133,
   "id": "dadd9e58",
   "metadata": {},
   "outputs": [
    {
     "data": {
      "image/png": "[encoded data removed]",
      "text/plain": [
       "<Figure size 640x480 with 1 Axes>"
      ]
     },
     "metadata": {},
     "output_type": "display_data"
    }
   ],
   "source": [
    "import numpy as np\n",
    "import matplotlib.pyplot as plt\n",
    "\n",
    "x = np.linspace(0.01, 3, num=50)\n",
    "y = np.log(x)\n",
    "\n",
    "plt.plot(x, y)\n",
    "plt.grid()\n",
    "_ = plt.title(\"y=log(x)\")"
   ]
  },
  {
   "cell_type": "code",
   "execution_count": null,
   "id": "eab0f5ca",
   "metadata": {},
   "outputs": [],
   "source": []
  },
  {
   "cell_type": "markdown",
   "id": "888148f3",
   "metadata": {},
   "source": [
    "### Выбор основания логарифма"
   ]
  },
  {
   "cell_type": "code",
   "execution_count": null,
   "id": "d0bab53c",
   "metadata": {},
   "outputs": [],
   "source": [
    "В математике известна следующая формула: LOG_b_X = LOG_c_X / LOG_c_b\n",
    "\n",
    "Говоря простыми словами, мы можем сами выбрать основание с, \n",
    "вычислить логарифм x по основанию c и поделить его на логарифм b по основанию c и получить LOG_b_X\n",
    "В Numpy - выбирать одно из трех оснований: e, 2 или 10\n",
    "    \n",
    "Например, у нас есть массив со степенями пятерки. Мы бы хотели эти степени получить. \n",
    "Выходит, нам нужно выяснить, в какую степень возводить 5, чтобы получить значение в массиве. \n",
    "Это похоже на то, что нам требуется вычислять логарифм по основанию 5. \n",
    "Попробуем применить формулу выше, за с возьмем основание 2. \n"
   ]
  },
  {
   "cell_type": "code",
   "execution_count": 2,
   "id": "20061d6d",
   "metadata": {},
   "outputs": [],
   "source": [
    "import numpy as np\n",
    "arr = np.array([625, 25, 3125, 390625, 125])\n"
   ]
  },
  {
   "cell_type": "code",
   "execution_count": 3,
   "id": "4215703d",
   "metadata": {},
   "outputs": [
    {
     "data": {
      "text/plain": [
       "array([   625,     25,   3125, 390625,    125])"
      ]
     },
     "execution_count": 3,
     "metadata": {},
     "output_type": "execute_result"
    }
   ],
   "source": [
    "arr"
   ]
  },
  {
   "cell_type": "code",
   "execution_count": 5,
   "id": "7afa5b4a",
   "metadata": {},
   "outputs": [
    {
     "data": {
      "text/plain": [
       "array([4., 2., 5., 8., 3.])"
      ]
     },
     "execution_count": 5,
     "metadata": {},
     "output_type": "execute_result"
    }
   ],
   "source": [
    "np.log(arr)/np.log(5)"
   ]
  },
  {
   "cell_type": "markdown",
   "id": "9e7fe785",
   "metadata": {},
   "source": [
    "# Задача. Сигмойда"
   ]
  },
  {
   "cell_type": "code",
   "execution_count": null,
   "id": "fe596f43",
   "metadata": {},
   "outputs": [],
   "source": [
    "Известно, что функция сигмоиды имеет следующий вид: А = 1 / (1+ np.e**(-x)).\n",
    "    \n",
    "задача вычислить значения сигмоиды для 50 точек на промежутке [-6; 6]. \n",
    "В ответ выведите сумму получившегося массива, округленную до целого значения. \n",
    "\n",
    "Практическое применение\n",
    "\n",
    "Обратите внимание, значения сигмоиды лежат в диапазоне [0; 1], \n",
    "что очень удобно интерпретировать, как некоторую вероятность. \n",
    "На практике для этого и используют сигмоиду в науке о данных. \n",
    "\n",
    "Подсказка. Для генерации 50 точек можно использовать np.linspace"
   ]
  },
  {
   "cell_type": "code",
   "execution_count": 17,
   "id": "7711e7ee",
   "metadata": {},
   "outputs": [],
   "source": [
    "arr = np.linspace(-6,6, num = 50)"
   ]
  },
  {
   "cell_type": "code",
   "execution_count": 18,
   "id": "33aa32c8",
   "metadata": {},
   "outputs": [
    {
     "data": {
      "text/plain": [
       "array([-6.        , -5.75510204, -5.51020408, -5.26530612, -5.02040816,\n",
       "       -4.7755102 , -4.53061224, -4.28571429, -4.04081633, -3.79591837,\n",
       "       -3.55102041, -3.30612245, -3.06122449, -2.81632653, -2.57142857,\n",
       "       -2.32653061, -2.08163265, -1.83673469, -1.59183673, -1.34693878,\n",
       "       -1.10204082, -0.85714286, -0.6122449 , -0.36734694, -0.12244898,\n",
       "        0.12244898,  0.36734694,  0.6122449 ,  0.85714286,  1.10204082,\n",
       "        1.34693878,  1.59183673,  1.83673469,  2.08163265,  2.32653061,\n",
       "        2.57142857,  2.81632653,  3.06122449,  3.30612245,  3.55102041,\n",
       "        3.79591837,  4.04081633,  4.28571429,  4.53061224,  4.7755102 ,\n",
       "        5.02040816,  5.26530612,  5.51020408,  5.75510204,  6.        ])"
      ]
     },
     "execution_count": 18,
     "metadata": {},
     "output_type": "execute_result"
    }
   ],
   "source": [
    "arr"
   ]
  },
  {
   "cell_type": "code",
   "execution_count": 19,
   "id": "a4e67b21",
   "metadata": {},
   "outputs": [],
   "source": [
    "sigmoid = 1 / (1+ np.e**(-arr))"
   ]
  },
  {
   "cell_type": "code",
   "execution_count": 20,
   "id": "ca4b4168",
   "metadata": {},
   "outputs": [
    {
     "data": {
      "text/plain": [
       "array([0.00247262, 0.00315659, 0.00402898, 0.00514124, 0.00655853,\n",
       "       0.00836325, 0.01065923, 0.01357692, 0.01727929, 0.0219688 ,\n",
       "       0.02789489, 0.03536175, 0.04473535, 0.05644827, 0.07100002,\n",
       "       0.08894941, 0.11089489, 0.13743793, 0.16912564, 0.2063713 ,\n",
       "       0.2493577 , 0.29793663, 0.35154728, 0.40918225, 0.46942595,\n",
       "       0.53057405, 0.59081775, 0.64845272, 0.70206337, 0.7506423 ,\n",
       "       0.7936287 , 0.83087436, 0.86256207, 0.88910511, 0.91105059,\n",
       "       0.92899998, 0.94355173, 0.95526465, 0.96463825, 0.97210511,\n",
       "       0.9780312 , 0.98272071, 0.98642308, 0.98934077, 0.99163675,\n",
       "       0.99344147, 0.99485876, 0.99597102, 0.99684341, 0.99752738])"
      ]
     },
     "execution_count": 20,
     "metadata": {},
     "output_type": "execute_result"
    }
   ],
   "source": [
    "sigmoid"
   ]
  },
  {
   "cell_type": "code",
   "execution_count": 21,
   "id": "0d5ebde7",
   "metadata": {},
   "outputs": [
    {
     "data": {
      "image/png": "[encoded data removed]",
      "text/plain": [
       "<Figure size 640x480 with 1 Axes>"
      ]
     },
     "metadata": {},
     "output_type": "display_data"
    }
   ],
   "source": [
    "import matplotlib.pyplot as plt\n",
    "\n",
    "plt.plot(arr, sigmoid)\n",
    "plt.grid()\n",
    "_ = plt.title(\"sigmoid\")"
   ]
  },
  {
   "cell_type": "code",
   "execution_count": 22,
   "id": "9c70e32a",
   "metadata": {},
   "outputs": [
    {
     "data": {
      "text/plain": [
       "24.999999999999996"
      ]
     },
     "execution_count": 22,
     "metadata": {},
     "output_type": "execute_result"
    }
   ],
   "source": [
    "np.sum(sigmoid)"
   ]
  },
  {
   "cell_type": "code",
   "execution_count": 23,
   "id": "a24e0f98",
   "metadata": {},
   "outputs": [
    {
     "data": {
      "text/plain": [
       "25.0"
      ]
     },
     "execution_count": 23,
     "metadata": {},
     "output_type": "execute_result"
    }
   ],
   "source": [
    "np.round_(np.sum(sigmoid))"
   ]
  },
  {
   "cell_type": "code",
   "execution_count": null,
   "id": "a029166c",
   "metadata": {},
   "outputs": [],
   "source": []
  },
  {
   "cell_type": "markdown",
   "id": "e56d0239",
   "metadata": {},
   "source": [
    "# НОД и НОК"
   ]
  },
  {
   "cell_type": "code",
   "execution_count": null,
   "id": "163b8899",
   "metadata": {},
   "outputs": [],
   "source": [
    "В numpy даже можно вычислять наибольший общий делитель (НОД) и наименьшее общее кратное (НОК) с помощью функций. \n",
    "Так, например, гораздо легче решается задача шифрования алгоритмом RSA. \n",
    "\n",
    "Итак, НОД и НОК: Greatest common divisor & Least common multiple\n",
    "\n",
    "* np.gcd(a, b) - наибольший общий делитель для каждой пары элементов a и b\n",
    "* np.lcm(a, b) - наименьшее общее кратное для каждой пары элементов a и b"
   ]
  },
  {
   "cell_type": "code",
   "execution_count": null,
   "id": "d2eb7bda",
   "metadata": {},
   "outputs": [],
   "source": [
    "Примеры"
   ]
  },
  {
   "cell_type": "code",
   "execution_count": null,
   "id": "043beeed",
   "metadata": {},
   "outputs": [],
   "source": [
    "1. Два массива\n",
    "\n",
    "a1 = np.array([3, 9, 12, 36])\n",
    "a2 = np.array([4, 8, 12, 3])\n",
    "\n",
    "print(np.gcd(a1, a2)) # [ 1  1 12  3]\n",
    "print(np.lcm(a1, a2)) # [12 72 12 36]"
   ]
  },
  {
   "cell_type": "code",
   "execution_count": null,
   "id": "b35695c4",
   "metadata": {},
   "outputs": [],
   "source": [
    "# 2. Массив и число \n",
    "\n",
    "a1 = np.array([3, 9, 12, 36])\n",
    "\n",
    "print(np.gcd(a1, 12)) # [ 3  3 12 12]\n",
    "print(np.lcm(a1, 12)) # [12 36 12 36]"
   ]
  },
  {
   "cell_type": "code",
   "execution_count": 25,
   "id": "14dbbecf",
   "metadata": {},
   "outputs": [
    {
     "name": "stdout",
     "output_type": "stream",
     "text": [
      "12\n",
      "36\n"
     ]
    }
   ],
   "source": [
    "# 3. Число и число\n",
    "\n",
    "print(np.gcd(36, 12)) # 12\n",
    "print(np.lcm(36, 12)) # 36"
   ]
  },
  {
   "cell_type": "markdown",
   "id": "aa13a4f2",
   "metadata": {},
   "source": [
    "# Задачи по всей теме\n"
   ]
  },
  {
   "cell_type": "markdown",
   "id": "07037710",
   "metadata": {},
   "source": [
    "# Задача (НОД - greatest common devisor)"
   ]
  },
  {
   "cell_type": "code",
   "execution_count": null,
   "id": "b92739fd",
   "metadata": {},
   "outputs": [],
   "source": [
    "Вводится целое число, выведите все НОД между всеми числами в диапазоне от 2 до 10 (включительно) и введенным числом\n",
    "\n",
    "Формат входных данных\n",
    "На вход единственное целое число\n",
    "\n",
    "Формат выходных данных\n",
    "Программа должна вывести одномерный целочисленный массив, содержащий НОД"
   ]
  },
  {
   "cell_type": "code",
   "execution_count": 42,
   "id": "4c527fa8",
   "metadata": {},
   "outputs": [
    {
     "ename": "KeyboardInterrupt",
     "evalue": "Interrupted by user",
     "output_type": "error",
     "traceback": [
      "\u001b[1;31m---------------------------------------------------------------------------\u001b[0m",
      "\u001b[1;31mKeyboardInterrupt\u001b[0m                         Traceback (most recent call last)",
      "Cell \u001b[1;32mIn[42], line 1\u001b[0m\n\u001b[1;32m----> 1\u001b[0m n \u001b[38;5;241m=\u001b[39m \u001b[38;5;28mint\u001b[39m(\u001b[38;5;28;43minput\u001b[39;49m\u001b[43m(\u001b[49m\u001b[43m)\u001b[49m)\n\u001b[0;32m      2\u001b[0m arr \u001b[38;5;241m=\u001b[39m np\u001b[38;5;241m.\u001b[39marange(\u001b[38;5;241m2\u001b[39m,\u001b[38;5;241m11\u001b[39m)\n\u001b[0;32m      4\u001b[0m result \u001b[38;5;241m=\u001b[39m np\u001b[38;5;241m.\u001b[39mgcd(arr,n)\n",
      "File \u001b[1;32m~\\AppData\\Local\\Programs\\Python\\Python310\\lib\\site-packages\\ipykernel\\kernelbase.py:1175\u001b[0m, in \u001b[0;36mKernel.raw_input\u001b[1;34m(self, prompt)\u001b[0m\n\u001b[0;32m   1171\u001b[0m \u001b[38;5;28;01mif\u001b[39;00m \u001b[38;5;129;01mnot\u001b[39;00m \u001b[38;5;28mself\u001b[39m\u001b[38;5;241m.\u001b[39m_allow_stdin:\n\u001b[0;32m   1172\u001b[0m     \u001b[38;5;28;01mraise\u001b[39;00m StdinNotImplementedError(\n\u001b[0;32m   1173\u001b[0m         \u001b[38;5;124m\"\u001b[39m\u001b[38;5;124mraw_input was called, but this frontend does not support input requests.\u001b[39m\u001b[38;5;124m\"\u001b[39m\n\u001b[0;32m   1174\u001b[0m     )\n\u001b[1;32m-> 1175\u001b[0m \u001b[38;5;28;01mreturn\u001b[39;00m \u001b[38;5;28;43mself\u001b[39;49m\u001b[38;5;241;43m.\u001b[39;49m\u001b[43m_input_request\u001b[49m\u001b[43m(\u001b[49m\n\u001b[0;32m   1176\u001b[0m \u001b[43m    \u001b[49m\u001b[38;5;28;43mstr\u001b[39;49m\u001b[43m(\u001b[49m\u001b[43mprompt\u001b[49m\u001b[43m)\u001b[49m\u001b[43m,\u001b[49m\n\u001b[0;32m   1177\u001b[0m \u001b[43m    \u001b[49m\u001b[38;5;28;43mself\u001b[39;49m\u001b[38;5;241;43m.\u001b[39;49m\u001b[43m_parent_ident\u001b[49m\u001b[43m[\u001b[49m\u001b[38;5;124;43m\"\u001b[39;49m\u001b[38;5;124;43mshell\u001b[39;49m\u001b[38;5;124;43m\"\u001b[39;49m\u001b[43m]\u001b[49m\u001b[43m,\u001b[49m\n\u001b[0;32m   1178\u001b[0m \u001b[43m    \u001b[49m\u001b[38;5;28;43mself\u001b[39;49m\u001b[38;5;241;43m.\u001b[39;49m\u001b[43mget_parent\u001b[49m\u001b[43m(\u001b[49m\u001b[38;5;124;43m\"\u001b[39;49m\u001b[38;5;124;43mshell\u001b[39;49m\u001b[38;5;124;43m\"\u001b[39;49m\u001b[43m)\u001b[49m\u001b[43m,\u001b[49m\n\u001b[0;32m   1179\u001b[0m \u001b[43m    \u001b[49m\u001b[43mpassword\u001b[49m\u001b[38;5;241;43m=\u001b[39;49m\u001b[38;5;28;43;01mFalse\u001b[39;49;00m\u001b[43m,\u001b[49m\n\u001b[0;32m   1180\u001b[0m \u001b[43m\u001b[49m\u001b[43m)\u001b[49m\n",
      "File \u001b[1;32m~\\AppData\\Local\\Programs\\Python\\Python310\\lib\\site-packages\\ipykernel\\kernelbase.py:1217\u001b[0m, in \u001b[0;36mKernel._input_request\u001b[1;34m(self, prompt, ident, parent, password)\u001b[0m\n\u001b[0;32m   1214\u001b[0m             \u001b[38;5;28;01mbreak\u001b[39;00m\n\u001b[0;32m   1215\u001b[0m \u001b[38;5;28;01mexcept\u001b[39;00m \u001b[38;5;167;01mKeyboardInterrupt\u001b[39;00m:\n\u001b[0;32m   1216\u001b[0m     \u001b[38;5;66;03m# re-raise KeyboardInterrupt, to truncate traceback\u001b[39;00m\n\u001b[1;32m-> 1217\u001b[0m     \u001b[38;5;28;01mraise\u001b[39;00m \u001b[38;5;167;01mKeyboardInterrupt\u001b[39;00m(\u001b[38;5;124m\"\u001b[39m\u001b[38;5;124mInterrupted by user\u001b[39m\u001b[38;5;124m\"\u001b[39m) \u001b[38;5;28;01mfrom\u001b[39;00m \u001b[38;5;28mNone\u001b[39m\n\u001b[0;32m   1218\u001b[0m \u001b[38;5;28;01mexcept\u001b[39;00m \u001b[38;5;167;01mException\u001b[39;00m:\n\u001b[0;32m   1219\u001b[0m     \u001b[38;5;28mself\u001b[39m\u001b[38;5;241m.\u001b[39mlog\u001b[38;5;241m.\u001b[39mwarning(\u001b[38;5;124m\"\u001b[39m\u001b[38;5;124mInvalid Message:\u001b[39m\u001b[38;5;124m\"\u001b[39m, exc_info\u001b[38;5;241m=\u001b[39m\u001b[38;5;28;01mTrue\u001b[39;00m)\n",
      "\u001b[1;31mKeyboardInterrupt\u001b[0m: Interrupted by user"
     ]
    }
   ],
   "source": [
    "n = int(input())\n",
    "arr = np.arange(2,11)\n",
    "\n",
    "result = np.gcd(arr,n)\n",
    "print(result)"
   ]
  },
  {
   "cell_type": "markdown",
   "id": "01916237",
   "metadata": {},
   "source": [
    "# Задача сумма логарифмов"
   ]
  },
  {
   "cell_type": "code",
   "execution_count": null,
   "id": "03959245",
   "metadata": {},
   "outputs": [],
   "source": [
    "В уроке про суммы и произведения мы решали задачу поиска вероятности независимых событий, используя форумулу:\n",
    "    \n",
    "P(a1, a2, a3 ...) = P(a1) * P(a2) * P(a3) * P(...) = П(Pai)\n",
    "\n",
    "Однако произведение - это трудоемкое вычисление для компьютера, поэтому его иногда \n",
    "заменяют на сумму логарифмов, при этом нужно не забыть вернуться к обычной \n",
    "шкале, то есть возвести обратно в степень. То есть та же самая формула \n",
    "запишется следующим образом (если за основание логарифма выбрать e):\n",
    "    \n",
    "P(a1, a2, a3 ...) = exp (LOG(P(a1)) + LOG(P(a2) + LOG(P(a3)) + LOG(P(a...))) = exp (SUM(LOG(P(ai))))\n",
    "                    \n",
    "Исходный массив вероятностией:\n",
    "                         \n",
    "arr =  np.array([0.03788598, 0.53880079, 0.90450334, 0.41759626, 0.63216067, 0.22482732, 0.20143854])\n",
    "                         \n",
    "Формат входных данных\n",
    "На вход единственное целое число n - количество n-первых элементов массива\n",
    "\n",
    "Формат выходных данных\n",
    "Программа должна вывести единственное вещественное число с округлением до шести знаков после запятой                   \n"
   ]
  },
  {
   "cell_type": "code",
   "execution_count": 39,
   "id": "f63d3a17",
   "metadata": {},
   "outputs": [
    {
     "name": "stdout",
     "output_type": "stream",
     "text": [
      "7\n",
      "0.000221\n"
     ]
    }
   ],
   "source": [
    "arr =  np.array([0.03788598, 0.53880079, 0.90450334, 0.41759626, 0.63216067, 0.22482732, 0.20143854])\n",
    "n = int(input())\n",
    "\n",
    "\n",
    "result = np.exp(np.sum(np.log(arr[:n])))\n",
    "print(np.round(result, 6))"
   ]
  },
  {
   "cell_type": "markdown",
   "id": "8c7d8b98",
   "metadata": {},
   "source": [
    "# Задача Энтропия"
   ]
  },
  {
   "cell_type": "code",
   "execution_count": null,
   "id": "4e93ef35",
   "metadata": {},
   "outputs": [],
   "source": [
    "Дана формула информационной энтропии:\n",
    "    \n",
    "    H(x) = - SUM [Pi * log2(Pi)]\n",
    "    \n",
    "    где H(x) - это энтропия, Pi - вероятность i-того события\n",
    "    \n",
    "Дан массив вероятностей каджого события, вычислите для него энтропию. \n",
    "Ответ округлите с помощью np.around() до трех знаков после запятой\n",
    "\n",
    "p = np.array([0.36, 0.013, 0.02, 0.335, 0.12, 0.007, 0.08, 0.03, 0.026, 0.009])\n"
   ]
  },
  {
   "cell_type": "code",
   "execution_count": 43,
   "id": "064fb5a0",
   "metadata": {},
   "outputs": [],
   "source": [
    "p = np.array([0.36, 0.013, 0.02, 0.335, 0.12, 0.007, 0.08, 0.03, 0.026, 0.009])"
   ]
  },
  {
   "cell_type": "code",
   "execution_count": 44,
   "id": "fa70a590",
   "metadata": {},
   "outputs": [
    {
     "data": {
      "text/plain": [
       "array([0.36 , 0.013, 0.02 , 0.335, 0.12 , 0.007, 0.08 , 0.03 , 0.026,\n",
       "       0.009])"
      ]
     },
     "execution_count": 44,
     "metadata": {},
     "output_type": "execute_result"
    }
   ],
   "source": [
    "p"
   ]
  },
  {
   "cell_type": "code",
   "execution_count": 47,
   "id": "b36ca492",
   "metadata": {},
   "outputs": [
    {
     "name": "stdout",
     "output_type": "stream",
     "text": [
      "2.312\n"
     ]
    }
   ],
   "source": [
    "entropy = -1* np.sum(p * np.log2(p))\n",
    "print(np.around(entropy, 3))"
   ]
  },
  {
   "cell_type": "markdown",
   "id": "8f6bc2ef",
   "metadata": {},
   "source": [
    "# Задача Гиперболический тангенс"
   ]
  },
  {
   "cell_type": "code",
   "execution_count": null,
   "id": "c9e87d13",
   "metadata": {},
   "outputs": [],
   "source": [
    "Функция гиперболического тангенса имеет вид:\n",
    "    \n",
    "    f(x) = tanh(x) = (2 / (1+e**(-2x)) - 1\n",
    "                      \n",
    "                      \n",
    "Вычислите гиперболический тангенс для n точек в промежутке [-5; 5]. \n",
    "Сгенерируйте точки таким образом, чтобы расстояние между каждой парой соседних точек было равным\n",
    "\n",
    "Формат входных данных\n",
    "На вход подается единственное целое число n - количество точек в промежутке [-5; 5]\n",
    "\n",
    "Формат выходных данных\n",
    "Программа должна вывести массив, содержащий n элементов, каждый должен быть округлен до трех знаков после запятой"
   ]
  },
  {
   "cell_type": "code",
   "execution_count": 65,
   "id": "a082bf5e",
   "metadata": {},
   "outputs": [
    {
     "name": "stdout",
     "output_type": "stream",
     "text": [
      "10\n",
      "[-5.         -3.88888889 -2.77777778 -1.66666667 -0.55555556  0.55555556\n",
      "  1.66666667  2.77777778  3.88888889  5.        ]\n"
     ]
    }
   ],
   "source": [
    "n = int(input())\n",
    "arr = np.linspace(-5,5, num=n)\n",
    "print(arr)"
   ]
  },
  {
   "cell_type": "code",
   "execution_count": 66,
   "id": "e2d6db1e",
   "metadata": {},
   "outputs": [
    {
     "name": "stdout",
     "output_type": "stream",
     "text": [
      "[-1.    -0.999 -0.992 -0.931 -0.505  0.505  0.931  0.992  0.999  1.   ]\n"
     ]
    }
   ],
   "source": [
    "tanh = (2 / ( 1 + (np.exp(-2*arr) ))) - 1 \n",
    "print(np.around(tanh, 3))"
   ]
  },
  {
   "cell_type": "code",
   "execution_count": 61,
   "id": "d9544cbd",
   "metadata": {},
   "outputs": [
    {
     "data": {
      "text/plain": [
       "array([-0.9999092 , -0.93110961,  0.93110961,  0.9999092 ])"
      ]
     },
     "execution_count": 61,
     "metadata": {},
     "output_type": "execute_result"
    }
   ],
   "source": [
    "tanh"
   ]
  },
  {
   "cell_type": "code",
   "execution_count": null,
   "id": "a6314e57",
   "metadata": {},
   "outputs": [],
   "source": []
  },
  {
   "cell_type": "markdown",
   "id": "a0c9d31d",
   "metadata": {},
   "source": [
    "# Задача Евклидово расстояние"
   ]
  },
  {
   "cell_type": "code",
   "execution_count": null,
   "id": "d2c69621",
   "metadata": {},
   "outputs": [],
   "source": [
    "Евклидово расстояние - расстояние между двумя точками двумерного (или трехмерного) пространства. \n",
    "Для двумерного пространства расстояние вычисляется по формуле:\n",
    "    \n",
    "d = sqrt ((Xa - Xb)**2 + (Ya - Yb)**2 )\n",
    "\n",
    "Даны два двумерных массива, нулевая строка каждого массива равняется x, а первая - y. \n",
    "Вычислите Евклидово расстояние для каждой пары точек, ответ округлите до двух знаков после запятой. "
   ]
  },
  {
   "cell_type": "code",
   "execution_count": 67,
   "id": "a2bfe252",
   "metadata": {},
   "outputs": [],
   "source": [
    "a = np.array([[5.28135802, 8.99567392, 4.80832731, 4.56289073, 5.32543218],\n",
    "              [7.45012263, 9.07639731, 3.71622281, 6.19068286, 9.93908787]])\n",
    "b = np.array([[5.13488196, 9.6319213 , 2.65604052, 2.17535071, 2.80772246],\n",
    "              [8.68897583, 1.97360593, 9.57921605, 5.63588293, 5.79580867]])"
   ]
  },
  {
   "cell_type": "code",
   "execution_count": 70,
   "id": "770f98b2",
   "metadata": {},
   "outputs": [
    {
     "name": "stdout",
     "output_type": "stream",
     "text": [
      "[1.25 7.13 6.25 2.45 4.85]\n"
     ]
    }
   ],
   "source": [
    "result = np.sqrt( (a[0] - b[0])**2 +   (a[1] - b[1])**2)\n",
    "print(np.round(result, 2))"
   ]
  },
  {
   "cell_type": "code",
   "execution_count": 69,
   "id": "7aeba634",
   "metadata": {},
   "outputs": [
    {
     "data": {
      "text/plain": [
       "array([1.24748246, 7.13123104, 6.24556068, 2.45115285, 4.84825997])"
      ]
     },
     "execution_count": 69,
     "metadata": {},
     "output_type": "execute_result"
    }
   ],
   "source": []
  },
  {
   "cell_type": "code",
   "execution_count": null,
   "id": "bfa4a2db",
   "metadata": {},
   "outputs": [],
   "source": []
  },
  {
   "cell_type": "markdown",
   "id": "0c281b13",
   "metadata": {},
   "source": [
    "# Задача Расстояние между Красной площадью и Эрмитажем"
   ]
  },
  {
   "cell_type": "code",
   "execution_count": null,
   "id": "d20835a2",
   "metadata": {},
   "outputs": [],
   "source": [
    "Расстояние между двумя точками на планете (ввиду ее шаровидной формы) нельзя посчитать с помощью Евклидовой метрики. \n",
    "Но можно посчитать по такой формуле:\n",
    "     \n",
    "d = 2 * r * arcsin (sqrt ( sin((fi_2 - fi_1)/2))**2 + cos(fi_1) * cos(fi_2) * (sin (lambda_2 - lambda_1)/2)**2)\n",
    "\n",
    "где d - это расстояние между двумя точками\n",
    "r - радиус планеты\n",
    "fi_2, fi_1 - широта точек в радианах\n",
    "lambda_2 - lambda_1 - долгота точек в радианах\n",
    "\n",
    "Требуется найти расстояние между Красной площадью и Эрмитажем (в км), радиус Земли вводится с клавиатуры,\n",
    "является целым числом\n",
    "\n",
    "Координаты Красной площади - 55.7539° северной широты, 37.6208° восточной долготы, \n",
    "а для Эрмитажа — 59.9398° северной широты и 30.3146° восточной долготы. \n",
    "\n",
    "Ответ округлите до двух знаков после запятой\n",
    "\n",
    "Источник задачи: https://congyuzhou.medium.com/расстояние-между-двумя-точками-на-поверхности-земли-a398352bfbde"
   ]
  },
  {
   "cell_type": "code",
   "execution_count": 83,
   "id": "b9645822",
   "metadata": {},
   "outputs": [],
   "source": [
    "coord_kp_deg = [55.7539, 37.6208]\n",
    "coord_kp = np.deg2rad(np.array(coord_deg))\n",
    "\n",
    "coord_ermitage_deg = [59.9398, 30.3146]\n",
    "coord_ermitage = np.deg2rad (np.array([59.9398, 30.3146]))"
   ]
  },
  {
   "cell_type": "code",
   "execution_count": 97,
   "id": "68e51de6",
   "metadata": {},
   "outputs": [
    {
     "name": "stdout",
     "output_type": "stream",
     "text": [
      "6371\n",
      "634.57\n"
     ]
    }
   ],
   "source": [
    "r = int(input())\n",
    "d = 2 * r * np.arcsin (  np.sqrt  (  (np.sin((coord_ermitage[0] - coord_kp[0])/2))**2 + np.cos(coord_kp[0])             \n",
    "* np.cos(coord_ermitage[0]) * (np.sin ((coord_ermitage[1] - coord_kp[1])/2))**2))\n",
    "print(np.round(d,2))"
   ]
  },
  {
   "cell_type": "code",
   "execution_count": null,
   "id": "ccb3d877",
   "metadata": {},
   "outputs": [],
   "source": []
  },
  {
   "cell_type": "markdown",
   "id": "69236257",
   "metadata": {},
   "source": [
    "# Задача Нейрон"
   ]
  },
  {
   "cell_type": "code",
   "execution_count": null,
   "id": "970d7a07",
   "metadata": {},
   "outputs": [],
   "source": [
    "Нейронные сети умеют распознавать лица, классифицировать и переводить тексты. \n",
    "Идея нейронных сетей примерно в следующем: нейронная сеть состоит из нейронов, \n",
    "каждый нейрон - это число. Чтобы его вычислить на вход подаются некоторые \n",
    "признаки (обычно в виде чисел, хотя необязательно), в соответствии с \n",
    "важностью каждого признака принимается решение о наиболее вероятном итоговом значении нейрона. \n",
    "В зависимости от итогового значения нейрона принимается решение о наиболее вероятном ответе. \n",
    "\n",
    "Значение нейрона задается следующей формулой:\n",
    "    \n",
    "Y = SUM(weight(i) * input(i)) + bias\n",
    "\n",
    "где \n",
    "\n",
    "Y - значение нейрона\n",
    "weight - вес \n",
    "input - значение входа\n",
    "bias -  инициализирующее значение\n",
    "\n",
    "В задании даны веса и входы. Вычислите и выведите значение нейрона. \n",
    "\n",
    "Подробнее про нейроны и функции активации: https://neurohive.io/ru/osnovy-data-science/activation-functions/\n",
    "\n",
    "Формат входных данных\n",
    "На вход подается единственное целое число - bias\n",
    "\n",
    "Формат выходных данных\n",
    "Программа должна вывести вещественное число - значение нейрона.\n",
    "\n"
   ]
  },
  {
   "cell_type": "code",
   "execution_count": 98,
   "id": "8cd06341",
   "metadata": {},
   "outputs": [
    {
     "name": "stdout",
     "output_type": "stream",
     "text": [
      "3\n",
      "4.3356\n"
     ]
    }
   ],
   "source": [
    "bias = int(input())\n",
    "weights = np.array([0.77, 0.38, 0.38, 0.19, 0.2 ])\n",
    "inputs = np.array([0.98, 0.71, 0.54, 0.4 , 0.15])\n",
    "\n",
    "result = np.sum(weights * inputs) + bias\n",
    "print(result)"
   ]
  },
  {
   "cell_type": "code",
   "execution_count": null,
   "id": "c70b2b37",
   "metadata": {},
   "outputs": [],
   "source": []
  },
  {
   "cell_type": "markdown",
   "id": "49300dfa",
   "metadata": {},
   "source": [
    "# Задача Свертка ядром"
   ]
  },
  {
   "cell_type": "code",
   "execution_count": null,
   "id": "b498375f",
   "metadata": {},
   "outputs": [],
   "source": [
    "сначала нужно взять срез из большей по размерности матрицы, чтобы получилось две матрицы 3х3. \n",
    "Например, они называются m1 и m2. Затем применяем умножение m1 * m2. Тогда элемент c \n",
    "индексом [0,0] матрицы m1 перемножится на элемент c индексом [0,0] матрицы m2, c \n",
    "индексом [0,1] перемножится на элемент c индексом [0,1] и так далее. \n",
    "Из двух матриц 3х3 получится одна, у нее и вычислим сумму элементов с \n",
    "помощью np.sum() и получим одно число - свернем. Так мы поступаем с \n",
    "одним срезом большей матрицы, а наша задача взять все \n",
    "возможные срезы и к каждому применить такие же действия.\n",
    "\n"
   ]
  },
  {
   "cell_type": "code",
   "execution_count": 121,
   "id": "36aeea7d",
   "metadata": {
    "scrolled": true
   },
   "outputs": [
    {
     "name": "stdout",
     "output_type": "stream",
     "text": [
      "7\n",
      "[[0. 0. 0. 0. 0. 0. 0.]\n",
      " [0. 0. 0. 0. 0. 0. 0.]\n",
      " [0. 0. 0. 0. 0. 0. 0.]\n",
      " [0. 0. 0. 0. 0. 0. 0.]\n",
      " [0. 0. 0. 0. 0. 0. 0.]\n",
      " [0. 0. 0. 0. 0. 0. 0.]\n",
      " [0. 0. 0. 0. 0. 0. 0.]]\n"
     ]
    }
   ],
   "source": [
    "n = int(input())\n",
    "arr = np.zeros((n, n))\n",
    "print(arr)"
   ]
  },
  {
   "cell_type": "code",
   "execution_count": 123,
   "id": "c7559907",
   "metadata": {
    "scrolled": true
   },
   "outputs": [
    {
     "name": "stdout",
     "output_type": "stream",
     "text": [
      "8 3 5 6 9 1 7 8 5 8 1 2 9 2 1 4 4 7 5 7 3 9 7 6 4 2 2 8 3 6 5 1 2 9 2 3 5 1 5 8 3 6 4 3 5 9 1 7 7\n",
      "[[8 3 5 6 9 1 7]\n",
      " [8 5 8 1 2 9 2]\n",
      " [1 4 4 7 5 7 3]\n",
      " [9 7 6 4 2 2 8]\n",
      " [3 6 5 1 2 9 2]\n",
      " [3 5 1 5 8 3 6]\n",
      " [4 3 5 9 1 7 7]]\n"
     ]
    }
   ],
   "source": [
    "arr = np.array(list(map(int, input().split()))).reshape(n,n)\n",
    "\n",
    "print(arr)    "
   ]
  },
  {
   "cell_type": "code",
   "execution_count": null,
   "id": "2f610d04",
   "metadata": {},
   "outputs": [],
   "source": []
  },
  {
   "cell_type": "code",
   "execution_count": 105,
   "id": "d196a97d",
   "metadata": {},
   "outputs": [],
   "source": [
    "core = np.array([[4, 7, 1],\n",
    "                 [2, 4, 3],\n",
    "                 [3, 6, 1]])"
   ]
  },
  {
   "cell_type": "code",
   "execution_count": 111,
   "id": "fc6a1d9a",
   "metadata": {},
   "outputs": [
    {
     "name": "stdout",
     "output_type": "stream",
     "text": [
      "[[8. 3. 5.]\n",
      " [8. 5. 8.]\n",
      " [1. 4. 4.]]\n"
     ]
    }
   ],
   "source": [
    "a = arr[:3, :3] #сначала нужно взять срез из большей по размерности матрицы, чтобы получилось две матрицы 3х3.\n",
    "print(a)"
   ]
  },
  {
   "cell_type": "code",
   "execution_count": null,
   "id": "0f535179",
   "metadata": {},
   "outputs": [],
   "source": [
    "# Затем применяем умножение m1 * m2. Тогда элемент c \n",
    "# индексом [0,0] матрицы m1 перемножится на элемент c индексом [0,0] матрицы m2, c \n",
    "# индексом [0,1] перемножится на элемент c индексом [0,1] и так далее. "
   ]
  },
  {
   "cell_type": "code",
   "execution_count": 109,
   "id": "6772b7a6",
   "metadata": {},
   "outputs": [
    {
     "data": {
      "text/plain": [
       "array([[32., 21.,  5.],\n",
       "       [16., 20., 24.],\n",
       "       [ 3., 24.,  4.]])"
      ]
     },
     "execution_count": 109,
     "metadata": {},
     "output_type": "execute_result"
    }
   ],
   "source": [
    "a * core"
   ]
  },
  {
   "cell_type": "code",
   "execution_count": 112,
   "id": "5dcf0ea2",
   "metadata": {},
   "outputs": [],
   "source": [
    "# Из двух матриц 3х3 получится одна, у нее и вычислим сумму элементов с \n",
    "# помощью np.sum() и получим одно число - свернем.\n",
    "s = np.sum(a*core)"
   ]
  },
  {
   "cell_type": "code",
   "execution_count": 113,
   "id": "248562d9",
   "metadata": {},
   "outputs": [
    {
     "data": {
      "text/plain": [
       "149.0"
      ]
     },
     "execution_count": 113,
     "metadata": {},
     "output_type": "execute_result"
    }
   ],
   "source": [
    "s"
   ]
  },
  {
   "cell_type": "code",
   "execution_count": null,
   "id": "c96545a2",
   "metadata": {},
   "outputs": [],
   "source": [
    "# Так мы поступаем с \n",
    "# одним срезом большей матрицы, а наша задача взять все \n",
    "# возможные срезы и к каждому применить такие же действия."
   ]
  },
  {
   "cell_type": "code",
   "execution_count": 118,
   "id": "750408bb",
   "metadata": {},
   "outputs": [
    {
     "name": "stdout",
     "output_type": "stream",
     "text": [
      "7\n",
      "[[0. 0. 0. 0. 0.]\n",
      " [0. 0. 0. 0. 0.]\n",
      " [0. 0. 0. 0. 0.]\n",
      " [0. 0. 0. 0. 0.]\n",
      " [0. 0. 0. 0. 0.]]\n"
     ]
    }
   ],
   "source": [
    "n = int(input())\n",
    "result = np.zeros((n-2, n-2))\n",
    "print(result)"
   ]
  },
  {
   "cell_type": "code",
   "execution_count": 116,
   "id": "50748b03",
   "metadata": {},
   "outputs": [
    {
     "data": {
      "text/plain": [
       "(7, 7)"
      ]
     },
     "execution_count": 116,
     "metadata": {},
     "output_type": "execute_result"
    }
   ],
   "source": [
    "arr.shape"
   ]
  },
  {
   "cell_type": "code",
   "execution_count": 126,
   "id": "59b0d693",
   "metadata": {},
   "outputs": [
    {
     "name": "stdout",
     "output_type": "stream",
     "text": [
      "[[149. 141. 156. 183. 156.]\n",
      " [180. 183. 136. 108. 146.]\n",
      " [150. 150. 127. 116. 170.]\n",
      " [176. 135. 115. 135. 124.]\n",
      " [123. 137. 145. 118. 171.]]\n"
     ]
    }
   ],
   "source": [
    "for j in range(arr.shape[1]-2):\n",
    "    for i in range(arr.shape[0]-2):\n",
    "        result[i,j] = np.sum(arr[i:i+3, j:j+3] * core)\n",
    "print(result)"
   ]
  },
  {
   "cell_type": "code",
   "execution_count": null,
   "id": "28a43ffb",
   "metadata": {},
   "outputs": [],
   "source": [
    "# Эталонное решение преподавателя:\n",
    "    \n",
    "    \n",
    "import numpy as np\n",
    "\n",
    "core = np.array([[4, 7, 1],\n",
    "                 [2, 4, 3],\n",
    "                 [3, 6, 1]])\n",
    "\n",
    "n = int(input())\n",
    "data = np.zeros((n, n))\n",
    "for i in range(n):\n",
    "    data[i] = np.array(list(map(int, input().split())))\n",
    "\n",
    "convolute = np.zeros((data.shape[0] - 2, data.shape[1] - 2))\n",
    "for i in range(data.shape[0] - 2):\n",
    "    for j in range(data.shape[1] - 2):\n",
    "        convolute[i, j] = np.sum(data[i:i+3, j:j+3] * core)\n",
    "        \n",
    "print(convolute)"
   ]
  }
 ],
 "metadata": {
  "kernelspec": {
   "display_name": "Python 3 (ipykernel)",
   "language": "python",
   "name": "python3"
  },
  "language_info": {
   "codemirror_mode": {
    "name": "ipython",
    "version": 3
   },
   "file_extension": ".py",
   "mimetype": "text/x-python",
   "name": "python",
   "nbconvert_exporter": "python",
   "pygments_lexer": "ipython3",
   "version": "3.10.0"
  }
 },
 "nbformat": 4,
 "nbformat_minor": 5
}
