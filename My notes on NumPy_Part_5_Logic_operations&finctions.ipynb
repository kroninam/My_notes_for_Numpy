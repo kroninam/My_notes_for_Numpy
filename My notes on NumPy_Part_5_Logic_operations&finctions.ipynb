{
 "cells": [
  {
   "cell_type": "code",
   "execution_count": 2,
   "id": "12f80af4",
   "metadata": {},
   "outputs": [],
   "source": [
    "import numpy as np"
   ]
  },
  {
   "cell_type": "markdown",
   "id": "dd36000b",
   "metadata": {},
   "source": [
    "# Сравнение массивов"
   ]
  },
  {
   "cell_type": "markdown",
   "id": "64c49e78",
   "metadata": {},
   "source": [
    "### Как сравнить два массива "
   ]
  },
  {
   "cell_type": "code",
   "execution_count": 3,
   "id": "ef9901ec",
   "metadata": {},
   "outputs": [],
   "source": [
    "# Мы говорили о том, что к массивам применимы все арифметические операторы и они производят поэлементные вычисления. \n",
    "\n",
    "# На самом деле, то же касается и операторов сравнения. С помощью ==, !=, <=, <, >, >= можно \n",
    "# поэлементно сравнить два массива. В этом случае мы получим массив значений Истина/Ложь, \n",
    "\n",
    "# такие массивы называют булевыми или логическими.  \n",
    "\n",
    "\n",
    "#                                     1     2    False\n",
    "\n",
    "#                                     2 ==  2 =  True\n",
    "\n",
    "#                                     3     3    True"
   ]
  },
  {
   "cell_type": "code",
   "execution_count": 4,
   "id": "74b45aac",
   "metadata": {},
   "outputs": [
    {
     "name": "stdout",
     "output_type": "stream",
     "text": [
      "[False  True False]\n"
     ]
    }
   ],
   "source": [
    "# Пример\n",
    "# 1. Сравнение через оператор ==\n",
    "\n",
    "a1 = np.array([1, 2, 3])\n",
    "a2 = np.array([2, 2, 2])\n",
    "\n",
    "print(a1 == a2) # [False  True False]"
   ]
  },
  {
   "cell_type": "code",
   "execution_count": 5,
   "id": "2eea60da",
   "metadata": {},
   "outputs": [
    {
     "name": "stdout",
     "output_type": "stream",
     "text": [
      "[False False  True]\n"
     ]
    }
   ],
   "source": [
    "# 2. Сравнение через оператор >\n",
    "\n",
    "a1 = np.array([1, 2, 3])\n",
    "a2 = np.array([2, 2, 2])\n",
    "\n",
    "print(a1 > a2) # [False False  True]"
   ]
  },
  {
   "cell_type": "code",
   "execution_count": 6,
   "id": "e1110fcd",
   "metadata": {},
   "outputs": [
    {
     "name": "stdout",
     "output_type": "stream",
     "text": [
      "[[ True  True]\n",
      " [False False]]\n"
     ]
    }
   ],
   "source": [
    "# 3. Случай, когда один массив двумерный, а другой одномерный, тоже возможен. \n",
    "# Тогда одномерный массив будет сравниваться с каждой строкой двумерного:\n",
    "\n",
    "arr1 = np.array([[1, 2], \n",
    "                 [3, 4]])\n",
    "arr2 = np.array([1, 2])\n",
    "print(arr1 == arr2)\n",
    "# Результат\n",
    "# [[ True  True]\n",
    "#  [False False]]"
   ]
  },
  {
   "cell_type": "code",
   "execution_count": null,
   "id": "42e87ee9",
   "metadata": {},
   "outputs": [],
   "source": []
  },
  {
   "cell_type": "markdown",
   "id": "c7c9e60f",
   "metadata": {},
   "source": [
    "### Сравнение массивов с числами"
   ]
  },
  {
   "cell_type": "code",
   "execution_count": 7,
   "id": "ac39645e",
   "metadata": {},
   "outputs": [
    {
     "name": "stdout",
     "output_type": "stream",
     "text": [
      "[False  True False  True]\n"
     ]
    }
   ],
   "source": [
    "# Можно сравнивать массивы и числа. В этом случае сравниваться будет каждый элемент массива с заданным числом\n",
    "\n",
    "# Пример\n",
    "\n",
    "arr1 = np.array([3, 7, 5, 9])\n",
    "print(arr1 > 5)\n",
    "# Результат\n",
    "# [False  True False  True]"
   ]
  },
  {
   "cell_type": "code",
   "execution_count": null,
   "id": "4f450914",
   "metadata": {},
   "outputs": [],
   "source": [
    "# Функции-синонимы\n",
    "# Каждый оператор сравнения имеет функцию-синоним\n",
    "\n",
    "# np.greater(x1, x2) - синоним оператора > \n",
    "# np.greater_equal(x1, x2) - синоним оператора >= \n",
    "# np.less(x1, x2) - синоним оператора < \n",
    "# np.less_equal(x1, x2) - синоним оператора <= \n",
    "# np.equal(x1, x2) - синоним оператора == \n",
    "# np.not_equal(x1, x2) - синоним оператора !="
   ]
  },
  {
   "cell_type": "code",
   "execution_count": null,
   "id": "b3d80fc8",
   "metadata": {},
   "outputs": [],
   "source": []
  },
  {
   "cell_type": "markdown",
   "id": "a67fb3ea",
   "metadata": {},
   "source": [
    "# Индексация булевыми массивами"
   ]
  },
  {
   "cell_type": "code",
   "execution_count": null,
   "id": "456c0588",
   "metadata": {},
   "outputs": [],
   "source": [
    "Можно не только сравнивать массивы, но и извлекать значения, подходящие по условию. \n",
    "\n",
    "Мы можем передавать булевы массивы в качестве индексов, тогда в результате вернется \n",
    "выборка из массива, которой в исходном массиве было сопоставлено значение True."
   ]
  },
  {
   "cell_type": "code",
   "execution_count": null,
   "id": "ea9e54d5",
   "metadata": {},
   "outputs": [],
   "source": [
    "# Пример\n",
    "# Например, перед нами стоит следующая задача. Создается массив, находится \n",
    "# его среднее арифметическое и проверяется, какие элементы строго больше среднего арифметического. \n",
    "# Дальше нужно из массива выбрать и вывести эти элементы. \n",
    "\n",
    "arr = np.array([3, 4, 5, 1])\n",
    "mean = np.mean(arr) # 3.25\n",
    "condition = arr > mean # [False,  True,  True, False]\n",
    "print(arr[condition]) # [4, 5]\n",
    "\n",
    "# Чаще это записывается так\n",
    "\n",
    "arr = np.array([3, 4, 5, 1])\n",
    "mean = np.mean(arr) # 3.25\n",
    "print(arr[arr > mean]) # [4, 5]"
   ]
  },
  {
   "cell_type": "code",
   "execution_count": 4,
   "id": "8580a8fc",
   "metadata": {},
   "outputs": [],
   "source": [
    "a = np.array([1,2,3,4,5,6,7,8,9,8,7,6,7,8,7,6,6,5,6,7,8,6,5,5,4,4,3,2,2,1,23,4,5,6,7,7,6,5,0])"
   ]
  },
  {
   "cell_type": "code",
   "execution_count": 5,
   "id": "92217bfa",
   "metadata": {},
   "outputs": [],
   "source": [
    "a_mean = np.mean(a)"
   ]
  },
  {
   "cell_type": "code",
   "execution_count": 7,
   "id": "ac281628",
   "metadata": {},
   "outputs": [
    {
     "data": {
      "text/plain": [
       "array([ 6,  7,  8,  9,  8,  7,  6,  7,  8,  7,  6,  6,  6,  7,  8,  6, 23,\n",
       "        6,  7,  7,  6])"
      ]
     },
     "execution_count": 7,
     "metadata": {},
     "output_type": "execute_result"
    }
   ],
   "source": [
    "a[a>a_mean]"
   ]
  },
  {
   "cell_type": "code",
   "execution_count": null,
   "id": "e8d89cd4",
   "metadata": {},
   "outputs": [],
   "source": [
    "# Но такой способ работает только, когда нам достаточно только одного условия. \n",
    "# Если бы мы хотели извлечь, все элементы, которые больше 1 и меньше 5, \n",
    "# то следующая запись была бы ошибкой\n",
    "\n",
    "arr = np.array([3, 4, 5, 1])\n",
    "print(arr[arr > 1 and arr < 5]) # Error!"
   ]
  },
  {
   "cell_type": "code",
   "execution_count": 11,
   "id": "6682c1bf",
   "metadata": {},
   "outputs": [
    {
     "data": {
      "text/plain": [
       "array([ 1,  2,  3,  4,  5,  6,  7,  8,  9,  8,  7,  6,  7,  8,  7,  6,  6,\n",
       "        5,  6,  7,  8,  6,  5,  5,  4,  4,  3,  2,  2,  1, 23,  4,  5,  6,\n",
       "        7,  7,  6,  5,  0])"
      ]
     },
     "execution_count": 11,
     "metadata": {},
     "output_type": "execute_result"
    }
   ],
   "source": [
    "a"
   ]
  },
  {
   "cell_type": "code",
   "execution_count": 16,
   "id": "cac54eb2",
   "metadata": {},
   "outputs": [],
   "source": [
    "# Задача\n",
    "\n",
    "# Дан одномерный массив. Выберите и выведите из массива элементы, которые строго меньше 25 процентиля.\n",
    "\n",
    "arr = np.array([2, 7, 7, 8, 8, 6, 8, 7, 6, 7])"
   ]
  },
  {
   "cell_type": "code",
   "execution_count": 20,
   "id": "952b7fd8",
   "metadata": {},
   "outputs": [],
   "source": [
    "percentile = np.percentile(arr, 25)"
   ]
  },
  {
   "cell_type": "code",
   "execution_count": 21,
   "id": "55226575",
   "metadata": {},
   "outputs": [
    {
     "data": {
      "text/plain": [
       "6.25"
      ]
     },
     "execution_count": 21,
     "metadata": {},
     "output_type": "execute_result"
    }
   ],
   "source": [
    "percentile"
   ]
  },
  {
   "cell_type": "code",
   "execution_count": 22,
   "id": "5130ec15",
   "metadata": {},
   "outputs": [
    {
     "data": {
      "text/plain": [
       "array([2, 6, 6])"
      ]
     },
     "execution_count": 22,
     "metadata": {},
     "output_type": "execute_result"
    }
   ],
   "source": [
    "arr[arr<percentile]"
   ]
  },
  {
   "cell_type": "code",
   "execution_count": null,
   "id": "aee512f6",
   "metadata": {},
   "outputs": [],
   "source": []
  },
  {
   "cell_type": "markdown",
   "id": "41ad150d",
   "metadata": {},
   "source": [
    "# Истинность всех элементов массива"
   ]
  },
  {
   "cell_type": "code",
   "execution_count": null,
   "id": "35dc8ad9",
   "metadata": {},
   "outputs": [],
   "source": [
    "# Функция np.all() проверяет, все ли элементы массива равны True или могут преобразоваться к True  \n",
    "\n",
    "# np.all(bool_arr, axis=None) \n",
    "# Функция np.all() принимает на вход булев массив (либо выполняет преобразование) и возвращает единственное \n",
    "# значение True или False\n",
    "\n",
    "# Преобразование\n",
    "# Целочисленные и вещественные значения при необходимости легко преобразуются в логические. \n",
    "# Любое число, кроме нуля, интерпретируется как True, а ноль интерпретируется False.\n",
    "\n",
    "# Константы np.inf, np.NINF, np.nan тоже преобразуются к True."
   ]
  },
  {
   "cell_type": "code",
   "execution_count": null,
   "id": "a6a8a6ee",
   "metadata": {},
   "outputs": [],
   "source": [
    "# Примеры\n",
    "# 1. Все элементы равны True, в ответе тоже True\n",
    "\n",
    "arr = np.array([True,  True, True,  True])\n",
    "np.all(arr) # True\n"
   ]
  },
  {
   "cell_type": "code",
   "execution_count": null,
   "id": "6711a56a",
   "metadata": {},
   "outputs": [],
   "source": [
    "# 2. Один из элементов равен False, в ответе будет False\n",
    "\n",
    "arr = np.array([True,  True, False,  True])\n",
    "np.all(arr) # False\n"
   ]
  },
  {
   "cell_type": "code",
   "execution_count": 8,
   "id": "93362a6c",
   "metadata": {},
   "outputs": [
    {
     "data": {
      "text/plain": [
       "array([ True, False])"
      ]
     },
     "execution_count": 8,
     "metadata": {},
     "output_type": "execute_result"
    }
   ],
   "source": [
    "# 3. Двумерные массивы можно проверить по осям или целиком\n",
    "\n",
    "arr = np.array([[True,  True], \n",
    "                [False,  True]])\n",
    "np.all(arr) # False \n",
    "np.all(arr, axis=0) # [False,  True]\n",
    "np.all(arr, axis = 1)"
   ]
  },
  {
   "cell_type": "markdown",
   "id": "42beda8b",
   "metadata": {},
   "source": [
    "# Истинность хотя бы одного элемента массива"
   ]
  },
  {
   "cell_type": "code",
   "execution_count": null,
   "id": "c8c3ea86",
   "metadata": {},
   "outputs": [],
   "source": [
    "Функция np.any() проверяет, можно ли преобразовать хотя бы один из элементов к True, тогда возвращает True\n",
    "\n",
    "np.any(bool_arr, axis=None)\n",
    "Принимает на вход булев массив (либо выполняет преобразование) и возвращает единственное значение True или False\n",
    "\n",
    "Примеры\n",
    "1. Один из элементов True, поэтому в ответе тоже True\n",
    "\n",
    "arr = np.array([True,  False, False,  False])\n",
    "np.any(arr) # True\n",
    "\n",
    "\n",
    "2. Все элементы False, в ответе False\n",
    "\n",
    "arr = np.array([False,  False, False,  False])\n",
    "np.any(arr) # False\n",
    "\n",
    "\n",
    "3. Константы преобразуются к True\n",
    "\n",
    "arr = np.array([True,  np.inf, np.nan,  np.NINF])\n",
    "np.any(arr) # True\n",
    "\n",
    "\n",
    "4. Тоже можно проверять по осям\n",
    "\n",
    "arr = np.array([[True,  True, False], \n",
    "                [False,  True, False]])\n",
    "np.any(arr, axis=0) # [ True,  True, False]\n",
    "\n",
    "\n",
    "5. Целые числа, преобразованные к False\n",
    "\n",
    "arr = np.array([0,  0, 0,  0])\n",
    "np.any(arr) # False"
   ]
  },
  {
   "cell_type": "code",
   "execution_count": null,
   "id": "8829613b",
   "metadata": {},
   "outputs": [],
   "source": [
    "# Задача №1"
   ]
  },
  {
   "cell_type": "code",
   "execution_count": 20,
   "id": "cec6a717",
   "metadata": {},
   "outputs": [
    {
     "name": "stdout",
     "output_type": "stream",
     "text": [
      "3\n"
     ]
    }
   ],
   "source": [
    "n = int(input())"
   ]
  },
  {
   "cell_type": "code",
   "execution_count": 37,
   "id": "fa5d6594",
   "metadata": {},
   "outputs": [
    {
     "name": "stdout",
     "output_type": "stream",
     "text": [
      "1 2 3\n",
      "4 5 6\n",
      "7 8 9\n"
     ]
    }
   ],
   "source": [
    "arr = np.array([list(map(int,input().split())) for i in range(n)])"
   ]
  },
  {
   "cell_type": "code",
   "execution_count": 39,
   "id": "e47d0a68",
   "metadata": {},
   "outputs": [
    {
     "data": {
      "text/plain": [
       "array([[1, 2, 3],\n",
       "       [4, 5, 6],\n",
       "       [7, 8, 9]])"
      ]
     },
     "execution_count": 39,
     "metadata": {},
     "output_type": "execute_result"
    }
   ],
   "source": [
    "arr"
   ]
  },
  {
   "cell_type": "code",
   "execution_count": 40,
   "id": "8e324a51",
   "metadata": {},
   "outputs": [
    {
     "name": "stdout",
     "output_type": "stream",
     "text": [
      "[ True  True  True]\n"
     ]
    }
   ],
   "source": [
    "print(np.any(arr, axis=0))"
   ]
  },
  {
   "cell_type": "code",
   "execution_count": null,
   "id": "b23bdc6c",
   "metadata": {},
   "outputs": [],
   "source": []
  },
  {
   "cell_type": "code",
   "execution_count": 45,
   "id": "8ce97c14",
   "metadata": {},
   "outputs": [],
   "source": [
    "# Задача №2\n",
    "\n",
    "# Массив-палиндром\n",
    "# Дан одномерный массив. Выведите True, если массив и его перевернутая версия равны, иначе False\n",
    "\n",
    "arr = np.array([1, 1, 0, 1, 2])"
   ]
  },
  {
   "cell_type": "code",
   "execution_count": 46,
   "id": "68183b90",
   "metadata": {},
   "outputs": [
    {
     "data": {
      "text/plain": [
       "array([1, 1, 0, 1, 2])"
      ]
     },
     "execution_count": 46,
     "metadata": {},
     "output_type": "execute_result"
    }
   ],
   "source": [
    "arr"
   ]
  },
  {
   "cell_type": "code",
   "execution_count": 47,
   "id": "15dae326",
   "metadata": {},
   "outputs": [
    {
     "data": {
      "text/plain": [
       "array([2, 1, 0, 1, 1])"
      ]
     },
     "execution_count": 47,
     "metadata": {},
     "output_type": "execute_result"
    }
   ],
   "source": [
    "arr[::-1]"
   ]
  },
  {
   "cell_type": "code",
   "execution_count": 48,
   "id": "a9f1f36b",
   "metadata": {},
   "outputs": [
    {
     "data": {
      "text/plain": [
       "False"
      ]
     },
     "execution_count": 48,
     "metadata": {},
     "output_type": "execute_result"
    }
   ],
   "source": [
    "np.all(arr == arr[::-1])"
   ]
  },
  {
   "cell_type": "code",
   "execution_count": null,
   "id": "1bbec75c",
   "metadata": {},
   "outputs": [],
   "source": []
  },
  {
   "cell_type": "markdown",
   "id": "b214ed5f",
   "metadata": {},
   "source": [
    "# Проверка на равенство бесконечности"
   ]
  },
  {
   "cell_type": "code",
   "execution_count": null,
   "id": "b4fdebc8",
   "metadata": {},
   "outputs": [],
   "source": [
    "Есть три функции, проверяющие равенство элементов массива и бесконечности\n",
    "\n",
    "np.isinf(x) - проверка элементов на равенство константам np.inf или np.NINF\n",
    "np.isposinf(x) - проверка элементов на равенство константе np.inf\n",
    "np.isneginf(x) - проверка элементов на равенство константе np.NINF\n",
    "Все эти функции принимают на вход массивы, в ответе возвращают булевы массивы\n",
    "\n",
    "Пример\n",
    "arr = np.array([5,  -np.inf, np.NINF,  np.inf])\n",
    "\n",
    "print(np.isinf(arr)) # [False  True  True  True]\n",
    "\n",
    "print(np.isposinf(arr)) # [False False False  True]\n",
    "\n",
    "print(np.isneginf(arr)) # [False  True  True False]"
   ]
  },
  {
   "cell_type": "markdown",
   "id": "e2345746",
   "metadata": {},
   "source": [
    "# Проверка на нечисло"
   ]
  },
  {
   "cell_type": "code",
   "execution_count": null,
   "id": "354c98fc",
   "metadata": {},
   "outputs": [],
   "source": [
    "Как мы уже знаем, константа np.nan не равна ни одному значению, даже сама себе. Поэтому следующая функция - единственный способ проверить значения на равенство np.nan\n",
    "\n",
    "np.isnan(x) \n",
    "Функция принимает на вход массив или число, в ответ возвращает булев массив\n",
    "\n",
    "Пример\n",
    "arr = np.array([4,  3, np.NINF,  np.inf, np.nan])\n",
    "np.isnan(arr) # [False, False, False, False,  True]\n",
    "Чтобы удалить np.nan из массива: \n",
    "\n",
    "arr = np.array([4,  3, np.NINF,  np.inf, np.nan])\n",
    "np.isnan(arr) \n",
    "arr[np.isnan(arr) == False] # [  4.,   3., -inf,  inf]\n",
    "Или так\n",
    "\n",
    "arr = np.array([4,  3, np.NINF,  np.inf, np.nan])\n",
    "np.isnan(arr) \n",
    "arr[~np.isnan(arr)] # [  4.,   3., -inf,  inf]"
   ]
  },
  {
   "cell_type": "code",
   "execution_count": 50,
   "id": "8f2e5f97",
   "metadata": {},
   "outputs": [
    {
     "data": {
      "text/plain": [
       "array([False, False, False, False,  True])"
      ]
     },
     "execution_count": 50,
     "metadata": {},
     "output_type": "execute_result"
    }
   ],
   "source": [
    "arr = np.array([4,  3, np.NINF,  np.inf, np.nan])\n",
    "np.isnan(arr) \n",
    "# arr[np.isnan(arr) == False] # [  4.,   3., -inf,  inf]"
   ]
  },
  {
   "cell_type": "code",
   "execution_count": 51,
   "id": "1d2211be",
   "metadata": {},
   "outputs": [
    {
     "data": {
      "text/plain": [
       "array([False, False, False,  True, False, False, False, False, False,\n",
       "       False])"
      ]
     },
     "execution_count": 51,
     "metadata": {},
     "output_type": "execute_result"
    }
   ],
   "source": [
    "culmen_length_10 = np.array([39.1, 39.5, 40.3,  np.nan, 36.7, 39.3, 38.9, 39.2, 34.1, 42. ])\n",
    "np.isnan(culmen_length_10)"
   ]
  },
  {
   "cell_type": "code",
   "execution_count": null,
   "id": "77d339dd",
   "metadata": {},
   "outputs": [],
   "source": []
  },
  {
   "cell_type": "markdown",
   "id": "07d36b53",
   "metadata": {},
   "source": [
    "# Логическое И"
   ]
  },
  {
   "cell_type": "code",
   "execution_count": null,
   "id": "14ca997c",
   "metadata": {},
   "outputs": [],
   "source": [
    "Предположим, у нас есть две булевы переменные. К ним можно применить операцию логического И, \n",
    "которая в результате возвращает истину, если обе переменные истинны и ложь в обратном случае. \n",
    "Это аналог оператора and в условиях"
   ]
  },
  {
   "cell_type": "code",
   "execution_count": null,
   "id": "4d2cbe32",
   "metadata": {},
   "outputs": [],
   "source": [
    "Функция, объединяющая два булевых массива по принципу логического И:\n",
    "\n",
    "np.logical_and(x1, x2) - возвращает результат поэлементного применения к двум массивами операции AND\n",
    "Функции этого раздела принимают на вход массивы или массив + скаляр (число или булево значение), \n",
    "в ответ возвращает булев массив. \n",
    "\n",
    "Пример \n",
    "1. Одномерный массив + одномерный массив\n",
    "\n",
    "arr1 = np.array([True, True, False, False])\n",
    "arr2 = np.array([True, False, True, False])\n",
    "\n",
    "np.logical_and(arr1, arr2)\n",
    "# [ True, False, False, False]\n",
    "Напомним, что константы np.inf, np.NINF и np.nan преобразуются к истине \n",
    "\n",
    "2. Двумерный массив + двумерный массив\n",
    "\n",
    "arr1 = np.array([[True, True], \n",
    "                 [False, False]])\n",
    "arr2 = np.array([[True, False], \n",
    "                 [True, False]])\n",
    "\n",
    "print(np.logical_and(arr1, arr2))\n",
    "# array([[ True, False],\n",
    "#        [False, False]])\n",
    "3. Двумерный массив + одномерный массив\n",
    "\n",
    "arr1 = np.array([[True, True], \n",
    "                 [False, False]])\n",
    "arr2 = np.array([True, False])\n",
    "print(np.logical_and(arr1, arr2))\n",
    "# array([[ True, False],\n",
    "#        [False, False]])\n",
    "4. Одномерный массив + скаляр\n",
    "\n",
    "arr1 = np.array([True, True, False, False])\n",
    "scalar_num = 5\n",
    "scalar_bool = False\n",
    "print(np.logical_and(arr1, scalar_num)) # [ True,  True, False, False]\n",
    "print(np.logical_and(arr1, scalar_bool)) # [False, False, False, False]"
   ]
  },
  {
   "cell_type": "code",
   "execution_count": null,
   "id": "fa65a3fc",
   "metadata": {},
   "outputs": [],
   "source": []
  },
  {
   "cell_type": "markdown",
   "id": "251deb1a",
   "metadata": {},
   "source": [
    "# Логическое или"
   ]
  },
  {
   "cell_type": "code",
   "execution_count": null,
   "id": "a7cf00cf",
   "metadata": {},
   "outputs": [],
   "source": [
    "Функция логического ИЛИ. Возвращает истину, когда хотя бы один из аргументов является истиной, иначе возвращает ложь. \n",
    "Это аналог оператора or\n",
    "\n",
    "np.logical_or(x1, x2) - возвращает результат поэлементного применения к двум массивами операции OR\n",
    "\n",
    "Пример \n",
    "arr1 = np.array([True, True, False, False])\n",
    "arr2 = np.array([True, False, True, False])\n",
    "\n",
    "np.logical_or(arr1, arr2)\n",
    "# [ True,  True,  True, False]"
   ]
  },
  {
   "cell_type": "code",
   "execution_count": null,
   "id": "8ac5cd32",
   "metadata": {},
   "outputs": [],
   "source": []
  },
  {
   "cell_type": "markdown",
   "id": "3ce85f7f",
   "metadata": {},
   "source": [
    "# Логическое НЕ"
   ]
  },
  {
   "cell_type": "code",
   "execution_count": null,
   "id": "877549bb",
   "metadata": {},
   "outputs": [],
   "source": [
    "Функция логического НЕ. На вход принимает всего один аргумент возвращает обратное логическое значение. \n",
    "Аналог оператора not в python\n",
    "\n",
    "np.logical_not(x1) - возвращает результат поэлементного применения операции NOT к одному массиву\n",
    "\n",
    "Пример \n",
    "arr1 = np.array([True, False, np.inf, np.nan])\n",
    "\n",
    "np.logical_not(arr1)\n",
    "# [False,  True, False, False]\n",
    "Помните, что константы np.inf, np.NINF и np.nan преобразуются к истине, поэтому их логическое отрицание вернет нам False\n",
    "\n",
    "arr1 = np.array([True, False, np.inf, np.nan])\n",
    "print(np.logical_not(arr1))\n",
    "# [False,  True, False, False]"
   ]
  },
  {
   "cell_type": "code",
   "execution_count": null,
   "id": "5e18f5e6",
   "metadata": {},
   "outputs": [],
   "source": []
  },
  {
   "cell_type": "markdown",
   "id": "00ec498c",
   "metadata": {},
   "source": [
    "# Исключающее ИЛИ"
   ]
  },
  {
   "cell_type": "code",
   "execution_count": null,
   "id": "9d7494a9",
   "metadata": {},
   "outputs": [],
   "source": [
    "Функция исключающего ИЛИ. Она возвращает истину, если аргументы не равны между собой, \n",
    "для одинаковых аргументов возвращается ложь\n",
    "\n",
    "np.logical_xor(x1, x2) - возвращает результат поэлементного применения к двум массивами операции XOR\n",
    "\n",
    "\n",
    "Пример \n",
    "arr1 = np.array([True, True, False, False])\n",
    "arr2 = np.array([True, False, True, False])\n",
    "\n",
    "np.logical_xor(arr1, arr2)\n",
    "# [False,  True,  True, False]"
   ]
  },
  {
   "cell_type": "code",
   "execution_count": null,
   "id": "4d2ecd7a",
   "metadata": {},
   "outputs": [],
   "source": []
  },
  {
   "cell_type": "code",
   "execution_count": null,
   "id": "15122882",
   "metadata": {},
   "outputs": [],
   "source": [
    "Нужно отметить, что вместо этих фукций (почти всегда) используются операторы:\n",
    "\n",
    "& - логическое И;\n",
    "\n",
    "| - логическое ИЛИ;\n",
    "\n",
    "^ - исключающее ИЛИ;\n",
    "\n",
    "~ - логическое НЕ.\n",
    "\n",
    "При этом операнды необходимо заключить в скобки:\n",
    "\n",
    "(arr > 1) & (arr < 10)\n",
    "Выведет значения массива больше 1 и меньше 10. "
   ]
  },
  {
   "cell_type": "code",
   "execution_count": null,
   "id": "028bb3ca",
   "metadata": {},
   "outputs": [],
   "source": []
  },
  {
   "cell_type": "code",
   "execution_count": null,
   "id": "90236456",
   "metadata": {},
   "outputs": [],
   "source": [
    "Задача\n",
    "\n",
    "Выведите булев массив, отвечающий на вопрос, какие из элементов данного массива больше low и меньше или равны up?"
   ]
  },
  {
   "cell_type": "code",
   "execution_count": 54,
   "id": "684d4c68",
   "metadata": {},
   "outputs": [
    {
     "name": "stdout",
     "output_type": "stream",
     "text": [
      "5\n",
      "9\n"
     ]
    }
   ],
   "source": [
    "low = int(input())\n",
    "up = int(input())\n",
    "arr = np.array([9, 4, 5, 8, 9, 4])"
   ]
  },
  {
   "cell_type": "code",
   "execution_count": 55,
   "id": "ed7ed847",
   "metadata": {},
   "outputs": [
    {
     "data": {
      "text/plain": [
       "array([ True, False, False,  True,  True, False])"
      ]
     },
     "execution_count": 55,
     "metadata": {},
     "output_type": "execute_result"
    }
   ],
   "source": [
    "np.logical_and(arr> low, arr<=up)"
   ]
  },
  {
   "cell_type": "code",
   "execution_count": null,
   "id": "5c6f9d83",
   "metadata": {},
   "outputs": [],
   "source": []
  },
  {
   "cell_type": "markdown",
   "id": "2d147fb1",
   "metadata": {},
   "source": [
    "# Равенство массивов"
   ]
  },
  {
   "cell_type": "code",
   "execution_count": null,
   "id": "d7997ba8",
   "metadata": {},
   "outputs": [],
   "source": [
    "Функция np.array_equal() в целом делает то же, что и оператор сравнения ==, \n",
    "однако требует, чтобы массивы имели одинаковую размерность и позволяет считать два значения np.nan равными, если в параметр equal_nan передать True\n",
    "\n",
    "np.array_equal(x1, x2, equal_nan=False) \n",
    "Функция принимает на вход два массива и возвращает одно булево значение\n",
    "\n",
    "Пример\n",
    "arr1 = np.array([1, 2, 3, 4])\n",
    "arr2 = np.array([1, 2, 3, 4])\n",
    "np.array_equal(arr1, arr2) # True\n",
    "equal_nan=True\n",
    "\n",
    "arr1 = np.array([1, 2, 3, np.nan])\n",
    "arr2 = np.array([1, 2, 3, np.nan])\n",
    "\n",
    "np.array_equal(arr1, arr2) # False\n",
    "np.array_equal(arr1, arr2, equal_nan=True) # True"
   ]
  },
  {
   "cell_type": "markdown",
   "id": "194e24d8",
   "metadata": {},
   "source": [
    "# Равенство массивов с заданной точностью"
   ]
  },
  {
   "cell_type": "code",
   "execution_count": null,
   "id": "a796cb54",
   "metadata": {},
   "outputs": [],
   "source": [
    "Не всегда возможно гарантировать точность вычислений при работе с вещественными числами. \n",
    "Поэтому numpy предоставляет две функции для сравнения массивов с заданной точностью:\n",
    "\n",
    "* np.allclose(x1, x2, rtol=1e-05, atol=1e-08, equal_nan=False) - сравнение элементов с заданной точностью. \n",
    "В ответ возвращает одно значение True или False\n",
    "\n",
    "\n",
    "* np.isclose(x1, x2, rtol=1e-05, atol=1e-08, equal_nan=False) - сравнение элементов с заданной точностью. \n",
    "В ответ возвращает массив True или False\n",
    "\n",
    "\n",
    "Элементы считаются равными, если выполняется следующее условие:\n",
    "\n",
    "absolute(x1 - x2) <= (atol + rtol * absolute(x2)), где rtol - относительная погрешность, atol - абсолютная погрешность\n",
    "\n",
    "Пример\n",
    "arr1 = np.array([1.1, 2.12, 3.11, 4.5])\n",
    "arr2 = np.array([[1.0, 2.0, 3.0, 4.0]])\n",
    "\n",
    "np.allclose(arr1, arr2, atol=0.5) # True\n",
    "np.isclose(arr1, arr2, atol=0.5) # [ True,  True,  True,  True]"
   ]
  },
  {
   "cell_type": "code",
   "execution_count": null,
   "id": "2c9a7b71",
   "metadata": {},
   "outputs": [],
   "source": [
    "# Задача№1. Равенство с точностью до 0.05\n",
    "\n",
    "# Дан массив и вводится целое число n. Выведите в ответ булев массив, в котором True будет означать, \n",
    "# что соответствующий элемент заданного массива равен n с абсолютной погрешностью 0.05 и False в противном случае. \n",
    "\n",
    "# Формат входных данных\n",
    "# На вход подается единственное целое число\n",
    "\n",
    "# Формат выходных данных\n",
    "# Программа должна вывести одномерный логический массив"
   ]
  },
  {
   "cell_type": "code",
   "execution_count": 56,
   "id": "34e79f03",
   "metadata": {},
   "outputs": [
    {
     "name": "stdout",
     "output_type": "stream",
     "text": [
      "1\n"
     ]
    }
   ],
   "source": [
    "n = int(input())\n",
    "data = np.array([0.45, 0.97, 1.01 , 1.95, 0.54, 0.3 , 0.04])"
   ]
  },
  {
   "cell_type": "code",
   "execution_count": 59,
   "id": "255e6041",
   "metadata": {},
   "outputs": [
    {
     "data": {
      "text/plain": [
       "array([False,  True,  True, False, False, False, False])"
      ]
     },
     "execution_count": 59,
     "metadata": {},
     "output_type": "execute_result"
    }
   ],
   "source": [
    "np.isclose(data, n, atol = 0.05)"
   ]
  },
  {
   "cell_type": "code",
   "execution_count": null,
   "id": "657ad478",
   "metadata": {},
   "outputs": [],
   "source": []
  },
  {
   "cell_type": "code",
   "execution_count": 62,
   "id": "19b17fd2",
   "metadata": {},
   "outputs": [
    {
     "name": "stdout",
     "output_type": "stream",
     "text": [
      "1 2 3 4 5 6\n"
     ]
    }
   ],
   "source": [
    "n = np.array(list(map(int,input().split())))"
   ]
  },
  {
   "cell_type": "code",
   "execution_count": 63,
   "id": "c4d9296a",
   "metadata": {},
   "outputs": [
    {
     "data": {
      "text/plain": [
       "array([1, 2, 3, 4, 5, 6])"
      ]
     },
     "execution_count": 63,
     "metadata": {},
     "output_type": "execute_result"
    }
   ],
   "source": [
    "n"
   ]
  },
  {
   "cell_type": "code",
   "execution_count": null,
   "id": "dec8a44d",
   "metadata": {},
   "outputs": [],
   "source": []
  },
  {
   "cell_type": "markdown",
   "id": "07a05ffa",
   "metadata": {},
   "source": [
    "# Проверка значений в массиве"
   ]
  },
  {
   "cell_type": "code",
   "execution_count": null,
   "id": "bacb4e9d",
   "metadata": {},
   "outputs": [],
   "source": [
    "np.isin(element, test_elements, invert=False)\n",
    "\n",
    "Проверяет наличие element - массива или числа - в test_elements. \n",
    "Возвращает логический массив той же формы, что и element. \n",
    "В этом массиве True означает, что элемент есть в массиве, иначе False. \n",
    "\n",
    "Если invert=True, то в ответе наоборот False означает присутствие элемент, иначе True.\n",
    "\n",
    "Пример\n",
    "arr = np.array([2, 4, 9, 8, 1, 7, 8, 8, 5, 5])\n",
    "element = np.array([1, 3, 5])\n",
    "np.isin(element, arr) # [ True, False,  True]\n",
    "\n",
    "\n",
    "Если invert=True\n",
    "\n",
    "arr = np.array([2, 4, 9, 8, 1, 7, 8, 8, 5, 5])\n",
    "element = np.array([1, 3, 5])\n",
    "np.isin(element, arr, invert=True) # [False,  True, False]\n",
    "\n",
    "\n",
    "Массив и число\n",
    "\n",
    "arr = np.array([2, 4, 9, 8, 1, 7, 8, 8, 5, 5])\n",
    "np.isin(2, arr) # [ True]\n",
    "\n",
    "\n",
    "np.nan не будет найден таким способом\n",
    "\n",
    "arr = np.array([np.nan, 4, 9, 8, 1, 7, 8, 8, 5, 5])\n",
    "element = np.array([np.nan, 3, 5])\n",
    "print(np.isin(element, arr)) # [False, False,  True]"
   ]
  },
  {
   "cell_type": "code",
   "execution_count": null,
   "id": "e5770785",
   "metadata": {},
   "outputs": [],
   "source": [
    "Двумерный случай\n",
    "arr = np.array([[ 8, 3, 11],\n",
    "                [17, 20,  1],\n",
    "                [ 2,  4, 21],\n",
    "                [16, 12, 20]]) \n",
    "element = np.array([ 3, 5])\n",
    "print(np.isin(element, arr)) # [ True, False]"
   ]
  },
  {
   "cell_type": "code",
   "execution_count": null,
   "id": "8baa0ea0",
   "metadata": {},
   "outputs": [],
   "source": []
  },
  {
   "cell_type": "markdown",
   "id": "793080da",
   "metadata": {},
   "source": [
    "# ЗАДАЧИ ПО ТЕМЕ"
   ]
  },
  {
   "cell_type": "code",
   "execution_count": 66,
   "id": "15141d63",
   "metadata": {},
   "outputs": [
    {
     "name": "stdout",
     "output_type": "stream",
     "text": [
      "3\n",
      "True\n"
     ]
    }
   ],
   "source": [
    "# №1 Лотерейные билеты\n",
    "\n",
    "# Василий купил лотерейный билет и загадал число. На лотрейном билете написано несколько чисел, \n",
    "# выведите True, если среди них оказалось загаданное Василием, иначе выведите False.\n",
    "\n",
    "# Формат входных данных\n",
    "# На вход единственное целое число, которое загадал Василий\n",
    "\n",
    "# Формат выходных данных\n",
    "# Программа должна вывести True или False\n",
    "\n",
    "data = np.array([ 7,  3,  1, 19, 11])\n",
    "\n",
    "n = int(input())\n",
    "\n",
    "print(np.isin(n,data))"
   ]
  },
  {
   "cell_type": "code",
   "execution_count": null,
   "id": "df152073",
   "metadata": {},
   "outputs": [],
   "source": []
  },
  {
   "cell_type": "code",
   "execution_count": null,
   "id": "7cbe6bf3",
   "metadata": {},
   "outputs": [],
   "source": [
    "# №2 Соревнования по программированию\n",
    "\n",
    "# Проводились соревнования по программированию, всего было 5 заданий. \n",
    "# Первый этап был отборочным и если участник не набрал пороговый балл (5),\n",
    "# то он мог принимать дальше участие, но не мог стать призером. \n",
    "# А призерами становились участники, набравшие больше 7 баллов за каждое из оставшихся заданий. \n",
    "# Выведите баллы призеров.\n",
    "\n",
    "# Формат входных данных\n",
    "# В первой строке вводится n - количество участников. Затем двумерный целочисленный массив размерностью nx5\n",
    "\n",
    "# Формат выходных данных\n",
    "# Программа должна вывести двумерный целочисленный массив - баллы призеров\n",
    "\n",
    "\n"
   ]
  },
  {
   "cell_type": "code",
   "execution_count": 175,
   "id": "80491da7",
   "metadata": {},
   "outputs": [
    {
     "name": "stdout",
     "output_type": "stream",
     "text": [
      "5\n",
      "8 8 8 8 8\n",
      "2 9 7 8 8\n",
      "2 9 6 9 3\n",
      "5 9 9 6 6\n",
      "5 4 2 1 9\n"
     ]
    }
   ],
   "source": [
    "n = int(input())\n",
    "arr = np.array([list(map(int,input().split())) for i in range(n)])"
   ]
  },
  {
   "cell_type": "code",
   "execution_count": null,
   "id": "dfd4dbf8",
   "metadata": {},
   "outputs": [],
   "source": []
  },
  {
   "cell_type": "code",
   "execution_count": null,
   "id": "17c4308e",
   "metadata": {},
   "outputs": [],
   "source": [
    "# 5\n",
    "# 8 8 8 8 8\n",
    "# 2 9 7 8 8\n",
    "# 2 9 6 9 3\n",
    "# 5 9 9 6 6\n",
    "# 5 4 2 1 9"
   ]
  },
  {
   "cell_type": "code",
   "execution_count": 166,
   "id": "9fe5d9b7",
   "metadata": {},
   "outputs": [],
   "source": [
    "# 6\n",
    "# 2  2  5  7  4\n",
    "# 6  5  9  1  7\n",
    "# 9  2  5  8  1\n",
    "# 5  9  9  9  8\n",
    "# 8  8  8  4  7\n",
    "# 6  8  8  9 10"
   ]
  },
  {
   "cell_type": "code",
   "execution_count": null,
   "id": "7a1ab83c",
   "metadata": {},
   "outputs": [],
   "source": [
    "# 3\n",
    "# 4  9  9  9  8\n",
    "# 8  8  8  4  7\n",
    "# 6  8  8  9 10"
   ]
  },
  {
   "cell_type": "code",
   "execution_count": null,
   "id": "2258dbc5",
   "metadata": {},
   "outputs": [],
   "source": []
  },
  {
   "cell_type": "code",
   "execution_count": 176,
   "id": "73ea969b",
   "metadata": {},
   "outputs": [
    {
     "data": {
      "text/plain": [
       "array([[8, 8, 8, 8, 8],\n",
       "       [2, 9, 7, 8, 8],\n",
       "       [2, 9, 6, 9, 3],\n",
       "       [5, 9, 9, 6, 6],\n",
       "       [5, 4, 2, 1, 9]])"
      ]
     },
     "execution_count": 176,
     "metadata": {},
     "output_type": "execute_result"
    }
   ],
   "source": [
    "arr"
   ]
  },
  {
   "cell_type": "code",
   "execution_count": 177,
   "id": "38fb3f26",
   "metadata": {},
   "outputs": [
    {
     "data": {
      "text/plain": [
       "array([[ True,  True,  True,  True,  True],\n",
       "       [False,  True,  True,  True,  True],\n",
       "       [False,  True,  True,  True, False],\n",
       "       [ True,  True,  True,  True,  True],\n",
       "       [ True, False, False, False,  True]])"
      ]
     },
     "execution_count": 177,
     "metadata": {},
     "output_type": "execute_result"
    }
   ],
   "source": [
    "arr>=5"
   ]
  },
  {
   "cell_type": "code",
   "execution_count": 178,
   "id": "66e79938",
   "metadata": {},
   "outputs": [],
   "source": [
    "izbrann = arr[arr[:,0]>=5]"
   ]
  },
  {
   "cell_type": "code",
   "execution_count": 179,
   "id": "8080b340",
   "metadata": {},
   "outputs": [
    {
     "data": {
      "text/plain": [
       "array([[8, 8, 8, 8, 8],\n",
       "       [5, 9, 9, 6, 6],\n",
       "       [5, 4, 2, 1, 9]])"
      ]
     },
     "execution_count": 179,
     "metadata": {},
     "output_type": "execute_result"
    }
   ],
   "source": [
    "izbrann"
   ]
  },
  {
   "cell_type": "code",
   "execution_count": 181,
   "id": "fdc2e314",
   "metadata": {},
   "outputs": [],
   "source": [
    "izbrann_without_first = izbrann[:,1:]"
   ]
  },
  {
   "cell_type": "code",
   "execution_count": 182,
   "id": "b64c91bf",
   "metadata": {},
   "outputs": [
    {
     "data": {
      "text/plain": [
       "array([[8, 8, 8, 8],\n",
       "       [9, 9, 6, 6],\n",
       "       [4, 2, 1, 9]])"
      ]
     },
     "execution_count": 182,
     "metadata": {},
     "output_type": "execute_result"
    }
   ],
   "source": [
    "izbrann_without_first"
   ]
  },
  {
   "cell_type": "code",
   "execution_count": 183,
   "id": "64816b1b",
   "metadata": {},
   "outputs": [
    {
     "data": {
      "text/plain": [
       "array([ True, False, False])"
      ]
     },
     "execution_count": 183,
     "metadata": {},
     "output_type": "execute_result"
    }
   ],
   "source": [
    "np.all(izbrann_without_first>7, axis = 1)"
   ]
  },
  {
   "cell_type": "code",
   "execution_count": null,
   "id": "21ff0a65",
   "metadata": {},
   "outputs": [],
   "source": []
  },
  {
   "cell_type": "code",
   "execution_count": 185,
   "id": "dcb38f50",
   "metadata": {},
   "outputs": [
    {
     "data": {
      "text/plain": [
       "array([[8, 8, 8, 8, 8]])"
      ]
     },
     "execution_count": 185,
     "metadata": {},
     "output_type": "execute_result"
    }
   ],
   "source": [
    "izbrann[np.all(izbrann>7, axis=1)]"
   ]
  },
  {
   "cell_type": "code",
   "execution_count": null,
   "id": "c4b9ca98",
   "metadata": {},
   "outputs": [],
   "source": []
  },
  {
   "cell_type": "code",
   "execution_count": 142,
   "id": "4718967c",
   "metadata": {},
   "outputs": [
    {
     "name": "stdout",
     "output_type": "stream",
     "text": [
      "3\n",
      "5 6 9\n",
      "5 6 9\n",
      "1 2 3\n"
     ]
    }
   ],
   "source": [
    "n = int(input())\n",
    "\n",
    "arr = np.array( [ list( map (int,input().split()))  for i in range(n)]   )\n",
    "\n"
   ]
  },
  {
   "cell_type": "code",
   "execution_count": 143,
   "id": "f0c5e180",
   "metadata": {},
   "outputs": [
    {
     "data": {
      "text/plain": [
       "array([[5, 6, 9],\n",
       "       [5, 6, 9],\n",
       "       [1, 2, 3]])"
      ]
     },
     "execution_count": 143,
     "metadata": {},
     "output_type": "execute_result"
    }
   ],
   "source": [
    "arr"
   ]
  },
  {
   "cell_type": "code",
   "execution_count": 144,
   "id": "8e619742",
   "metadata": {},
   "outputs": [],
   "source": [
    "izb = arr[arr[:,0] > 2]"
   ]
  },
  {
   "cell_type": "code",
   "execution_count": 145,
   "id": "9a4792ee",
   "metadata": {},
   "outputs": [
    {
     "data": {
      "text/plain": [
       "array([[5, 6, 9],\n",
       "       [5, 6, 9]])"
      ]
     },
     "execution_count": 145,
     "metadata": {},
     "output_type": "execute_result"
    }
   ],
   "source": [
    "izb"
   ]
  },
  {
   "cell_type": "code",
   "execution_count": 146,
   "id": "7a2b9249",
   "metadata": {},
   "outputs": [
    {
     "data": {
      "text/plain": [
       "array([[5, 6, 9],\n",
       "       [5, 6, 9]])"
      ]
     },
     "execution_count": 146,
     "metadata": {},
     "output_type": "execute_result"
    }
   ],
   "source": [
    "izb[np.all(izb>4, axis = 1)]"
   ]
  },
  {
   "cell_type": "code",
   "execution_count": null,
   "id": "78bef140",
   "metadata": {},
   "outputs": [],
   "source": []
  },
  {
   "cell_type": "markdown",
   "id": "19497b86",
   "metadata": {},
   "source": [
    "### Задача. Стандартное отклонение по длине плавника 2"
   ]
  },
  {
   "cell_type": "code",
   "execution_count": null,
   "id": "1d26e5f8",
   "metadata": {},
   "outputs": [],
   "source": [
    "Ранее нужно было вычислить границы стандартного отклонения массива по правилу трех сигм. Напомним, что  99,73% \n",
    "выборки будут лежать в интервале \n",
    "\n",
    "Xсреднее_арифм - 3*sigma - Xсреднее_арифм + 3*sigma\n",
    "\n",
    "В этом задании вам снова даны длины плавников 10 пингвинов, нужно вывести True, \n",
    "если все они лежат в указанном интервале и False в противном случае. \n",
    "\n",
    "Напомним, что в массиве присутствует константа np.nan. Замените ее на среднее значение остальных элементов массива. \n",
    "\n",
    "Формат входных данных\n",
    "В этом задании нет входных данных, вам нужно обработать массив, заданный в шаблоне\n",
    "\n",
    "Формат выходных данных\n",
    "Программа должна единственный отве: True или False"
   ]
  },
  {
   "cell_type": "code",
   "execution_count": 215,
   "id": "2d9a9666",
   "metadata": {},
   "outputs": [],
   "source": [
    "flipper_length_10 = np.array([181., 186., 195.,  np.nan, 193., 190., 181., 195., 193., 190.])"
   ]
  },
  {
   "cell_type": "code",
   "execution_count": 218,
   "id": "ce558b31",
   "metadata": {},
   "outputs": [],
   "source": [
    "mask = np.isnan(flipper_length_10)"
   ]
  },
  {
   "cell_type": "code",
   "execution_count": null,
   "id": "deb63e2a",
   "metadata": {},
   "outputs": [],
   "source": []
  },
  {
   "cell_type": "code",
   "execution_count": 219,
   "id": "72c78b71",
   "metadata": {},
   "outputs": [
    {
     "data": {
      "text/plain": [
       "array([181., 186., 195., 193., 190., 181., 195., 193., 190.])"
      ]
     },
     "execution_count": 219,
     "metadata": {},
     "output_type": "execute_result"
    }
   ],
   "source": [
    "arr = flipper_length_10[~mask]"
   ]
  },
  {
   "cell_type": "code",
   "execution_count": null,
   "id": "e5331cb8",
   "metadata": {},
   "outputs": [],
   "source": []
  },
  {
   "cell_type": "code",
   "execution_count": 190,
   "id": "d341a385",
   "metadata": {},
   "outputs": [],
   "source": [
    "arr = np.nan_to_num(flipper_length_10)"
   ]
  },
  {
   "cell_type": "code",
   "execution_count": 191,
   "id": "41c481df",
   "metadata": {},
   "outputs": [],
   "source": [
    "sigma = np.std(arr)"
   ]
  },
  {
   "cell_type": "code",
   "execution_count": 193,
   "id": "f8dec3e0",
   "metadata": {},
   "outputs": [
    {
     "data": {
      "text/plain": [
       "171.03789053890952"
      ]
     },
     "execution_count": 193,
     "metadata": {},
     "output_type": "execute_result"
    }
   ],
   "source": [
    "sigma*3"
   ]
  },
  {
   "cell_type": "code",
   "execution_count": 194,
   "id": "f15a2234",
   "metadata": {},
   "outputs": [],
   "source": [
    "arr_mean = np.mean(arr)"
   ]
  },
  {
   "cell_type": "code",
   "execution_count": 195,
   "id": "853e4b81",
   "metadata": {},
   "outputs": [
    {
     "data": {
      "text/plain": [
       "170.4"
      ]
     },
     "execution_count": 195,
     "metadata": {},
     "output_type": "execute_result"
    }
   ],
   "source": [
    "arr_mean"
   ]
  },
  {
   "cell_type": "code",
   "execution_count": 208,
   "id": "5596d602",
   "metadata": {},
   "outputs": [],
   "source": [
    "low = arr_mean - sigma*3"
   ]
  },
  {
   "cell_type": "code",
   "execution_count": 209,
   "id": "67d9dec1",
   "metadata": {},
   "outputs": [
    {
     "data": {
      "text/plain": [
       "-0.6378905389095166"
      ]
     },
     "execution_count": 209,
     "metadata": {},
     "output_type": "execute_result"
    }
   ],
   "source": [
    "low"
   ]
  },
  {
   "cell_type": "code",
   "execution_count": null,
   "id": "722067a8",
   "metadata": {},
   "outputs": [],
   "source": []
  },
  {
   "cell_type": "code",
   "execution_count": 210,
   "id": "d6ba0c42",
   "metadata": {},
   "outputs": [],
   "source": [
    "up = arr_mean + sigma*3"
   ]
  },
  {
   "cell_type": "code",
   "execution_count": 211,
   "id": "182d65f4",
   "metadata": {},
   "outputs": [
    {
     "data": {
      "text/plain": [
       "341.4378905389095"
      ]
     },
     "execution_count": 211,
     "metadata": {},
     "output_type": "execute_result"
    }
   ],
   "source": [
    "up"
   ]
  },
  {
   "cell_type": "code",
   "execution_count": null,
   "id": "f0951187",
   "metadata": {},
   "outputs": [],
   "source": []
  },
  {
   "cell_type": "code",
   "execution_count": 205,
   "id": "8ba0cf5c",
   "metadata": {},
   "outputs": [
    {
     "data": {
      "text/plain": [
       "array([181., 186., 195.,   0., 193., 190., 181., 195., 193., 190.])"
      ]
     },
     "execution_count": 205,
     "metadata": {},
     "output_type": "execute_result"
    }
   ],
   "source": [
    "arr[(arr>=low)]"
   ]
  },
  {
   "cell_type": "code",
   "execution_count": 213,
   "id": "82928c35",
   "metadata": {},
   "outputs": [
    {
     "data": {
      "text/plain": [
       "True"
      ]
     },
     "execution_count": 213,
     "metadata": {},
     "output_type": "execute_result"
    }
   ],
   "source": [
    "np.all((arr>=low) & (arr<=up) )"
   ]
  },
  {
   "cell_type": "code",
   "execution_count": null,
   "id": "da5f6323",
   "metadata": {},
   "outputs": [],
   "source": []
  },
  {
   "cell_type": "code",
   "execution_count": null,
   "id": "5d1e8765",
   "metadata": {},
   "outputs": [],
   "source": []
  },
  {
   "cell_type": "code",
   "execution_count": 223,
   "id": "bfccc989",
   "metadata": {},
   "outputs": [
    {
     "name": "stdout",
     "output_type": "stream",
     "text": [
      "[181. 186. 195. 193. 190. 181. 195. 193. 190.]\n",
      "True\n"
     ]
    }
   ],
   "source": [
    "flipper_length_10 = np.array([181., 186., 195.,  np.nan, 193., 190., 181., 195., 193., 190.])\n",
    "mask = np.isnan(flipper_length_10)\n",
    "arr = flipper_length_10[~mask]\n",
    "print(arr)\n",
    "\n",
    "arr_mean = np.mean(arr)\n",
    "sigma = np.std(arr)\n",
    "low = arr_mean - 3*sigma\n",
    "up = arr_mean + 3*sigma\n",
    "\n",
    "print(np.all((arr>=low) & (arr<=up)))"
   ]
  },
  {
   "cell_type": "code",
   "execution_count": null,
   "id": "cb23eb0a",
   "metadata": {},
   "outputs": [],
   "source": []
  },
  {
   "cell_type": "code",
   "execution_count": null,
   "id": "25a632a3",
   "metadata": {},
   "outputs": [],
   "source": []
  },
  {
   "cell_type": "code",
   "execution_count": null,
   "id": "9719c352",
   "metadata": {},
   "outputs": [],
   "source": []
  }
 ],
 "metadata": {
  "kernelspec": {
   "display_name": "Python 3 (ipykernel)",
   "language": "python",
   "name": "python3"
  },
  "language_info": {
   "codemirror_mode": {
    "name": "ipython",
    "version": 3
   },
   "file_extension": ".py",
   "mimetype": "text/x-python",
   "name": "python",
   "nbconvert_exporter": "python",
   "pygments_lexer": "ipython3",
   "version": "3.10.0"
  }
 },
 "nbformat": 4,
 "nbformat_minor": 5
}
