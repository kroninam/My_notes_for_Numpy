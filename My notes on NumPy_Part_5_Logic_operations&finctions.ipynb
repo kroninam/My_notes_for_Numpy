{
 "cells": [
  {
   "cell_type": "code",
   "execution_count": 1,
   "id": "12f80af4",
   "metadata": {},
   "outputs": [],
   "source": [
    "import numpy as np"
   ]
  },
  {
   "cell_type": "markdown",
   "id": "dd36000b",
   "metadata": {},
   "source": [
    "# Сравнение массивов"
   ]
  },
  {
   "cell_type": "markdown",
   "id": "64c49e78",
   "metadata": {},
   "source": [
    "### Как сравнить два массива "
   ]
  },
  {
   "cell_type": "code",
   "execution_count": 3,
   "id": "ef9901ec",
   "metadata": {},
   "outputs": [],
   "source": [
    "# Мы говорили о том, что к массивам применимы все арифметические операторы и они производят поэлементные вычисления. \n",
    "\n",
    "# На самом деле, то же касается и операторов сравнения. С помощью ==, !=, <=, <, >, >= можно \n",
    "# поэлементно сравнить два массива. В этом случае мы получим массив значений Истина/Ложь, \n",
    "\n",
    "# такие массивы называют булевыми или логическими.  \n",
    "\n",
    "\n",
    "#                                     1     2    False\n",
    "\n",
    "#                                     2 ==  2 =  True\n",
    "\n",
    "#                                     3     3    True"
   ]
  },
  {
   "cell_type": "code",
   "execution_count": 4,
   "id": "74b45aac",
   "metadata": {},
   "outputs": [
    {
     "name": "stdout",
     "output_type": "stream",
     "text": [
      "[False  True False]\n"
     ]
    }
   ],
   "source": [
    "# Пример\n",
    "# 1. Сравнение через оператор ==\n",
    "\n",
    "a1 = np.array([1, 2, 3])\n",
    "a2 = np.array([2, 2, 2])\n",
    "\n",
    "print(a1 == a2) # [False  True False]"
   ]
  },
  {
   "cell_type": "code",
   "execution_count": 5,
   "id": "2eea60da",
   "metadata": {},
   "outputs": [
    {
     "name": "stdout",
     "output_type": "stream",
     "text": [
      "[False False  True]\n"
     ]
    }
   ],
   "source": [
    "# 2. Сравнение через оператор >\n",
    "\n",
    "a1 = np.array([1, 2, 3])\n",
    "a2 = np.array([2, 2, 2])\n",
    "\n",
    "print(a1 > a2) # [False False  True]"
   ]
  },
  {
   "cell_type": "code",
   "execution_count": 6,
   "id": "e1110fcd",
   "metadata": {},
   "outputs": [
    {
     "name": "stdout",
     "output_type": "stream",
     "text": [
      "[[ True  True]\n",
      " [False False]]\n"
     ]
    }
   ],
   "source": [
    "# 3. Случай, когда один массив двумерный, а другой одномерный, тоже возможен. \n",
    "# Тогда одномерный массива будет сравниваться с каждой строкой двумерного:\n",
    "\n",
    "arr1 = np.array([[1, 2], \n",
    "                 [3, 4]])\n",
    "arr2 = np.array([1, 2])\n",
    "print(arr1 == arr2)\n",
    "# Результат\n",
    "# [[ True  True]\n",
    "#  [False False]]"
   ]
  },
  {
   "cell_type": "code",
   "execution_count": null,
   "id": "42e87ee9",
   "metadata": {},
   "outputs": [],
   "source": []
  },
  {
   "cell_type": "markdown",
   "id": "c7c9e60f",
   "metadata": {},
   "source": [
    "### Сравнение массивов с числами"
   ]
  },
  {
   "cell_type": "code",
   "execution_count": 7,
   "id": "ac39645e",
   "metadata": {},
   "outputs": [
    {
     "name": "stdout",
     "output_type": "stream",
     "text": [
      "[False  True False  True]\n"
     ]
    }
   ],
   "source": [
    "# Можно сравнивать массивы и числа. В этом случае сравниваться будет каждый элемент массива с заданным числом\n",
    "\n",
    "# Пример\n",
    "\n",
    "arr1 = np.array([3, 7, 5, 9])\n",
    "print(arr1 > 5)\n",
    "# Результат\n",
    "# [False  True False  True]"
   ]
  },
  {
   "cell_type": "code",
   "execution_count": null,
   "id": "4f450914",
   "metadata": {},
   "outputs": [],
   "source": [
    "# Функции-синонимы\n",
    "# Каждый оператор сравнения имеет функцию-синоним\n",
    "\n",
    "# np.greater(x1, x2) - синоним оператора > \n",
    "# np.greater_equal(x1, x2) - синоним оператора >= \n",
    "# np.less(x1, x2) - синоним оператора < \n",
    "# np.less_equal(x1, x2) - синоним оператора <= \n",
    "# np.equal(x1, x2) - синоним оператора == \n",
    "# np.not_equal(x1, x2) - синоним оператора !="
   ]
  },
  {
   "cell_type": "code",
   "execution_count": null,
   "id": "b3d80fc8",
   "metadata": {},
   "outputs": [],
   "source": []
  },
  {
   "cell_type": "markdown",
   "id": "a67fb3ea",
   "metadata": {},
   "source": [
    "# Индексация булевыми массивами"
   ]
  },
  {
   "cell_type": "code",
   "execution_count": null,
   "id": "456c0588",
   "metadata": {},
   "outputs": [],
   "source": [
    "Можно не только сравнивать массивы, но и извлекать значения, подходящие по условию. \n",
    "\n",
    "Мы можем передавать булевы массивы в качестве индексов, тогда в результате вернется \n",
    "выборка из массива, которой в исходном массиве было сопоставлено значение True."
   ]
  },
  {
   "cell_type": "code",
   "execution_count": null,
   "id": "ea9e54d5",
   "metadata": {},
   "outputs": [],
   "source": [
    "# Пример\n",
    "# Например, перед нами стоит следующая задача. Создается массив, находится \n",
    "# его среднее арифметическое и проверяется, какие элементы строго больше среднего арифметического. \n",
    "# Дальше нужно из массива выбрать и вывести эти элементы. \n",
    "\n",
    "arr = np.array([3, 4, 5, 1])\n",
    "mean = np.mean(arr) # 3.25\n",
    "condition = arr > mean # [False,  True,  True, False]\n",
    "print(arr[condition]) # [4, 5]\n",
    "\n",
    "# Чаще это записывается так\n",
    "\n",
    "arr = np.array([3, 4, 5, 1])\n",
    "mean = np.mean(arr) # 3.25\n",
    "print(arr[arr > mean]) # [4, 5]"
   ]
  },
  {
   "cell_type": "code",
   "execution_count": 8,
   "id": "8580a8fc",
   "metadata": {},
   "outputs": [],
   "source": [
    "a = np.array([1,2,3,4,5,6,7,8,9,8,7,6,7,8,7,6,6,5,6,7,8,6,5,5,4,4,3,2,2,1,23,4,5,6,7,7,6,5,0])"
   ]
  },
  {
   "cell_type": "code",
   "execution_count": 9,
   "id": "92217bfa",
   "metadata": {},
   "outputs": [],
   "source": [
    "a_mean = np.mean(a)"
   ]
  },
  {
   "cell_type": "code",
   "execution_count": 10,
   "id": "ac281628",
   "metadata": {},
   "outputs": [
    {
     "data": {
      "text/plain": [
       "array([ 6,  7,  8,  9,  8,  7,  6,  7,  8,  7,  6,  6,  6,  7,  8,  6, 23,\n",
       "        6,  7,  7,  6])"
      ]
     },
     "execution_count": 10,
     "metadata": {},
     "output_type": "execute_result"
    }
   ],
   "source": [
    "a[a>a_mean]"
   ]
  },
  {
   "cell_type": "code",
   "execution_count": null,
   "id": "e8d89cd4",
   "metadata": {},
   "outputs": [],
   "source": [
    "# Но такой способ работает только, когда нам достаточно только одного условия. \n",
    "# Если бы мы хотели извлечь, все элементы, которые больше 1 и меньше 5, \n",
    "# то следующая запись была бы ошибкой\n",
    "\n",
    "arr = np.array([3, 4, 5, 1])\n",
    "print(arr[arr > 1 and arr < 5]) # Error!"
   ]
  },
  {
   "cell_type": "code",
   "execution_count": 11,
   "id": "6682c1bf",
   "metadata": {},
   "outputs": [
    {
     "data": {
      "text/plain": [
       "array([ 1,  2,  3,  4,  5,  6,  7,  8,  9,  8,  7,  6,  7,  8,  7,  6,  6,\n",
       "        5,  6,  7,  8,  6,  5,  5,  4,  4,  3,  2,  2,  1, 23,  4,  5,  6,\n",
       "        7,  7,  6,  5,  0])"
      ]
     },
     "execution_count": 11,
     "metadata": {},
     "output_type": "execute_result"
    }
   ],
   "source": [
    "a"
   ]
  },
  {
   "cell_type": "code",
   "execution_count": 16,
   "id": "cac54eb2",
   "metadata": {},
   "outputs": [],
   "source": [
    "# Задача\n",
    "\n",
    "# Дан одномерный массив. Выберите и выведите из массива элементы, которые строго меньше 25 процентиля.\n",
    "\n",
    "arr = np.array([2, 7, 7, 8, 8, 6, 8, 7, 6, 7])"
   ]
  },
  {
   "cell_type": "code",
   "execution_count": 20,
   "id": "952b7fd8",
   "metadata": {},
   "outputs": [],
   "source": [
    "percentile = np.percentile(arr, 25)"
   ]
  },
  {
   "cell_type": "code",
   "execution_count": 21,
   "id": "55226575",
   "metadata": {},
   "outputs": [
    {
     "data": {
      "text/plain": [
       "6.25"
      ]
     },
     "execution_count": 21,
     "metadata": {},
     "output_type": "execute_result"
    }
   ],
   "source": [
    "percentile"
   ]
  },
  {
   "cell_type": "code",
   "execution_count": 22,
   "id": "5130ec15",
   "metadata": {},
   "outputs": [
    {
     "data": {
      "text/plain": [
       "array([2, 6, 6])"
      ]
     },
     "execution_count": 22,
     "metadata": {},
     "output_type": "execute_result"
    }
   ],
   "source": [
    "arr[arr<percentile]"
   ]
  },
  {
   "cell_type": "code",
   "execution_count": null,
   "id": "aee512f6",
   "metadata": {},
   "outputs": [],
   "source": []
  },
  {
   "cell_type": "code",
   "execution_count": null,
   "id": "dd4351f4",
   "metadata": {},
   "outputs": [],
   "source": []
  },
  {
   "cell_type": "code",
   "execution_count": null,
   "id": "8829613b",
   "metadata": {},
   "outputs": [],
   "source": []
  },
  {
   "cell_type": "code",
   "execution_count": null,
   "id": "9719c352",
   "metadata": {},
   "outputs": [],
   "source": []
  }
 ],
 "metadata": {
  "kernelspec": {
   "display_name": "Python 3 (ipykernel)",
   "language": "python",
   "name": "python3"
  },
  "language_info": {
   "codemirror_mode": {
    "name": "ipython",
    "version": 3
   },
   "file_extension": ".py",
   "mimetype": "text/x-python",
   "name": "python",
   "nbconvert_exporter": "python",
   "pygments_lexer": "ipython3",
   "version": "3.10.0"
  }
 },
 "nbformat": 4,
 "nbformat_minor": 5
}
