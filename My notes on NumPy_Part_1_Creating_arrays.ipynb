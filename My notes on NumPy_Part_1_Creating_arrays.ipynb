{
 "cells": [
  {
   "cell_type": "code",
   "execution_count": 2,
   "id": "3a444914",
   "metadata": {},
   "outputs": [
    {
     "name": "stdout",
     "output_type": "stream",
     "text": [
      "1.24.2\n"
     ]
    }
   ],
   "source": [
    "import numpy as np\n",
    "\n",
    "print(np.__version__) # 1.20.3"
   ]
  },
  {
   "cell_type": "code",
   "execution_count": 2,
   "id": "6c9bc804",
   "metadata": {},
   "outputs": [],
   "source": [
    "import numpy as np\n",
    "arr = np.array([5, 3, 2, 0, 7, 12, 9, 1, 3, 4])"
   ]
  },
  {
   "cell_type": "code",
   "execution_count": 2,
   "id": "84da709f",
   "metadata": {},
   "outputs": [
    {
     "ename": "NameError",
     "evalue": "name 'arr' is not defined",
     "output_type": "error",
     "traceback": [
      "\u001b[1;31m---------------------------------------------------------------------------\u001b[0m",
      "\u001b[1;31mNameError\u001b[0m                                 Traceback (most recent call last)",
      "Cell \u001b[1;32mIn[2], line 1\u001b[0m\n\u001b[1;32m----> 1\u001b[0m \u001b[43marr\u001b[49m\n",
      "\u001b[1;31mNameError\u001b[0m: name 'arr' is not defined"
     ]
    }
   ],
   "source": [
    "arr"
   ]
  },
  {
   "cell_type": "markdown",
   "id": "0944bbdb",
   "metadata": {},
   "source": [
    "# Тип элементов"
   ]
  },
  {
   "cell_type": "code",
   "execution_count": 4,
   "id": "45bf6a66",
   "metadata": {},
   "outputs": [
    {
     "name": "stdout",
     "output_type": "stream",
     "text": [
      "int32\n"
     ]
    }
   ],
   "source": [
    "\n",
    "print(arr.dtype) # int64"
   ]
  },
  {
   "cell_type": "code",
   "execution_count": 5,
   "id": "d01e657a",
   "metadata": {},
   "outputs": [
    {
     "name": "stdout",
     "output_type": "stream",
     "text": [
      "(10,)\n"
     ]
    }
   ],
   "source": [
    "# Размерность массива\n",
    "print(arr.shape) # (10,)"
   ]
  },
  {
   "cell_type": "code",
   "execution_count": 6,
   "id": "6f28f86c",
   "metadata": {},
   "outputs": [
    {
     "name": "stdout",
     "output_type": "stream",
     "text": [
      "int32\n",
      "(4, 5)\n"
     ]
    }
   ],
   "source": [
    "import numpy as np\n",
    "arr = np.array([[5, 3, 2, 0, 7], \n",
    "                [4, 5, 7, 13, 6], \n",
    "                [7, 3, 2, 6, 2],\n",
    "                [18, 1, 9, 5, 0]]) \n",
    "# Тип элементов\n",
    "print(arr.dtype) # int64\n",
    "# Размерность массива\n",
    "print(arr.shape) # (4, 5)"
   ]
  },
  {
   "cell_type": "code",
   "execution_count": 10,
   "id": "8e20aee1",
   "metadata": {},
   "outputs": [
    {
     "name": "stdout",
     "output_type": "stream",
     "text": [
      "[4 5 6]\n"
     ]
    }
   ],
   "source": [
    "# Одномерный массив\n",
    "lst = [4, 5, 6]\n",
    "arr = np.array(lst)\n",
    "print(arr) # [4 5 6]"
   ]
  },
  {
   "cell_type": "code",
   "execution_count": 11,
   "id": "3eeec6e7",
   "metadata": {},
   "outputs": [
    {
     "name": "stdout",
     "output_type": "stream",
     "text": [
      "[3 5 7 9]\n",
      "[0 1 2 3 4]\n"
     ]
    }
   ],
   "source": [
    "#Одномерный массив\n",
    "a = np.arange(3, 11, 2) # Начало, конец, шаг\n",
    "print(a) # [3 5 7 9]\n",
    "a = np.arange(5) # только количество элементов\n",
    "print(a) # [0 1 2 3 4]"
   ]
  },
  {
   "cell_type": "code",
   "execution_count": null,
   "id": "627b1033",
   "metadata": {},
   "outputs": [],
   "source": []
  },
  {
   "cell_type": "code",
   "execution_count": 8,
   "id": "7aa4bf79",
   "metadata": {},
   "outputs": [
    {
     "name": "stdout",
     "output_type": "stream",
     "text": [
      "[[4 5 6]\n",
      " [7 8 9]]\n"
     ]
    }
   ],
   "source": [
    "# Двумерный массив\n",
    "lst = [[4, 5, 6], \n",
    "       [7, 8, 9]]\n",
    "arr = np.array(lst)\n",
    "print(arr) "
   ]
  },
  {
   "cell_type": "code",
   "execution_count": 9,
   "id": "027f7068",
   "metadata": {},
   "outputs": [
    {
     "name": "stdout",
     "output_type": "stream",
     "text": [
      "2\n",
      "3\n"
     ]
    }
   ],
   "source": [
    "print(arr.shape[0]) # 2 строки\n",
    "print(arr.shape[1]) # 3 столбца"
   ]
  },
  {
   "cell_type": "code",
   "execution_count": 13,
   "id": "1726df8a",
   "metadata": {},
   "outputs": [
    {
     "name": "stdout",
     "output_type": "stream",
     "text": [
      "[0. 0. 0. 0. 0.]\n",
      "[1. 1. 1.]\n",
      "[[0. 0. 0. 0.]\n",
      " [0. 0. 0. 0.]\n",
      " [0. 0. 0. 0.]]\n",
      "[[1. 1. 1.]\n",
      " [1. 1. 1.]]\n"
     ]
    }
   ],
   "source": [
    "#Одномерный массив\n",
    "a = np.zeros((5))\n",
    "print(a)\n",
    "# Результат\n",
    "# [0. 0. 0. 0. 0.]\n",
    "a = np.ones(3)\n",
    "print(a)\n",
    "# Результат\n",
    "# [1. 1. 1.]\n",
    "#Двумерный массив\n",
    "a = np.zeros((3, 4))\n",
    "print(a)\n",
    "# Результат\n",
    "# [[0. 0. 0. 0.]\n",
    "#  [0. 0. 0. 0.]\n",
    "#  [0. 0. 0. 0.]]\n",
    "a = np.ones((2, 3))\n",
    "print(a)\n",
    "# Результат \n",
    "# [[1. 1. 1.]\n",
    "#  [1. 1. 1.]]"
   ]
  },
  {
   "cell_type": "code",
   "execution_count": null,
   "id": "0966e377",
   "metadata": {},
   "outputs": [],
   "source": []
  },
  {
   "cell_type": "code",
   "execution_count": 14,
   "id": "e7973f57",
   "metadata": {},
   "outputs": [
    {
     "name": "stdout",
     "output_type": "stream",
     "text": [
      "[[0 0 0]\n",
      " [0 0 0]]\n",
      "[[1 1 1]\n",
      " [1 1 1]]\n"
     ]
    }
   ],
   "source": [
    "#Нули и единицы c размерностью другого массива\n",
    "#Функции np.zeros_like() и np.ones_like() умеют подглядывать в другие массивы и копировать их размерность и тип данных. \n",
    "\n",
    "a = np.array([[1, 2, 3], \n",
    "              [4, 5, 6]])\n",
    "\n",
    "b = np.zeros_like(a)\n",
    "print(b)\n",
    "# Результат \n",
    "# [[0 0 0]\n",
    "#  [0 0 0]]\n",
    "a = np.array([[1, 2, 3], \n",
    "              [4, 5, 6]])\n",
    "b = np.ones_like(a)\n",
    "print(b)\n",
    "\n",
    "# Результат\n",
    "# [[1 1 1]\n",
    "#  [1 1 1]]"
   ]
  },
  {
   "cell_type": "code",
   "execution_count": null,
   "id": "c2d659c0",
   "metadata": {},
   "outputs": [],
   "source": []
  },
  {
   "cell_type": "code",
   "execution_count": 15,
   "id": "e4febf9c",
   "metadata": {},
   "outputs": [
    {
     "name": "stdout",
     "output_type": "stream",
     "text": [
      "[[0.46611143 0.9584567 ]\n",
      " [0.70630408 0.30423647]]\n"
     ]
    }
   ],
   "source": [
    "#Случайные числа\n",
    "#Если нас интересует массив случайных чисел в диапазоне [0; 1), то используем np.random.random() с параметром size, в котором укажем желаемую размерность:\n",
    "\n",
    "a = np.random.random(size=(2, 2))\n",
    "print(a)\n",
    "# Пример результата\n",
    "# [[0.46288644 0.78587867]\n",
    "#  [0.3694063  0.09728958]]\n",
    "#Этот способ позволяет сгенерировать и одно случайное число, можно просто не указывать size\n",
    "\n",
    "a = np.random.random()"
   ]
  },
  {
   "cell_type": "code",
   "execution_count": null,
   "id": "e079bddd",
   "metadata": {},
   "outputs": [],
   "source": []
  },
  {
   "cell_type": "code",
   "execution_count": 16,
   "id": "d4cdba78",
   "metadata": {},
   "outputs": [
    {
     "name": "stdout",
     "output_type": "stream",
     "text": [
      "[[ 5 16 19  7]\n",
      " [10  7 12 14]]\n",
      "2\n"
     ]
    }
   ],
   "source": [
    "#Случайные целые числа\n",
    "#Если нас интересуют случайные массив целых чисел, то можно использовать np.random.randint(start, stop, size=None). Первые два числа задают начало и конец диапазона, в котором будут сгенерированы случайные числа. Причем, начало включительно, а конец - нет. \n",
    "\n",
    "#Параметр size определяет размерность итогового массива:\n",
    "\n",
    "a = np.random.randint(1, 20, size=(2, 4))\n",
    "print(a)\n",
    "# Пример результата\n",
    "# [[10  2 14  8]\n",
    "#  [ 8  7 10 12]]\n",
    "#Опять же, size можно не указывать, тогда получим одно число\n",
    "\n",
    "a = np.random.randint(1, 20)\n",
    "print(a) # 13"
   ]
  },
  {
   "cell_type": "code",
   "execution_count": 17,
   "id": "7ee2f0b0",
   "metadata": {},
   "outputs": [
    {
     "name": "stdout",
     "output_type": "stream",
     "text": [
      "[1.   1.25 1.5  1.75 2.  ]\n",
      "(array([1.  , 1.25, 1.5 , 1.75, 2.  ]), 0.25)\n",
      "[1.   1.25 1.5  1.75 2.  ]\n",
      "0.25\n"
     ]
    }
   ],
   "source": [
    "#np.linspace()\n",
    "#Функция генерации линейной последовательности. Генерирует num точек в диапазоне от start до stop\n",
    "\n",
    "#np.linspace(strart, stop, num=50, endpoint=True, retstep=False) - функция линейной последовательности. Генерирует num элементов, начиная со значения start и заканчивая stop.\n",
    "#Если endpoint=True, то stop тоже включается в массив. Если retstep=True, то функция возвращает сгенерированный массив и шаг. \n",
    "\n",
    "#По умолчанию num=50, endpoint=True, retstep=False\n",
    "\n",
    "#Пример 1\n",
    "\n",
    "arr = np.linspace(1, 2, num=5)\n",
    "print(arr) # [1.   1.25 1.5  1.75 2.  ]\n",
    "#Пример 2. Вернуть шаг \n",
    "\n",
    "arr = np.linspace(1, 2, num=5, retstep=True)\n",
    "print(arr) # (array([1.  , 1.25, 1.5 , 1.75, 2.  ]), 0.25)\n",
    "print(arr[0]) # array([1.  , 1.25, 1.5 , 1.75, 2.  ]) - сам массив\n",
    "print(arr[1]) # 0.25 - шаг между элементами"
   ]
  },
  {
   "cell_type": "code",
   "execution_count": 22,
   "id": "b28b2d44",
   "metadata": {},
   "outputs": [],
   "source": [
    "arr = np.linspace(1,100, num=10, retstep=True)"
   ]
  },
  {
   "cell_type": "code",
   "execution_count": 50,
   "id": "78076906",
   "metadata": {},
   "outputs": [
    {
     "name": "stdout",
     "output_type": "stream",
     "text": [
      "5\n",
      "[ 0.    3.75  7.5  11.25 15.  ]\n"
     ]
    }
   ],
   "source": [
    "# Задача 1\n",
    "# Вводится целое положительное число n. \n",
    "# Сгенерируйте одномерный массив длиной n в диапазоне от 0 до 5, и умножьте на 3. \n",
    "# Выведите результат.\n",
    "\n",
    "n = int(input())\n",
    "arr = np.linspace(0,5,num=n)*3\n",
    "print(arr)"
   ]
  },
  {
   "cell_type": "code",
   "execution_count": 75,
   "id": "14a7c55a",
   "metadata": {},
   "outputs": [
    {
     "name": "stdout",
     "output_type": "stream",
     "text": [
      "5\n",
      "[ 3.      6.1875 12.75   22.6875 36.    ]\n"
     ]
    }
   ],
   "source": [
    "#Задача по вычислению функции для n точек в диапазоне [0;3]\n",
    "n = int(input())\n",
    "x = np.linspace(0,3, num = n)\n",
    "arr = np.array(3*(x**2)+(2*x)+3)\n",
    "print(arr)\n"
   ]
  },
  {
   "cell_type": "code",
   "execution_count": null,
   "id": "f38492fc",
   "metadata": {},
   "outputs": [],
   "source": []
  },
  {
   "cell_type": "code",
   "execution_count": null,
   "id": "08d42b37",
   "metadata": {},
   "outputs": [],
   "source": []
  },
  {
   "cell_type": "code",
   "execution_count": null,
   "id": "4b3dd943",
   "metadata": {},
   "outputs": [],
   "source": []
  },
  {
   "cell_type": "code",
   "execution_count": 23,
   "id": "652d20ce",
   "metadata": {},
   "outputs": [
    {
     "data": {
      "text/plain": [
       "(array([  1.,  12.,  23.,  34.,  45.,  56.,  67.,  78.,  89., 100.]), 11.0)"
      ]
     },
     "execution_count": 23,
     "metadata": {},
     "output_type": "execute_result"
    }
   ],
   "source": [
    "arr"
   ]
  },
  {
   "cell_type": "code",
   "execution_count": 27,
   "id": "0c62c8ad",
   "metadata": {},
   "outputs": [
    {
     "name": "stdout",
     "output_type": "stream",
     "text": [
      "[ 0  2  4  6  8 10 12 14 16 18 20 22 24 26 28 30 32 34 36 38 40 42 44 46\n",
      " 48 50]\n"
     ]
    }
   ],
   "source": [
    "arr = np.arange(0,52, step=2)\n",
    "print(arr)"
   ]
  },
  {
   "cell_type": "code",
   "execution_count": null,
   "id": "cd5d0cba",
   "metadata": {},
   "outputs": [],
   "source": []
  },
  {
   "cell_type": "code",
   "execution_count": 28,
   "id": "e1cfdbaf",
   "metadata": {},
   "outputs": [
    {
     "name": "stdout",
     "output_type": "stream",
     "text": [
      "[[0 1 2]\n",
      " [3 4 5]]\n"
     ]
    }
   ],
   "source": [
    "\n",
    "arr = np.arange(6)\n",
    "arr = arr.reshape(2, 3)\n",
    "print(arr)\n",
    "# Результат\n",
    "# [[0 1 2]\n",
    "#  [3 4 5]]"
   ]
  },
  {
   "cell_type": "code",
   "execution_count": 29,
   "id": "0f79c136",
   "metadata": {},
   "outputs": [
    {
     "data": {
      "text/plain": [
       "array([0, 1, 2, 3, 4, 5])"
      ]
     },
     "execution_count": 29,
     "metadata": {},
     "output_type": "execute_result"
    }
   ],
   "source": [
    "arr = np.array([[0, 1, 2],\n",
    "                [3, 4, 5]])\n",
    "arr.reshape(-1) # [0, 1, 2, 3, 4, 5]"
   ]
  },
  {
   "cell_type": "code",
   "execution_count": 36,
   "id": "f7204493",
   "metadata": {},
   "outputs": [
    {
     "ename": "ValueError",
     "evalue": "cannot reshape array of size 12 into shape (1,)",
     "output_type": "error",
     "traceback": [
      "\u001b[1;31m---------------------------------------------------------------------------\u001b[0m",
      "\u001b[1;31mValueError\u001b[0m                                Traceback (most recent call last)",
      "Cell \u001b[1;32mIn[36], line 1\u001b[0m\n\u001b[1;32m----> 1\u001b[0m \u001b[43marr\u001b[49m\u001b[38;5;241;43m.\u001b[39;49m\u001b[43mreshape\u001b[49m\u001b[43m(\u001b[49m\u001b[38;5;241;43m1\u001b[39;49m\u001b[43m)\u001b[49m \u001b[38;5;66;03m# [0, 1, 2, 3, 4, 5]\u001b[39;00m\n",
      "\u001b[1;31mValueError\u001b[0m: cannot reshape array of size 12 into shape (1,)"
     ]
    }
   ],
   "source": [
    "arr.reshape(1) # [0, 1, 2, 3, 4, 5]"
   ]
  },
  {
   "cell_type": "code",
   "execution_count": 37,
   "id": "0532766c",
   "metadata": {},
   "outputs": [
    {
     "data": {
      "text/plain": [
       "array([0, 1, 2, 3, 4, 5])"
      ]
     },
     "execution_count": 37,
     "metadata": {},
     "output_type": "execute_result"
    }
   ],
   "source": [
    "arr = np.array([[0, 1, 2],\n",
    "                [3, 4, 5]])\n",
    "arr.flatten() # [0, 1, 2, 3, 4, 5]"
   ]
  },
  {
   "cell_type": "code",
   "execution_count": 3,
   "id": "fa9ced14",
   "metadata": {},
   "outputs": [],
   "source": [
    "# reshape(x,-1) - позволяет переформатировать массив на x строк и количество столбцов уж сколько получится"
   ]
  },
  {
   "cell_type": "code",
   "execution_count": 6,
   "id": "50e3c82a",
   "metadata": {},
   "outputs": [
    {
     "data": {
      "text/plain": [
       "array([[1, 2, 3],\n",
       "       [4, 5, 6],\n",
       "       [7, 8, 9],\n",
       "       [9, 8, 7]])"
      ]
     },
     "execution_count": 6,
     "metadata": {},
     "output_type": "execute_result"
    }
   ],
   "source": [
    "arr = np.array([[1,2,3], [4,5,6], [7,8,9], [9,8,7]])\n",
    "arr"
   ]
  },
  {
   "cell_type": "code",
   "execution_count": 7,
   "id": "bd4aa064",
   "metadata": {},
   "outputs": [
    {
     "data": {
      "text/plain": [
       "array([[1, 2, 3, 4, 5, 6],\n",
       "       [7, 8, 9, 9, 8, 7]])"
      ]
     },
     "execution_count": 7,
     "metadata": {},
     "output_type": "execute_result"
    }
   ],
   "source": [
    "arr.reshape(2,-1)"
   ]
  },
  {
   "cell_type": "code",
   "execution_count": 8,
   "id": "3994cdc6",
   "metadata": {},
   "outputs": [
    {
     "data": {
      "text/plain": [
       "array([[1, 2, 3, 4],\n",
       "       [5, 6, 7, 8],\n",
       "       [9, 9, 8, 7]])"
      ]
     },
     "execution_count": 8,
     "metadata": {},
     "output_type": "execute_result"
    }
   ],
   "source": [
    "arr.reshape(3,-1)"
   ]
  },
  {
   "cell_type": "code",
   "execution_count": 9,
   "id": "f1431c52",
   "metadata": {},
   "outputs": [
    {
     "data": {
      "text/plain": [
       "array([1, 2, 3, 4, 5, 6, 7, 8, 9, 9, 8, 7])"
      ]
     },
     "execution_count": 9,
     "metadata": {},
     "output_type": "execute_result"
    }
   ],
   "source": [
    "arr.reshape(-1)"
   ]
  },
  {
   "cell_type": "code",
   "execution_count": null,
   "id": "b1c1a3d4",
   "metadata": {},
   "outputs": [],
   "source": []
  },
  {
   "cell_type": "code",
   "execution_count": 39,
   "id": "4674f6e9",
   "metadata": {},
   "outputs": [
    {
     "data": {
      "text/plain": [
       "(2, 3)"
      ]
     },
     "execution_count": 39,
     "metadata": {},
     "output_type": "execute_result"
    }
   ],
   "source": [
    "arr.shape"
   ]
  },
  {
   "cell_type": "code",
   "execution_count": 40,
   "id": "e3479377",
   "metadata": {},
   "outputs": [
    {
     "data": {
      "text/plain": [
       "2"
      ]
     },
     "execution_count": 40,
     "metadata": {},
     "output_type": "execute_result"
    }
   ],
   "source": [
    "arr.shape[0]"
   ]
  },
  {
   "cell_type": "code",
   "execution_count": 41,
   "id": "b3659151",
   "metadata": {},
   "outputs": [
    {
     "data": {
      "text/plain": [
       "3"
      ]
     },
     "execution_count": 41,
     "metadata": {},
     "output_type": "execute_result"
    }
   ],
   "source": [
    "arr.shape[1]"
   ]
  },
  {
   "cell_type": "code",
   "execution_count": null,
   "id": "9bd37427",
   "metadata": {},
   "outputs": [],
   "source": []
  },
  {
   "cell_type": "code",
   "execution_count": 42,
   "id": "e2587740",
   "metadata": {},
   "outputs": [
    {
     "name": "stdout",
     "output_type": "stream",
     "text": [
      "[0. 1. 2. 3. 4. 5. 6. 7. 8. 9.]\n"
     ]
    }
   ],
   "source": [
    "a = np.arange(10, dtype=float)\n",
    "print(a)\n",
    "# [0. 1. 2. 3. 4. 5. 6. 7. 8. 9.]"
   ]
  },
  {
   "cell_type": "code",
   "execution_count": 44,
   "id": "681c367a",
   "metadata": {},
   "outputs": [],
   "source": [
    "#У однажды созданного массива уже невозможно изменить тип данных. \n",
    "#Однако можно создать новый массив на основе старого и указать нужный нам тип данных\n",
    "\n",
    "a_int = np.random.randint(1, 20, size=(3, 2))\n",
    "a_float = np.array(a_int, dtype=np.float64)\n",
    "#Либо можно вызвать функцию astype(type) и указать новый тип\n",
    "\n",
    "a_int = np.random.randint(1, 20, size=(3, 2))\n",
    "a_float = a_int.astype(np.float64)"
   ]
  },
  {
   "cell_type": "code",
   "execution_count": 46,
   "id": "e1ac0e71",
   "metadata": {},
   "outputs": [],
   "source": [
    "#Сложение, умножение, деление массивов"
   ]
  },
  {
   "cell_type": "code",
   "execution_count": 47,
   "id": "69d3ef31",
   "metadata": {},
   "outputs": [
    {
     "ename": "SyntaxError",
     "evalue": "invalid syntax (1338749504.py, line 7)",
     "output_type": "error",
     "traceback": [
      "\u001b[1;36m  Cell \u001b[1;32mIn[47], line 7\u001b[1;36m\u001b[0m\n\u001b[1;33m    Вычитание, умножение, деление:\u001b[0m\n\u001b[1;37m                                 ^\u001b[0m\n\u001b[1;31mSyntaxError\u001b[0m\u001b[1;31m:\u001b[0m invalid syntax\n"
     ]
    }
   ],
   "source": [
    "import numpy as np\n",
    "\n",
    "a1 = np.array([1, 2, 3])\n",
    "a2 = np.array([1, 1, 1])\n",
    "\n",
    "print(a1 + a2) # [2, 3, 4]\n",
    "#Вычитание, умножение, деление:\n",
    "\n",
    "import numpy as np\n",
    "\n",
    "a1 = np.array([1, 2, 3])\n",
    "a2 = np.array([2, 2, 2])\n",
    "\n",
    "print(a1 - a2) # [-1, 0, 1]\n",
    "print(a1 * a2) # [2, 4, 6]\n",
    "print(a1 ** a2) # [1, 4, 9]\n",
    "print(a1 / a2) # [0.5, 1.,  1.5]\n",
    "print(a1 // a2) # [0, 1, 1]"
   ]
  },
  {
   "cell_type": "code",
   "execution_count": 48,
   "id": "e16d0ec4",
   "metadata": {},
   "outputs": [
    {
     "name": "stdout",
     "output_type": "stream",
     "text": [
      "[3 4 5]\n",
      "[-1  0  1]\n",
      "[2 4 6]\n",
      "[1 4 9]\n",
      "[0.5 1.  1.5]\n",
      "[0 1 1]\n"
     ]
    }
   ],
   "source": [
    "a1 = np.array([1, 2, 3])\n",
    "\n",
    "print(a1 + 2) # [3, 4, 5]\n",
    "print(a1 - 2) # [-1, 0, 1]\n",
    "print(a1 * 2) # [2, 4, 6]\n",
    "print(a1 ** 2) # [1, 4, 9]\n",
    "print(a1 / 2) # [0.5, 1.,  1.5]\n",
    "print(a1 // 2) # [0, 1, 1]"
   ]
  },
  {
   "cell_type": "code",
   "execution_count": null,
   "id": "2cb7f8b8",
   "metadata": {},
   "outputs": [],
   "source": [
    "#Если один массив одномерный, а другой - двумерный, то numpy \n",
    "#применит оператор между одномерным массивом и каждом строкой двумерного. \n",
    "#При этом обязательно, чтобы длина однмерного массива совпадала \n",
    "#с количеством столбцов двумерного, иначе получим ошибку\n",
    "\n",
    "a = np.array([[1, -1, 3], \n",
    "              [2,  1, 5],\n",
    "              [3, -1, 4]])\n",
    "\n",
    "b = np.array([1,  4, 0])\n",
    "\n",
    "print(a + b)\n",
    "# Результат\n",
    "# [[2 3 3]\n",
    "#  [3 5 5]\n",
    "#  [4 3 4]]"
   ]
  },
  {
   "cell_type": "code",
   "execution_count": 49,
   "id": "f0f33e80",
   "metadata": {},
   "outputs": [
    {
     "name": "stdout",
     "output_type": "stream",
     "text": [
      "[3 4 5]\n"
     ]
    }
   ],
   "source": [
    "a1 = np.array([1, 2, 3])\n",
    "a1 += 2\n",
    "\n",
    "print(a1) # [3, 4, 5]"
   ]
  },
  {
   "cell_type": "code",
   "execution_count": null,
   "id": "c5e061e9",
   "metadata": {},
   "outputs": [],
   "source": [
    "A = np.array([[1, -1, 3], \n",
    "              [2,  1, 5],\n",
    "              [3, -1, 4]])\n",
    "\n",
    "B = np.array([[1,  4, 0], \n",
    "              [1, -1, 2],\n",
    "              [2, -1, 1]])\n",
    "\n",
    "print(A @ B)\n",
    "# Результат\n",
    "# [[ 6  2  1]\n",
    "#  [13  2  7]\n",
    "#  [10  9  2]]\n",
    "\n",
    "print(A * B)\n",
    "# Результат\n",
    "# [[ 1 -4  0]\n",
    "#  [ 2 -1 10]\n",
    "#  [ 6  1  4]]\n",
    "#Обычная * перемножает массивы поэлементно, @ - по правилам перемножения матриц"
   ]
  },
  {
   "cell_type": "code",
   "execution_count": null,
   "id": "cc025a27",
   "metadata": {},
   "outputs": [],
   "source": [
    "# У каждого арифметического оператора есть функция-синоним\n",
    "\n",
    "# np.add(a, b) / np.subtract(a, b) - поэлементное сложение/вычитание. Синоним + и - \n",
    "# np.multiply(a, b) / np.divide(a, b) / np.true_divide(a, b) - поэлементное произведение/деление. Синоним * и  / \n",
    "# np.power(a, b) - поэлементное возведение a в степень b. Синоним **\n",
    "# np.floor_divide(a, b) - поэлементное деление без остатка. Синоним //\n",
    "# np.mod(a, b) / np.remainder(a, b) - поэлементное взятие остатка от деления. Синоним %\n",
    "# np.dot(a, b) - алгебраическое перемножение матриц. Синоним @"
   ]
  },
  {
   "cell_type": "code",
   "execution_count": null,
   "id": "d3d91d66",
   "metadata": {},
   "outputs": [],
   "source": []
  },
  {
   "cell_type": "code",
   "execution_count": null,
   "id": "a08eb395",
   "metadata": {},
   "outputs": [],
   "source": [
    "# Математические константы\n",
    "# np.e - постоянная Эйлера, значение e = 2.718281828...\n",
    "\n",
    "# np.pi  - число π, значение pi = 3.14159265..."
   ]
  },
  {
   "cell_type": "code",
   "execution_count": null,
   "id": "dba6e133",
   "metadata": {},
   "outputs": [],
   "source": [
    "# 1. Дан массив радиусов нескольких окружностей. \n",
    "# С помощью арифметических операторов и константы np.pi вычислить площадь каждой окружности\n",
    "radius = np.array([ 6, 18,  6, 13, 10])\n",
    "print(np.pi * radius**2)\n",
    "# Результат\n",
    "# [ 113.09733553 1017.87601976  113.09733553  530.92915846  314.15926536]\n",
    "\n",
    "\n",
    "# 2. Дан массив чисел. Вычислить np.e в степени каждого числа из массива\n",
    "pow = np.array([ 1, 2,  3])\n",
    "print(np.e ** pow)\n",
    "# Результат\n",
    "# [ 2.71828183  7.3890561  20.08553692]"
   ]
  },
  {
   "cell_type": "code",
   "execution_count": null,
   "id": "d7f2f95e",
   "metadata": {},
   "outputs": [],
   "source": []
  },
  {
   "cell_type": "code",
   "execution_count": 51,
   "id": "ac24af52",
   "metadata": {},
   "outputs": [
    {
     "name": "stdout",
     "output_type": "stream",
     "text": [
      "a - нечисло\n"
     ]
    },
    {
     "name": "stderr",
     "output_type": "stream",
     "text": [
      "C:\\Users\\roman\\AppData\\Local\\Temp\\ipykernel_76404\\1069556031.py:3: RuntimeWarning: invalid value encountered in sqrt\n",
      "  a = np.sqrt(-9) # здесь получится np.nan\n",
      "C:\\Users\\roman\\AppData\\Local\\Temp\\ipykernel_76404\\1069556031.py:9: RuntimeWarning: invalid value encountered in sqrt\n",
      "  a = np.sqrt(-9) # здесь получится np.nan\n"
     ]
    }
   ],
   "source": [
    "# np.nan не равна ни одному значению, даже сама себе. Именно поэтому мы не можем использовать такое условие: \n",
    "\n",
    "a = np.sqrt(-9) # здесь получится np.nan\n",
    "\n",
    "if a == np.nan:\n",
    "     print(\"a - нечисло\")\n",
    "# Для сравнения с nan нужно использовать специальные функции, например, np.isnan():\n",
    "\n",
    "a = np.sqrt(-9) # здесь получится np.nan\n",
    "\n",
    "if np.isnan(a):\n",
    "    print(\"a - нечисло\")"
   ]
  },
  {
   "cell_type": "code",
   "execution_count": null,
   "id": "0191eaa9",
   "metadata": {},
   "outputs": [],
   "source": []
  },
  {
   "cell_type": "code",
   "execution_count": 52,
   "id": "0fe2a007",
   "metadata": {},
   "outputs": [
    {
     "name": "stdout",
     "output_type": "stream",
     "text": [
      "[0. 4. 9. 0.]\n",
      "[4.00000000e+000 9.00000000e+000 1.79769313e+308]\n",
      "[-1.  4.  9. -2. -3.]\n"
     ]
    }
   ],
   "source": [
    "# По умолчанию np.nan заменяется на 0\n",
    "\n",
    "arr = np.array([np.nan, 4, 9, np.nan])\n",
    "print(np.nan_to_num(arr)) # [0., 4., 9., 0.]\n",
    "\n",
    "\n",
    "# По умолчанию np.inf заменяется на очень большое вещественное значение\n",
    "\n",
    "\n",
    "arr = np.array([4, 9, np.inf])\n",
    "print(np.nan_to_num(arr)) # [4.00000000e+000, 9.00000000e+000, 1.79769313e+308]\n",
    "\n",
    "# Можно указать, какие значения установить вместо np.nan или np.inf/np.NINF\n",
    "\n",
    "arr = np.array([np.nan, 4, 9, np.inf, np.NINF])\n",
    "print(np.nan_to_num(arr, nan=-1, posinf=-2, neginf=-3)) # [-1.  4.  9. -2. -3.]"
   ]
  },
  {
   "cell_type": "code",
   "execution_count": 53,
   "id": "2ebaf969",
   "metadata": {},
   "outputs": [],
   "source": [
    "#ЗАДАЧИ"
   ]
  },
  {
   "cell_type": "code",
   "execution_count": 58,
   "id": "3bd30df4",
   "metadata": {},
   "outputs": [],
   "source": [
    "# Дан ряд целых чисел. Выведите для каждого числа его последнюю цифру. Решение не должно содержать циклы. \n",
    "\n",
    "import numpy as np\n",
    "\n",
    "a = np.array([10, 25, 24,  3,  7, 17,  9,  2,  1, 27])\n",
    "arr=a%10\n"
   ]
  },
  {
   "cell_type": "code",
   "execution_count": 59,
   "id": "fa2833b0",
   "metadata": {},
   "outputs": [
    {
     "data": {
      "text/plain": [
       "array([0, 5, 4, 3, 7, 7, 9, 2, 1, 7], dtype=int32)"
      ]
     },
     "execution_count": 59,
     "metadata": {},
     "output_type": "execute_result"
    }
   ],
   "source": [
    "arr"
   ]
  },
  {
   "cell_type": "code",
   "execution_count": null,
   "id": "cc0aa4e3",
   "metadata": {},
   "outputs": [],
   "source": []
  },
  {
   "cell_type": "code",
   "execution_count": 74,
   "id": "a38d7548",
   "metadata": {},
   "outputs": [
    {
     "name": "stdout",
     "output_type": "stream",
     "text": [
      "10\n",
      "20\n",
      "[[200 199 198 197 196 195 194 193 192 191 190 189 188 187 186 185 184 183\n",
      "  182 181]\n",
      " [180 179 178 177 176 175 174 173 172 171 170 169 168 167 166 165 164 163\n",
      "  162 161]\n",
      " [160 159 158 157 156 155 154 153 152 151 150 149 148 147 146 145 144 143\n",
      "  142 141]\n",
      " [140 139 138 137 136 135 134 133 132 131 130 129 128 127 126 125 124 123\n",
      "  122 121]\n",
      " [120 119 118 117 116 115 114 113 112 111 110 109 108 107 106 105 104 103\n",
      "  102 101]\n",
      " [100  99  98  97  96  95  94  93  92  91  90  89  88  87  86  85  84  83\n",
      "   82  81]\n",
      " [ 80  79  78  77  76  75  74  73  72  71  70  69  68  67  66  65  64  63\n",
      "   62  61]\n",
      " [ 60  59  58  57  56  55  54  53  52  51  50  49  48  47  46  45  44  43\n",
      "   42  41]\n",
      " [ 40  39  38  37  36  35  34  33  32  31  30  29  28  27  26  25  24  23\n",
      "   22  21]\n",
      " [ 20  19  18  17  16  15  14  13  12  11  10   9   8   7   6   5   4   3\n",
      "    2   1]]\n"
     ]
    }
   ],
   "source": [
    "# Обратная последовательность\n",
    "# Вводятся целые положительные числа n и m. \n",
    "# Создайте и выведите целочисленный массив размерностью n x m cо значениями от 1 до n*m в обратном порядке\n",
    "\n",
    "n = int(input())\n",
    "m = int(input())\n",
    "\n",
    "arr = np.arange(n*m, 0, step=-1).reshape(n,m)\n",
    "print(arr)\n",
    "\n",
    "\n"
   ]
  },
  {
   "cell_type": "code",
   "execution_count": null,
   "id": "8e6737c4",
   "metadata": {},
   "outputs": [],
   "source": []
  },
  {
   "cell_type": "code",
   "execution_count": null,
   "id": "fe05d6bb",
   "metadata": {},
   "outputs": [],
   "source": []
  }
 ],
 "metadata": {
  "kernelspec": {
   "display_name": "Python 3 (ipykernel)",
   "language": "python",
   "name": "python3"
  },
  "language_info": {
   "codemirror_mode": {
    "name": "ipython",
    "version": 3
   },
   "file_extension": ".py",
   "mimetype": "text/x-python",
   "name": "python",
   "nbconvert_exporter": "python",
   "pygments_lexer": "ipython3",
   "version": "3.10.0"
  }
 },
 "nbformat": 4,
 "nbformat_minor": 5
}
