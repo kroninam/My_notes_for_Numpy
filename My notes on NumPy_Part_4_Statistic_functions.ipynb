{
 "cells": [
  {
   "cell_type": "markdown",
   "id": "f2e9ff1e",
   "metadata": {},
   "source": [
    "# Основные понятия статистики"
   ]
  },
  {
   "cell_type": "code",
   "execution_count": 19,
   "id": "85980fee",
   "metadata": {},
   "outputs": [],
   "source": [
    "import numpy as np"
   ]
  },
  {
   "cell_type": "code",
   "execution_count": 3,
   "id": "9cbc0954",
   "metadata": {},
   "outputs": [],
   "source": [
    "# Выборка - несколько наблюдений. Для нас - массив\n",
    "\n",
    "# Объем выборки - количество экспериментов или наблюдений. Для нас - длина массива\n",
    "\n",
    "# Случайная величина - множество элементарных исходов испытаний. Для нас - массив"
   ]
  },
  {
   "cell_type": "markdown",
   "id": "78d948ee",
   "metadata": {},
   "source": [
    "### Cреднее арифметическое"
   ]
  },
  {
   "cell_type": "code",
   "execution_count": 8,
   "id": "2db4000b",
   "metadata": {},
   "outputs": [],
   "source": [
    "# Среднее арифметическое вычисляется по знакомой многим формуле суммы всех чисел, деленной на их количество\n",
    "\n",
    "# В numpy есть три функции, вычисляющие среднее по этой формуле:\n",
    "\n",
    "* np.mean(x, axis=None) - считает среднее, возвращает nan, если в массиве содержится константа np.nan\n",
    "\n",
    "* np.nanmean(x, axis=None) - считает среднее, игнорирует nan\n",
    "\n",
    "* np.average(x, axis=None, weights=None) - считает среднее, может вычислять взвешенное среднее, не обрабатывает np.nan\n",
    "\n",
    "# Эти функции получают на вход массив, а возвращают единственное число (если не указан параметр axis)"
   ]
  },
  {
   "cell_type": "code",
   "execution_count": 9,
   "id": "2c94a95b",
   "metadata": {},
   "outputs": [
    {
     "name": "stdout",
     "output_type": "stream",
     "text": [
      "3.0\n"
     ]
    }
   ],
   "source": [
    "# Примеры\n",
    "# 1. Одномерный массив без np.nan\n",
    "\n",
    "arr = np.array([2, 2, 4, 4])\n",
    "print(np.mean(arr)) # 3.0"
   ]
  },
  {
   "cell_type": "code",
   "execution_count": 10,
   "id": "cfedb4af",
   "metadata": {},
   "outputs": [
    {
     "name": "stdout",
     "output_type": "stream",
     "text": [
      "[2. 6.]\n"
     ]
    }
   ],
   "source": [
    "# 2. Двумерный массив, средние со сверткой строк\n",
    "\n",
    "arr = np.array([[2., 7.], \n",
    "                [2., 6.], \n",
    "                [2., 5.]])\n",
    "\n",
    "print(np.mean(arr, axis=0)) # [2. 6.]"
   ]
  },
  {
   "cell_type": "code",
   "execution_count": 22,
   "id": "cf7b3654",
   "metadata": {},
   "outputs": [
    {
     "name": "stdout",
     "output_type": "stream",
     "text": [
      "nan\n",
      "3.0\n"
     ]
    }
   ],
   "source": [
    "# 3. С константой np.nan\n",
    "\n",
    "arr = np.array([2., 3, 4, np.nan])\n",
    "\n",
    "print(np.mean(arr)) # np.nan\n",
    "print(np.nanmean(arr)) # 2.6666666666666665"
   ]
  },
  {
   "cell_type": "code",
   "execution_count": 25,
   "id": "c150813d",
   "metadata": {},
   "outputs": [
    {
     "name": "stdout",
     "output_type": "stream",
     "text": [
      "38.79\n"
     ]
    }
   ],
   "source": [
    "# Длина клюва пингвинов\n",
    "culmen_length_10 = np.array([39.1, 39.5, 40.3, np.nan, 36.7, 39.3, 38.9, 39.2, 34.1, 42. ])\n",
    "print(np.round(np.nanmean(culmen_length_10),2))"
   ]
  },
  {
   "cell_type": "code",
   "execution_count": null,
   "id": "d0f9e762",
   "metadata": {},
   "outputs": [],
   "source": []
  },
  {
   "cell_type": "markdown",
   "id": "afac67c8",
   "metadata": {},
   "source": [
    "### Cреднее арифметическое взвешенное"
   ]
  },
  {
   "cell_type": "code",
   "execution_count": null,
   "id": "e517cd41",
   "metadata": {},
   "outputs": [],
   "source": [
    "Формула среднего арифметического взвешенного:\n",
    "    \n",
    "    Xср.ар.взв. = SUM (Xi*Wi)/Wi , где Wi - некоторый коэффициент (весовой коэфф = W1 + W2 + W3 + ...)\n",
    "    \n",
    "Функции numpy для вычисления среднего взвешенного:\n",
    "\n",
    "np.average(x, axis=None, weights=None) \n",
    "\n",
    "Возвращает то же, что и np.mean(), если не передавать weights\n",
    "\n",
    "Веса могут принимать любые вещественные или целые значения, но не могут в сумме давать ноль (иначе получим деление на ноль)"
   ]
  },
  {
   "cell_type": "code",
   "execution_count": 18,
   "id": "0bb94799",
   "metadata": {},
   "outputs": [
    {
     "data": {
      "text/plain": [
       "3.5555555555555554"
      ]
     },
     "execution_count": 18,
     "metadata": {},
     "output_type": "execute_result"
    }
   ],
   "source": [
    "# Пример\n",
    "arr1d = np.array([8., 2, 4, 4])\n",
    "np.average(arr1d, weights=[0.5, 2, 1, 1]) # 2.0"
   ]
  },
  {
   "cell_type": "markdown",
   "id": "dd106ad0",
   "metadata": {},
   "source": [
    "### Задача"
   ]
  },
  {
   "cell_type": "code",
   "execution_count": null,
   "id": "b489387a",
   "metadata": {},
   "outputs": [],
   "source": [
    "Проводилась городская олимпиада по программированию, всего было 5 заданий. \n",
    "Задания были разной сложности, поэтому баллы за решения жюри домножали на определенные коэффициенты\n",
    "\n",
    "Формат входных данных\n",
    "Есть два массива:\n",
    "\n",
    "w - коэффицент задания, одномерный. Вводится с клавиатуры \n",
    "grades - баллы за решения участников. Массив двумерный, одна строка - оценки одного участника\n",
    "Формат выходных данных\n",
    "Ваша задача - вывести по каждому участнику среднюю оценку, то есть одномерный массив. \n",
    "Ответ округлите до двух знаков после запятой. "
   ]
  },
  {
   "cell_type": "code",
   "execution_count": 36,
   "id": "2f03694f",
   "metadata": {},
   "outputs": [
    {
     "name": "stdout",
     "output_type": "stream",
     "text": [
      "1\n",
      "2\n",
      "3\n",
      "4\n",
      "5\n",
      "[1, 2, 3, 4, 5]\n"
     ]
    }
   ],
   "source": [
    "tasks_weights = []\n",
    "for i in range(5):\n",
    "    tasks_weights.append(int(input()))\n",
    "print(tasks_weights)"
   ]
  },
  {
   "cell_type": "code",
   "execution_count": 26,
   "id": "924eaef5",
   "metadata": {},
   "outputs": [],
   "source": [
    "grades = np.array([[3, 3, 1, 3, 0],\n",
    "                   [3, 2, 4, 3, 4],\n",
    "                   [4, 1, 2, 1, 4],\n",
    "                   [1, 4, 1, 3, 2],\n",
    "                   [3, 3, 0, 2, 1],\n",
    "                   [2, 2, 3, 3, 0],\n",
    "                   [4, 0, 4, 4, 2]])"
   ]
  },
  {
   "cell_type": "code",
   "execution_count": 40,
   "id": "b2573921",
   "metadata": {},
   "outputs": [],
   "source": [
    "mean_grades = np.average(grades, axis = 1, weights = tasks_weights)"
   ]
  },
  {
   "cell_type": "code",
   "execution_count": 42,
   "id": "520b769a",
   "metadata": {},
   "outputs": [
    {
     "data": {
      "text/plain": [
       "array([1.6 , 3.4 , 2.4 , 2.27, 1.47, 1.8 , 2.8 ])"
      ]
     },
     "execution_count": 42,
     "metadata": {},
     "output_type": "execute_result"
    }
   ],
   "source": [
    "np.round(mean_grades,2)"
   ]
  },
  {
   "cell_type": "code",
   "execution_count": 43,
   "id": "c8f964ef",
   "metadata": {},
   "outputs": [
    {
     "name": "stdout",
     "output_type": "stream",
     "text": [
      "1\n",
      "2\n",
      "3\n",
      "4\n",
      "5\n"
     ]
    }
   ],
   "source": [
    "n = 5\n",
    "\n",
    "w = np.zeros(n, dtype=np.int32)\n",
    "for i in range(n):\n",
    "    w[i] = int(input())"
   ]
  },
  {
   "cell_type": "code",
   "execution_count": 44,
   "id": "9bf0d6fa",
   "metadata": {},
   "outputs": [
    {
     "data": {
      "text/plain": [
       "array([1, 2, 3, 4, 5])"
      ]
     },
     "execution_count": 44,
     "metadata": {},
     "output_type": "execute_result"
    }
   ],
   "source": [
    "w"
   ]
  },
  {
   "cell_type": "markdown",
   "id": "6446c99f",
   "metadata": {},
   "source": [
    "## Максимальные и минимальные"
   ]
  },
  {
   "cell_type": "code",
   "execution_count": null,
   "id": "454b9f06",
   "metadata": {},
   "outputs": [],
   "source": [
    "# Максимум (или минимум) в массиве ищут следующие функции:\n",
    "\n",
    "* np.amax(x, axis=None) / np.amin(x, axis=None) - возвращает единственный максимум/минимум массива. Выбирает nan, \n",
    "если он содержится в массиве\n",
    "\n",
    "* np.max(x, axis=None) / np.min(x, axis=None) - возвращает единственный максимум/минимум массива. Выбирает nan, \n",
    "если он содержится в массиве\n",
    "\n",
    "* np.nanmax(x, axis=None) / np.nanmin(x, axis=None) - возвращает единственный максимум/минимум массива. Игнорирует nan\n",
    "По умолчанию, без указания параметра axis, все три функции на вход принимают массив, \n",
    "а в ответ возвращают единственное число"
   ]
  },
  {
   "cell_type": "code",
   "execution_count": 29,
   "id": "93cac902",
   "metadata": {},
   "outputs": [
    {
     "data": {
      "text/plain": [
       "66"
      ]
     },
     "execution_count": 29,
     "metadata": {},
     "output_type": "execute_result"
    }
   ],
   "source": [
    "# Пример\n",
    "arr = np.array([[ 8,  8, 21,  3,  6,  0,  4, 14, 23, 11], [8,  8, 21,  3,  66,  0,  4, 14, 23, 11]])\n",
    "np.max(arr)"
   ]
  },
  {
   "cell_type": "code",
   "execution_count": 33,
   "id": "c976abc1",
   "metadata": {},
   "outputs": [
    {
     "data": {
      "text/plain": [
       "array([[ 8,  8, 21,  3,  6,  0,  4, 14, 23, 11],\n",
       "       [ 8,  8, 21,  3, 66,  0,  4, 14, 23, 11]])"
      ]
     },
     "execution_count": 33,
     "metadata": {},
     "output_type": "execute_result"
    }
   ],
   "source": [
    "arr"
   ]
  },
  {
   "cell_type": "code",
   "execution_count": 34,
   "id": "e1ac8761",
   "metadata": {},
   "outputs": [
    {
     "data": {
      "text/plain": [
       "66"
      ]
     },
     "execution_count": 34,
     "metadata": {},
     "output_type": "execute_result"
    }
   ],
   "source": [
    "np.max(arr)"
   ]
  },
  {
   "cell_type": "code",
   "execution_count": 30,
   "id": "6a5aad1c",
   "metadata": {},
   "outputs": [
    {
     "data": {
      "text/plain": [
       "array([23, 66])"
      ]
     },
     "execution_count": 30,
     "metadata": {},
     "output_type": "execute_result"
    }
   ],
   "source": [
    "np.max(arr, axis = 1)"
   ]
  },
  {
   "cell_type": "code",
   "execution_count": 31,
   "id": "6df37d34",
   "metadata": {},
   "outputs": [
    {
     "data": {
      "text/plain": [
       "array([ 8,  8, 21,  3, 66,  0,  4, 14, 23, 11])"
      ]
     },
     "execution_count": 31,
     "metadata": {},
     "output_type": "execute_result"
    }
   ],
   "source": [
    "np.amax(arr, axis = 0)"
   ]
  },
  {
   "cell_type": "code",
   "execution_count": null,
   "id": "5cd98a4e",
   "metadata": {},
   "outputs": [],
   "source": []
  },
  {
   "cell_type": "markdown",
   "id": "8a74339b",
   "metadata": {},
   "source": [
    "# Поэлементные экстремумы"
   ]
  },
  {
   "cell_type": "code",
   "execution_count": null,
   "id": "2066ca60",
   "metadata": {},
   "outputs": [],
   "source": [
    "# Есть возможность выбирать масимум среди двух массивов поэлементно\n",
    "\n",
    "* np.maximum(x1, x2) / np.minimum(x1, x2) - поэлементно сравнивает два массива, возвращает новый массив, \n",
    "с максимальным/минимальным значением для каждой пары. Выбирает nan, если он есть\n",
    "\n",
    "* np.fmax(x1, x2) / np.fmin(x1, x2) - поэлементно сравнивает два массива, возвращает новый массив, \n",
    "с максимальным/минимальным значением для каждой пары. Игнорирует nan\n",
    "\n",
    "# Эти функции на вход принимают массивы одинаковой длины, в ответ возвращают еще один массив. \n",
    "# Также можно передавать числа"
   ]
  },
  {
   "cell_type": "code",
   "execution_count": 50,
   "id": "58fdff80",
   "metadata": {},
   "outputs": [
    {
     "data": {
      "text/plain": [
       "array([ 9., 21.,  8., 17., 18., 15., 21., 17., 14.])"
      ]
     },
     "execution_count": 50,
     "metadata": {},
     "output_type": "execute_result"
    }
   ],
   "source": [
    "# Пример\n",
    "# Массив + массив\n",
    "\n",
    "arr1 = np.array([9., 21.,  8.,  6.,  0., 15., 21.,  0., 14.])\n",
    "arr2 = np.array([7., 8.,  8., 17., 18.,  8., 11., 17., 12.])\n",
    "\n",
    "np.maximum(arr1, arr2)\n",
    "# [ 9., 21.,  8., 17., 18., 15., 21., 17., 14.]"
   ]
  },
  {
   "cell_type": "code",
   "execution_count": 51,
   "id": "d993ee93",
   "metadata": {},
   "outputs": [
    {
     "data": {
      "text/plain": [
       "array([15., 15., 15., 17., 18., 15., 15., 17., 15.])"
      ]
     },
     "execution_count": 51,
     "metadata": {},
     "output_type": "execute_result"
    }
   ],
   "source": [
    "# Массив + число  \n",
    "\n",
    "arr1 = np.array([9., 21.,  8.,  6.,  0., 15., 21.,  0., 14.])\n",
    "\n",
    "np.maximum(arr1, 40)\n",
    "# array([40., 40., 40., 40., 40., 40., 40., 40., 40.])\n",
    "\n",
    "np.maximum(15, arr2)\n",
    "# array([15., 15., 15., 17., 18., 15., 15., 17., 15.])"
   ]
  },
  {
   "cell_type": "code",
   "execution_count": 52,
   "id": "6f57bfa3",
   "metadata": {},
   "outputs": [
    {
     "data": {
      "text/plain": [
       "50"
      ]
     },
     "execution_count": 52,
     "metadata": {},
     "output_type": "execute_result"
    }
   ],
   "source": [
    "# Число + число\n",
    "\n",
    "np.maximum(50, 40) # 50"
   ]
  },
  {
   "cell_type": "markdown",
   "id": "0b705e69",
   "metadata": {},
   "source": [
    "# Индексы экстремумов"
   ]
  },
  {
   "cell_type": "code",
   "execution_count": null,
   "id": "226c79a0",
   "metadata": {},
   "outputs": [],
   "source": [
    "# Можно найти индекс маскимума/минимума\n",
    "\n",
    "* np.argmax(x, axis=None) / np.argmin(x, axis=None) - возвращает индекс максимума/минимума массива. Возвращает nan\n",
    "\n",
    "* np.nanargmax(x, axis=None) / np.nanargmin(x, axis=None) - возвращает индекс максимума/минимума массива. Игнорирует nan\n",
    "Если экстремумов несколько, то возвращается индекс первого из них"
   ]
  },
  {
   "cell_type": "code",
   "execution_count": 53,
   "id": "237877e8",
   "metadata": {},
   "outputs": [
    {
     "name": "stdout",
     "output_type": "stream",
     "text": [
      "0\n",
      "3\n"
     ]
    }
   ],
   "source": [
    "# Пример\n",
    "arr = np.array([np.nan,  2., 21., 23., 18., 15., 23., 14., 21., 10.])\n",
    "\n",
    "print(np.argmax(arr)) # 0 \n",
    "print(np.nanargmax(arr)) # 3"
   ]
  },
  {
   "cell_type": "code",
   "execution_count": 57,
   "id": "e12784a1",
   "metadata": {},
   "outputs": [],
   "source": [
    "arr1 = np.array([9., 21.,  8.,  6.,  0., 15., 21.,  0., 14.])\n",
    "arr2 = np.array([7., 8.,  8., 17., 18.,  8., 11., 17., 12.])"
   ]
  },
  {
   "cell_type": "code",
   "execution_count": 59,
   "id": "58b31fd5",
   "metadata": {},
   "outputs": [
    {
     "ename": "TypeError",
     "evalue": "argmax() got multiple values for argument 'axis'",
     "output_type": "error",
     "traceback": [
      "\u001b[1;31m---------------------------------------------------------------------------\u001b[0m",
      "\u001b[1;31mTypeError\u001b[0m                                 Traceback (most recent call last)",
      "Cell \u001b[1;32mIn[59], line 1\u001b[0m\n\u001b[1;32m----> 1\u001b[0m \u001b[43mnp\u001b[49m\u001b[38;5;241;43m.\u001b[39;49m\u001b[43margmax\u001b[49m\u001b[43m(\u001b[49m\u001b[43marr1\u001b[49m\u001b[43m,\u001b[49m\u001b[43m \u001b[49m\u001b[43marr2\u001b[49m\u001b[43m,\u001b[49m\u001b[43m \u001b[49m\u001b[43maxis\u001b[49m\u001b[43m \u001b[49m\u001b[38;5;241;43m=\u001b[39;49m\u001b[43m \u001b[49m\u001b[38;5;241;43m1\u001b[39;49m\u001b[43m)\u001b[49m\n",
      "File \u001b[1;32m<__array_function__ internals>:198\u001b[0m, in \u001b[0;36margmax\u001b[1;34m(*args, **kwargs)\u001b[0m\n",
      "\u001b[1;31mTypeError\u001b[0m: argmax() got multiple values for argument 'axis'"
     ]
    }
   ],
   "source": [
    "np.argmax(arr1, arr2, axis = 1)"
   ]
  },
  {
   "cell_type": "code",
   "execution_count": null,
   "id": "9484dd30",
   "metadata": {},
   "outputs": [],
   "source": [
    "Задача\n",
    "\n",
    "ReLU\n",
    "В нейронных сетях есть понятие функции активации. \n",
    "Это функция, которая в зависимости от значения нейрона принимает решение дать тот или иной ответ. \n",
    "\n",
    "ReLU - одна из таких функций. Ее задача очень простая - заменять отрицательные значения на 0. \n",
    "Формально это можно описать так:\n",
    "    \n",
    "    \n",
    "    Ri = max(i, 0)\n",
    "    \n",
    "    \n",
    "где Ri - значение функции активации ReLU для i-того нейрона\n",
    "    xi - значение i-того нейрона\n",
    "    \n",
    "Вводится массив значений нейронов, длина этого массива всегда равна 7. Выведите для него результат применения ReLU"
   ]
  },
  {
   "cell_type": "code",
   "execution_count": 37,
   "id": "cb6487b3",
   "metadata": {},
   "outputs": [],
   "source": [
    "m = np.zeros(7, dtype = np.int32)"
   ]
  },
  {
   "cell_type": "code",
   "execution_count": 38,
   "id": "80d9ad8a",
   "metadata": {},
   "outputs": [
    {
     "data": {
      "text/plain": [
       "(7,)"
      ]
     },
     "execution_count": 38,
     "metadata": {},
     "output_type": "execute_result"
    }
   ],
   "source": [
    "m.shape"
   ]
  },
  {
   "cell_type": "code",
   "execution_count": 39,
   "id": "9e545546",
   "metadata": {},
   "outputs": [
    {
     "name": "stdout",
     "output_type": "stream",
     "text": [
      "1\n",
      "1\n",
      "1\n",
      "1\n",
      "2\n",
      "3\n",
      "6\n"
     ]
    }
   ],
   "source": [
    "for i in range(m.shape[0]):\n",
    "    m[i] = int(input())"
   ]
  },
  {
   "cell_type": "code",
   "execution_count": 40,
   "id": "c098646d",
   "metadata": {},
   "outputs": [
    {
     "data": {
      "text/plain": [
       "array([1, 1, 1, 1, 2, 3, 6])"
      ]
     },
     "execution_count": 40,
     "metadata": {},
     "output_type": "execute_result"
    }
   ],
   "source": [
    "m"
   ]
  },
  {
   "cell_type": "code",
   "execution_count": 41,
   "id": "2ea29227",
   "metadata": {},
   "outputs": [],
   "source": [
    "m[np.argmax(m)] = 0"
   ]
  },
  {
   "cell_type": "code",
   "execution_count": 77,
   "id": "db226f2c",
   "metadata": {},
   "outputs": [
    {
     "data": {
      "text/plain": [
       "array([1, 2, 3, 4, 5, 6, 0])"
      ]
     },
     "execution_count": 77,
     "metadata": {},
     "output_type": "execute_result"
    }
   ],
   "source": [
    "m"
   ]
  },
  {
   "cell_type": "code",
   "execution_count": null,
   "id": "da8c769d",
   "metadata": {},
   "outputs": [],
   "source": [
    "Здесь я понял, что по условию задачи надо заменять на 0 не максимальное значение, а отрицательные значения..."
   ]
  },
  {
   "cell_type": "code",
   "execution_count": 80,
   "id": "ae8825cf",
   "metadata": {},
   "outputs": [
    {
     "data": {
      "text/plain": [
       "array([1, 2, 3, 4, 5, 6, 7])"
      ]
     },
     "execution_count": 80,
     "metadata": {},
     "output_type": "execute_result"
    }
   ],
   "source": [
    "m"
   ]
  },
  {
   "cell_type": "code",
   "execution_count": 85,
   "id": "15bd00b0",
   "metadata": {},
   "outputs": [
    {
     "name": "stdout",
     "output_type": "stream",
     "text": [
      "[0 2 0 6 0 8 0]\n"
     ]
    }
   ],
   "source": [
    "for i in range(7):\n",
    "    if m[i] < 0:\n",
    "        m[i] = 0\n",
    "print(m)"
   ]
  },
  {
   "cell_type": "code",
   "execution_count": null,
   "id": "b54350cd",
   "metadata": {},
   "outputs": [],
   "source": [
    "Здесь я понял, что программа не принимает цикл за ответ, нужно применять фунции"
   ]
  },
  {
   "cell_type": "code",
   "execution_count": 86,
   "id": "1846085a",
   "metadata": {},
   "outputs": [],
   "source": [
    "m1 = np.zeros(7, dtype = np.int32)"
   ]
  },
  {
   "cell_type": "code",
   "execution_count": 91,
   "id": "a0e655d8",
   "metadata": {},
   "outputs": [
    {
     "data": {
      "text/plain": [
       "array([-1,  6, -6, -9, -9, -6, -7])"
      ]
     },
     "execution_count": 91,
     "metadata": {},
     "output_type": "execute_result"
    }
   ],
   "source": [
    "m"
   ]
  },
  {
   "cell_type": "code",
   "execution_count": 93,
   "id": "0ed8e364",
   "metadata": {},
   "outputs": [
    {
     "data": {
      "text/plain": [
       "array([0, 6, 0, 0, 0, 0, 0])"
      ]
     },
     "execution_count": 93,
     "metadata": {},
     "output_type": "execute_result"
    }
   ],
   "source": [
    "np.maximum(m1,m)"
   ]
  },
  {
   "cell_type": "code",
   "execution_count": 95,
   "id": "3466b8d0",
   "metadata": {},
   "outputs": [],
   "source": [
    "m = m1 = np.zeros(7, dtype = np.float32)"
   ]
  },
  {
   "cell_type": "code",
   "execution_count": 96,
   "id": "1478b9b3",
   "metadata": {},
   "outputs": [
    {
     "data": {
      "text/plain": [
       "array([0., 0., 0., 0., 0., 0., 0.], dtype=float32)"
      ]
     },
     "execution_count": 96,
     "metadata": {},
     "output_type": "execute_result"
    }
   ],
   "source": [
    "m"
   ]
  },
  {
   "cell_type": "code",
   "execution_count": 97,
   "id": "13c8e0c2",
   "metadata": {},
   "outputs": [
    {
     "data": {
      "text/plain": [
       "array([0., 0., 0., 0., 0., 0., 0.], dtype=float32)"
      ]
     },
     "execution_count": 97,
     "metadata": {},
     "output_type": "execute_result"
    }
   ],
   "source": [
    "m1"
   ]
  },
  {
   "cell_type": "code",
   "execution_count": 98,
   "id": "3518ca5f",
   "metadata": {},
   "outputs": [
    {
     "name": "stdout",
     "output_type": "stream",
     "text": [
      "1\n",
      "2\n",
      "3\n",
      "4\n",
      "5\n",
      "6\n",
      "-7\n",
      "[1. 2. 3. 4. 5. 6. 0.]\n"
     ]
    }
   ],
   "source": [
    "m = np.zeros(7, dtype = np.float32)\n",
    "m1 = np.zeros(7, dtype = np.float32)\n",
    "for i in range(m.shape[0]):\n",
    "    m[i] = float(input())\n",
    "\n",
    "result = np.maximum(m,m1)\n",
    "\n"
   ]
  },
  {
   "cell_type": "code",
   "execution_count": 99,
   "id": "43e20a8e",
   "metadata": {},
   "outputs": [
    {
     "name": "stdout",
     "output_type": "stream",
     "text": [
      "[1. 2. 3. 4. 5. 6. 0.]\n"
     ]
    }
   ],
   "source": [
    "print(result)"
   ]
  },
  {
   "cell_type": "code",
   "execution_count": null,
   "id": "7c29cd53",
   "metadata": {},
   "outputs": [],
   "source": [
    "Здесь я понял что нужно сравнивать не с массивом нулей, а просто с нулем - одним значением..."
   ]
  },
  {
   "cell_type": "code",
   "execution_count": 101,
   "id": "32dae0df",
   "metadata": {},
   "outputs": [
    {
     "data": {
      "text/plain": [
       "array([ 1.,  2.,  3.,  4.,  5.,  6., -7.], dtype=float32)"
      ]
     },
     "execution_count": 101,
     "metadata": {},
     "output_type": "execute_result"
    }
   ],
   "source": [
    "m"
   ]
  },
  {
   "cell_type": "code",
   "execution_count": 102,
   "id": "3bb8d9ef",
   "metadata": {},
   "outputs": [
    {
     "data": {
      "text/plain": [
       "array([1., 2., 3., 4., 5., 6., 0.], dtype=float32)"
      ]
     },
     "execution_count": 102,
     "metadata": {},
     "output_type": "execute_result"
    }
   ],
   "source": [
    "np.maximum(m, 0)"
   ]
  },
  {
   "cell_type": "code",
   "execution_count": null,
   "id": "9da70337",
   "metadata": {},
   "outputs": [],
   "source": [
    "И ответ в итоге крылся в формате - float64"
   ]
  },
  {
   "cell_type": "code",
   "execution_count": null,
   "id": "590fbfe8",
   "metadata": {},
   "outputs": [],
   "source": [
    "# Задача\n",
    "# Самый длинный плавник "
   ]
  },
  {
   "cell_type": "code",
   "execution_count": null,
   "id": "404cb130",
   "metadata": {},
   "outputs": [],
   "source": [
    "Вам дан массив с длинами плавников 10 пингвинов. Выведите через пробел максимальную длину плавника и ее индекс. \n",
    "Учтите, что не для всех пингвинов удалось собрать информацию, поэтому в массиве могут содержаться знания np.nan\n",
    "\n",
    "Формат входных данных\n",
    "В этой нет входных данных, вам нужно обработать массив, заданный в шаблоне\n",
    "\n",
    "Формат выходных данных\n",
    "Программа должна вывести максимальную длину плавника и ее индекс через пробел"
   ]
  },
  {
   "cell_type": "code",
   "execution_count": 5,
   "id": "5d62314b",
   "metadata": {},
   "outputs": [],
   "source": [
    "flipper_length_10 = np.array([181., 186., 195.,  np.nan, 193., 190., 181., 195., 193., 190.])"
   ]
  },
  {
   "cell_type": "code",
   "execution_count": 7,
   "id": "25ca637d",
   "metadata": {},
   "outputs": [
    {
     "data": {
      "text/plain": [
       "195.0"
      ]
     },
     "execution_count": 7,
     "metadata": {},
     "output_type": "execute_result"
    }
   ],
   "source": [
    "np.nanmax(flipper_length_10)"
   ]
  },
  {
   "cell_type": "code",
   "execution_count": 6,
   "id": "8faa942c",
   "metadata": {},
   "outputs": [
    {
     "data": {
      "text/plain": [
       "2"
      ]
     },
     "execution_count": 6,
     "metadata": {},
     "output_type": "execute_result"
    }
   ],
   "source": [
    "np.nanargmax(flipper_length_10)"
   ]
  },
  {
   "cell_type": "code",
   "execution_count": null,
   "id": "a9026498",
   "metadata": {},
   "outputs": [],
   "source": []
  },
  {
   "cell_type": "markdown",
   "id": "55bd8d98",
   "metadata": {},
   "source": [
    "## Медиана"
   ]
  },
  {
   "cell_type": "code",
   "execution_count": null,
   "id": "7ea9d45c",
   "metadata": {},
   "outputs": [],
   "source": [
    "# Медиана (срединное значение выборки) - число, которое находится в середине массива, \n",
    "# если его отсортировать по возрастанию.\n",
    "\n",
    "# Медиана - это такое число, которое больше одной половины выборки и меньше другой\n",
    "\n",
    "# Функции для вычисления медианы:\n",
    "\n",
    "* np.median(x, axis=None) - считает медиану, возвращает nan, если в массиве содержится константа np.nan\n",
    "\n",
    "* np.nanmedian(x, axis=None) - считает медиану, игнорирует nan\n",
    "\n",
    "# Функции проверяют длину выборки, если она нечетная, то выборка сортируется и \n",
    "# возвращается элемент, оказавшийся в самой середине, если длина четная, \n",
    "# то вычисляется среднее арифметическое между двумя центральными элементами"
   ]
  },
  {
   "cell_type": "code",
   "execution_count": 8,
   "id": "8223b631",
   "metadata": {},
   "outputs": [
    {
     "data": {
      "text/plain": [
       "6.0"
      ]
     },
     "execution_count": 8,
     "metadata": {},
     "output_type": "execute_result"
    }
   ],
   "source": [
    "# Пример\n",
    "arr = np.array([10,  2, 11,  6,  9,  3,  8,  3,  4,  4,  9])\n",
    "np.median(arr) # 6.0"
   ]
  },
  {
   "cell_type": "code",
   "execution_count": 9,
   "id": "dd01af3e",
   "metadata": {},
   "outputs": [],
   "source": [
    "# Задача\n",
    "# Оценки\n",
    "# Даны оценки 4-x школьников за четверть. Выведите мединанную оценку для каждого школьника.\n",
    "\n",
    "marks = np.array([[4, 3, 4, 5, 4, 3, 2, 5],\n",
    "                  [5, 5, 3, 5, 5, 4, 5, 4],\n",
    "                  [4, 2, 4, 5, 2, 3, 4, 5],\n",
    "                  [3, 4, 4, 3, 3, 2, 3, 2]])"
   ]
  },
  {
   "cell_type": "code",
   "execution_count": 10,
   "id": "40d4e9f8",
   "metadata": {},
   "outputs": [],
   "source": [
    "result = np.median(marks, axis = 1)"
   ]
  },
  {
   "cell_type": "code",
   "execution_count": 14,
   "id": "ef009c71",
   "metadata": {},
   "outputs": [
    {
     "data": {
      "text/plain": [
       "array([4., 5., 4., 3.])"
      ]
     },
     "execution_count": 14,
     "metadata": {},
     "output_type": "execute_result"
    }
   ],
   "source": [
    "result"
   ]
  },
  {
   "cell_type": "code",
   "execution_count": null,
   "id": "ba8b4442",
   "metadata": {},
   "outputs": [],
   "source": []
  },
  {
   "cell_type": "markdown",
   "id": "f4481ca7",
   "metadata": {},
   "source": [
    "# Дисперсия"
   ]
  },
  {
   "cell_type": "code",
   "execution_count": null,
   "id": "2cb29c2a",
   "metadata": {},
   "outputs": [],
   "source": [
    "Дисперсия — мера разброса значений выборки относительно среднего значения (математического ожидания). \n",
    "\n",
    "Обозначается как D[X], Var(X), S2 или σ2. Есть две наиболее распространенные формулы для вычисления дисперсии, \n",
    "выбор формулы зависит от задачи\n",
    "\n",
    "1. Смещенная дисперсия:\n",
    "    \n",
    "    D(смещенная)= 1/n * SUM (Xi - Xсредн.)**2\n",
    "\n",
    "2. Несмещенная дисперсия:\n",
    "    \n",
    "    D(несмещенная) = 1/(n-1) * SUM (Xi - Xсредн.)**2\n",
    "\n",
    "Выборочный показатель, который при многократном повторении выборки стремится к своему теоретическому значению, \n",
    "называется несмещенной оценкой.\n",
    "\n",
    "Отличаются только знаменатели\n",
    "\n",
    "\n",
    "#                                 Функции, вычисляющие дисперсию:\n",
    "\n",
    "* np.var(arr, axis=None, dtype=None, ddof=0) - вычисляет смещенную дисперсию, возвращает np.nan.\n",
    "\n",
    "* np.nanvar(arr, axis=None, dtype=None, ddof=0) - вычисляет смещенную дисперсию, игнорирует np.nan.\n",
    "\n",
    "** Чтобы вычислить несмещенную дисперсию нужно передать ddof=1\n"
   ]
  },
  {
   "cell_type": "markdown",
   "id": "88995704",
   "metadata": {},
   "source": [
    "# Стандартное отклонение"
   ]
  },
  {
   "cell_type": "code",
   "execution_count": null,
   "id": "6bf291b9",
   "metadata": {},
   "outputs": [],
   "source": [
    "Стандартное отклонение — еще одна мера разброса значений выборки относительно её среднего значения. \n",
    "\n",
    "Обозначается чаще всего как σ. \n",
    "Вычисляется как корень из дисперсии, также имеет две формулы:\n",
    "    \n",
    "    sigma = sqrt(D(смещенная))\n",
    "    sigma = sqrt(D(несмещенная))\n",
    "    \n",
    "Функции, вычисляющие стандартное отклонение (СКО):\n",
    "\n",
    "* np.std(arr, axis=None, dtype=None, ddof=0) - вычисляет СКО по смещенной дисперсии, возвращает np.nan.\n",
    "\n",
    "* np.nanstd(arr, axis=None, dtype=None, ddof=0) - вычисляет СКО по смещенной дисперсии, игнорирует np.nan.\n",
    "\n",
    "Чтобы вычислить СКО по несмещенной дисперсии нужно передать ddof=1\n",
    "    "
   ]
  },
  {
   "cell_type": "code",
   "execution_count": 18,
   "id": "5155d469",
   "metadata": {},
   "outputs": [
    {
     "name": "stdout",
     "output_type": "stream",
     "text": [
      "26.888888888888886\n",
      "5.185449728701348\n"
     ]
    }
   ],
   "source": [
    "# Задача\n",
    "# Вывести нужно единственное число - стандартное отклонение, ответ округлите до двух знаков после запятой\n",
    "\n",
    "flipper_length_10 = np.array([181., 186., 195.,  np.nan, 193., 190., 181., 195., 193., 190.])\n",
    "\n",
    "print(np.nanvar(flipper_length_10))\n",
    "print(np.nanstd(flipper_length_10))\n",
    "#np.round(result,2)"
   ]
  },
  {
   "cell_type": "markdown",
   "id": "6ef01a05",
   "metadata": {},
   "source": [
    "# Перцентиль и квантиль"
   ]
  },
  {
   "cell_type": "code",
   "execution_count": null,
   "id": "333c392d",
   "metadata": {},
   "outputs": [],
   "source": [
    "q-перцентиль (или процентиль) - это значение, меньше которого q% элементов выборки и (100-q)% - больше. \n",
    "\n",
    "q может принимать значения в диапазоне [0; 100].\n",
    "\n",
    "квантиль - то же самое, что и процентиль, но измеряется в диапазоне [0;1]"
   ]
  },
  {
   "cell_type": "code",
   "execution_count": null,
   "id": "092f7ed4",
   "metadata": {},
   "outputs": [],
   "source": [
    "# То есть, 85% значений в выборке меньше 85 процентиля. Еще можно сказать, что для вектора V длины N q-й процентиль \n",
    "# V представляет собой значение q/100 пути от минимума до максимума в отсортированной копии V. \n",
    "\n",
    "Процентиль совпадает с медианой, если q=50, с минимумом, если q=0, и с максимумом, если q=100"
   ]
  },
  {
   "cell_type": "code",
   "execution_count": null,
   "id": "0cc76c2e",
   "metadata": {},
   "outputs": [],
   "source": [
    "# Функции\n",
    "# Функции для вычисления процентиля:\n",
    "\n",
    "* np.percentile(a, q, axis=None) - в массиве a найти процентиль q, возвращает np.nan, если она содержится в массиве\n",
    "* np.nanpercentile(a, q, axis=None) - в массиве a найти процентиль q, игнорирует np.nan\n",
    "\n",
    "# Функции для вычисления квантиля:\n",
    "\n",
    "np.quantile(a, q, axis=None) - в массиве a найти квантиль q, возвращает np.nan, если она содержится в массиве\n",
    "np.nanquantile(a, q, axis=None) - в массиве a найти квантиль q, игнорирует np.nan"
   ]
  },
  {
   "cell_type": "markdown",
   "id": "980b2cc9",
   "metadata": {},
   "source": [
    "### Как вычисляется процентиль"
   ]
  },
  {
   "cell_type": "code",
   "execution_count": null,
   "id": "a53fd977",
   "metadata": {},
   "outputs": [],
   "source": [
    "Давайте рассмотрим на примере такого массива. Длина массива n = 11. Попробуем найти 26 процентиль. То есть q  = 26\n",
    "\n",
    "1, 5, 7, 2, 4, 5, 7, 12, 1, 7, 3\n",
    "\n",
    "1. Выборка отсортировывается по возрастанию."
   ]
  },
  {
   "cell_type": "code",
   "execution_count": 60,
   "id": "1bc60019",
   "metadata": {},
   "outputs": [
    {
     "name": "stdout",
     "output_type": "stream",
     "text": [
      "1, 5, 7, 2, 4, 5, 7, 12, 1, 7, 3\n"
     ]
    }
   ],
   "source": [
    "n = np.array(list(map(int,input().split(','))))"
   ]
  },
  {
   "cell_type": "code",
   "execution_count": 61,
   "id": "161e983d",
   "metadata": {},
   "outputs": [],
   "source": [
    "n.sort()"
   ]
  },
  {
   "cell_type": "code",
   "execution_count": 62,
   "id": "b80d916b",
   "metadata": {},
   "outputs": [
    {
     "data": {
      "text/plain": [
       "array([ 1,  1,  2,  3,  4,  5,  5,  7,  7,  7, 12])"
      ]
     },
     "execution_count": 62,
     "metadata": {},
     "output_type": "execute_result"
    }
   ],
   "source": [
    "n"
   ]
  },
  {
   "cell_type": "code",
   "execution_count": 63,
   "id": "7f7e24d5",
   "metadata": {},
   "outputs": [],
   "source": [
    "# 2. Вычисляется виртуальный индекс virtual_index = q/100 * (n-1) \n",
    "\n",
    "# !!!! q - это квантиль, который необходимо найти !!! \n",
    "q  = 26\n",
    "\n",
    "virtual_index = q/100 * (len(n)-1)"
   ]
  },
  {
   "cell_type": "code",
   "execution_count": 64,
   "id": "9beab36d",
   "metadata": {},
   "outputs": [
    {
     "data": {
      "text/plain": [
       "2.6"
      ]
     },
     "execution_count": 64,
     "metadata": {},
     "output_type": "execute_result"
    }
   ],
   "source": [
    "virtual_index"
   ]
  },
  {
   "cell_type": "code",
   "execution_count": null,
   "id": "99ade965",
   "metadata": {},
   "outputs": [],
   "source": [
    "3. В previous_index и next_index записываем реальные индексы в массиве, \n",
    "между которыми находится процентиль. previous_index = 2, next_index = 3"
   ]
  },
  {
   "cell_type": "code",
   "execution_count": null,
   "id": "37b09ef4",
   "metadata": {},
   "outputs": [],
   "source": [
    "4. Теперь нам нужно понять, насколько нужно увеличить значение \n",
    "по индексу previous_index (или уменьшить значение по индексу next_index). \n",
    "Вычисляем поправочное значение \n",
    "fix_gamma = virtual_index - previous_index. fix_gamma = 0.6"
   ]
  },
  {
   "cell_type": "code",
   "execution_count": null,
   "id": "ea13810b",
   "metadata": {},
   "outputs": [],
   "source": [
    "5. Вычисляем разницу между элементами diff_b_a = arr[int(next_index)] - arr[int(previous_index)]. diff_b_a = 1 \n",
    "(этот случай просто попал в пример, не всегда эта разница равна единице)"
   ]
  },
  {
   "cell_type": "code",
   "execution_count": null,
   "id": "96ef7218",
   "metadata": {},
   "outputs": [],
   "source": [
    "6. Если fix_gamma >= 0.5, то процентиль = arr[int(next_index)] - diff_b_a * (1 - fix_gamma), \n",
    "иначе процентиль = arr[int(previous_index)] + diff_b_a * fix_gamma. В примере fix_gamma >= 0.5, \n",
    "поэтому 26 процентиль = 3 - 1 * (1 - 0.6) = 2.6"
   ]
  },
  {
   "cell_type": "code",
   "execution_count": 65,
   "id": "74ce2bee",
   "metadata": {},
   "outputs": [
    {
     "data": {
      "text/plain": [
       "2.6"
      ]
     },
     "execution_count": 65,
     "metadata": {},
     "output_type": "execute_result"
    }
   ],
   "source": [
    "# Пример\n",
    "# Процентиль:\n",
    "\n",
    "arr = np.array([ 1, 5, 7, 2, 4, 5, 7, 12, 1, 7, 3])\n",
    "q = 26\n",
    "np.percentile(arr, q) # 2.6\n"
   ]
  },
  {
   "cell_type": "code",
   "execution_count": 66,
   "id": "16c73960",
   "metadata": {},
   "outputs": [
    {
     "data": {
      "text/plain": [
       "2.6"
      ]
     },
     "execution_count": 66,
     "metadata": {},
     "output_type": "execute_result"
    }
   ],
   "source": [
    "# Квантиль:\n",
    "\n",
    "arr = np.array([ 1, 5, 7, 2, 4, 5, 7, 12, 1, 7, 3])\n",
    "q = 0.26\n",
    "np.quantile(arr, q)"
   ]
  },
  {
   "cell_type": "code",
   "execution_count": 67,
   "id": "62355d37",
   "metadata": {},
   "outputs": [
    {
     "data": {
      "text/plain": [
       "7.0"
      ]
     },
     "execution_count": 67,
     "metadata": {},
     "output_type": "execute_result"
    }
   ],
   "source": [
    "arr = np.array([ 10, 15, 17, 12, 34, 55, 7, 12, 1, 7, 3])\n",
    "q = 26\n",
    "np.percentile(arr, q) # 2.6"
   ]
  },
  {
   "cell_type": "code",
   "execution_count": 68,
   "id": "e94e195d",
   "metadata": {},
   "outputs": [
    {
     "data": {
      "text/plain": [
       "array([1., 1., 5.])"
      ]
     },
     "execution_count": 68,
     "metadata": {},
     "output_type": "execute_result"
    }
   ],
   "source": [
    "# Параметр q может быть списком или массивом: \n",
    "\n",
    "arr = np.array([ 1, 5, 7, 2, 4, 5, 7, 12, 1, 7, 3])\n",
    "q = [1, 10, 50]\n",
    "np.percentile(arr, q) # array([1., 1., 5.])"
   ]
  },
  {
   "cell_type": "markdown",
   "id": "c1c01f9a",
   "metadata": {},
   "source": [
    "### Задача"
   ]
  },
  {
   "cell_type": "code",
   "execution_count": 69,
   "id": "fca82cf4",
   "metadata": {},
   "outputs": [],
   "source": [
    "# Перцентили роста\n",
    "# Дан одномерный массив, содержащий измерения роста людей (в см). Выведите 25, 50, 75 и 100-ые процентили этой выборки. \n",
    "data = np.array([159.61, 170.54, 165.22, 181.68, 165.7 , 148.36, 151.21, 162.68, 151.02, 177.18])"
   ]
  },
  {
   "cell_type": "code",
   "execution_count": 71,
   "id": "2b82cd40",
   "metadata": {},
   "outputs": [],
   "source": [
    "q = np.array([25,50,75,100])"
   ]
  },
  {
   "cell_type": "code",
   "execution_count": 73,
   "id": "e7bbf0ef",
   "metadata": {},
   "outputs": [],
   "source": [
    "result = np.percentile(data, q)"
   ]
  },
  {
   "cell_type": "code",
   "execution_count": 74,
   "id": "b9d4b256",
   "metadata": {},
   "outputs": [
    {
     "name": "stdout",
     "output_type": "stream",
     "text": [
      "[153.31 163.95 169.33 181.68]\n"
     ]
    }
   ],
   "source": [
    "print(result)"
   ]
  },
  {
   "cell_type": "code",
   "execution_count": null,
   "id": "37dd1a93",
   "metadata": {},
   "outputs": [],
   "source": []
  },
  {
   "cell_type": "markdown",
   "id": "0f0dd7f2",
   "metadata": {},
   "source": [
    "# Ковариация случайных величин"
   ]
  },
  {
   "cell_type": "code",
   "execution_count": null,
   "id": "cad172d2",
   "metadata": {},
   "outputs": [],
   "source": [
    "Ковариация - еще одна мера зависимости двух случайных величин. \n",
    "Например, имеется два массива одинаковой размерности и мы хотели \n",
    "бы понять, зависят ли их значения друга от друга. \n",
    "С помощью ковариации можно попробовать ответить на вопрос \n",
    "\"зависит ли количество преступлений в определенном районе города от количества фонарей в этом районе, то есть от освещенности?\"\n",
    "\n",
    "Правда, лучше все-таки использовать корреляцию из следующего шага\n",
    "\n",
    "Функция, которая считает ковариацию:\n",
    "\n",
    "* np.cov(x)\n",
    "\n",
    "Формула вычисления ковариации: \n",
    "    \n",
    "    cov(x,y) = 1/ (n-1) * SUM ((Xi-Xсредн.)*(Yi - Yсредн.))\n",
    "    \n",
    "где x и y - одномерные массивы одинаковой размерности.\n",
    "\n",
    "\n",
    "Интерпретация ковариации\n",
    "\n",
    "Если ковариация положительна, то с ростом значений одной случайной величины, \n",
    "значения второй имеют тенденцию возрастать, а если знак отрицательный — то убывать. \n",
    "Однако по значению ковариации нельзя сказать, насколько сильно величины взаимосвязаны, \n",
    "потому что масштаб ковариации зависит от дисперсии\n",
    "\n",
    "Свойства ковариации\n",
    "\n",
    "Диапазон значений ковариации не ограничен\n",
    "Если величины независимы, ковариация равна 0, хотя обратное необязательно\n",
    "Ковариация симметрична: cov(x, y) = cov(y, x)  "
   ]
  },
  {
   "cell_type": "code",
   "execution_count": 76,
   "id": "930ed20d",
   "metadata": {},
   "outputs": [
    {
     "name": "stdout",
     "output_type": "stream",
     "text": [
      "[[30.3 29.8 -2. ]\n",
      " [29.8 30.3 -7.5]\n",
      " [-2.  -7.5 31. ]]\n"
     ]
    }
   ],
   "source": [
    "# Пример\n",
    "# За x и y из формулы здесь берется каждая пара строк\n",
    "\n",
    "arr = np.array([[ 1, 10, 11],\n",
    "                [ 1, 11, 10],\n",
    "                [ 8,  1, 12]])\n",
    "\n",
    "cov = np.cov(arr)\n",
    "print(np.round(cov, 1))"
   ]
  },
  {
   "cell_type": "code",
   "execution_count": 82,
   "id": "259d644c",
   "metadata": {},
   "outputs": [],
   "source": [
    "x = [1,2,3,4,5,6,7,8,9]\n",
    "y = [5,9,1,2,4,5,6,7,8]\n",
    "cov = np.cov(x,y)"
   ]
  },
  {
   "cell_type": "code",
   "execution_count": 83,
   "id": "5b3eaa1a",
   "metadata": {},
   "outputs": [
    {
     "data": {
      "text/plain": [
       "array([[7.5       , 2.375     ],\n",
       "       [2.375     , 6.94444444]])"
      ]
     },
     "execution_count": 83,
     "metadata": {},
     "output_type": "execute_result"
    }
   ],
   "source": [
    "cov"
   ]
  },
  {
   "cell_type": "code",
   "execution_count": null,
   "id": "21aef01d",
   "metadata": {},
   "outputs": [],
   "source": [
    "Получается массив такой же размерности, как у исходного (или исходных, если несколько массивов). \n",
    "Каждый элемент cov[i,j] показывает корреляцию между i-той строкой и j-той строкой. \n",
    "Диагональные элементы, у которых всегда i=j, показывают корреляцию строки с самой собой. \n",
    "В этом случае формула ковариации сводится с формуле несмещённый дисперсии: (формулу несмещенной дисперсии см.выше здесь же).\n",
    "    \n",
    "Однако трудно сказать, что именно означают полученные числа. 29.8 - это много или мало? \n",
    "\n",
    "Примечание. Если ковариацию нормировать таким образом, чтобы величины принимали значение в диапазоне [-1; 1],\n",
    "можно будет делать выводы. Именно так и поступают в алгоритме, считающем корреляцию Пирсона.  \n",
    "    "
   ]
  },
  {
   "cell_type": "markdown",
   "id": "fbe13265",
   "metadata": {},
   "source": [
    "# Корреляция Пирсона"
   ]
  },
  {
   "cell_type": "code",
   "execution_count": null,
   "id": "7e2b6415",
   "metadata": {},
   "outputs": [],
   "source": [
    "Корреляция - еще одна мера зависимости двух случайных величин\n",
    "\n",
    "Функция, которая считает корреляцию:\n",
    "\n",
    "* np.corrcoef(x)\n",
    "\n",
    "Формула вычисления корреляции:\n",
    "    \n",
    "    corcoef = cov(i,j) / (sqrt(cov(i,i)) * sqrt(cov(j,j)))\n",
    "        \n",
    "где cov - ковариация\n",
    "\n",
    "Поскольку корреляция зависит от ковариации, а ковариация от дисперсии, \n",
    "то справедливо утверждение, что и корреляция зависит от дисперсии.\n",
    "\n",
    "\n",
    "# Интерпретация корреляции\n",
    "\n",
    "Если корреляция положительна, то с ростом значений одной случайной величины, \n",
    "значения второй имеют тенденцию возрастать, а если знак отрицательный — то убывать. \n",
    "Если корреляция равна нулю, то переменные независимы (по крайней линейно). \n",
    "\n",
    "# Свойства корреляции Пирсона\n",
    "\n",
    "Коэффициент корреляции изменяется в диапазоне от -1 до 1\n",
    "По значению корреляции можно сказать, насколько сильно величины взаимосвязаны\n",
    "Корреляция симметрична: corr_coef(x, y) = corr_coef(y, x) "
   ]
  },
  {
   "cell_type": "code",
   "execution_count": 84,
   "id": "03af4ac3",
   "metadata": {},
   "outputs": [
    {
     "name": "stdout",
     "output_type": "stream",
     "text": [
      "[[ 1.          0.98351648 -0.06522124]\n",
      " [ 0.98351648  1.         -0.24457967]\n",
      " [-0.06522124 -0.24457967  1.        ]]\n"
     ]
    }
   ],
   "source": [
    "# Пример\n",
    "# За x и y из формулы здесь берется каждая пара строк. По диагонали матрицы корреляции всегда будут расположены единицы. \n",
    "\n",
    "arr = np.array([[ 1, 10, 11],\n",
    "                [ 1, 11, 10],\n",
    "                [ 8,  1, 12]])\n",
    "\n",
    "corrcoef = np.corrcoef(arr)\n",
    "print(corrcoef)\n",
    "# Результат\n",
    "# [[ 1.        ,  0.98351648, -0.06522124],\n",
    "#  [ 0.98351648,  1.        , -0.24457967],\n",
    "#  [-0.06522124, -0.24457967,  1.        ]]"
   ]
  },
  {
   "cell_type": "code",
   "execution_count": null,
   "id": "da515e7b",
   "metadata": {},
   "outputs": [],
   "source": [
    "# Примечание. Есть несколько подходов к вычислению корреляции, например, корреляция Спирмена или Кендалла. \n",
    "# В numpy реализован только поиск коэффициента корреляции Пирсона, остальные способы реализованы в библиотеке scipy"
   ]
  },
  {
   "cell_type": "code",
   "execution_count": null,
   "id": "a5fc79d4",
   "metadata": {},
   "outputs": [],
   "source": []
  },
  {
   "cell_type": "markdown",
   "id": "c9d1679d",
   "metadata": {},
   "source": [
    "# ЗАДАЧИ"
   ]
  },
  {
   "cell_type": "code",
   "execution_count": null,
   "id": "7c97cf7d",
   "metadata": {},
   "outputs": [],
   "source": [
    "В этот раз дан двумерный массив, каждый из столбцов которого соответствует пингвину, \n",
    "а строка - его характеристике. Всего характеристик четыре: длина и ширина клюва, длина \n",
    "    плавника и масса пингвина. Выведите коварицию для этой матрицы. Для одного пингвина \n",
    "    не удалось собрать данные, в матрице присутствуют значения np.nan. Замените их на 0, например, \n",
    "    с помощью функции np.nan_to_num()"
   ]
  },
  {
   "cell_type": "code",
   "execution_count": 85,
   "id": "83162afc",
   "metadata": {},
   "outputs": [],
   "source": [
    "# Проверка функции np.nan_to_num\n",
    "\n",
    "arr = np.array([1,2,3,4,5,np.nan])"
   ]
  },
  {
   "cell_type": "code",
   "execution_count": 87,
   "id": "cc1a3be2",
   "metadata": {},
   "outputs": [
    {
     "data": {
      "text/plain": [
       "array([ 1.,  2.,  3.,  4.,  5., nan])"
      ]
     },
     "execution_count": 87,
     "metadata": {},
     "output_type": "execute_result"
    }
   ],
   "source": [
    "arr"
   ]
  },
  {
   "cell_type": "code",
   "execution_count": 88,
   "id": "b6a8af3d",
   "metadata": {},
   "outputs": [
    {
     "data": {
      "text/plain": [
       "array([1., 2., 3., 4., 5., 0.])"
      ]
     },
     "execution_count": 88,
     "metadata": {},
     "output_type": "execute_result"
    }
   ],
   "source": [
    "np.nan_to_num(arr)"
   ]
  },
  {
   "cell_type": "code",
   "execution_count": 89,
   "id": "d4dba109",
   "metadata": {},
   "outputs": [],
   "source": [
    "# Данные по пингвинам:\n",
    "    \n",
    "penguin_params = np.array([[  39.1,   39.5,   40.3,    np.nan ,   36.7,   39.3,   38.9,   39.2, 34.1,   42. ],\n",
    "                           [  18.7,   17.4,   18. ,    np.nan ,   19.3,   20.6,   17.8,   19.6, 18.1,   20.2],\n",
    "                           [ 181. ,  186. ,  195. ,    np.nan ,  193. ,  190. ,  181. ,  195. , 193. ,  190. ],\n",
    "                           [3750. , 3800. , 3250. ,    np.nan , 3450. , 3650. , 3625. , 4675. , 3475. , 4250. ]])"
   ]
  },
  {
   "cell_type": "code",
   "execution_count": 90,
   "id": "fd977d6f",
   "metadata": {},
   "outputs": [],
   "source": [
    "arr = np.nan_to_num(penguin_params)"
   ]
  },
  {
   "cell_type": "code",
   "execution_count": 91,
   "id": "dadab636",
   "metadata": {},
   "outputs": [
    {
     "data": {
      "text/plain": [
       "array([[  39.1,   39.5,   40.3,    0. ,   36.7,   39.3,   38.9,   39.2,\n",
       "          34.1,   42. ],\n",
       "       [  18.7,   17.4,   18. ,    0. ,   19.3,   20.6,   17.8,   19.6,\n",
       "          18.1,   20.2],\n",
       "       [ 181. ,  186. ,  195. ,    0. ,  193. ,  190. ,  181. ,  195. ,\n",
       "         193. ,  190. ],\n",
       "       [3750. , 3800. , 3250. ,    0. , 3450. , 3650. , 3625. , 4675. ,\n",
       "        3475. , 4250. ]])"
      ]
     },
     "execution_count": 91,
     "metadata": {},
     "output_type": "execute_result"
    }
   ],
   "source": [
    "arr"
   ]
  },
  {
   "cell_type": "code",
   "execution_count": 92,
   "id": "200666b9",
   "metadata": {},
   "outputs": [
    {
     "data": {
      "text/plain": [
       "array([[1.54901000e+02, 7.37647778e+01, 7.32473333e+02, 1.49675833e+04],\n",
       "       [7.37647778e+01, 3.66823333e+01, 3.58691111e+02, 7.30169444e+03],\n",
       "       [7.32473333e+02, 3.58691111e+02, 3.61160000e+03, 7.15283333e+04],\n",
       "       [1.49675833e+04, 7.30169444e+03, 7.15283333e+04, 1.59264583e+06]])"
      ]
     },
     "execution_count": 92,
     "metadata": {},
     "output_type": "execute_result"
    }
   ],
   "source": [
    "np.cov(arr)"
   ]
  },
  {
   "cell_type": "code",
   "execution_count": 94,
   "id": "a0648ce4",
   "metadata": {},
   "outputs": [
    {
     "data": {
      "text/plain": [
       "array([[1.        , 0.9785735 , 0.97929804, 0.95293871],\n",
       "       [0.9785735 , 1.        , 0.98546752, 0.95529075],\n",
       "       [0.97929804, 0.98546752, 1.        , 0.94312374],\n",
       "       [0.95293871, 0.95529075, 0.94312374, 1.        ]])"
      ]
     },
     "execution_count": 94,
     "metadata": {},
     "output_type": "execute_result"
    }
   ],
   "source": [
    "np.corrcoef(arr)"
   ]
  },
  {
   "cell_type": "code",
   "execution_count": null,
   "id": "5f5c32aa",
   "metadata": {},
   "outputs": [],
   "source": []
  },
  {
   "cell_type": "markdown",
   "id": "2a72d8c2",
   "metadata": {},
   "source": [
    "### Задача Среднеквадратичная ошибка (MSE)"
   ]
  },
  {
   "cell_type": "code",
   "execution_count": null,
   "id": "5043831e",
   "metadata": {},
   "outputs": [],
   "source": [
    "Вернемся к науке о данных. Ее основная задача заключается в предсказании будущего на основе прошлого. \n",
    "Как оценить качество этого предсказания? \n",
    "Один из способов - сравнить правильный ответ и предсказание с помощью метрики MSE (Mean Squared Error)\n",
    "\n",
    "Предположим, у нас есть два массива: y (правильный ответ) и y_pred (предсказание), оба содержат вещественные числа. \n",
    "Тогда MSE для них вычисляется следующим образом:\n",
    "                            MSE = 1/n * SUM (  (Yi - Yi_предсказанное)**2  )\n",
    "        \n",
    "            где MSE - mean squared error - среднеквадратичная ошибка\n",
    "            n - размер массива\n",
    "            Yi - i-элемент массива где правильные ответы\n",
    "            Yi_предсказанное - i-элемент массива где предсказанные ответы\n",
    "            \n",
    "\n",
    "# Задание\n",
    "\n",
    "Вам даны два массива: y и y_pred, так же вводится n - длина среза, \n",
    "который необходимо применить к у и y_pred (начиная с 0-го элемента). \n",
    "Вычислите для них среднеквадратичную ошибку. \n",
    "\n",
    "Формат входных данных\n",
    "На вход единственное целое число - количество элементов в срезе \n",
    "\n",
    "Формат выходных данных\n",
    "Программа должна вывести единственное вещественное число - среднеквадратическую ошибку\n",
    "                            "
   ]
  },
  {
   "cell_type": "code",
   "execution_count": 119,
   "id": "52322719",
   "metadata": {},
   "outputs": [
    {
     "name": "stdout",
     "output_type": "stream",
     "text": [
      "10\n",
      "0.6000000000000001\n"
     ]
    }
   ],
   "source": [
    "import numpy as np\n",
    "\n",
    "y = np.array([0, 1, 0, 1, 0, 1, 0, 0, 1, 1])\n",
    "y_pred = np.array([1, 0, 1, 1, 0, 1, 1, 0, 0, 0])\n",
    "\n",
    "n = int(input())\n",
    "mse = (1/len(y[:n])) * (np.sum((y[:n] - y_pred[:n])**2))\n",
    "print(mse)\n",
    "\n",
    "# Здесь при n == 10 значение mse получаестя 0.6000000000000001. Так влияет погрешность при умножении 1/len(y[:n]),\n",
    "# а вот если сразу делить на len(y[:n]) - получается ровно 0,6 (смотри ниже)"
   ]
  },
  {
   "cell_type": "code",
   "execution_count": 117,
   "id": "44546c65",
   "metadata": {},
   "outputs": [
    {
     "name": "stdout",
     "output_type": "stream",
     "text": [
      "10\n",
      "0.6\n"
     ]
    }
   ],
   "source": [
    "y = np.array([0, 1, 0, 1, 0, 1, 0, 0, 1, 1])\n",
    "y_pred = np.array([1, 0, 1, 1, 0, 1, 1, 0, 0, 0])\n",
    "n = int(input())\n",
    "mse = (np.sum((y[:n] - y_pred[:n])**2) / len(y[:n]))\n",
    "print(mse)"
   ]
  },
  {
   "cell_type": "code",
   "execution_count": null,
   "id": "a5997845",
   "metadata": {},
   "outputs": [],
   "source": []
  },
  {
   "cell_type": "markdown",
   "id": "42a08920",
   "metadata": {},
   "source": [
    "### Косинусная близость"
   ]
  },
  {
   "cell_type": "code",
   "execution_count": null,
   "id": "08db641e",
   "metadata": {},
   "outputs": [],
   "source": [
    "В задании дано два массива. Первый одномерный, второй двумерный, \n",
    "среди строк двумерного массива нужно найти максимально похожую на первый массив строку. \n",
    "\"Похожесть\" будем вычислять по формуле косинусной близости, чем она ближе к 1, тем более похожи строки. \n",
    "\n",
    "В ответе нужно вывести индекс строки и через пробел косинусную близость, округленную до трех знаков после запятой. \n",
    "\n",
    "Косинусная близость - это косинус угла между двумя векторами. \n",
    "\n",
    "Вычисляется по формуле:\n",
    "    \n",
    "    \n",
    "Здесь А и B - два одномерных массива. В задании массив A вводится с клавиатуры, его длина всегда 5 элементов\n",
    "\n",
    "# #Приложение метрики\n",
    "# На практике с помощью этой метрики оценивают, например, сходство между текстами. \n",
    "# Каждому слову сопоставляется число, тогда любой текст можно представить в виде массива чисел.\n",
    "# Между двумя такими массивами можно посчитать косинусное расстояние, оно будет принимать \n",
    "# значение в диапазоне от нуля до одного. Дальше выбирается текст, для которого косинусная \n",
    "# близость ближе всего к единице и таким образом выбирается самый похожий текст.\n",
    "\n",
    "Формат входных данных\n",
    "На вход подается массив целых чисел длиной 5 элементов (каждый элемент с новой строки)\n",
    "\n",
    "Формат выходных данных\n",
    "Программа должна вывести через пробел два числа - индекс и косинусную близость, округленную до трех знаков после запятой"
   ]
  },
  {
   "cell_type": "code",
   "execution_count": 122,
   "id": "d3b8381f",
   "metadata": {},
   "outputs": [],
   "source": [
    "B = np.array([[1, 8, 7, 3, 4],\n",
    "              [5, 3, 5, 4, 3],\n",
    "              [7, 9, 1, 2, 2],\n",
    "              [9, 9, 5, 1, 2],\n",
    "              [3, 6, 3, 7, 5],\n",
    "              [5, 9, 8, 6, 1],\n",
    "              [9, 3, 1, 9, 6]])"
   ]
  },
  {
   "cell_type": "code",
   "execution_count": 145,
   "id": "b7b5f596",
   "metadata": {},
   "outputs": [
    {
     "name": "stdout",
     "output_type": "stream",
     "text": [
      "8 6 1 4 9\n"
     ]
    }
   ],
   "source": [
    "A = np.array(list(map(int,input().split())))"
   ]
  },
  {
   "cell_type": "code",
   "execution_count": null,
   "id": "6ee23607",
   "metadata": {},
   "outputs": [],
   "source": []
  },
  {
   "cell_type": "code",
   "execution_count": 146,
   "id": "a1863e89",
   "metadata": {
    "scrolled": true
   },
   "outputs": [
    {
     "data": {
      "text/plain": [
       "array([8, 6, 1, 4, 9])"
      ]
     },
     "execution_count": 146,
     "metadata": {},
     "output_type": "execute_result"
    }
   ],
   "source": [
    "A"
   ]
  },
  {
   "cell_type": "code",
   "execution_count": 147,
   "id": "61db83c0",
   "metadata": {},
   "outputs": [
    {
     "data": {
      "text/plain": [
       "array([ 8, 48,  7, 12, 36])"
      ]
     },
     "execution_count": 147,
     "metadata": {},
     "output_type": "execute_result"
    }
   ],
   "source": [
    "A*B[0]"
   ]
  },
  {
   "cell_type": "code",
   "execution_count": 148,
   "id": "2375275a",
   "metadata": {},
   "outputs": [
    {
     "data": {
      "text/plain": [
       "111"
      ]
     },
     "execution_count": 148,
     "metadata": {},
     "output_type": "execute_result"
    }
   ],
   "source": [
    "np.sum(A*B[0])"
   ]
  },
  {
   "cell_type": "code",
   "execution_count": 149,
   "id": "861a7761",
   "metadata": {},
   "outputs": [
    {
     "data": {
      "text/plain": [
       "array([111, 106, 137, 153, 136, 135, 181])"
      ]
     },
     "execution_count": 149,
     "metadata": {},
     "output_type": "execute_result"
    }
   ],
   "source": [
    "np.sum(A*B, axis = 1)"
   ]
  },
  {
   "cell_type": "code",
   "execution_count": null,
   "id": "4415d181",
   "metadata": {},
   "outputs": [],
   "source": []
  },
  {
   "cell_type": "code",
   "execution_count": 150,
   "id": "1c5705df",
   "metadata": {},
   "outputs": [
    {
     "data": {
      "text/plain": [
       "14.071247279470288"
      ]
     },
     "execution_count": 150,
     "metadata": {},
     "output_type": "execute_result"
    }
   ],
   "source": [
    "np.sqrt(np.sum(A**2))"
   ]
  },
  {
   "cell_type": "code",
   "execution_count": null,
   "id": "4d3efb91",
   "metadata": {},
   "outputs": [],
   "source": []
  },
  {
   "cell_type": "code",
   "execution_count": 151,
   "id": "97df24c7",
   "metadata": {},
   "outputs": [
    {
     "data": {
      "text/plain": [
       "33.12099032335839"
      ]
     },
     "execution_count": 151,
     "metadata": {},
     "output_type": "execute_result"
    }
   ],
   "source": [
    "np.sqrt(np.sum(B**2))"
   ]
  },
  {
   "cell_type": "code",
   "execution_count": null,
   "id": "dc3954cf",
   "metadata": {},
   "outputs": [],
   "source": []
  },
  {
   "cell_type": "code",
   "execution_count": 152,
   "id": "dad17e82",
   "metadata": {},
   "outputs": [],
   "source": [
    "cosinus_similarity = np.sum(A*B, axis = 1) / ( np.sqrt(np.sum(A**2)) * np.sqrt(np.sum(B**2))  )"
   ]
  },
  {
   "cell_type": "code",
   "execution_count": 153,
   "id": "a922a3a0",
   "metadata": {},
   "outputs": [
    {
     "data": {
      "text/plain": [
       "array([0.23817001, 0.22744163, 0.29395758, 0.32828839, 0.2918119 ,\n",
       "       0.28966623, 0.38836731])"
      ]
     },
     "execution_count": 153,
     "metadata": {},
     "output_type": "execute_result"
    }
   ],
   "source": [
    "cosinus_similarity"
   ]
  },
  {
   "cell_type": "code",
   "execution_count": 154,
   "id": "f071f77c",
   "metadata": {},
   "outputs": [
    {
     "data": {
      "text/plain": [
       "0.38836730910539413"
      ]
     },
     "execution_count": 154,
     "metadata": {},
     "output_type": "execute_result"
    }
   ],
   "source": [
    "np.max(cosinus_similarity)"
   ]
  },
  {
   "cell_type": "code",
   "execution_count": 155,
   "id": "9f780406",
   "metadata": {},
   "outputs": [
    {
     "data": {
      "text/plain": [
       "6"
      ]
     },
     "execution_count": 155,
     "metadata": {},
     "output_type": "execute_result"
    }
   ],
   "source": [
    "np.argmax(cosinus_similarity)"
   ]
  },
  {
   "cell_type": "code",
   "execution_count": null,
   "id": "754ef807",
   "metadata": {},
   "outputs": [],
   "source": [
    "# Первая попытка провалилась, т.к. правильный ответ 0.892 & 6 "
   ]
  },
  {
   "cell_type": "code",
   "execution_count": null,
   "id": "50cf4e1e",
   "metadata": {},
   "outputs": [],
   "source": []
  },
  {
   "cell_type": "code",
   "execution_count": null,
   "id": "8ae24979",
   "metadata": {},
   "outputs": [],
   "source": []
  },
  {
   "cell_type": "code",
   "execution_count": null,
   "id": "b86b544c",
   "metadata": {},
   "outputs": [],
   "source": []
  },
  {
   "cell_type": "code",
   "execution_count": null,
   "id": "ef7ec22a",
   "metadata": {},
   "outputs": [],
   "source": []
  },
  {
   "cell_type": "code",
   "execution_count": null,
   "id": "29470c26",
   "metadata": {},
   "outputs": [],
   "source": []
  },
  {
   "cell_type": "code",
   "execution_count": null,
   "id": "7c39fb52",
   "metadata": {},
   "outputs": [],
   "source": []
  },
  {
   "cell_type": "code",
   "execution_count": null,
   "id": "776dc22c",
   "metadata": {},
   "outputs": [],
   "source": []
  }
 ],
 "metadata": {
  "kernelspec": {
   "display_name": "Python 3 (ipykernel)",
   "language": "python",
   "name": "python3"
  },
  "language_info": {
   "codemirror_mode": {
    "name": "ipython",
    "version": 3
   },
   "file_extension": ".py",
   "mimetype": "text/x-python",
   "name": "python",
   "nbconvert_exporter": "python",
   "pygments_lexer": "ipython3",
   "version": "3.10.0"
  }
 },
 "nbformat": 4,
 "nbformat_minor": 5
}
